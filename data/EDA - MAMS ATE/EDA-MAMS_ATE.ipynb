{
  "cells": [
    {
      "cell_type": "code",
      "execution_count": 4,
      "metadata": {
        "id": "sE5YlABb2Wwb"
      },
      "outputs": [],
      "source": [
        "import pandas as pd\n",
        "import xml.etree.ElementTree as ET\n",
        "from collections import Counter\n",
        "import itertools\n",
        "from matplotlib import pyplot as plt\n",
        "import numpy as np\n",
        "\n",
        "mams_path = '../mams_atsa_train.xml'\n",
        "\n",
        "xml_data = open(mams_path, 'r').read()  # Read file\n",
        "root = ET.XML(xml_data)  # Parse XML\n",
        "\n",
        "plt.rcParams['figure.figsize'] = [10, 10]"
      ]
    },
    {
      "cell_type": "code",
      "execution_count": 2,
      "metadata": {},
      "outputs": [],
      "source": [
        "reviews = []\n",
        "for _, sentence in enumerate(root):\n",
        "    opinions = []\n",
        "    text = ''\n",
        "\n",
        "    opinions = []\n",
        "\n",
        "    for _, sentence_children in enumerate(sentence):\n",
        "        if sentence_children.tag == 'aspectTerms':\n",
        "            for _, opinion in enumerate(sentence_children):\n",
        "                opinions.append({\n",
        "                    'target': opinion.attrib['term'],\n",
        "                    'polarity': opinion.attrib['polarity'],\n",
        "                    'from': int(opinion.attrib['from']),\n",
        "                    'to': int(opinion.attrib['to']),\n",
        "                })\n",
        "        elif sentence_children.tag == 'text':\n",
        "            text = sentence_children.text\n",
        "\n",
        "    reviews.append({'text': text, 'opinions': opinions})"
      ]
    },
    {
      "cell_type": "code",
      "execution_count": 3,
      "metadata": {},
      "outputs": [
        {
          "data": {
            "text/plain": [
              "4297"
            ]
          },
          "execution_count": 3,
          "metadata": {},
          "output_type": "execute_result"
        }
      ],
      "source": [
        "len(reviews)"
      ]
    },
    {
      "cell_type": "code",
      "execution_count": 13,
      "metadata": {},
      "outputs": [
        {
          "data": {
            "image/png": "[encoded data removed]",
            "text/plain": [
              "<Figure size 720x720 with 1 Axes>"
            ]
          },
          "metadata": {
            "needs_background": "light"
          },
          "output_type": "display_data"
        }
      ],
      "source": [
        "number_of_opinions_per_review = sorted(dict(Counter(list(map(lambda review: len(review['opinions']), reviews)))).items())\n",
        "\n",
        "df_no_ops_per_rev = pd.DataFrame(number_of_opinions_per_review, columns=['Number of opinions', 'Count'])\n",
        "df_no_ops_per_rev.plot.bar(x='Number of opinions', y='Count', rot=0)\n",
        "plt.title('Number of opinions per sentence')\n",
        "plt.legend().set_visible(False)\n",
        "plt.savefig('noopinionspersentence.png')"
      ]
    },
    {
      "cell_type": "code",
      "execution_count": 9,
      "metadata": {},
      "outputs": [
        {
          "name": "stdout",
          "output_type": "stream",
          "text": [
            "No. total opinions: 11186\n"
          ]
        }
      ],
      "source": [
        "print(f\"No. total opinions: {np.sum(list(map(lambda x: len(x['opinions']), reviews)))}\")"
      ]
    },
    {
      "cell_type": "code",
      "execution_count": 42,
      "metadata": {
        "colab": {
          "base_uri": "https://localhost:8080/"
        },
        "id": "-0T943z12Mqv",
        "outputId": "110fa78e-53bd-4c2e-fa55-c8bdd3d03cb6"
      },
      "outputs": [
        {
          "data": {
            "image/png": "[encoded data removed]",
            "text/plain": [
              "<Figure size 720x720 with 1 Axes>"
            ]
          },
          "metadata": {
            "needs_background": "light"
          },
          "output_type": "display_data"
        }
      ],
      "source": [
        "all_opinions = [review['opinions'] for review in reviews]\n",
        "all_opinions = list(itertools.chain(*all_opinions))\n",
        "\n",
        "all_categories = dict(Counter([opinion['polarity'] for opinion in all_opinions]))\n",
        "df_categories_occurences = pd.DataFrame.from_dict(all_categories, orient='index')\n",
        "df_categories_occurences.sort_values(0).plot.barh(rot=0)\n",
        "plt.title('Polarities occurences')\n",
        "\n",
        "# disable plt legend\n",
        "plt.legend().set_visible(False)\n",
        "\n",
        "plt.savefig('polaritiesoccurences.png')"
      ]
    },
    {
      "cell_type": "code",
      "execution_count": 46,
      "metadata": {},
      "outputs": [
        {
          "data": {
            "text/html": [
              "<div>\n",
              "<style scoped>\n",
              "    .dataframe tbody tr th:only-of-type {\n",
              "        vertical-align: middle;\n",
              "    }\n",
              "\n",
              "    .dataframe tbody tr th {\n",
              "        vertical-align: top;\n",
              "    }\n",
              "\n",
              "    .dataframe thead th {\n",
              "        text-align: right;\n",
              "    }\n",
              "</style>\n",
              "<table border=\"1\" class=\"dataframe\">\n",
              "  <thead>\n",
              "    <tr style=\"text-align: right;\">\n",
              "      <th></th>\n",
              "      <th>0</th>\n",
              "    </tr>\n",
              "  </thead>\n",
              "  <tbody>\n",
              "    <tr>\n",
              "      <th>negative</th>\n",
              "      <td>2764</td>\n",
              "    </tr>\n",
              "    <tr>\n",
              "      <th>positive</th>\n",
              "      <td>3380</td>\n",
              "    </tr>\n",
              "    <tr>\n",
              "      <th>neutral</th>\n",
              "      <td>5042</td>\n",
              "    </tr>\n",
              "  </tbody>\n",
              "</table>\n",
              "</div>"
            ],
            "text/plain": [
              "             0\n",
              "negative  2764\n",
              "positive  3380\n",
              "neutral   5042"
            ]
          },
          "execution_count": 46,
          "metadata": {},
          "output_type": "execute_result"
        }
      ],
      "source": [
        "df_categories_occurences"
      ]
    },
    {
      "cell_type": "code",
      "execution_count": 43,
      "metadata": {},
      "outputs": [
        {
          "data": {
            "image/png": "[encoded data removed]",
            "text/plain": [
              "<Figure size 720x720 with 1 Axes>"
            ]
          },
          "metadata": {
            "needs_background": "light"
          },
          "output_type": "display_data"
        }
      ],
      "source": [
        "all_opinions = [review['opinions'] for review in reviews]\n",
        "all_opinions = list(itertools.chain(*all_opinions))\n",
        "\n",
        "all_terms = dict(Counter([opinion['target'] for opinion in all_opinions]))\n",
        "\n",
        "df_terms_occurences = pd.DataFrame.from_dict(all_terms, orient='index')\n",
        "\n",
        "most_freq_terms = df_terms_occurences.sort_values(0, ascending=False).head(20)\n",
        "most_freq_terms.plot.barh(rot=0)\n",
        "plt.title('Aspect Terms occurences')\n",
        "plt.savefig('termsoccurences.png')"
      ]
    },
    {
      "cell_type": "code",
      "execution_count": 45,
      "metadata": {},
      "outputs": [
        {
          "data": {
            "text/plain": [
              "2586"
            ]
          },
          "execution_count": 45,
          "metadata": {},
          "output_type": "execute_result"
        }
      ],
      "source": [
        "len(all_terms)"
      ]
    },
    {
      "cell_type": "code",
      "execution_count": null,
      "metadata": {},
      "outputs": [],
      "source": []
    }
  ],
  "metadata": {
    "colab": {
      "collapsed_sections": [],
      "name": "SemEval-2016-Task5-RestaurantAnalysis.ipynb",
      "provenance": []
    },
    "kernelspec": {
      "display_name": "Python 3",
      "name": "python3"
    },
    "language_info": {
      "codemirror_mode": {
        "name": "ipython",
        "version": 3
      },
      "file_extension": ".py",
      "mimetype": "text/x-python",
      "name": "python",
      "nbconvert_exporter": "python",
      "pygments_lexer": "ipython3",
      "version": "3.9.7"
    }
  },
  "nbformat": 4,
  "nbformat_minor": 0
}
