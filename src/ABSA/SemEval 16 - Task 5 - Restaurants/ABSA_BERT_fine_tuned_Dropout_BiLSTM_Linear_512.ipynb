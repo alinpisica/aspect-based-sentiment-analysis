{
 "cells": [
  {
   "cell_type": "markdown",
   "metadata": {},
   "source": [
    "# Import dependencies"
   ]
  },
  {
   "cell_type": "code",
   "execution_count": 1,
   "metadata": {},
   "outputs": [],
   "source": [
    "import os\n",
    "import sys\n",
    "\n",
    "sys.path.insert(0, os.path.dirname(os.getcwd())) "
   ]
  },
  {
   "cell_type": "code",
   "execution_count": 2,
   "metadata": {},
   "outputs": [],
   "source": [
    "import time\n",
    "import gc\n",
    "import json\n",
    "\n",
    "import numpy as np\n",
    "import pandas as pd\n",
    "\n",
    "from transformers import BertTokenizer, BertModel\n",
    "from transformers import logging\n",
    "\n",
    "from sklearn.metrics import f1_score, accuracy_score, precision_score, recall_score\n",
    "\n",
    "from InputDataset import InputDataset\n",
    "\n",
    "import torch\n",
    "from torch.utils.data import DataLoader, RandomSampler, SequentialSampler\n",
    "from torch.nn.utils.rnn import pad_sequence\n",
    "\n",
    "import matplotlib.pyplot as plt\n",
    "\n",
    "from torch import cuda\n",
    "\n",
    "from absa_models.ABSA_BERT_Dropout_BiLSTM_Linear import ABSA_BERT_Dropout_BiLSTM_Linear"
   ]
  },
  {
   "cell_type": "code",
   "execution_count": 3,
   "metadata": {},
   "outputs": [],
   "source": [
    "device = 'cuda' if cuda.is_available() else 'cpu'\n",
    "logging.set_verbosity_error() "
   ]
  },
  {
   "cell_type": "code",
   "execution_count": 4,
   "metadata": {},
   "outputs": [
    {
     "name": "stdout",
     "output_type": "stream",
     "text": [
      "NVIDIA GeForce RTX 2060 SUPER\n",
      "Memory: 8 GB\n"
     ]
    }
   ],
   "source": [
    "print(torch.cuda.get_device_name(0))\n",
    "print(f\"Memory: {torch.cuda.get_device_properties(0).total_memory // 1024 ** 3} GB\")"
   ]
  },
  {
   "cell_type": "code",
   "execution_count": 5,
   "metadata": {},
   "outputs": [],
   "source": [
    "def clear_memory():\n",
    "    torch.cuda.empty_cache()\n",
    "\n",
    "    with torch.no_grad():\n",
    "        torch.cuda.empty_cache()\n",
    "\n",
    "    gc.collect()"
   ]
  },
  {
   "cell_type": "markdown",
   "metadata": {},
   "source": [
    "# Load Data"
   ]
  },
  {
   "cell_type": "code",
   "execution_count": 6,
   "metadata": {},
   "outputs": [],
   "source": [
    "DATASET = 'ABSA_SemEval16_Restaurants_train.json'"
   ]
  },
  {
   "cell_type": "code",
   "execution_count": 7,
   "metadata": {},
   "outputs": [],
   "source": [
    "df = pd.json_normalize(json.load(open(DATASET)))"
   ]
  },
  {
   "cell_type": "code",
   "execution_count": 8,
   "metadata": {},
   "outputs": [
    {
     "data": {
      "text/html": [
       "<div>\n",
       "<style scoped>\n",
       "    .dataframe tbody tr th:only-of-type {\n",
       "        vertical-align: middle;\n",
       "    }\n",
       "\n",
       "    .dataframe tbody tr th {\n",
       "        vertical-align: top;\n",
       "    }\n",
       "\n",
       "    .dataframe thead th {\n",
       "        text-align: right;\n",
       "    }\n",
       "</style>\n",
       "<table border=\"1\" class=\"dataframe\">\n",
       "  <thead>\n",
       "    <tr style=\"text-align: right;\">\n",
       "      <th></th>\n",
       "      <th>text</th>\n",
       "      <th>tokens</th>\n",
       "      <th>absa_tags</th>\n",
       "    </tr>\n",
       "  </thead>\n",
       "  <tbody>\n",
       "    <tr>\n",
       "      <th>0</th>\n",
       "      <td>Judging from previous posts this used to be a ...</td>\n",
       "      <td>[Judging, from, previous, posts, this, used, t...</td>\n",
       "      <td>[0, 0, 0, 0, 0, 0, 0, 0, 0, 0, 1, 0, 0, 0, 0, ...</td>\n",
       "    </tr>\n",
       "    <tr>\n",
       "      <th>1</th>\n",
       "      <td>We, there were four of us, arrived at noon - t...</td>\n",
       "      <td>[We, ,, there, were, four, of, us, ,, arrived,...</td>\n",
       "      <td>[0, 0, 0, 0, 0, 0, 0, 0, 0, 0, 0, 0, 0, 0, 0, ...</td>\n",
       "    </tr>\n",
       "    <tr>\n",
       "      <th>2</th>\n",
       "      <td>They never brought us complimentary noodles, i...</td>\n",
       "      <td>[They, never, brought, us, complimentary, nood...</td>\n",
       "      <td>[0, 0, 0, 0, 0, 0, 0, 0, 0, 0, 0, 0, 0, 0, 0, ...</td>\n",
       "    </tr>\n",
       "    <tr>\n",
       "      <th>3</th>\n",
       "      <td>The food was lousy - too sweet or too salty an...</td>\n",
       "      <td>[The, food, was, lousy, -, too, sweet, or, too...</td>\n",
       "      <td>[0, 1, 0, 0, 0, 0, 0, 0, 0, 0, 0, 0, 1, 0, 0]</td>\n",
       "    </tr>\n",
       "    <tr>\n",
       "      <th>4</th>\n",
       "      <td>The food was lousy - too sweet or too salty an...</td>\n",
       "      <td>[The, food, was, lousy, -, too, sweet, or, too...</td>\n",
       "      <td>[0, 1, 0, 0, 0, 0, 0, 0, 0, 0, 0, 0, 1, 0, 0]</td>\n",
       "    </tr>\n",
       "  </tbody>\n",
       "</table>\n",
       "</div>"
      ],
      "text/plain": [
       "                                                text  \\\n",
       "0  Judging from previous posts this used to be a ...   \n",
       "1  We, there were four of us, arrived at noon - t...   \n",
       "2  They never brought us complimentary noodles, i...   \n",
       "3  The food was lousy - too sweet or too salty an...   \n",
       "4  The food was lousy - too sweet or too salty an...   \n",
       "\n",
       "                                              tokens  \\\n",
       "0  [Judging, from, previous, posts, this, used, t...   \n",
       "1  [We, ,, there, were, four, of, us, ,, arrived,...   \n",
       "2  [They, never, brought, us, complimentary, nood...   \n",
       "3  [The, food, was, lousy, -, too, sweet, or, too...   \n",
       "4  [The, food, was, lousy, -, too, sweet, or, too...   \n",
       "\n",
       "                                           absa_tags  \n",
       "0  [0, 0, 0, 0, 0, 0, 0, 0, 0, 0, 1, 0, 0, 0, 0, ...  \n",
       "1  [0, 0, 0, 0, 0, 0, 0, 0, 0, 0, 0, 0, 0, 0, 0, ...  \n",
       "2  [0, 0, 0, 0, 0, 0, 0, 0, 0, 0, 0, 0, 0, 0, 0, ...  \n",
       "3      [0, 1, 0, 0, 0, 0, 0, 0, 0, 0, 0, 0, 1, 0, 0]  \n",
       "4      [0, 1, 0, 0, 0, 0, 0, 0, 0, 0, 0, 0, 1, 0, 0]  "
      ]
     },
     "execution_count": 8,
     "metadata": {},
     "output_type": "execute_result"
    }
   ],
   "source": [
    "df.head()"
   ]
  },
  {
   "cell_type": "markdown",
   "metadata": {},
   "source": [
    "# Train & Validate"
   ]
  },
  {
   "cell_type": "code",
   "execution_count": 9,
   "metadata": {},
   "outputs": [],
   "source": [
    "TRAIN_BATCH_SIZE = 4\n",
    "VALID_BATCH_SIZE = 4\n",
    "\n",
    "EPOCHS = 2\n",
    "\n",
    "LEARNING_RATE = 1e-5\n",
    "\n",
    "TRAIN_SPLIT = 0.8\n",
    "SEQ_LEN = 512\n",
    "\n",
    "NO_RUNS = 10"
   ]
  },
  {
   "cell_type": "code",
   "execution_count": 10,
   "metadata": {},
   "outputs": [],
   "source": [
    "BERT_FINE_TUNED_PATH = '../../../results/ABSA/SemEval16 - Task 5 - Restaurants/models/bert_fine_tuned_512.pth'"
   ]
  },
  {
   "cell_type": "code",
   "execution_count": 11,
   "metadata": {},
   "outputs": [],
   "source": [
    "MODEL_OUTPUT = '../../../results/ABSA/SemEval16 - Task 5 - Restaurants/models/bert_fine_tuned_dropout_bilstm_linear_512.pth'\n",
    "STATS_OUTPUT = '../../../results/ABSA/SemEval16 - Task 5 - Restaurants/stats/bert_fine_tuned_dropout_bilstm_linear_512.csv'"
   ]
  },
  {
   "cell_type": "code",
   "execution_count": 12,
   "metadata": {},
   "outputs": [],
   "source": [
    "tokenizer = BertTokenizer.from_pretrained('bert-base-uncased')"
   ]
  },
  {
   "cell_type": "code",
   "execution_count": 13,
   "metadata": {},
   "outputs": [],
   "source": [
    "best_accuracy = 0.0"
   ]
  },
  {
   "cell_type": "code",
   "execution_count": 14,
   "metadata": {},
   "outputs": [],
   "source": [
    "def create_mini_batch(samples):\n",
    "    ids_tensors = [s[1] for s in samples]\n",
    "    ids_tensors[0] = torch.nn.ConstantPad1d((0, SEQ_LEN - len(ids_tensors[0])), 0)(ids_tensors[0])\n",
    "    ids_tensors = pad_sequence(ids_tensors, batch_first=True).to(device)\n",
    "\n",
    "    tags_tensors = [s[2] for s in samples]\n",
    "    tags_tensors[0] = torch.nn.ConstantPad1d((0, SEQ_LEN - len(tags_tensors[0])), 0)(tags_tensors[0])\n",
    "    tags_tensors = pad_sequence(tags_tensors, batch_first=True).to(device)\n",
    "    \n",
    "    masks_tensors = torch.zeros(ids_tensors.shape, dtype=torch.long).to(device)\n",
    "    masks_tensors = masks_tensors.masked_fill(ids_tensors != 0, 1).to(device)\n",
    "    \n",
    "    return ids_tensors, tags_tensors, masks_tensors"
   ]
  },
  {
   "cell_type": "code",
   "execution_count": 15,
   "metadata": {},
   "outputs": [],
   "source": [
    "def train(epoch, model, loss_fn, optimizer, dataloader):\n",
    "    model.train()\n",
    "\n",
    "    dataloader_len = len(dataloader)\n",
    "\n",
    "    losses = []\n",
    "\n",
    "    for _,data in enumerate(dataloader, 0):\n",
    "        optimizer.zero_grad()\n",
    "\n",
    "        ids_tensors, tags_tensors, masks_tensors = data\n",
    "\n",
    "        outputs = model(ids_tensors, masks_tensors)\n",
    "\n",
    "        loss = loss_fn(outputs.view(-1, 4), tags_tensors.view(-1))\n",
    "\n",
    "        losses.append(loss.item())\n",
    "        \n",
    "        if _ % (dataloader_len // 10) == 0:\n",
    "            print(f\"Epoch: {epoch}/{EPOCHS}, Batch: {_}/{dataloader_len}, Loss: {loss.item()}\")\n",
    "        \n",
    "        loss.backward()\n",
    "        \n",
    "        optimizer.step()\n",
    "    \n",
    "    return losses"
   ]
  },
  {
   "cell_type": "code",
   "execution_count": 16,
   "metadata": {},
   "outputs": [],
   "source": [
    "def validation(model, dataloader):\n",
    "    model.eval()\n",
    "    \n",
    "    fin_targets=[]\n",
    "    fin_outputs=[]\n",
    "\n",
    "    with torch.no_grad():\n",
    "        for _, data in enumerate(dataloader, 0):\n",
    "            ids_tensors, tags_tensors, masks_tensors = data\n",
    "            ids_tensors = ids_tensors.to(device)\n",
    "            tags_tensors = tags_tensors.to(device)\n",
    "            masks_tensors = masks_tensors.to(device)\n",
    "\n",
    "            outputs = model(ids_tensors, masks_tensors)\n",
    "            \n",
    "            _, predictions = torch.max(outputs, dim=2)\n",
    "\n",
    "            fin_outputs += list([int(p) for pred in predictions for p in pred])\n",
    "            fin_targets += list([int(tag) for tags_tensor in tags_tensors for tag in tags_tensor])\n",
    "\n",
    "    return fin_outputs, fin_targets"
   ]
  },
  {
   "cell_type": "code",
   "execution_count": 17,
   "metadata": {},
   "outputs": [],
   "source": [
    "results = pd.DataFrame(columns=['accuracy','precision_score_micro','precision_score_macro','recall_score_micro','recall_score_macro','f1_score_micro','f1_score_macro', 'execution_time'])"
   ]
  },
  {
   "cell_type": "code",
   "execution_count": 18,
   "metadata": {},
   "outputs": [
    {
     "name": "stdout",
     "output_type": "stream",
     "text": [
      "Run 1/10\n",
      "Epoch: 0/2, Batch: 0/501, Loss: 1.4160181283950806\n",
      "Epoch: 0/2, Batch: 50/501, Loss: 0.09764713793992996\n",
      "Epoch: 0/2, Batch: 100/501, Loss: 0.050754111260175705\n",
      "Epoch: 0/2, Batch: 150/501, Loss: 0.047494105994701385\n",
      "Epoch: 0/2, Batch: 200/501, Loss: 0.029619457200169563\n",
      "Epoch: 0/2, Batch: 250/501, Loss: 0.01904434710741043\n",
      "Epoch: 0/2, Batch: 300/501, Loss: 0.02699730359017849\n",
      "Epoch: 0/2, Batch: 350/501, Loss: 0.013693219050765038\n",
      "Epoch: 0/2, Batch: 400/501, Loss: 0.016435865312814713\n",
      "Epoch: 0/2, Batch: 450/501, Loss: 0.01723906397819519\n",
      "Epoch: 0/2, Batch: 500/501, Loss: 0.016802221536636353\n",
      "Epoch: 1/2, Batch: 0/501, Loss: 0.011550858616828918\n",
      "Epoch: 1/2, Batch: 50/501, Loss: 0.010876961052417755\n",
      "Epoch: 1/2, Batch: 100/501, Loss: 0.015487651340663433\n",
      "Epoch: 1/2, Batch: 150/501, Loss: 0.011951710097491741\n",
      "Epoch: 1/2, Batch: 200/501, Loss: 0.012954102829098701\n",
      "Epoch: 1/2, Batch: 250/501, Loss: 0.016347920522093773\n",
      "Epoch: 1/2, Batch: 300/501, Loss: 0.0060795568861067295\n",
      "Epoch: 1/2, Batch: 350/501, Loss: 0.005724058486521244\n",
      "Epoch: 1/2, Batch: 400/501, Loss: 0.005682149901986122\n",
      "Epoch: 1/2, Batch: 450/501, Loss: 0.009233551099896431\n",
      "Epoch: 1/2, Batch: 500/501, Loss: 0.01187746413052082\n"
     ]
    },
    {
     "name": "stderr",
     "output_type": "stream",
     "text": [
      "d:\\Apps\\Anaconda\\envs\\ml\\lib\\site-packages\\sklearn\\metrics\\_classification.py:1308: UndefinedMetricWarning: Precision is ill-defined and being set to 0.0 in labels with no predicted samples. Use `zero_division` parameter to control this behavior.\n",
      "  _warn_prf(average, modifier, msg_start, len(result))\n"
     ]
    },
    {
     "name": "stdout",
     "output_type": "stream",
     "text": [
      "Run 2/10\n",
      "Epoch: 0/2, Batch: 0/501, Loss: 1.4954779148101807\n",
      "Epoch: 0/2, Batch: 50/501, Loss: 0.08985355496406555\n",
      "Epoch: 0/2, Batch: 100/501, Loss: 0.044185392558574677\n",
      "Epoch: 0/2, Batch: 150/501, Loss: 0.03621222823858261\n",
      "Epoch: 0/2, Batch: 200/501, Loss: 0.026193395256996155\n",
      "Epoch: 0/2, Batch: 250/501, Loss: 0.019789088517427444\n",
      "Epoch: 0/2, Batch: 300/501, Loss: 0.016681525856256485\n",
      "Epoch: 0/2, Batch: 350/501, Loss: 0.011207738891243935\n",
      "Epoch: 0/2, Batch: 400/501, Loss: 0.018531451001763344\n",
      "Epoch: 0/2, Batch: 450/501, Loss: 0.011783374473452568\n",
      "Epoch: 0/2, Batch: 500/501, Loss: 0.016660239547491074\n",
      "Epoch: 1/2, Batch: 0/501, Loss: 0.011033198796212673\n",
      "Epoch: 1/2, Batch: 50/501, Loss: 0.009529921226203442\n",
      "Epoch: 1/2, Batch: 100/501, Loss: 0.010631829500198364\n",
      "Epoch: 1/2, Batch: 150/501, Loss: 0.00635976018384099\n",
      "Epoch: 1/2, Batch: 200/501, Loss: 0.012399588711559772\n",
      "Epoch: 1/2, Batch: 250/501, Loss: 0.007852215319871902\n",
      "Epoch: 1/2, Batch: 300/501, Loss: 0.012678368017077446\n",
      "Epoch: 1/2, Batch: 350/501, Loss: 0.009898800402879715\n",
      "Epoch: 1/2, Batch: 400/501, Loss: 0.007328389678150415\n",
      "Epoch: 1/2, Batch: 450/501, Loss: 0.004435672424733639\n",
      "Epoch: 1/2, Batch: 500/501, Loss: 0.0034603970125317574\n"
     ]
    },
    {
     "name": "stderr",
     "output_type": "stream",
     "text": [
      "d:\\Apps\\Anaconda\\envs\\ml\\lib\\site-packages\\sklearn\\metrics\\_classification.py:1308: UndefinedMetricWarning: Precision is ill-defined and being set to 0.0 in labels with no predicted samples. Use `zero_division` parameter to control this behavior.\n",
      "  _warn_prf(average, modifier, msg_start, len(result))\n"
     ]
    },
    {
     "name": "stdout",
     "output_type": "stream",
     "text": [
      "Run 3/10\n",
      "Epoch: 0/2, Batch: 0/501, Loss: 1.371009349822998\n",
      "Epoch: 0/2, Batch: 50/501, Loss: 0.11788313090801239\n",
      "Epoch: 0/2, Batch: 100/501, Loss: 0.04730416089296341\n",
      "Epoch: 0/2, Batch: 150/501, Loss: 0.034519121050834656\n",
      "Epoch: 0/2, Batch: 200/501, Loss: 0.02109537087380886\n",
      "Epoch: 0/2, Batch: 250/501, Loss: 0.030138378962874413\n",
      "Epoch: 0/2, Batch: 300/501, Loss: 0.033458150923252106\n",
      "Epoch: 0/2, Batch: 350/501, Loss: 0.01974313333630562\n",
      "Epoch: 0/2, Batch: 400/501, Loss: 0.01712222397327423\n",
      "Epoch: 0/2, Batch: 450/501, Loss: 0.012828175909817219\n",
      "Epoch: 0/2, Batch: 500/501, Loss: 0.009728200733661652\n",
      "Epoch: 1/2, Batch: 0/501, Loss: 0.01438331138342619\n",
      "Epoch: 1/2, Batch: 50/501, Loss: 0.006261201109737158\n",
      "Epoch: 1/2, Batch: 100/501, Loss: 0.01222167257219553\n",
      "Epoch: 1/2, Batch: 150/501, Loss: 0.021664924919605255\n",
      "Epoch: 1/2, Batch: 200/501, Loss: 0.00904060248285532\n",
      "Epoch: 1/2, Batch: 250/501, Loss: 0.015414783731102943\n",
      "Epoch: 1/2, Batch: 300/501, Loss: 0.007554196752607822\n",
      "Epoch: 1/2, Batch: 350/501, Loss: 0.009262414649128914\n",
      "Epoch: 1/2, Batch: 400/501, Loss: 0.009860997088253498\n",
      "Epoch: 1/2, Batch: 450/501, Loss: 0.014758868142962456\n",
      "Epoch: 1/2, Batch: 500/501, Loss: 0.01323947124183178\n"
     ]
    },
    {
     "name": "stderr",
     "output_type": "stream",
     "text": [
      "d:\\Apps\\Anaconda\\envs\\ml\\lib\\site-packages\\sklearn\\metrics\\_classification.py:1308: UndefinedMetricWarning: Precision is ill-defined and being set to 0.0 in labels with no predicted samples. Use `zero_division` parameter to control this behavior.\n",
      "  _warn_prf(average, modifier, msg_start, len(result))\n"
     ]
    },
    {
     "name": "stdout",
     "output_type": "stream",
     "text": [
      "Run 4/10\n",
      "Epoch: 0/2, Batch: 0/501, Loss: 1.356939673423767\n",
      "Epoch: 0/2, Batch: 50/501, Loss: 0.08350823819637299\n",
      "Epoch: 0/2, Batch: 100/501, Loss: 0.051877494901418686\n",
      "Epoch: 0/2, Batch: 150/501, Loss: 0.03495687618851662\n",
      "Epoch: 0/2, Batch: 200/501, Loss: 0.029758324846625328\n",
      "Epoch: 0/2, Batch: 250/501, Loss: 0.014933864586055279\n",
      "Epoch: 0/2, Batch: 300/501, Loss: 0.017482256516814232\n",
      "Epoch: 0/2, Batch: 350/501, Loss: 0.015951499342918396\n",
      "Epoch: 0/2, Batch: 400/501, Loss: 0.011053580790758133\n",
      "Epoch: 0/2, Batch: 450/501, Loss: 0.010113660246133804\n",
      "Epoch: 0/2, Batch: 500/501, Loss: 0.011676869355142117\n",
      "Epoch: 1/2, Batch: 0/501, Loss: 0.015645910054445267\n",
      "Epoch: 1/2, Batch: 50/501, Loss: 0.017956944182515144\n",
      "Epoch: 1/2, Batch: 100/501, Loss: 0.011137938126921654\n",
      "Epoch: 1/2, Batch: 150/501, Loss: 0.004564984701573849\n",
      "Epoch: 1/2, Batch: 200/501, Loss: 0.01760667748749256\n",
      "Epoch: 1/2, Batch: 250/501, Loss: 0.012166776694357395\n",
      "Epoch: 1/2, Batch: 300/501, Loss: 0.006632545497268438\n",
      "Epoch: 1/2, Batch: 350/501, Loss: 0.01046877633780241\n",
      "Epoch: 1/2, Batch: 400/501, Loss: 0.006445461418479681\n",
      "Epoch: 1/2, Batch: 450/501, Loss: 0.007495110854506493\n",
      "Epoch: 1/2, Batch: 500/501, Loss: 0.006852910853922367\n"
     ]
    },
    {
     "name": "stderr",
     "output_type": "stream",
     "text": [
      "d:\\Apps\\Anaconda\\envs\\ml\\lib\\site-packages\\sklearn\\metrics\\_classification.py:1308: UndefinedMetricWarning: Precision is ill-defined and being set to 0.0 in labels with no predicted samples. Use `zero_division` parameter to control this behavior.\n",
      "  _warn_prf(average, modifier, msg_start, len(result))\n"
     ]
    },
    {
     "name": "stdout",
     "output_type": "stream",
     "text": [
      "Run 5/10\n",
      "Epoch: 0/2, Batch: 0/501, Loss: 1.5269463062286377\n",
      "Epoch: 0/2, Batch: 50/501, Loss: 0.10232920199632645\n",
      "Epoch: 0/2, Batch: 100/501, Loss: 0.050335001200437546\n",
      "Epoch: 0/2, Batch: 150/501, Loss: 0.029267586767673492\n",
      "Epoch: 0/2, Batch: 200/501, Loss: 0.028047924861311913\n",
      "Epoch: 0/2, Batch: 250/501, Loss: 0.030890194699168205\n",
      "Epoch: 0/2, Batch: 300/501, Loss: 0.02363390475511551\n",
      "Epoch: 0/2, Batch: 350/501, Loss: 0.01874867081642151\n",
      "Epoch: 0/2, Batch: 400/501, Loss: 0.008475757203996181\n",
      "Epoch: 0/2, Batch: 450/501, Loss: 0.01067313551902771\n",
      "Epoch: 0/2, Batch: 500/501, Loss: 0.012432088144123554\n",
      "Epoch: 1/2, Batch: 0/501, Loss: 0.00945048313587904\n",
      "Epoch: 1/2, Batch: 50/501, Loss: 0.014816437847912312\n",
      "Epoch: 1/2, Batch: 100/501, Loss: 0.013765452429652214\n",
      "Epoch: 1/2, Batch: 150/501, Loss: 0.010296712629497051\n",
      "Epoch: 1/2, Batch: 200/501, Loss: 0.010135309770703316\n",
      "Epoch: 1/2, Batch: 250/501, Loss: 0.009623143821954727\n",
      "Epoch: 1/2, Batch: 300/501, Loss: 0.013288886286318302\n",
      "Epoch: 1/2, Batch: 350/501, Loss: 0.0158297847956419\n",
      "Epoch: 1/2, Batch: 400/501, Loss: 0.009231739677488804\n",
      "Epoch: 1/2, Batch: 450/501, Loss: 0.009531569667160511\n",
      "Epoch: 1/2, Batch: 500/501, Loss: 0.02184777520596981\n"
     ]
    },
    {
     "name": "stderr",
     "output_type": "stream",
     "text": [
      "d:\\Apps\\Anaconda\\envs\\ml\\lib\\site-packages\\sklearn\\metrics\\_classification.py:1308: UndefinedMetricWarning: Precision is ill-defined and being set to 0.0 in labels with no predicted samples. Use `zero_division` parameter to control this behavior.\n",
      "  _warn_prf(average, modifier, msg_start, len(result))\n"
     ]
    },
    {
     "name": "stdout",
     "output_type": "stream",
     "text": [
      "Run 6/10\n",
      "Epoch: 0/2, Batch: 0/501, Loss: 1.5418730974197388\n",
      "Epoch: 0/2, Batch: 50/501, Loss: 0.10056766122579575\n",
      "Epoch: 0/2, Batch: 100/501, Loss: 0.06871172785758972\n",
      "Epoch: 0/2, Batch: 150/501, Loss: 0.058197665959596634\n",
      "Epoch: 0/2, Batch: 200/501, Loss: 0.0402650311589241\n",
      "Epoch: 0/2, Batch: 250/501, Loss: 0.03119044378399849\n",
      "Epoch: 0/2, Batch: 300/501, Loss: 0.014803947880864143\n",
      "Epoch: 0/2, Batch: 350/501, Loss: 0.018366863951086998\n",
      "Epoch: 0/2, Batch: 400/501, Loss: 0.017138086259365082\n",
      "Epoch: 0/2, Batch: 450/501, Loss: 0.012712445110082626\n",
      "Epoch: 0/2, Batch: 500/501, Loss: 0.014801232144236565\n",
      "Epoch: 1/2, Batch: 0/501, Loss: 0.0296611525118351\n",
      "Epoch: 1/2, Batch: 50/501, Loss: 0.010285728611052036\n",
      "Epoch: 1/2, Batch: 100/501, Loss: 0.017126617953181267\n",
      "Epoch: 1/2, Batch: 150/501, Loss: 0.013215727172791958\n",
      "Epoch: 1/2, Batch: 200/501, Loss: 0.012659328989684582\n",
      "Epoch: 1/2, Batch: 250/501, Loss: 0.004429415334016085\n",
      "Epoch: 1/2, Batch: 300/501, Loss: 0.01185275986790657\n",
      "Epoch: 1/2, Batch: 350/501, Loss: 0.01109219714999199\n",
      "Epoch: 1/2, Batch: 400/501, Loss: 0.006709493696689606\n",
      "Epoch: 1/2, Batch: 450/501, Loss: 0.007609534543007612\n",
      "Epoch: 1/2, Batch: 500/501, Loss: 0.015106037259101868\n"
     ]
    },
    {
     "name": "stderr",
     "output_type": "stream",
     "text": [
      "d:\\Apps\\Anaconda\\envs\\ml\\lib\\site-packages\\sklearn\\metrics\\_classification.py:1308: UndefinedMetricWarning: Precision is ill-defined and being set to 0.0 in labels with no predicted samples. Use `zero_division` parameter to control this behavior.\n",
      "  _warn_prf(average, modifier, msg_start, len(result))\n"
     ]
    },
    {
     "name": "stdout",
     "output_type": "stream",
     "text": [
      "Run 7/10\n",
      "Epoch: 0/2, Batch: 0/501, Loss: 1.4861468076705933\n",
      "Epoch: 0/2, Batch: 50/501, Loss: 0.09987897425889969\n",
      "Epoch: 0/2, Batch: 100/501, Loss: 0.05739479511976242\n",
      "Epoch: 0/2, Batch: 150/501, Loss: 0.03396763280034065\n",
      "Epoch: 0/2, Batch: 200/501, Loss: 0.044001031666994095\n",
      "Epoch: 0/2, Batch: 250/501, Loss: 0.02146872878074646\n",
      "Epoch: 0/2, Batch: 300/501, Loss: 0.027159342542290688\n",
      "Epoch: 0/2, Batch: 350/501, Loss: 0.018528027459979057\n",
      "Epoch: 0/2, Batch: 400/501, Loss: 0.019290901720523834\n",
      "Epoch: 0/2, Batch: 450/501, Loss: 0.011800379492342472\n",
      "Epoch: 0/2, Batch: 500/501, Loss: 0.013818956911563873\n",
      "Epoch: 1/2, Batch: 0/501, Loss: 0.01481364294886589\n",
      "Epoch: 1/2, Batch: 50/501, Loss: 0.011515031568706036\n",
      "Epoch: 1/2, Batch: 100/501, Loss: 0.013432466425001621\n",
      "Epoch: 1/2, Batch: 150/501, Loss: 0.009666378609836102\n",
      "Epoch: 1/2, Batch: 200/501, Loss: 0.021779103204607964\n",
      "Epoch: 1/2, Batch: 250/501, Loss: 0.007420989219099283\n",
      "Epoch: 1/2, Batch: 300/501, Loss: 0.01145933661609888\n",
      "Epoch: 1/2, Batch: 350/501, Loss: 0.013314545154571533\n",
      "Epoch: 1/2, Batch: 400/501, Loss: 0.00946305226534605\n",
      "Epoch: 1/2, Batch: 450/501, Loss: 0.007816728204488754\n",
      "Epoch: 1/2, Batch: 500/501, Loss: 0.008240710943937302\n"
     ]
    },
    {
     "name": "stderr",
     "output_type": "stream",
     "text": [
      "d:\\Apps\\Anaconda\\envs\\ml\\lib\\site-packages\\sklearn\\metrics\\_classification.py:1308: UndefinedMetricWarning: Precision is ill-defined and being set to 0.0 in labels with no predicted samples. Use `zero_division` parameter to control this behavior.\n",
      "  _warn_prf(average, modifier, msg_start, len(result))\n"
     ]
    },
    {
     "name": "stdout",
     "output_type": "stream",
     "text": [
      "Run 8/10\n",
      "Epoch: 0/2, Batch: 0/501, Loss: 1.465604543685913\n",
      "Epoch: 0/2, Batch: 50/501, Loss: 0.10753703117370605\n",
      "Epoch: 0/2, Batch: 100/501, Loss: 0.06916847825050354\n",
      "Epoch: 0/2, Batch: 150/501, Loss: 0.03717230260372162\n",
      "Epoch: 0/2, Batch: 200/501, Loss: 0.029086574912071228\n",
      "Epoch: 0/2, Batch: 250/501, Loss: 0.03230784088373184\n",
      "Epoch: 0/2, Batch: 300/501, Loss: 0.023374365642666817\n",
      "Epoch: 0/2, Batch: 350/501, Loss: 0.017528094351291656\n",
      "Epoch: 0/2, Batch: 400/501, Loss: 0.009870370849967003\n",
      "Epoch: 0/2, Batch: 450/501, Loss: 0.012677897699177265\n",
      "Epoch: 0/2, Batch: 500/501, Loss: 0.01760617271065712\n",
      "Epoch: 1/2, Batch: 0/501, Loss: 0.011427679099142551\n",
      "Epoch: 1/2, Batch: 50/501, Loss: 0.01783422753214836\n",
      "Epoch: 1/2, Batch: 100/501, Loss: 0.01147496234625578\n",
      "Epoch: 1/2, Batch: 150/501, Loss: 0.012714375741779804\n",
      "Epoch: 1/2, Batch: 200/501, Loss: 0.016276106238365173\n",
      "Epoch: 1/2, Batch: 250/501, Loss: 0.012552116997539997\n",
      "Epoch: 1/2, Batch: 300/501, Loss: 0.008850058540701866\n",
      "Epoch: 1/2, Batch: 350/501, Loss: 0.008747987449169159\n",
      "Epoch: 1/2, Batch: 400/501, Loss: 0.010677546262741089\n",
      "Epoch: 1/2, Batch: 450/501, Loss: 0.020896609872579575\n",
      "Epoch: 1/2, Batch: 500/501, Loss: 0.0074522304348647594\n"
     ]
    },
    {
     "name": "stderr",
     "output_type": "stream",
     "text": [
      "d:\\Apps\\Anaconda\\envs\\ml\\lib\\site-packages\\sklearn\\metrics\\_classification.py:1308: UndefinedMetricWarning: Precision is ill-defined and being set to 0.0 in labels with no predicted samples. Use `zero_division` parameter to control this behavior.\n",
      "  _warn_prf(average, modifier, msg_start, len(result))\n"
     ]
    },
    {
     "name": "stdout",
     "output_type": "stream",
     "text": [
      "Run 9/10\n",
      "Epoch: 0/2, Batch: 0/501, Loss: 1.3318455219268799\n",
      "Epoch: 0/2, Batch: 50/501, Loss: 0.09162372350692749\n",
      "Epoch: 0/2, Batch: 100/501, Loss: 0.04467524588108063\n",
      "Epoch: 0/2, Batch: 150/501, Loss: 0.04706394672393799\n",
      "Epoch: 0/2, Batch: 200/501, Loss: 0.02622886933386326\n",
      "Epoch: 0/2, Batch: 250/501, Loss: 0.028227349743247032\n",
      "Epoch: 0/2, Batch: 300/501, Loss: 0.02286520227789879\n",
      "Epoch: 0/2, Batch: 350/501, Loss: 0.013971686363220215\n",
      "Epoch: 0/2, Batch: 400/501, Loss: 0.012332949787378311\n",
      "Epoch: 0/2, Batch: 450/501, Loss: 0.02235868200659752\n",
      "Epoch: 0/2, Batch: 500/501, Loss: 0.027084220200777054\n",
      "Epoch: 1/2, Batch: 0/501, Loss: 0.0096952635794878\n",
      "Epoch: 1/2, Batch: 50/501, Loss: 0.009233304299414158\n",
      "Epoch: 1/2, Batch: 100/501, Loss: 0.009077331982553005\n",
      "Epoch: 1/2, Batch: 150/501, Loss: 0.008402279578149319\n",
      "Epoch: 1/2, Batch: 200/501, Loss: 0.007791356183588505\n",
      "Epoch: 1/2, Batch: 250/501, Loss: 0.008364912122488022\n",
      "Epoch: 1/2, Batch: 300/501, Loss: 0.005226483568549156\n",
      "Epoch: 1/2, Batch: 350/501, Loss: 0.010607559233903885\n",
      "Epoch: 1/2, Batch: 400/501, Loss: 0.010125058703124523\n",
      "Epoch: 1/2, Batch: 450/501, Loss: 0.00791455153375864\n",
      "Epoch: 1/2, Batch: 500/501, Loss: 0.01892177201807499\n"
     ]
    },
    {
     "name": "stderr",
     "output_type": "stream",
     "text": [
      "d:\\Apps\\Anaconda\\envs\\ml\\lib\\site-packages\\sklearn\\metrics\\_classification.py:1308: UndefinedMetricWarning: Precision is ill-defined and being set to 0.0 in labels with no predicted samples. Use `zero_division` parameter to control this behavior.\n",
      "  _warn_prf(average, modifier, msg_start, len(result))\n"
     ]
    },
    {
     "name": "stdout",
     "output_type": "stream",
     "text": [
      "Run 10/10\n",
      "Epoch: 0/2, Batch: 0/501, Loss: 1.5564746856689453\n",
      "Epoch: 0/2, Batch: 50/501, Loss: 0.10287591069936752\n",
      "Epoch: 0/2, Batch: 100/501, Loss: 0.05388101935386658\n",
      "Epoch: 0/2, Batch: 150/501, Loss: 0.031917065382003784\n",
      "Epoch: 0/2, Batch: 200/501, Loss: 0.02633718028664589\n",
      "Epoch: 0/2, Batch: 250/501, Loss: 0.01833106018602848\n",
      "Epoch: 0/2, Batch: 300/501, Loss: 0.01857588440179825\n",
      "Epoch: 0/2, Batch: 350/501, Loss: 0.012651031836867332\n",
      "Epoch: 0/2, Batch: 400/501, Loss: 0.019589468836784363\n",
      "Epoch: 0/2, Batch: 450/501, Loss: 0.017725514248013496\n",
      "Epoch: 0/2, Batch: 500/501, Loss: 0.011628963053226471\n",
      "Epoch: 1/2, Batch: 0/501, Loss: 0.019771892577409744\n",
      "Epoch: 1/2, Batch: 50/501, Loss: 0.010542676784098148\n",
      "Epoch: 1/2, Batch: 100/501, Loss: 0.015229884535074234\n",
      "Epoch: 1/2, Batch: 150/501, Loss: 0.006371872499585152\n",
      "Epoch: 1/2, Batch: 200/501, Loss: 0.009052343666553497\n",
      "Epoch: 1/2, Batch: 250/501, Loss: 0.008084528148174286\n",
      "Epoch: 1/2, Batch: 300/501, Loss: 0.012975954450666904\n",
      "Epoch: 1/2, Batch: 350/501, Loss: 0.013360891491174698\n",
      "Epoch: 1/2, Batch: 400/501, Loss: 0.012825613841414452\n",
      "Epoch: 1/2, Batch: 450/501, Loss: 0.009622514247894287\n",
      "Epoch: 1/2, Batch: 500/501, Loss: 0.009802106767892838\n"
     ]
    },
    {
     "name": "stderr",
     "output_type": "stream",
     "text": [
      "d:\\Apps\\Anaconda\\envs\\ml\\lib\\site-packages\\sklearn\\metrics\\_classification.py:1308: UndefinedMetricWarning: Precision is ill-defined and being set to 0.0 in labels with no predicted samples. Use `zero_division` parameter to control this behavior.\n",
      "  _warn_prf(average, modifier, msg_start, len(result))\n"
     ]
    },
    {
     "data": {
      "image/png": "[encoded data removed]",
      "text/plain": [
       "<Figure size 432x288 with 1 Axes>"
      ]
     },
     "metadata": {
      "needs_background": "light"
     },
     "output_type": "display_data"
    }
   ],
   "source": [
    "for i in range(NO_RUNS):\n",
    "    # clear cache cuda\n",
    "    torch.cuda.empty_cache()\n",
    "    with torch.no_grad():\n",
    "        torch.cuda.empty_cache()\n",
    "    gc.collect()\n",
    "\n",
    "    start_time = time.time()\n",
    "\n",
    "    print(f\"Run {i + 1}/{NO_RUNS}\")\n",
    "\n",
    "    train_dataset = df.sample(frac=TRAIN_SPLIT)\n",
    "    test_dataset = df.drop(train_dataset.index).reset_index(drop=True)\n",
    "    train_dataset = train_dataset.reset_index(drop=True)\n",
    "\n",
    "    training_set = InputDataset(train_dataset, tokenizer)\n",
    "    testing_set = InputDataset(test_dataset, tokenizer)\n",
    "\n",
    "    train_dataloader = DataLoader(\n",
    "        training_set,\n",
    "        sampler = RandomSampler(train_dataset),\n",
    "        batch_size = TRAIN_BATCH_SIZE,\n",
    "        drop_last = True,\n",
    "        collate_fn=create_mini_batch\n",
    "    )\n",
    "\n",
    "    validation_dataloader = DataLoader(\n",
    "        testing_set,\n",
    "        sampler = SequentialSampler(testing_set),\n",
    "        batch_size = VALID_BATCH_SIZE,\n",
    "        drop_last = True,\n",
    "        collate_fn=create_mini_batch\n",
    "    )\n",
    "\n",
    "    model = ABSA_BERT_Dropout_BiLSTM_Linear(torch.load(BERT_FINE_TUNED_PATH), dropout=0.3, bilstm_in_features=256, no_out_labels=4, device=device).to(device)\n",
    "\n",
    "    optimizer = torch.optim.Adam(params = model.parameters(), lr=LEARNING_RATE)\n",
    "    loss_fn = torch.nn.CrossEntropyLoss()\n",
    "\n",
    "    train_losses = []\n",
    "\n",
    "    for epoch in range(EPOCHS):\n",
    "        losses = train(epoch, model, loss_fn, optimizer, train_dataloader)\n",
    "\n",
    "        train_losses += losses\n",
    "    \n",
    "    plt.title(f'Train Loss for run {i + 1}/{NO_RUNS}')\n",
    "    plt.plot(train_losses)\n",
    "    plt.savefig(f'../../../results/ABSA/SemEval16 - Task 5 - Restaurants/plots/bert_ft_do_bilstm_lin/train_loss_run_{i + 1}.png')\n",
    "\n",
    "    plt.clf()\n",
    "\n",
    "    outputs, targets = validation(model, validation_dataloader)\n",
    "    \n",
    "    accuracy = accuracy_score(targets, outputs)\n",
    "    precision_score_micro = precision_score(targets, outputs, average='micro')\n",
    "    precision_score_macro = precision_score(targets, outputs, average='macro')\n",
    "    recall_score_micro = recall_score(targets, outputs, average='micro')\n",
    "    recall_score_macro = recall_score(targets, outputs, average='macro')\n",
    "    f1_score_micro = f1_score(targets, outputs, average='micro')\n",
    "    f1_score_macro = f1_score(targets, outputs, average='macro')\n",
    "\n",
    "    execution_time = time.time() - start_time\n",
    "\n",
    "    results.loc[i] = [accuracy,precision_score_micro,precision_score_macro,recall_score_micro,recall_score_macro,f1_score_micro,f1_score_macro, execution_time]\n",
    "\n",
    "    if accuracy > best_accuracy:\n",
    "        best_accuracy = accuracy\n",
    "        torch.save(model, MODEL_OUTPUT)\n",
    "\n",
    "    del train_dataset\n",
    "    del test_dataset\n",
    "    del training_set\n",
    "    del testing_set\n",
    "    del model\n",
    "    del loss_fn\n",
    "    del optimizer\n",
    "    del outputs\n",
    "    del targets"
   ]
  },
  {
   "cell_type": "code",
   "execution_count": 19,
   "metadata": {},
   "outputs": [
    {
     "data": {
      "text/html": [
       "<div>\n",
       "<style scoped>\n",
       "    .dataframe tbody tr th:only-of-type {\n",
       "        vertical-align: middle;\n",
       "    }\n",
       "\n",
       "    .dataframe tbody tr th {\n",
       "        vertical-align: top;\n",
       "    }\n",
       "\n",
       "    .dataframe thead th {\n",
       "        text-align: right;\n",
       "    }\n",
       "</style>\n",
       "<table border=\"1\" class=\"dataframe\">\n",
       "  <thead>\n",
       "    <tr style=\"text-align: right;\">\n",
       "      <th></th>\n",
       "      <th>accuracy</th>\n",
       "      <th>precision_score_micro</th>\n",
       "      <th>precision_score_macro</th>\n",
       "      <th>recall_score_micro</th>\n",
       "      <th>recall_score_macro</th>\n",
       "      <th>f1_score_micro</th>\n",
       "      <th>f1_score_macro</th>\n",
       "      <th>execution_time</th>\n",
       "    </tr>\n",
       "  </thead>\n",
       "  <tbody>\n",
       "    <tr>\n",
       "      <th>0</th>\n",
       "      <td>0.997508</td>\n",
       "      <td>0.997508</td>\n",
       "      <td>0.412147</td>\n",
       "      <td>0.997508</td>\n",
       "      <td>0.464009</td>\n",
       "      <td>0.997508</td>\n",
       "      <td>0.434507</td>\n",
       "      <td>368.461907</td>\n",
       "    </tr>\n",
       "    <tr>\n",
       "      <th>1</th>\n",
       "      <td>0.997609</td>\n",
       "      <td>0.997609</td>\n",
       "      <td>0.419087</td>\n",
       "      <td>0.997609</td>\n",
       "      <td>0.465068</td>\n",
       "      <td>0.997609</td>\n",
       "      <td>0.439329</td>\n",
       "      <td>360.888796</td>\n",
       "    </tr>\n",
       "    <tr>\n",
       "      <th>2</th>\n",
       "      <td>0.997172</td>\n",
       "      <td>0.997172</td>\n",
       "      <td>0.406802</td>\n",
       "      <td>0.997172</td>\n",
       "      <td>0.470092</td>\n",
       "      <td>0.997172</td>\n",
       "      <td>0.433121</td>\n",
       "      <td>384.175261</td>\n",
       "    </tr>\n",
       "    <tr>\n",
       "      <th>3</th>\n",
       "      <td>0.997371</td>\n",
       "      <td>0.997371</td>\n",
       "      <td>0.410671</td>\n",
       "      <td>0.997371</td>\n",
       "      <td>0.467657</td>\n",
       "      <td>0.997371</td>\n",
       "      <td>0.434873</td>\n",
       "      <td>361.389527</td>\n",
       "    </tr>\n",
       "    <tr>\n",
       "      <th>4</th>\n",
       "      <td>0.997156</td>\n",
       "      <td>0.997156</td>\n",
       "      <td>0.399511</td>\n",
       "      <td>0.997156</td>\n",
       "      <td>0.471796</td>\n",
       "      <td>0.997156</td>\n",
       "      <td>0.428609</td>\n",
       "      <td>343.502902</td>\n",
       "    </tr>\n",
       "    <tr>\n",
       "      <th>5</th>\n",
       "      <td>0.997145</td>\n",
       "      <td>0.997145</td>\n",
       "      <td>0.398154</td>\n",
       "      <td>0.997145</td>\n",
       "      <td>0.471888</td>\n",
       "      <td>0.997145</td>\n",
       "      <td>0.427663</td>\n",
       "      <td>374.658519</td>\n",
       "    </tr>\n",
       "    <tr>\n",
       "      <th>6</th>\n",
       "      <td>0.997555</td>\n",
       "      <td>0.997555</td>\n",
       "      <td>0.414223</td>\n",
       "      <td>0.997555</td>\n",
       "      <td>0.474977</td>\n",
       "      <td>0.997555</td>\n",
       "      <td>0.439852</td>\n",
       "      <td>377.665521</td>\n",
       "    </tr>\n",
       "    <tr>\n",
       "      <th>7</th>\n",
       "      <td>0.997547</td>\n",
       "      <td>0.997547</td>\n",
       "      <td>0.418121</td>\n",
       "      <td>0.997547</td>\n",
       "      <td>0.467981</td>\n",
       "      <td>0.997547</td>\n",
       "      <td>0.439837</td>\n",
       "      <td>335.450675</td>\n",
       "    </tr>\n",
       "    <tr>\n",
       "      <th>8</th>\n",
       "      <td>0.997824</td>\n",
       "      <td>0.997824</td>\n",
       "      <td>0.423553</td>\n",
       "      <td>0.997824</td>\n",
       "      <td>0.470815</td>\n",
       "      <td>0.997824</td>\n",
       "      <td>0.444354</td>\n",
       "      <td>336.420178</td>\n",
       "    </tr>\n",
       "    <tr>\n",
       "      <th>9</th>\n",
       "      <td>0.997328</td>\n",
       "      <td>0.997328</td>\n",
       "      <td>0.407040</td>\n",
       "      <td>0.997328</td>\n",
       "      <td>0.469222</td>\n",
       "      <td>0.997328</td>\n",
       "      <td>0.432994</td>\n",
       "      <td>335.548567</td>\n",
       "    </tr>\n",
       "  </tbody>\n",
       "</table>\n",
       "</div>"
      ],
      "text/plain": [
       "   accuracy  precision_score_micro  precision_score_macro  recall_score_micro  \\\n",
       "0  0.997508               0.997508               0.412147            0.997508   \n",
       "1  0.997609               0.997609               0.419087            0.997609   \n",
       "2  0.997172               0.997172               0.406802            0.997172   \n",
       "3  0.997371               0.997371               0.410671            0.997371   \n",
       "4  0.997156               0.997156               0.399511            0.997156   \n",
       "5  0.997145               0.997145               0.398154            0.997145   \n",
       "6  0.997555               0.997555               0.414223            0.997555   \n",
       "7  0.997547               0.997547               0.418121            0.997547   \n",
       "8  0.997824               0.997824               0.423553            0.997824   \n",
       "9  0.997328               0.997328               0.407040            0.997328   \n",
       "\n",
       "   recall_score_macro  f1_score_micro  f1_score_macro  execution_time  \n",
       "0            0.464009        0.997508        0.434507      368.461907  \n",
       "1            0.465068        0.997609        0.439329      360.888796  \n",
       "2            0.470092        0.997172        0.433121      384.175261  \n",
       "3            0.467657        0.997371        0.434873      361.389527  \n",
       "4            0.471796        0.997156        0.428609      343.502902  \n",
       "5            0.471888        0.997145        0.427663      374.658519  \n",
       "6            0.474977        0.997555        0.439852      377.665521  \n",
       "7            0.467981        0.997547        0.439837      335.450675  \n",
       "8            0.470815        0.997824        0.444354      336.420178  \n",
       "9            0.469222        0.997328        0.432994      335.548567  "
      ]
     },
     "execution_count": 19,
     "metadata": {},
     "output_type": "execute_result"
    }
   ],
   "source": [
    "results"
   ]
  },
  {
   "cell_type": "code",
   "execution_count": 20,
   "metadata": {},
   "outputs": [],
   "source": [
    "results.to_csv(STATS_OUTPUT)"
   ]
  }
 ],
 "metadata": {
  "interpreter": {
   "hash": "a7b70e5470c1caae179898b9726485c258ababa2b5a8278be4bb974e3d5af9cc"
  },
  "kernelspec": {
   "display_name": "Python 3.9.7 ('ml')",
   "language": "python",
   "name": "python3"
  },
  "language_info": {
   "codemirror_mode": {
    "name": "ipython",
    "version": 3
   },
   "file_extension": ".py",
   "mimetype": "text/x-python",
   "name": "python",
   "nbconvert_exporter": "python",
   "pygments_lexer": "ipython3",
   "version": "3.9.7"
  },
  "orig_nbformat": 4
 },
 "nbformat": 4,
 "nbformat_minor": 2
}
