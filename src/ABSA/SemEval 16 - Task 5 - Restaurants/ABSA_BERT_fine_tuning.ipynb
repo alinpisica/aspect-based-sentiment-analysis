{
 "cells": [
  {
   "cell_type": "markdown",
   "metadata": {},
   "source": [
    "# Import dependencies"
   ]
  },
  {
   "cell_type": "code",
   "execution_count": 1,
   "metadata": {},
   "outputs": [],
   "source": [
    "import os\n",
    "import sys\n",
    "\n",
    "sys.path.insert(0, os.path.dirname(os.getcwd())) "
   ]
  },
  {
   "cell_type": "code",
   "execution_count": 2,
   "metadata": {},
   "outputs": [],
   "source": [
    "import time\n",
    "import gc\n",
    "import json\n",
    "\n",
    "import numpy as np\n",
    "import pandas as pd\n",
    "\n",
    "from transformers import BertTokenizer, BertModel\n",
    "from transformers import logging\n",
    "\n",
    "from sklearn.metrics import f1_score, accuracy_score, precision_score, recall_score\n",
    "\n",
    "from InputDataset import InputDataset\n",
    "\n",
    "import torch\n",
    "from torch.utils.data import DataLoader, RandomSampler, SequentialSampler\n",
    "from torch.nn.utils.rnn import pad_sequence\n",
    "\n",
    "from torch import cuda\n",
    "\n",
    "from absa_models.ABSA_BERT_Dropout_Linear import ABSA_BERT_Dropout_Linear"
   ]
  },
  {
   "cell_type": "code",
   "execution_count": 3,
   "metadata": {},
   "outputs": [],
   "source": [
    "device = 'cuda' if cuda.is_available() else 'cpu'\n",
    "logging.set_verbosity_error() "
   ]
  },
  {
   "cell_type": "code",
   "execution_count": 4,
   "metadata": {},
   "outputs": [
    {
     "name": "stdout",
     "output_type": "stream",
     "text": [
      "NVIDIA GeForce RTX 2060 SUPER\n",
      "Memory: 8 GB\n"
     ]
    }
   ],
   "source": [
    "print(torch.cuda.get_device_name(0))\n",
    "print(f\"Memory: {torch.cuda.get_device_properties(0).total_memory // 1024 ** 3} GB\")"
   ]
  },
  {
   "cell_type": "code",
   "execution_count": 5,
   "metadata": {},
   "outputs": [],
   "source": [
    "def clear_memory():\n",
    "    torch.cuda.empty_cache()\n",
    "\n",
    "    with torch.no_grad():\n",
    "        torch.cuda.empty_cache()\n",
    "\n",
    "    gc.collect()"
   ]
  },
  {
   "cell_type": "markdown",
   "metadata": {},
   "source": [
    "# Load Data"
   ]
  },
  {
   "cell_type": "code",
   "execution_count": 6,
   "metadata": {},
   "outputs": [],
   "source": [
    "DATASET = 'ABSA_SemEval16_Restaurants_train.json'"
   ]
  },
  {
   "cell_type": "code",
   "execution_count": 7,
   "metadata": {},
   "outputs": [],
   "source": [
    "df = pd.json_normalize(json.load(open(DATASET)))"
   ]
  },
  {
   "cell_type": "code",
   "execution_count": 8,
   "metadata": {},
   "outputs": [
    {
     "data": {
      "text/html": [
       "<div>\n",
       "<style scoped>\n",
       "    .dataframe tbody tr th:only-of-type {\n",
       "        vertical-align: middle;\n",
       "    }\n",
       "\n",
       "    .dataframe tbody tr th {\n",
       "        vertical-align: top;\n",
       "    }\n",
       "\n",
       "    .dataframe thead th {\n",
       "        text-align: right;\n",
       "    }\n",
       "</style>\n",
       "<table border=\"1\" class=\"dataframe\">\n",
       "  <thead>\n",
       "    <tr style=\"text-align: right;\">\n",
       "      <th></th>\n",
       "      <th>text</th>\n",
       "      <th>tokens</th>\n",
       "      <th>absa_tags</th>\n",
       "    </tr>\n",
       "  </thead>\n",
       "  <tbody>\n",
       "    <tr>\n",
       "      <th>0</th>\n",
       "      <td>Judging from previous posts this used to be a ...</td>\n",
       "      <td>[Judging, from, previous, posts, this, used, t...</td>\n",
       "      <td>[0, 0, 0, 0, 0, 0, 0, 0, 0, 0, 1, 0, 0, 0, 0, ...</td>\n",
       "    </tr>\n",
       "    <tr>\n",
       "      <th>1</th>\n",
       "      <td>We, there were four of us, arrived at noon - t...</td>\n",
       "      <td>[We, ,, there, were, four, of, us, ,, arrived,...</td>\n",
       "      <td>[0, 0, 0, 0, 0, 0, 0, 0, 0, 0, 0, 0, 0, 0, 0, ...</td>\n",
       "    </tr>\n",
       "    <tr>\n",
       "      <th>2</th>\n",
       "      <td>They never brought us complimentary noodles, i...</td>\n",
       "      <td>[They, never, brought, us, complimentary, nood...</td>\n",
       "      <td>[0, 0, 0, 0, 0, 0, 0, 0, 0, 0, 0, 0, 0, 0, 0, ...</td>\n",
       "    </tr>\n",
       "    <tr>\n",
       "      <th>3</th>\n",
       "      <td>The food was lousy - too sweet or too salty an...</td>\n",
       "      <td>[The, food, was, lousy, -, too, sweet, or, too...</td>\n",
       "      <td>[0, 1, 0, 0, 0, 0, 0, 0, 0, 0, 0, 0, 1, 0, 0]</td>\n",
       "    </tr>\n",
       "    <tr>\n",
       "      <th>4</th>\n",
       "      <td>The food was lousy - too sweet or too salty an...</td>\n",
       "      <td>[The, food, was, lousy, -, too, sweet, or, too...</td>\n",
       "      <td>[0, 1, 0, 0, 0, 0, 0, 0, 0, 0, 0, 0, 1, 0, 0]</td>\n",
       "    </tr>\n",
       "  </tbody>\n",
       "</table>\n",
       "</div>"
      ],
      "text/plain": [
       "                                                text  \\\n",
       "0  Judging from previous posts this used to be a ...   \n",
       "1  We, there were four of us, arrived at noon - t...   \n",
       "2  They never brought us complimentary noodles, i...   \n",
       "3  The food was lousy - too sweet or too salty an...   \n",
       "4  The food was lousy - too sweet or too salty an...   \n",
       "\n",
       "                                              tokens  \\\n",
       "0  [Judging, from, previous, posts, this, used, t...   \n",
       "1  [We, ,, there, were, four, of, us, ,, arrived,...   \n",
       "2  [They, never, brought, us, complimentary, nood...   \n",
       "3  [The, food, was, lousy, -, too, sweet, or, too...   \n",
       "4  [The, food, was, lousy, -, too, sweet, or, too...   \n",
       "\n",
       "                                           absa_tags  \n",
       "0  [0, 0, 0, 0, 0, 0, 0, 0, 0, 0, 1, 0, 0, 0, 0, ...  \n",
       "1  [0, 0, 0, 0, 0, 0, 0, 0, 0, 0, 0, 0, 0, 0, 0, ...  \n",
       "2  [0, 0, 0, 0, 0, 0, 0, 0, 0, 0, 0, 0, 0, 0, 0, ...  \n",
       "3      [0, 1, 0, 0, 0, 0, 0, 0, 0, 0, 0, 0, 1, 0, 0]  \n",
       "4      [0, 1, 0, 0, 0, 0, 0, 0, 0, 0, 0, 0, 1, 0, 0]  "
      ]
     },
     "execution_count": 8,
     "metadata": {},
     "output_type": "execute_result"
    }
   ],
   "source": [
    "df.head()"
   ]
  },
  {
   "cell_type": "markdown",
   "metadata": {},
   "source": [
    "# Train & Validate"
   ]
  },
  {
   "cell_type": "code",
   "execution_count": 9,
   "metadata": {},
   "outputs": [],
   "source": [
    "TRAIN_BATCH_SIZE = 4\n",
    "VALID_BATCH_SIZE = 4\n",
    "\n",
    "EPOCHS = 2\n",
    "\n",
    "LEARNING_RATE = 1e-5\n",
    "\n",
    "TRAIN_SPLIT = 0.8\n",
    "\n",
    "NO_RUNS = 10"
   ]
  },
  {
   "cell_type": "code",
   "execution_count": 10,
   "metadata": {},
   "outputs": [],
   "source": [
    "BERT_FINE_TUNED_OUTPUT = '../../../results/ABSA/SemEval16 - Task 5 - Restaurants/models/bert_fine_tuned.pth'"
   ]
  },
  {
   "cell_type": "code",
   "execution_count": 11,
   "metadata": {},
   "outputs": [],
   "source": [
    "MODEL_OUTPUT = '../../../results/ABSA/SemEval16 - Task 5 - Restaurants/models/bert_pre_trained_dropout_linear.pth'\n",
    "STATS_OUTPUT = '../../../results/ABSA/SemEval16 - Task 5 - Restaurants/stats/bert_pre_trained_dropout_linear.csv'"
   ]
  },
  {
   "cell_type": "code",
   "execution_count": 12,
   "metadata": {},
   "outputs": [],
   "source": [
    "tokenizer = BertTokenizer.from_pretrained('bert-base-uncased')"
   ]
  },
  {
   "cell_type": "code",
   "execution_count": 13,
   "metadata": {},
   "outputs": [],
   "source": [
    "best_accuracy = 0.0"
   ]
  },
  {
   "cell_type": "code",
   "execution_count": 14,
   "metadata": {},
   "outputs": [],
   "source": [
    "def create_mini_batch(samples):\n",
    "    ids_tensors = [s[1] for s in samples]\n",
    "    ids_tensors = pad_sequence(ids_tensors, batch_first=True).to(device)\n",
    "\n",
    "    tags_tensors = [s[2] for s in samples]\n",
    "    tags_tensors = pad_sequence(tags_tensors, batch_first=True).to(device)\n",
    "    \n",
    "    masks_tensors = torch.zeros(ids_tensors.shape, dtype=torch.long).to(device)\n",
    "    masks_tensors = masks_tensors.masked_fill(ids_tensors != 0, 1).to(device)\n",
    "    \n",
    "    return ids_tensors, tags_tensors, masks_tensors"
   ]
  },
  {
   "cell_type": "code",
   "execution_count": 15,
   "metadata": {},
   "outputs": [],
   "source": [
    "def train(epoch, model, loss_fn, optimizer, dataloader):\n",
    "    model.train()\n",
    "\n",
    "    dataloader_len = len(dataloader)\n",
    "\n",
    "    for _,data in enumerate(dataloader, 0):\n",
    "        optimizer.zero_grad()\n",
    "\n",
    "        ids_tensors, tags_tensors, masks_tensors = data\n",
    "\n",
    "        outputs = model(ids_tensors, masks_tensors)\n",
    "\n",
    "        loss = loss_fn(outputs.view(-1, 4), tags_tensors.view(-1))\n",
    "        \n",
    "        if _ % (dataloader_len // 10) == 0:\n",
    "            print(f\"Epoch: {epoch}/{EPOCHS}, Batch: {_}/{dataloader_len}, Loss: {loss.item()}\")\n",
    "        \n",
    "        loss.backward()\n",
    "        \n",
    "        optimizer.step()"
   ]
  },
  {
   "cell_type": "code",
   "execution_count": 16,
   "metadata": {},
   "outputs": [],
   "source": [
    "def validation(model, dataloader):\n",
    "    model.eval()\n",
    "    \n",
    "    fin_targets=[]\n",
    "    fin_outputs=[]\n",
    "\n",
    "    with torch.no_grad():\n",
    "        for _, data in enumerate(dataloader, 0):\n",
    "            ids_tensors, tags_tensors, masks_tensors = data\n",
    "            ids_tensors = ids_tensors.to(device)\n",
    "            tags_tensors = tags_tensors.to(device)\n",
    "            masks_tensors = masks_tensors.to(device)\n",
    "\n",
    "            outputs = model(ids_tensors, masks_tensors)\n",
    "            \n",
    "            _, predictions = torch.max(outputs, dim=2)\n",
    "\n",
    "            fin_outputs += list([int(p) for pred in predictions for p in pred])\n",
    "            fin_targets += list([int(tag) for tags_tensor in tags_tensors for tag in tags_tensor])\n",
    "\n",
    "    return fin_outputs, fin_targets"
   ]
  },
  {
   "cell_type": "code",
   "execution_count": 17,
   "metadata": {},
   "outputs": [],
   "source": [
    "results = pd.DataFrame(columns=['accuracy','precision_score_micro','precision_score_macro','recall_score_micro','recall_score_macro','f1_score_micro','f1_score_macro', 'execution_time'])"
   ]
  },
  {
   "cell_type": "code",
   "execution_count": 18,
   "metadata": {},
   "outputs": [
    {
     "name": "stdout",
     "output_type": "stream",
     "text": [
      "Run 1/10\n",
      "Epoch: 0/2, Batch: 0/501, Loss: 1.425561547279358\n",
      "Epoch: 0/2, Batch: 50/501, Loss: 0.4436885118484497\n",
      "Epoch: 0/2, Batch: 100/501, Loss: 0.20202913880348206\n",
      "Epoch: 0/2, Batch: 150/501, Loss: 0.29910609126091003\n",
      "Epoch: 0/2, Batch: 200/501, Loss: 0.329155296087265\n",
      "Epoch: 0/2, Batch: 250/501, Loss: 0.10395553708076477\n",
      "Epoch: 0/2, Batch: 300/501, Loss: 0.10924636572599411\n",
      "Epoch: 0/2, Batch: 350/501, Loss: 0.21530422568321228\n",
      "Epoch: 0/2, Batch: 400/501, Loss: 0.06656711548566818\n",
      "Epoch: 0/2, Batch: 450/501, Loss: 0.06816624104976654\n",
      "Epoch: 0/2, Batch: 500/501, Loss: 0.11064442992210388\n",
      "Epoch: 1/2, Batch: 0/501, Loss: 0.15480688214302063\n",
      "Epoch: 1/2, Batch: 50/501, Loss: 0.034236203879117966\n",
      "Epoch: 1/2, Batch: 100/501, Loss: 0.12474062293767929\n",
      "Epoch: 1/2, Batch: 150/501, Loss: 0.09590430557727814\n",
      "Epoch: 1/2, Batch: 200/501, Loss: 0.06961847096681595\n",
      "Epoch: 1/2, Batch: 250/501, Loss: 0.17892388999462128\n",
      "Epoch: 1/2, Batch: 300/501, Loss: 0.12749789655208588\n",
      "Epoch: 1/2, Batch: 350/501, Loss: 0.25778186321258545\n",
      "Epoch: 1/2, Batch: 400/501, Loss: 0.053629934787750244\n",
      "Epoch: 1/2, Batch: 450/501, Loss: 0.04866056889295578\n",
      "Epoch: 1/2, Batch: 500/501, Loss: 0.10913331806659698\n"
     ]
    },
    {
     "name": "stderr",
     "output_type": "stream",
     "text": [
      "D:\\Apps\\Anaconda\\envs\\ml\\lib\\site-packages\\sklearn\\metrics\\_classification.py:1308: UndefinedMetricWarning: Precision is ill-defined and being set to 0.0 in labels with no predicted samples. Use `zero_division` parameter to control this behavior.\n",
      "  _warn_prf(average, modifier, msg_start, len(result))\n"
     ]
    },
    {
     "name": "stdout",
     "output_type": "stream",
     "text": [
      "Run 2/10\n",
      "Epoch: 0/2, Batch: 0/501, Loss: 1.6699203252792358\n",
      "Epoch: 0/2, Batch: 50/501, Loss: 0.3681097626686096\n",
      "Epoch: 0/2, Batch: 100/501, Loss: 0.4129892587661743\n",
      "Epoch: 0/2, Batch: 150/501, Loss: 0.1622176170349121\n",
      "Epoch: 0/2, Batch: 200/501, Loss: 0.1882394254207611\n",
      "Epoch: 0/2, Batch: 250/501, Loss: 0.07583526521921158\n",
      "Epoch: 0/2, Batch: 300/501, Loss: 0.16277767717838287\n",
      "Epoch: 0/2, Batch: 350/501, Loss: 0.08312597870826721\n",
      "Epoch: 0/2, Batch: 400/501, Loss: 0.029837941750884056\n",
      "Epoch: 0/2, Batch: 450/501, Loss: 0.33205267786979675\n",
      "Epoch: 0/2, Batch: 500/501, Loss: 0.08451253920793533\n",
      "Epoch: 1/2, Batch: 0/501, Loss: 0.07834344357252121\n",
      "Epoch: 1/2, Batch: 50/501, Loss: 0.09820043295621872\n",
      "Epoch: 1/2, Batch: 100/501, Loss: 0.07585856318473816\n",
      "Epoch: 1/2, Batch: 150/501, Loss: 0.18355832993984222\n",
      "Epoch: 1/2, Batch: 200/501, Loss: 0.0540386326611042\n",
      "Epoch: 1/2, Batch: 250/501, Loss: 0.0863758847117424\n",
      "Epoch: 1/2, Batch: 300/501, Loss: 0.08957051485776901\n",
      "Epoch: 1/2, Batch: 350/501, Loss: 0.10734495520591736\n",
      "Epoch: 1/2, Batch: 400/501, Loss: 0.09413857758045197\n",
      "Epoch: 1/2, Batch: 450/501, Loss: 0.08011830598115921\n",
      "Epoch: 1/2, Batch: 500/501, Loss: 0.03125813975930214\n"
     ]
    },
    {
     "name": "stderr",
     "output_type": "stream",
     "text": [
      "D:\\Apps\\Anaconda\\envs\\ml\\lib\\site-packages\\sklearn\\metrics\\_classification.py:1308: UndefinedMetricWarning: Precision is ill-defined and being set to 0.0 in labels with no predicted samples. Use `zero_division` parameter to control this behavior.\n",
      "  _warn_prf(average, modifier, msg_start, len(result))\n"
     ]
    },
    {
     "name": "stdout",
     "output_type": "stream",
     "text": [
      "Run 3/10\n",
      "Epoch: 0/2, Batch: 0/501, Loss: 1.4225574731826782\n",
      "Epoch: 0/2, Batch: 50/501, Loss: 0.35757768154144287\n",
      "Epoch: 0/2, Batch: 100/501, Loss: 0.33134925365448\n",
      "Epoch: 0/2, Batch: 150/501, Loss: 0.43298694491386414\n",
      "Epoch: 0/2, Batch: 200/501, Loss: 0.23885276913642883\n",
      "Epoch: 0/2, Batch: 250/501, Loss: 0.06208469346165657\n",
      "Epoch: 0/2, Batch: 300/501, Loss: 0.034357696771621704\n",
      "Epoch: 0/2, Batch: 350/501, Loss: 0.2663525342941284\n",
      "Epoch: 0/2, Batch: 400/501, Loss: 0.13552376627922058\n",
      "Epoch: 0/2, Batch: 450/501, Loss: 0.17041681706905365\n",
      "Epoch: 0/2, Batch: 500/501, Loss: 0.09563403576612473\n",
      "Epoch: 1/2, Batch: 0/501, Loss: 0.24745702743530273\n",
      "Epoch: 1/2, Batch: 50/501, Loss: 0.060177527368068695\n",
      "Epoch: 1/2, Batch: 100/501, Loss: 0.2502489387989044\n",
      "Epoch: 1/2, Batch: 150/501, Loss: 0.08058343827724457\n",
      "Epoch: 1/2, Batch: 200/501, Loss: 0.13486836850643158\n",
      "Epoch: 1/2, Batch: 250/501, Loss: 0.0709654912352562\n",
      "Epoch: 1/2, Batch: 300/501, Loss: 0.10875704884529114\n",
      "Epoch: 1/2, Batch: 350/501, Loss: 0.07342894375324249\n",
      "Epoch: 1/2, Batch: 400/501, Loss: 0.06160473823547363\n",
      "Epoch: 1/2, Batch: 450/501, Loss: 0.10329339653253555\n",
      "Epoch: 1/2, Batch: 500/501, Loss: 0.07190407067537308\n",
      "Run 4/10\n",
      "Epoch: 0/2, Batch: 0/501, Loss: 1.402863621711731\n",
      "Epoch: 0/2, Batch: 50/501, Loss: 0.37812960147857666\n",
      "Epoch: 0/2, Batch: 100/501, Loss: 0.27590999007225037\n",
      "Epoch: 0/2, Batch: 150/501, Loss: 0.2020779848098755\n",
      "Epoch: 0/2, Batch: 200/501, Loss: 0.14227905869483948\n",
      "Epoch: 0/2, Batch: 250/501, Loss: 0.05435367301106453\n",
      "Epoch: 0/2, Batch: 300/501, Loss: 0.17681173980236053\n",
      "Epoch: 0/2, Batch: 350/501, Loss: 0.16658246517181396\n",
      "Epoch: 0/2, Batch: 400/501, Loss: 0.30581456422805786\n",
      "Epoch: 0/2, Batch: 450/501, Loss: 0.0742262676358223\n",
      "Epoch: 0/2, Batch: 500/501, Loss: 0.117302805185318\n",
      "Epoch: 1/2, Batch: 0/501, Loss: 0.012207516469061375\n",
      "Epoch: 1/2, Batch: 50/501, Loss: 0.08212850987911224\n",
      "Epoch: 1/2, Batch: 100/501, Loss: 0.11178901791572571\n",
      "Epoch: 1/2, Batch: 150/501, Loss: 0.0585896372795105\n",
      "Epoch: 1/2, Batch: 200/501, Loss: 0.04592577740550041\n",
      "Epoch: 1/2, Batch: 250/501, Loss: 0.10647352039813995\n",
      "Epoch: 1/2, Batch: 300/501, Loss: 0.08752468973398209\n",
      "Epoch: 1/2, Batch: 350/501, Loss: 0.14568334817886353\n",
      "Epoch: 1/2, Batch: 400/501, Loss: 0.10077996551990509\n",
      "Epoch: 1/2, Batch: 450/501, Loss: 0.1095406785607338\n",
      "Epoch: 1/2, Batch: 500/501, Loss: 0.016268199309706688\n"
     ]
    },
    {
     "name": "stderr",
     "output_type": "stream",
     "text": [
      "D:\\Apps\\Anaconda\\envs\\ml\\lib\\site-packages\\sklearn\\metrics\\_classification.py:1308: UndefinedMetricWarning: Precision is ill-defined and being set to 0.0 in labels with no predicted samples. Use `zero_division` parameter to control this behavior.\n",
      "  _warn_prf(average, modifier, msg_start, len(result))\n"
     ]
    },
    {
     "name": "stdout",
     "output_type": "stream",
     "text": [
      "Run 5/10\n",
      "Epoch: 0/2, Batch: 0/501, Loss: 1.2073097229003906\n",
      "Epoch: 0/2, Batch: 50/501, Loss: 0.09565231204032898\n",
      "Epoch: 0/2, Batch: 100/501, Loss: 0.204040065407753\n",
      "Epoch: 0/2, Batch: 150/501, Loss: 0.12114951014518738\n",
      "Epoch: 0/2, Batch: 200/501, Loss: 0.27892807126045227\n",
      "Epoch: 0/2, Batch: 250/501, Loss: 0.12061385065317154\n",
      "Epoch: 0/2, Batch: 300/501, Loss: 0.23567767441272736\n",
      "Epoch: 0/2, Batch: 350/501, Loss: 0.0716610923409462\n",
      "Epoch: 0/2, Batch: 400/501, Loss: 0.3098052740097046\n",
      "Epoch: 0/2, Batch: 450/501, Loss: 0.1737252175807953\n",
      "Epoch: 0/2, Batch: 500/501, Loss: 0.19318731129169464\n",
      "Epoch: 1/2, Batch: 0/501, Loss: 0.034299056977033615\n",
      "Epoch: 1/2, Batch: 50/501, Loss: 0.10275238007307053\n",
      "Epoch: 1/2, Batch: 100/501, Loss: 0.04211714491248131\n",
      "Epoch: 1/2, Batch: 150/501, Loss: 0.09699420630931854\n",
      "Epoch: 1/2, Batch: 200/501, Loss: 0.07792932540178299\n",
      "Epoch: 1/2, Batch: 250/501, Loss: 0.08042173832654953\n",
      "Epoch: 1/2, Batch: 300/501, Loss: 0.0717870220541954\n",
      "Epoch: 1/2, Batch: 350/501, Loss: 0.27572792768478394\n",
      "Epoch: 1/2, Batch: 400/501, Loss: 0.09076147526502609\n",
      "Epoch: 1/2, Batch: 450/501, Loss: 0.05516096204519272\n",
      "Epoch: 1/2, Batch: 500/501, Loss: 0.005076215136796236\n"
     ]
    },
    {
     "name": "stderr",
     "output_type": "stream",
     "text": [
      "D:\\Apps\\Anaconda\\envs\\ml\\lib\\site-packages\\sklearn\\metrics\\_classification.py:1308: UndefinedMetricWarning: Precision is ill-defined and being set to 0.0 in labels with no predicted samples. Use `zero_division` parameter to control this behavior.\n",
      "  _warn_prf(average, modifier, msg_start, len(result))\n"
     ]
    },
    {
     "name": "stdout",
     "output_type": "stream",
     "text": [
      "Run 6/10\n",
      "Epoch: 0/2, Batch: 0/501, Loss: 1.4859004020690918\n",
      "Epoch: 0/2, Batch: 50/501, Loss: 0.1725979447364807\n",
      "Epoch: 0/2, Batch: 100/501, Loss: 0.3848600387573242\n",
      "Epoch: 0/2, Batch: 150/501, Loss: 0.24990534782409668\n",
      "Epoch: 0/2, Batch: 200/501, Loss: 0.1501498520374298\n",
      "Epoch: 0/2, Batch: 250/501, Loss: 0.39123716950416565\n",
      "Epoch: 0/2, Batch: 300/501, Loss: 0.21294443309307098\n",
      "Epoch: 0/2, Batch: 350/501, Loss: 0.05886194109916687\n",
      "Epoch: 0/2, Batch: 400/501, Loss: 0.10586221516132355\n",
      "Epoch: 0/2, Batch: 450/501, Loss: 0.19457115232944489\n",
      "Epoch: 0/2, Batch: 500/501, Loss: 0.0652860552072525\n",
      "Epoch: 1/2, Batch: 0/501, Loss: 0.14239910244941711\n",
      "Epoch: 1/2, Batch: 50/501, Loss: 0.10167951881885529\n",
      "Epoch: 1/2, Batch: 100/501, Loss: 0.04623642936348915\n",
      "Epoch: 1/2, Batch: 150/501, Loss: 0.07714298367500305\n",
      "Epoch: 1/2, Batch: 200/501, Loss: 0.06798572093248367\n",
      "Epoch: 1/2, Batch: 250/501, Loss: 0.17029336094856262\n",
      "Epoch: 1/2, Batch: 300/501, Loss: 0.08767244219779968\n",
      "Epoch: 1/2, Batch: 350/501, Loss: 0.031602729111909866\n",
      "Epoch: 1/2, Batch: 400/501, Loss: 0.17187686264514923\n",
      "Epoch: 1/2, Batch: 450/501, Loss: 0.02912168763577938\n",
      "Epoch: 1/2, Batch: 500/501, Loss: 0.018501032143831253\n"
     ]
    },
    {
     "name": "stderr",
     "output_type": "stream",
     "text": [
      "D:\\Apps\\Anaconda\\envs\\ml\\lib\\site-packages\\sklearn\\metrics\\_classification.py:1308: UndefinedMetricWarning: Precision is ill-defined and being set to 0.0 in labels with no predicted samples. Use `zero_division` parameter to control this behavior.\n",
      "  _warn_prf(average, modifier, msg_start, len(result))\n"
     ]
    },
    {
     "name": "stdout",
     "output_type": "stream",
     "text": [
      "Run 7/10\n",
      "Epoch: 0/2, Batch: 0/501, Loss: 1.239093542098999\n",
      "Epoch: 0/2, Batch: 50/501, Loss: 0.40008509159088135\n",
      "Epoch: 0/2, Batch: 100/501, Loss: 0.3836880922317505\n",
      "Epoch: 0/2, Batch: 150/501, Loss: 0.24102827906608582\n",
      "Epoch: 0/2, Batch: 200/501, Loss: 0.21157719194889069\n",
      "Epoch: 0/2, Batch: 250/501, Loss: 0.4001758396625519\n",
      "Epoch: 0/2, Batch: 300/501, Loss: 0.2492435723543167\n",
      "Epoch: 0/2, Batch: 350/501, Loss: 0.06420967727899551\n",
      "Epoch: 0/2, Batch: 400/501, Loss: 0.10267505794763565\n",
      "Epoch: 0/2, Batch: 450/501, Loss: 0.13099487125873566\n",
      "Epoch: 0/2, Batch: 500/501, Loss: 0.15378797054290771\n",
      "Epoch: 1/2, Batch: 0/501, Loss: 0.12170278280973434\n",
      "Epoch: 1/2, Batch: 50/501, Loss: 0.016754547134041786\n",
      "Epoch: 1/2, Batch: 100/501, Loss: 0.06999333202838898\n",
      "Epoch: 1/2, Batch: 150/501, Loss: 0.09414666891098022\n",
      "Epoch: 1/2, Batch: 200/501, Loss: 0.03757647052407265\n",
      "Epoch: 1/2, Batch: 250/501, Loss: 0.05663006380200386\n",
      "Epoch: 1/2, Batch: 300/501, Loss: 0.12362111359834671\n",
      "Epoch: 1/2, Batch: 350/501, Loss: 0.13773292303085327\n",
      "Epoch: 1/2, Batch: 400/501, Loss: 0.09761451184749603\n",
      "Epoch: 1/2, Batch: 450/501, Loss: 0.010863813571631908\n",
      "Epoch: 1/2, Batch: 500/501, Loss: 0.058788031339645386\n"
     ]
    },
    {
     "name": "stderr",
     "output_type": "stream",
     "text": [
      "D:\\Apps\\Anaconda\\envs\\ml\\lib\\site-packages\\sklearn\\metrics\\_classification.py:1308: UndefinedMetricWarning: Precision is ill-defined and being set to 0.0 in labels with no predicted samples. Use `zero_division` parameter to control this behavior.\n",
      "  _warn_prf(average, modifier, msg_start, len(result))\n"
     ]
    },
    {
     "name": "stdout",
     "output_type": "stream",
     "text": [
      "Run 8/10\n",
      "Epoch: 0/2, Batch: 0/501, Loss: 1.3388924598693848\n",
      "Epoch: 0/2, Batch: 50/501, Loss: 0.18256591260433197\n",
      "Epoch: 0/2, Batch: 100/501, Loss: 0.31771034002304077\n",
      "Epoch: 0/2, Batch: 150/501, Loss: 0.25696834921836853\n",
      "Epoch: 0/2, Batch: 200/501, Loss: 0.1885557472705841\n",
      "Epoch: 0/2, Batch: 250/501, Loss: 0.095547154545784\n",
      "Epoch: 0/2, Batch: 300/501, Loss: 0.19578662514686584\n",
      "Epoch: 0/2, Batch: 350/501, Loss: 0.09658917784690857\n",
      "Epoch: 0/2, Batch: 400/501, Loss: 0.18980520963668823\n",
      "Epoch: 0/2, Batch: 450/501, Loss: 0.09581949561834335\n",
      "Epoch: 0/2, Batch: 500/501, Loss: 0.09768068790435791\n",
      "Epoch: 1/2, Batch: 0/501, Loss: 0.18713942170143127\n",
      "Epoch: 1/2, Batch: 50/501, Loss: 0.08589942008256912\n",
      "Epoch: 1/2, Batch: 100/501, Loss: 0.624434769153595\n",
      "Epoch: 1/2, Batch: 150/501, Loss: 0.10930667817592621\n",
      "Epoch: 1/2, Batch: 200/501, Loss: 0.052737876772880554\n",
      "Epoch: 1/2, Batch: 250/501, Loss: 0.038205765187740326\n",
      "Epoch: 1/2, Batch: 300/501, Loss: 0.16841557621955872\n",
      "Epoch: 1/2, Batch: 350/501, Loss: 0.11307762563228607\n",
      "Epoch: 1/2, Batch: 400/501, Loss: 0.1422940492630005\n",
      "Epoch: 1/2, Batch: 450/501, Loss: 0.06591518968343735\n",
      "Epoch: 1/2, Batch: 500/501, Loss: 0.04463342949748039\n"
     ]
    },
    {
     "name": "stderr",
     "output_type": "stream",
     "text": [
      "D:\\Apps\\Anaconda\\envs\\ml\\lib\\site-packages\\sklearn\\metrics\\_classification.py:1308: UndefinedMetricWarning: Precision is ill-defined and being set to 0.0 in labels with no predicted samples. Use `zero_division` parameter to control this behavior.\n",
      "  _warn_prf(average, modifier, msg_start, len(result))\n"
     ]
    },
    {
     "name": "stdout",
     "output_type": "stream",
     "text": [
      "Run 9/10\n",
      "Epoch: 0/2, Batch: 0/501, Loss: 1.690863847732544\n",
      "Epoch: 0/2, Batch: 50/501, Loss: 0.3572140634059906\n",
      "Epoch: 0/2, Batch: 100/501, Loss: 0.40639567375183105\n",
      "Epoch: 0/2, Batch: 150/501, Loss: 0.27099713683128357\n",
      "Epoch: 0/2, Batch: 200/501, Loss: 0.1214594617486\n",
      "Epoch: 0/2, Batch: 250/501, Loss: 0.11732137948274612\n",
      "Epoch: 0/2, Batch: 300/501, Loss: 0.18091920018196106\n",
      "Epoch: 0/2, Batch: 350/501, Loss: 0.13125145435333252\n",
      "Epoch: 0/2, Batch: 400/501, Loss: 0.2712176442146301\n",
      "Epoch: 0/2, Batch: 450/501, Loss: 0.09992582350969315\n",
      "Epoch: 0/2, Batch: 500/501, Loss: 0.07293074578046799\n",
      "Epoch: 1/2, Batch: 0/501, Loss: 0.08985713869333267\n",
      "Epoch: 1/2, Batch: 50/501, Loss: 0.11777885258197784\n",
      "Epoch: 1/2, Batch: 100/501, Loss: 0.11972327530384064\n",
      "Epoch: 1/2, Batch: 150/501, Loss: 0.09321782737970352\n",
      "Epoch: 1/2, Batch: 200/501, Loss: 0.11947367340326309\n",
      "Epoch: 1/2, Batch: 250/501, Loss: 0.051883991807699203\n",
      "Epoch: 1/2, Batch: 300/501, Loss: 0.07743975520133972\n",
      "Epoch: 1/2, Batch: 350/501, Loss: 0.010081987828016281\n",
      "Epoch: 1/2, Batch: 400/501, Loss: 0.110965296626091\n",
      "Epoch: 1/2, Batch: 450/501, Loss: 0.016796253621578217\n",
      "Epoch: 1/2, Batch: 500/501, Loss: 0.10250388085842133\n"
     ]
    },
    {
     "name": "stderr",
     "output_type": "stream",
     "text": [
      "D:\\Apps\\Anaconda\\envs\\ml\\lib\\site-packages\\sklearn\\metrics\\_classification.py:1308: UndefinedMetricWarning: Precision is ill-defined and being set to 0.0 in labels with no predicted samples. Use `zero_division` parameter to control this behavior.\n",
      "  _warn_prf(average, modifier, msg_start, len(result))\n"
     ]
    },
    {
     "name": "stdout",
     "output_type": "stream",
     "text": [
      "Run 10/10\n",
      "Epoch: 0/2, Batch: 0/501, Loss: 1.3803911209106445\n",
      "Epoch: 0/2, Batch: 50/501, Loss: 0.48764005303382874\n",
      "Epoch: 0/2, Batch: 100/501, Loss: 0.3612918257713318\n",
      "Epoch: 0/2, Batch: 150/501, Loss: 0.1417476385831833\n",
      "Epoch: 0/2, Batch: 200/501, Loss: 0.20340627431869507\n",
      "Epoch: 0/2, Batch: 250/501, Loss: 0.19702062010765076\n",
      "Epoch: 0/2, Batch: 300/501, Loss: 0.053664423525333405\n",
      "Epoch: 0/2, Batch: 350/501, Loss: 0.08173860609531403\n",
      "Epoch: 0/2, Batch: 400/501, Loss: 0.15476039052009583\n",
      "Epoch: 0/2, Batch: 450/501, Loss: 0.19059699773788452\n",
      "Epoch: 0/2, Batch: 500/501, Loss: 0.06809026747941971\n",
      "Epoch: 1/2, Batch: 0/501, Loss: 0.0657120794057846\n",
      "Epoch: 1/2, Batch: 50/501, Loss: 0.1011616662144661\n",
      "Epoch: 1/2, Batch: 100/501, Loss: 0.07117016613483429\n",
      "Epoch: 1/2, Batch: 150/501, Loss: 0.2628721594810486\n",
      "Epoch: 1/2, Batch: 200/501, Loss: 0.08059419691562653\n",
      "Epoch: 1/2, Batch: 250/501, Loss: 0.09309190511703491\n",
      "Epoch: 1/2, Batch: 300/501, Loss: 0.046441178768873215\n",
      "Epoch: 1/2, Batch: 350/501, Loss: 0.13598491251468658\n",
      "Epoch: 1/2, Batch: 400/501, Loss: 0.06623478978872299\n",
      "Epoch: 1/2, Batch: 450/501, Loss: 0.12183815240859985\n",
      "Epoch: 1/2, Batch: 500/501, Loss: 0.17106612026691437\n"
     ]
    },
    {
     "name": "stderr",
     "output_type": "stream",
     "text": [
      "D:\\Apps\\Anaconda\\envs\\ml\\lib\\site-packages\\sklearn\\metrics\\_classification.py:1308: UndefinedMetricWarning: Precision is ill-defined and being set to 0.0 in labels with no predicted samples. Use `zero_division` parameter to control this behavior.\n",
      "  _warn_prf(average, modifier, msg_start, len(result))\n"
     ]
    }
   ],
   "source": [
    "for i in range(NO_RUNS):\n",
    "    # clear cache cuda\n",
    "    torch.cuda.empty_cache()\n",
    "    with torch.no_grad():\n",
    "        torch.cuda.empty_cache()\n",
    "    gc.collect()\n",
    "\n",
    "    start_time = time.time()\n",
    "\n",
    "    print(f\"Run {i + 1}/{NO_RUNS}\")\n",
    "\n",
    "    train_dataset = df.sample(frac=TRAIN_SPLIT)\n",
    "    test_dataset = df.drop(train_dataset.index).reset_index(drop=True)\n",
    "    train_dataset = train_dataset.reset_index(drop=True)\n",
    "\n",
    "    training_set = InputDataset(train_dataset, tokenizer)\n",
    "    testing_set = InputDataset(test_dataset, tokenizer)\n",
    "\n",
    "    train_dataloader = DataLoader(\n",
    "        training_set,\n",
    "        sampler = RandomSampler(train_dataset),\n",
    "        batch_size = TRAIN_BATCH_SIZE,\n",
    "        drop_last = True,\n",
    "        collate_fn=create_mini_batch\n",
    "    )\n",
    "\n",
    "    validation_dataloader = DataLoader(\n",
    "        testing_set,\n",
    "        sampler = SequentialSampler(testing_set),\n",
    "        batch_size = VALID_BATCH_SIZE,\n",
    "        drop_last = True,\n",
    "        collate_fn=create_mini_batch\n",
    "    )\n",
    "\n",
    "    model = ABSA_BERT_Dropout_Linear(BertModel.from_pretrained('bert-base-uncased'), dropout=0.3, no_out_labels=4, device=device).to(device)\n",
    "\n",
    "    optimizer = torch.optim.Adam(params = model.parameters(), lr=LEARNING_RATE)\n",
    "    loss_fn = torch.nn.CrossEntropyLoss()\n",
    "\n",
    "    for epoch in range(EPOCHS):\n",
    "        train(epoch, model, loss_fn, optimizer, train_dataloader)\n",
    "\n",
    "    outputs, targets = validation(model, validation_dataloader)\n",
    "    \n",
    "    accuracy = accuracy_score(targets, outputs)\n",
    "    precision_score_micro = precision_score(targets, outputs, average='micro')\n",
    "    precision_score_macro = precision_score(targets, outputs, average='macro')\n",
    "    recall_score_micro = recall_score(targets, outputs, average='micro')\n",
    "    recall_score_macro = recall_score(targets, outputs, average='macro')\n",
    "    f1_score_micro = f1_score(targets, outputs, average='micro')\n",
    "    f1_score_macro = f1_score(targets, outputs, average='macro')\n",
    "\n",
    "    execution_time = time.time() - start_time\n",
    "\n",
    "    results.loc[i] = [accuracy,precision_score_micro,precision_score_macro,recall_score_micro,recall_score_macro,f1_score_micro,f1_score_macro, execution_time]\n",
    "\n",
    "    if accuracy > best_accuracy:\n",
    "        best_accuracy = accuracy\n",
    "        torch.save(model.bert, BERT_FINE_TUNED_OUTPUT)\n",
    "        torch.save(model, MODEL_OUTPUT)\n",
    "\n",
    "    del train_dataset\n",
    "    del test_dataset\n",
    "    del training_set\n",
    "    del testing_set\n",
    "    del model\n",
    "    del loss_fn\n",
    "    del optimizer\n",
    "    del outputs\n",
    "    del targets"
   ]
  },
  {
   "cell_type": "code",
   "execution_count": 19,
   "metadata": {},
   "outputs": [
    {
     "data": {
      "text/html": [
       "<div>\n",
       "<style scoped>\n",
       "    .dataframe tbody tr th:only-of-type {\n",
       "        vertical-align: middle;\n",
       "    }\n",
       "\n",
       "    .dataframe tbody tr th {\n",
       "        vertical-align: top;\n",
       "    }\n",
       "\n",
       "    .dataframe thead th {\n",
       "        text-align: right;\n",
       "    }\n",
       "</style>\n",
       "<table border=\"1\" class=\"dataframe\">\n",
       "  <thead>\n",
       "    <tr style=\"text-align: right;\">\n",
       "      <th></th>\n",
       "      <th>accuracy</th>\n",
       "      <th>precision_score_micro</th>\n",
       "      <th>precision_score_macro</th>\n",
       "      <th>recall_score_micro</th>\n",
       "      <th>recall_score_macro</th>\n",
       "      <th>f1_score_micro</th>\n",
       "      <th>f1_score_macro</th>\n",
       "      <th>execution_time</th>\n",
       "    </tr>\n",
       "  </thead>\n",
       "  <tbody>\n",
       "    <tr>\n",
       "      <th>0</th>\n",
       "      <td>0.977123</td>\n",
       "      <td>0.977123</td>\n",
       "      <td>0.645671</td>\n",
       "      <td>0.977123</td>\n",
       "      <td>0.649908</td>\n",
       "      <td>0.977123</td>\n",
       "      <td>0.646427</td>\n",
       "      <td>108.376989</td>\n",
       "    </tr>\n",
       "    <tr>\n",
       "      <th>1</th>\n",
       "      <td>0.975359</td>\n",
       "      <td>0.975359</td>\n",
       "      <td>0.608283</td>\n",
       "      <td>0.975359</td>\n",
       "      <td>0.642118</td>\n",
       "      <td>0.975359</td>\n",
       "      <td>0.624018</td>\n",
       "      <td>107.031998</td>\n",
       "    </tr>\n",
       "    <tr>\n",
       "      <th>2</th>\n",
       "      <td>0.973911</td>\n",
       "      <td>0.973911</td>\n",
       "      <td>0.624107</td>\n",
       "      <td>0.973911</td>\n",
       "      <td>0.616845</td>\n",
       "      <td>0.973911</td>\n",
       "      <td>0.615034</td>\n",
       "      <td>109.782082</td>\n",
       "    </tr>\n",
       "    <tr>\n",
       "      <th>3</th>\n",
       "      <td>0.973620</td>\n",
       "      <td>0.973620</td>\n",
       "      <td>0.611122</td>\n",
       "      <td>0.973620</td>\n",
       "      <td>0.667176</td>\n",
       "      <td>0.973620</td>\n",
       "      <td>0.634214</td>\n",
       "      <td>110.095000</td>\n",
       "    </tr>\n",
       "    <tr>\n",
       "      <th>4</th>\n",
       "      <td>0.974552</td>\n",
       "      <td>0.974552</td>\n",
       "      <td>0.642253</td>\n",
       "      <td>0.974552</td>\n",
       "      <td>0.665266</td>\n",
       "      <td>0.974552</td>\n",
       "      <td>0.653370</td>\n",
       "      <td>107.730155</td>\n",
       "    </tr>\n",
       "    <tr>\n",
       "      <th>5</th>\n",
       "      <td>0.969545</td>\n",
       "      <td>0.969545</td>\n",
       "      <td>0.605571</td>\n",
       "      <td>0.969545</td>\n",
       "      <td>0.650758</td>\n",
       "      <td>0.969545</td>\n",
       "      <td>0.614738</td>\n",
       "      <td>108.889863</td>\n",
       "    </tr>\n",
       "    <tr>\n",
       "      <th>6</th>\n",
       "      <td>0.975014</td>\n",
       "      <td>0.975014</td>\n",
       "      <td>0.639595</td>\n",
       "      <td>0.975014</td>\n",
       "      <td>0.642169</td>\n",
       "      <td>0.975014</td>\n",
       "      <td>0.640552</td>\n",
       "      <td>109.059339</td>\n",
       "    </tr>\n",
       "    <tr>\n",
       "      <th>7</th>\n",
       "      <td>0.974743</td>\n",
       "      <td>0.974743</td>\n",
       "      <td>0.639140</td>\n",
       "      <td>0.974743</td>\n",
       "      <td>0.650333</td>\n",
       "      <td>0.974743</td>\n",
       "      <td>0.644279</td>\n",
       "      <td>108.987041</td>\n",
       "    </tr>\n",
       "    <tr>\n",
       "      <th>8</th>\n",
       "      <td>0.974452</td>\n",
       "      <td>0.974452</td>\n",
       "      <td>0.632667</td>\n",
       "      <td>0.974452</td>\n",
       "      <td>0.659407</td>\n",
       "      <td>0.974452</td>\n",
       "      <td>0.644342</td>\n",
       "      <td>108.337000</td>\n",
       "    </tr>\n",
       "    <tr>\n",
       "      <th>9</th>\n",
       "      <td>0.976919</td>\n",
       "      <td>0.976919</td>\n",
       "      <td>0.637421</td>\n",
       "      <td>0.976919</td>\n",
       "      <td>0.652782</td>\n",
       "      <td>0.976919</td>\n",
       "      <td>0.643509</td>\n",
       "      <td>106.130000</td>\n",
       "    </tr>\n",
       "  </tbody>\n",
       "</table>\n",
       "</div>"
      ],
      "text/plain": [
       "   accuracy  precision_score_micro  precision_score_macro  recall_score_micro  \\\n",
       "0  0.977123               0.977123               0.645671            0.977123   \n",
       "1  0.975359               0.975359               0.608283            0.975359   \n",
       "2  0.973911               0.973911               0.624107            0.973911   \n",
       "3  0.973620               0.973620               0.611122            0.973620   \n",
       "4  0.974552               0.974552               0.642253            0.974552   \n",
       "5  0.969545               0.969545               0.605571            0.969545   \n",
       "6  0.975014               0.975014               0.639595            0.975014   \n",
       "7  0.974743               0.974743               0.639140            0.974743   \n",
       "8  0.974452               0.974452               0.632667            0.974452   \n",
       "9  0.976919               0.976919               0.637421            0.976919   \n",
       "\n",
       "   recall_score_macro  f1_score_micro  f1_score_macro  execution_time  \n",
       "0            0.649908        0.977123        0.646427      108.376989  \n",
       "1            0.642118        0.975359        0.624018      107.031998  \n",
       "2            0.616845        0.973911        0.615034      109.782082  \n",
       "3            0.667176        0.973620        0.634214      110.095000  \n",
       "4            0.665266        0.974552        0.653370      107.730155  \n",
       "5            0.650758        0.969545        0.614738      108.889863  \n",
       "6            0.642169        0.975014        0.640552      109.059339  \n",
       "7            0.650333        0.974743        0.644279      108.987041  \n",
       "8            0.659407        0.974452        0.644342      108.337000  \n",
       "9            0.652782        0.976919        0.643509      106.130000  "
      ]
     },
     "execution_count": 19,
     "metadata": {},
     "output_type": "execute_result"
    }
   ],
   "source": [
    "results"
   ]
  },
  {
   "cell_type": "code",
   "execution_count": 20,
   "metadata": {},
   "outputs": [],
   "source": [
    "results.to_csv(STATS_OUTPUT)"
   ]
  }
 ],
 "metadata": {
  "interpreter": {
   "hash": "60f74211c8095d4d69bea747ac312f2fd52777f7ee1c791c3155581964756685"
  },
  "kernelspec": {
   "display_name": "Python 3.9.7 ('ml')",
   "language": "python",
   "name": "python3"
  },
  "language_info": {
   "codemirror_mode": {
    "name": "ipython",
    "version": 3
   },
   "file_extension": ".py",
   "mimetype": "text/x-python",
   "name": "python",
   "nbconvert_exporter": "python",
   "pygments_lexer": "ipython3",
   "version": "3.9.7"
  },
  "orig_nbformat": 4
 },
 "nbformat": 4,
 "nbformat_minor": 2
}
