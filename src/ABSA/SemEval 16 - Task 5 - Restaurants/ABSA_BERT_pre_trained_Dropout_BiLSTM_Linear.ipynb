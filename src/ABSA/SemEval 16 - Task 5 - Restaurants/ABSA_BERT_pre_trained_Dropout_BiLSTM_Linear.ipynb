{
 "cells": [
  {
   "cell_type": "markdown",
   "metadata": {},
   "source": [
    "# Import dependencies"
   ]
  },
  {
   "cell_type": "code",
   "execution_count": 1,
   "metadata": {},
   "outputs": [],
   "source": [
    "import os\n",
    "import sys\n",
    "\n",
    "sys.path.insert(0, os.path.dirname(os.getcwd())) "
   ]
  },
  {
   "cell_type": "code",
   "execution_count": 2,
   "metadata": {},
   "outputs": [],
   "source": [
    "import time\n",
    "import gc\n",
    "import json\n",
    "\n",
    "import numpy as np\n",
    "import pandas as pd\n",
    "\n",
    "from transformers import BertTokenizer, BertModel\n",
    "from transformers import logging\n",
    "\n",
    "from sklearn.metrics import f1_score, accuracy_score, precision_score, recall_score\n",
    "\n",
    "from InputDataset import InputDataset\n",
    "\n",
    "import torch\n",
    "from torch.utils.data import DataLoader, RandomSampler, SequentialSampler\n",
    "from torch.nn.utils.rnn import pad_sequence\n",
    "\n",
    "from torch import cuda\n",
    "\n",
    "from absa_models.ABSA_BERT_Dropout_BiLSTM_Linear import ABSA_BERT_Dropout_BiLSTM_Linear"
   ]
  },
  {
   "cell_type": "code",
   "execution_count": 3,
   "metadata": {},
   "outputs": [],
   "source": [
    "device = 'cuda' if cuda.is_available() else 'cpu'\n",
    "logging.set_verbosity_error() "
   ]
  },
  {
   "cell_type": "code",
   "execution_count": 4,
   "metadata": {},
   "outputs": [
    {
     "name": "stdout",
     "output_type": "stream",
     "text": [
      "NVIDIA GeForce RTX 2060 SUPER\n",
      "Memory: 8 GB\n"
     ]
    }
   ],
   "source": [
    "print(torch.cuda.get_device_name(0))\n",
    "print(f\"Memory: {torch.cuda.get_device_properties(0).total_memory // 1024 ** 3} GB\")"
   ]
  },
  {
   "cell_type": "code",
   "execution_count": 5,
   "metadata": {},
   "outputs": [],
   "source": [
    "def clear_memory():\n",
    "    torch.cuda.empty_cache()\n",
    "\n",
    "    with torch.no_grad():\n",
    "        torch.cuda.empty_cache()\n",
    "\n",
    "    gc.collect()"
   ]
  },
  {
   "cell_type": "markdown",
   "metadata": {},
   "source": [
    "# Load Data"
   ]
  },
  {
   "cell_type": "code",
   "execution_count": 6,
   "metadata": {},
   "outputs": [],
   "source": [
    "DATASET = 'ABSA_SemEval16_Restaurants_train.json'"
   ]
  },
  {
   "cell_type": "code",
   "execution_count": 7,
   "metadata": {},
   "outputs": [],
   "source": [
    "df = pd.json_normalize(json.load(open(DATASET)))"
   ]
  },
  {
   "cell_type": "code",
   "execution_count": 8,
   "metadata": {},
   "outputs": [
    {
     "data": {
      "text/html": [
       "<div>\n",
       "<style scoped>\n",
       "    .dataframe tbody tr th:only-of-type {\n",
       "        vertical-align: middle;\n",
       "    }\n",
       "\n",
       "    .dataframe tbody tr th {\n",
       "        vertical-align: top;\n",
       "    }\n",
       "\n",
       "    .dataframe thead th {\n",
       "        text-align: right;\n",
       "    }\n",
       "</style>\n",
       "<table border=\"1\" class=\"dataframe\">\n",
       "  <thead>\n",
       "    <tr style=\"text-align: right;\">\n",
       "      <th></th>\n",
       "      <th>text</th>\n",
       "      <th>tokens</th>\n",
       "      <th>absa_tags</th>\n",
       "    </tr>\n",
       "  </thead>\n",
       "  <tbody>\n",
       "    <tr>\n",
       "      <th>0</th>\n",
       "      <td>Judging from previous posts this used to be a ...</td>\n",
       "      <td>[Judging, from, previous, posts, this, used, t...</td>\n",
       "      <td>[0, 0, 0, 0, 0, 0, 0, 0, 0, 0, 1, 0, 0, 0, 0, ...</td>\n",
       "    </tr>\n",
       "    <tr>\n",
       "      <th>1</th>\n",
       "      <td>We, there were four of us, arrived at noon - t...</td>\n",
       "      <td>[We, ,, there, were, four, of, us, ,, arrived,...</td>\n",
       "      <td>[0, 0, 0, 0, 0, 0, 0, 0, 0, 0, 0, 0, 0, 0, 0, ...</td>\n",
       "    </tr>\n",
       "    <tr>\n",
       "      <th>2</th>\n",
       "      <td>They never brought us complimentary noodles, i...</td>\n",
       "      <td>[They, never, brought, us, complimentary, nood...</td>\n",
       "      <td>[0, 0, 0, 0, 0, 0, 0, 0, 0, 0, 0, 0, 0, 0, 0, ...</td>\n",
       "    </tr>\n",
       "    <tr>\n",
       "      <th>3</th>\n",
       "      <td>The food was lousy - too sweet or too salty an...</td>\n",
       "      <td>[The, food, was, lousy, -, too, sweet, or, too...</td>\n",
       "      <td>[0, 1, 0, 0, 0, 0, 0, 0, 0, 0, 0, 0, 1, 0, 0]</td>\n",
       "    </tr>\n",
       "    <tr>\n",
       "      <th>4</th>\n",
       "      <td>The food was lousy - too sweet or too salty an...</td>\n",
       "      <td>[The, food, was, lousy, -, too, sweet, or, too...</td>\n",
       "      <td>[0, 1, 0, 0, 0, 0, 0, 0, 0, 0, 0, 0, 1, 0, 0]</td>\n",
       "    </tr>\n",
       "  </tbody>\n",
       "</table>\n",
       "</div>"
      ],
      "text/plain": [
       "                                                text  \\\n",
       "0  Judging from previous posts this used to be a ...   \n",
       "1  We, there were four of us, arrived at noon - t...   \n",
       "2  They never brought us complimentary noodles, i...   \n",
       "3  The food was lousy - too sweet or too salty an...   \n",
       "4  The food was lousy - too sweet or too salty an...   \n",
       "\n",
       "                                              tokens  \\\n",
       "0  [Judging, from, previous, posts, this, used, t...   \n",
       "1  [We, ,, there, were, four, of, us, ,, arrived,...   \n",
       "2  [They, never, brought, us, complimentary, nood...   \n",
       "3  [The, food, was, lousy, -, too, sweet, or, too...   \n",
       "4  [The, food, was, lousy, -, too, sweet, or, too...   \n",
       "\n",
       "                                           absa_tags  \n",
       "0  [0, 0, 0, 0, 0, 0, 0, 0, 0, 0, 1, 0, 0, 0, 0, ...  \n",
       "1  [0, 0, 0, 0, 0, 0, 0, 0, 0, 0, 0, 0, 0, 0, 0, ...  \n",
       "2  [0, 0, 0, 0, 0, 0, 0, 0, 0, 0, 0, 0, 0, 0, 0, ...  \n",
       "3      [0, 1, 0, 0, 0, 0, 0, 0, 0, 0, 0, 0, 1, 0, 0]  \n",
       "4      [0, 1, 0, 0, 0, 0, 0, 0, 0, 0, 0, 0, 1, 0, 0]  "
      ]
     },
     "execution_count": 8,
     "metadata": {},
     "output_type": "execute_result"
    }
   ],
   "source": [
    "df.head()"
   ]
  },
  {
   "cell_type": "markdown",
   "metadata": {},
   "source": [
    "# Train & Validate"
   ]
  },
  {
   "cell_type": "code",
   "execution_count": 9,
   "metadata": {},
   "outputs": [],
   "source": [
    "TRAIN_BATCH_SIZE = 4\n",
    "VALID_BATCH_SIZE = 4\n",
    "\n",
    "EPOCHS = 2\n",
    "\n",
    "LEARNING_RATE = 1e-5\n",
    "\n",
    "TRAIN_SPLIT = 0.8\n",
    "\n",
    "NO_RUNS = 10"
   ]
  },
  {
   "cell_type": "code",
   "execution_count": 10,
   "metadata": {},
   "outputs": [],
   "source": [
    "MODEL_OUTPUT = '../../../results/ABSA/SemEval16 - Task 5 - Restaurants/models/bert_pre_trained_dropout_bilstm_linear.pth'\n",
    "STATS_OUTPUT = '../../../results/ABSA/SemEval16 - Task 5 - Restaurants/stats/bert_pre_trained_dropout_bilstm_linear.csv'"
   ]
  },
  {
   "cell_type": "code",
   "execution_count": 11,
   "metadata": {},
   "outputs": [],
   "source": [
    "tokenizer = BertTokenizer.from_pretrained('bert-base-uncased')"
   ]
  },
  {
   "cell_type": "code",
   "execution_count": 12,
   "metadata": {},
   "outputs": [],
   "source": [
    "best_accuracy = 0.0"
   ]
  },
  {
   "cell_type": "code",
   "execution_count": 13,
   "metadata": {},
   "outputs": [],
   "source": [
    "def create_mini_batch(samples):\n",
    "    ids_tensors = [s[1] for s in samples]\n",
    "    ids_tensors = pad_sequence(ids_tensors, batch_first=True).to(device)\n",
    "\n",
    "    tags_tensors = [s[2] for s in samples]\n",
    "    tags_tensors = pad_sequence(tags_tensors, batch_first=True).to(device)\n",
    "    \n",
    "    masks_tensors = torch.zeros(ids_tensors.shape, dtype=torch.long).to(device)\n",
    "    masks_tensors = masks_tensors.masked_fill(ids_tensors != 0, 1).to(device)\n",
    "    \n",
    "    return ids_tensors, tags_tensors, masks_tensors"
   ]
  },
  {
   "cell_type": "code",
   "execution_count": 14,
   "metadata": {},
   "outputs": [],
   "source": [
    "def train(epoch, model, loss_fn, optimizer, dataloader):\n",
    "    model.train()\n",
    "\n",
    "    dataloader_len = len(dataloader)\n",
    "\n",
    "    for _,data in enumerate(dataloader, 0):\n",
    "        optimizer.zero_grad()\n",
    "\n",
    "        ids_tensors, tags_tensors, masks_tensors = data\n",
    "\n",
    "        outputs = model(ids_tensors, masks_tensors)\n",
    "\n",
    "        loss = loss_fn(outputs.view(-1, 4), tags_tensors.view(-1))\n",
    "        \n",
    "        if _ % (dataloader_len // 10) == 0:\n",
    "            print(f\"Epoch: {epoch}/{EPOCHS}, Batch: {_}/{dataloader_len}, Loss: {loss.item()}\")\n",
    "        \n",
    "        loss.backward()\n",
    "        \n",
    "        optimizer.step()"
   ]
  },
  {
   "cell_type": "code",
   "execution_count": 15,
   "metadata": {},
   "outputs": [],
   "source": [
    "def validation(model, dataloader):\n",
    "    model.eval()\n",
    "    \n",
    "    fin_targets=[]\n",
    "    fin_outputs=[]\n",
    "\n",
    "    with torch.no_grad():\n",
    "        for _, data in enumerate(dataloader, 0):\n",
    "            ids_tensors, tags_tensors, masks_tensors = data\n",
    "            ids_tensors = ids_tensors.to(device)\n",
    "            tags_tensors = tags_tensors.to(device)\n",
    "            masks_tensors = masks_tensors.to(device)\n",
    "\n",
    "            outputs = model(ids_tensors, masks_tensors)\n",
    "            \n",
    "            _, predictions = torch.max(outputs, dim=2)\n",
    "\n",
    "            fin_outputs += list([int(p) for pred in predictions for p in pred])\n",
    "            fin_targets += list([int(tag) for tags_tensor in tags_tensors for tag in tags_tensor])\n",
    "\n",
    "    return fin_outputs, fin_targets"
   ]
  },
  {
   "cell_type": "code",
   "execution_count": 16,
   "metadata": {},
   "outputs": [],
   "source": [
    "results = pd.DataFrame(columns=['accuracy','precision_score_micro','precision_score_macro','recall_score_micro','recall_score_macro','f1_score_micro','f1_score_macro', 'execution_time'])"
   ]
  },
  {
   "cell_type": "code",
   "execution_count": 17,
   "metadata": {},
   "outputs": [
    {
     "name": "stdout",
     "output_type": "stream",
     "text": [
      "Run 1/10\n",
      "Epoch: 0/2, Batch: 0/501, Loss: 1.3372317552566528\n",
      "Epoch: 0/2, Batch: 50/501, Loss: 0.26957133412361145\n",
      "Epoch: 0/2, Batch: 100/501, Loss: 0.18267442286014557\n",
      "Epoch: 0/2, Batch: 150/501, Loss: 0.5470376014709473\n",
      "Epoch: 0/2, Batch: 200/501, Loss: 0.22714264690876007\n",
      "Epoch: 0/2, Batch: 250/501, Loss: 0.18650703132152557\n",
      "Epoch: 0/2, Batch: 300/501, Loss: 0.2192768007516861\n",
      "Epoch: 0/2, Batch: 350/501, Loss: 0.16719886660575867\n",
      "Epoch: 0/2, Batch: 400/501, Loss: 0.09343289583921432\n",
      "Epoch: 0/2, Batch: 450/501, Loss: 0.05971622094511986\n",
      "Epoch: 0/2, Batch: 500/501, Loss: 0.05397642403841019\n",
      "Epoch: 1/2, Batch: 0/501, Loss: 0.22075191140174866\n",
      "Epoch: 1/2, Batch: 50/501, Loss: 0.08641530573368073\n",
      "Epoch: 1/2, Batch: 100/501, Loss: 0.0952942967414856\n",
      "Epoch: 1/2, Batch: 150/501, Loss: 0.11962279677391052\n",
      "Epoch: 1/2, Batch: 200/501, Loss: 0.08681264519691467\n",
      "Epoch: 1/2, Batch: 250/501, Loss: 0.3792873024940491\n",
      "Epoch: 1/2, Batch: 300/501, Loss: 0.07292864471673965\n",
      "Epoch: 1/2, Batch: 350/501, Loss: 0.05630873888731003\n",
      "Epoch: 1/2, Batch: 400/501, Loss: 0.07698322832584381\n",
      "Epoch: 1/2, Batch: 450/501, Loss: 0.10135471075773239\n",
      "Epoch: 1/2, Batch: 500/501, Loss: 0.06163005903363228\n"
     ]
    },
    {
     "name": "stderr",
     "output_type": "stream",
     "text": [
      "D:\\Apps\\Anaconda\\envs\\ml\\lib\\site-packages\\sklearn\\metrics\\_classification.py:1308: UndefinedMetricWarning: Precision is ill-defined and being set to 0.0 in labels with no predicted samples. Use `zero_division` parameter to control this behavior.\n",
      "  _warn_prf(average, modifier, msg_start, len(result))\n"
     ]
    },
    {
     "name": "stdout",
     "output_type": "stream",
     "text": [
      "Run 2/10\n",
      "Epoch: 0/2, Batch: 0/501, Loss: 1.4734156131744385\n",
      "Epoch: 0/2, Batch: 50/501, Loss: 0.31056833267211914\n",
      "Epoch: 0/2, Batch: 100/501, Loss: 0.29673612117767334\n",
      "Epoch: 0/2, Batch: 150/501, Loss: 0.6667531728744507\n",
      "Epoch: 0/2, Batch: 200/501, Loss: 0.3433379530906677\n",
      "Epoch: 0/2, Batch: 250/501, Loss: 0.4033827781677246\n",
      "Epoch: 0/2, Batch: 300/501, Loss: 0.31040453910827637\n",
      "Epoch: 0/2, Batch: 350/501, Loss: 0.1484968662261963\n",
      "Epoch: 0/2, Batch: 400/501, Loss: 0.23793640732765198\n",
      "Epoch: 0/2, Batch: 450/501, Loss: 0.14800694584846497\n",
      "Epoch: 0/2, Batch: 500/501, Loss: 0.2618422210216522\n",
      "Epoch: 1/2, Batch: 0/501, Loss: 0.10553143918514252\n",
      "Epoch: 1/2, Batch: 50/501, Loss: 0.2981967329978943\n",
      "Epoch: 1/2, Batch: 100/501, Loss: 0.22884051501750946\n",
      "Epoch: 1/2, Batch: 150/501, Loss: 0.15063782036304474\n",
      "Epoch: 1/2, Batch: 200/501, Loss: 0.1385904848575592\n",
      "Epoch: 1/2, Batch: 250/501, Loss: 0.12228793650865555\n",
      "Epoch: 1/2, Batch: 300/501, Loss: 0.19119806587696075\n",
      "Epoch: 1/2, Batch: 350/501, Loss: 0.15650177001953125\n",
      "Epoch: 1/2, Batch: 400/501, Loss: 0.08157975971698761\n",
      "Epoch: 1/2, Batch: 450/501, Loss: 0.14178210496902466\n",
      "Epoch: 1/2, Batch: 500/501, Loss: 0.09442950040102005\n"
     ]
    },
    {
     "name": "stderr",
     "output_type": "stream",
     "text": [
      "D:\\Apps\\Anaconda\\envs\\ml\\lib\\site-packages\\sklearn\\metrics\\_classification.py:1308: UndefinedMetricWarning: Precision is ill-defined and being set to 0.0 in labels with no predicted samples. Use `zero_division` parameter to control this behavior.\n",
      "  _warn_prf(average, modifier, msg_start, len(result))\n"
     ]
    },
    {
     "name": "stdout",
     "output_type": "stream",
     "text": [
      "Run 3/10\n",
      "Epoch: 0/2, Batch: 0/501, Loss: 1.5055649280548096\n",
      "Epoch: 0/2, Batch: 50/501, Loss: 0.3573801517486572\n",
      "Epoch: 0/2, Batch: 100/501, Loss: 0.2724635601043701\n",
      "Epoch: 0/2, Batch: 150/501, Loss: 0.3449219763278961\n",
      "Epoch: 0/2, Batch: 200/501, Loss: 0.25143200159072876\n",
      "Epoch: 0/2, Batch: 250/501, Loss: 0.3694571554660797\n",
      "Epoch: 0/2, Batch: 300/501, Loss: 0.14510761201381683\n",
      "Epoch: 0/2, Batch: 350/501, Loss: 0.16649052500724792\n",
      "Epoch: 0/2, Batch: 400/501, Loss: 0.13574853539466858\n",
      "Epoch: 0/2, Batch: 450/501, Loss: 0.11637713760137558\n",
      "Epoch: 0/2, Batch: 500/501, Loss: 0.15276692807674408\n",
      "Epoch: 1/2, Batch: 0/501, Loss: 0.33111268281936646\n",
      "Epoch: 1/2, Batch: 50/501, Loss: 0.07547174394130707\n",
      "Epoch: 1/2, Batch: 100/501, Loss: 0.15486830472946167\n",
      "Epoch: 1/2, Batch: 150/501, Loss: 0.11387661099433899\n",
      "Epoch: 1/2, Batch: 200/501, Loss: 0.1502121090888977\n",
      "Epoch: 1/2, Batch: 250/501, Loss: 0.10882952064275742\n",
      "Epoch: 1/2, Batch: 300/501, Loss: 0.23007673025131226\n",
      "Epoch: 1/2, Batch: 350/501, Loss: 0.0861343964934349\n",
      "Epoch: 1/2, Batch: 400/501, Loss: 0.12276539206504822\n",
      "Epoch: 1/2, Batch: 450/501, Loss: 0.09868766367435455\n",
      "Epoch: 1/2, Batch: 500/501, Loss: 0.10608651489019394\n"
     ]
    },
    {
     "name": "stderr",
     "output_type": "stream",
     "text": [
      "D:\\Apps\\Anaconda\\envs\\ml\\lib\\site-packages\\sklearn\\metrics\\_classification.py:1308: UndefinedMetricWarning: Precision is ill-defined and being set to 0.0 in labels with no predicted samples. Use `zero_division` parameter to control this behavior.\n",
      "  _warn_prf(average, modifier, msg_start, len(result))\n"
     ]
    },
    {
     "name": "stdout",
     "output_type": "stream",
     "text": [
      "Run 4/10\n",
      "Epoch: 0/2, Batch: 0/501, Loss: 1.3243271112442017\n",
      "Epoch: 0/2, Batch: 50/501, Loss: 0.3837937116622925\n",
      "Epoch: 0/2, Batch: 100/501, Loss: 0.4946613907814026\n",
      "Epoch: 0/2, Batch: 150/501, Loss: 0.25077465176582336\n",
      "Epoch: 0/2, Batch: 200/501, Loss: 0.27100756764411926\n",
      "Epoch: 0/2, Batch: 250/501, Loss: 0.22920796275138855\n",
      "Epoch: 0/2, Batch: 300/501, Loss: 0.35936474800109863\n",
      "Epoch: 0/2, Batch: 350/501, Loss: 0.17409077286720276\n",
      "Epoch: 0/2, Batch: 400/501, Loss: 0.15364164113998413\n",
      "Epoch: 0/2, Batch: 450/501, Loss: 0.11549869179725647\n",
      "Epoch: 0/2, Batch: 500/501, Loss: 0.1338236927986145\n",
      "Epoch: 1/2, Batch: 0/501, Loss: 0.1206924170255661\n",
      "Epoch: 1/2, Batch: 50/501, Loss: 0.21621465682983398\n",
      "Epoch: 1/2, Batch: 100/501, Loss: 0.04294122755527496\n",
      "Epoch: 1/2, Batch: 150/501, Loss: 0.1029665544629097\n",
      "Epoch: 1/2, Batch: 200/501, Loss: 0.13119420409202576\n",
      "Epoch: 1/2, Batch: 250/501, Loss: 0.12965109944343567\n",
      "Epoch: 1/2, Batch: 300/501, Loss: 0.0829215720295906\n",
      "Epoch: 1/2, Batch: 350/501, Loss: 0.09586433321237564\n",
      "Epoch: 1/2, Batch: 400/501, Loss: 0.07682742923498154\n",
      "Epoch: 1/2, Batch: 450/501, Loss: 0.08646199852228165\n",
      "Epoch: 1/2, Batch: 500/501, Loss: 0.18350782990455627\n"
     ]
    },
    {
     "name": "stderr",
     "output_type": "stream",
     "text": [
      "D:\\Apps\\Anaconda\\envs\\ml\\lib\\site-packages\\sklearn\\metrics\\_classification.py:1308: UndefinedMetricWarning: Precision is ill-defined and being set to 0.0 in labels with no predicted samples. Use `zero_division` parameter to control this behavior.\n",
      "  _warn_prf(average, modifier, msg_start, len(result))\n"
     ]
    },
    {
     "name": "stdout",
     "output_type": "stream",
     "text": [
      "Run 5/10\n",
      "Epoch: 0/2, Batch: 0/501, Loss: 1.2764060497283936\n",
      "Epoch: 0/2, Batch: 50/501, Loss: 0.7209184169769287\n",
      "Epoch: 0/2, Batch: 100/501, Loss: 0.36739465594291687\n",
      "Epoch: 0/2, Batch: 150/501, Loss: 0.38248735666275024\n",
      "Epoch: 0/2, Batch: 200/501, Loss: 0.19883334636688232\n",
      "Epoch: 0/2, Batch: 250/501, Loss: 0.20351478457450867\n",
      "Epoch: 0/2, Batch: 300/501, Loss: 0.13055092096328735\n",
      "Epoch: 0/2, Batch: 350/501, Loss: 0.10080907493829727\n",
      "Epoch: 0/2, Batch: 400/501, Loss: 0.14913742244243622\n",
      "Epoch: 0/2, Batch: 450/501, Loss: 0.20382894575595856\n",
      "Epoch: 0/2, Batch: 500/501, Loss: 0.3269672393798828\n",
      "Epoch: 1/2, Batch: 0/501, Loss: 0.295542448759079\n",
      "Epoch: 1/2, Batch: 50/501, Loss: 0.09146575629711151\n",
      "Epoch: 1/2, Batch: 100/501, Loss: 0.1619015336036682\n",
      "Epoch: 1/2, Batch: 150/501, Loss: 0.05600066855549812\n",
      "Epoch: 1/2, Batch: 200/501, Loss: 0.08621595054864883\n",
      "Epoch: 1/2, Batch: 250/501, Loss: 0.14950478076934814\n",
      "Epoch: 1/2, Batch: 300/501, Loss: 0.1776418536901474\n",
      "Epoch: 1/2, Batch: 350/501, Loss: 0.0578087717294693\n",
      "Epoch: 1/2, Batch: 400/501, Loss: 0.05147211626172066\n",
      "Epoch: 1/2, Batch: 450/501, Loss: 0.0960063487291336\n",
      "Epoch: 1/2, Batch: 500/501, Loss: 0.12349779158830643\n"
     ]
    },
    {
     "name": "stderr",
     "output_type": "stream",
     "text": [
      "D:\\Apps\\Anaconda\\envs\\ml\\lib\\site-packages\\sklearn\\metrics\\_classification.py:1308: UndefinedMetricWarning: Precision is ill-defined and being set to 0.0 in labels with no predicted samples. Use `zero_division` parameter to control this behavior.\n",
      "  _warn_prf(average, modifier, msg_start, len(result))\n"
     ]
    },
    {
     "name": "stdout",
     "output_type": "stream",
     "text": [
      "Run 6/10\n",
      "Epoch: 0/2, Batch: 0/501, Loss: 1.3815734386444092\n",
      "Epoch: 0/2, Batch: 50/501, Loss: 0.24794384837150574\n",
      "Epoch: 0/2, Batch: 100/501, Loss: 0.5780226588249207\n",
      "Epoch: 0/2, Batch: 150/501, Loss: 0.2936543822288513\n",
      "Epoch: 0/2, Batch: 200/501, Loss: 0.21889759600162506\n",
      "Epoch: 0/2, Batch: 250/501, Loss: 0.23975956439971924\n",
      "Epoch: 0/2, Batch: 300/501, Loss: 0.223497211933136\n",
      "Epoch: 0/2, Batch: 350/501, Loss: 0.1888204962015152\n",
      "Epoch: 0/2, Batch: 400/501, Loss: 0.15995334088802338\n",
      "Epoch: 0/2, Batch: 450/501, Loss: 0.03576294332742691\n",
      "Epoch: 0/2, Batch: 500/501, Loss: 0.1768287718296051\n",
      "Epoch: 1/2, Batch: 0/501, Loss: 0.28987035155296326\n",
      "Epoch: 1/2, Batch: 50/501, Loss: 0.1357325315475464\n",
      "Epoch: 1/2, Batch: 100/501, Loss: 0.16757024824619293\n",
      "Epoch: 1/2, Batch: 150/501, Loss: 0.04457523301243782\n",
      "Epoch: 1/2, Batch: 200/501, Loss: 0.25879761576652527\n",
      "Epoch: 1/2, Batch: 250/501, Loss: 0.11780251562595367\n",
      "Epoch: 1/2, Batch: 300/501, Loss: 0.13109520077705383\n",
      "Epoch: 1/2, Batch: 350/501, Loss: 0.06229734048247337\n",
      "Epoch: 1/2, Batch: 400/501, Loss: 0.23743291199207306\n",
      "Epoch: 1/2, Batch: 450/501, Loss: 0.16726477444171906\n",
      "Epoch: 1/2, Batch: 500/501, Loss: 0.1382189691066742\n"
     ]
    },
    {
     "name": "stderr",
     "output_type": "stream",
     "text": [
      "D:\\Apps\\Anaconda\\envs\\ml\\lib\\site-packages\\sklearn\\metrics\\_classification.py:1308: UndefinedMetricWarning: Precision is ill-defined and being set to 0.0 in labels with no predicted samples. Use `zero_division` parameter to control this behavior.\n",
      "  _warn_prf(average, modifier, msg_start, len(result))\n"
     ]
    },
    {
     "name": "stdout",
     "output_type": "stream",
     "text": [
      "Run 7/10\n",
      "Epoch: 0/2, Batch: 0/501, Loss: 1.3527722358703613\n",
      "Epoch: 0/2, Batch: 50/501, Loss: 0.33541980385780334\n",
      "Epoch: 0/2, Batch: 100/501, Loss: 0.4073351323604584\n",
      "Epoch: 0/2, Batch: 150/501, Loss: 0.16363930702209473\n",
      "Epoch: 0/2, Batch: 200/501, Loss: 0.31986451148986816\n",
      "Epoch: 0/2, Batch: 250/501, Loss: 0.478752076625824\n",
      "Epoch: 0/2, Batch: 300/501, Loss: 0.20075854659080505\n",
      "Epoch: 0/2, Batch: 350/501, Loss: 0.18070539832115173\n",
      "Epoch: 0/2, Batch: 400/501, Loss: 0.148182213306427\n",
      "Epoch: 0/2, Batch: 450/501, Loss: 0.08441294729709625\n",
      "Epoch: 0/2, Batch: 500/501, Loss: 0.09012862294912338\n",
      "Epoch: 1/2, Batch: 0/501, Loss: 0.08977865427732468\n",
      "Epoch: 1/2, Batch: 50/501, Loss: 0.23136943578720093\n",
      "Epoch: 1/2, Batch: 100/501, Loss: 0.08375988900661469\n",
      "Epoch: 1/2, Batch: 150/501, Loss: 0.16893774271011353\n",
      "Epoch: 1/2, Batch: 200/501, Loss: 0.20095117390155792\n",
      "Epoch: 1/2, Batch: 250/501, Loss: 0.1269429624080658\n",
      "Epoch: 1/2, Batch: 300/501, Loss: 0.09208545088768005\n",
      "Epoch: 1/2, Batch: 350/501, Loss: 0.08412248641252518\n",
      "Epoch: 1/2, Batch: 400/501, Loss: 0.06497805565595627\n",
      "Epoch: 1/2, Batch: 450/501, Loss: 0.09605101495981216\n",
      "Epoch: 1/2, Batch: 500/501, Loss: 0.028872616589069366\n"
     ]
    },
    {
     "name": "stderr",
     "output_type": "stream",
     "text": [
      "D:\\Apps\\Anaconda\\envs\\ml\\lib\\site-packages\\sklearn\\metrics\\_classification.py:1308: UndefinedMetricWarning: Precision is ill-defined and being set to 0.0 in labels with no predicted samples. Use `zero_division` parameter to control this behavior.\n",
      "  _warn_prf(average, modifier, msg_start, len(result))\n"
     ]
    },
    {
     "name": "stdout",
     "output_type": "stream",
     "text": [
      "Run 8/10\n",
      "Epoch: 0/2, Batch: 0/501, Loss: 1.3720585107803345\n",
      "Epoch: 0/2, Batch: 50/501, Loss: 0.7799583673477173\n",
      "Epoch: 0/2, Batch: 100/501, Loss: 0.2889355421066284\n",
      "Epoch: 0/2, Batch: 150/501, Loss: 0.3383268713951111\n",
      "Epoch: 0/2, Batch: 200/501, Loss: 0.4101695716381073\n",
      "Epoch: 0/2, Batch: 250/501, Loss: 0.16904692351818085\n",
      "Epoch: 0/2, Batch: 300/501, Loss: 0.13360919058322906\n",
      "Epoch: 0/2, Batch: 350/501, Loss: 0.15092360973358154\n",
      "Epoch: 0/2, Batch: 400/501, Loss: 0.27866610884666443\n",
      "Epoch: 0/2, Batch: 450/501, Loss: 0.22742612659931183\n",
      "Epoch: 0/2, Batch: 500/501, Loss: 0.13091197609901428\n",
      "Epoch: 1/2, Batch: 0/501, Loss: 0.045281846076250076\n",
      "Epoch: 1/2, Batch: 50/501, Loss: 0.1491203010082245\n",
      "Epoch: 1/2, Batch: 100/501, Loss: 0.196173757314682\n",
      "Epoch: 1/2, Batch: 150/501, Loss: 0.16922904551029205\n",
      "Epoch: 1/2, Batch: 200/501, Loss: 0.1682540625333786\n",
      "Epoch: 1/2, Batch: 250/501, Loss: 0.06089256331324577\n",
      "Epoch: 1/2, Batch: 300/501, Loss: 0.11267917603254318\n",
      "Epoch: 1/2, Batch: 350/501, Loss: 0.11391131579875946\n",
      "Epoch: 1/2, Batch: 400/501, Loss: 0.07075278460979462\n",
      "Epoch: 1/2, Batch: 450/501, Loss: 0.07945679128170013\n",
      "Epoch: 1/2, Batch: 500/501, Loss: 0.06092727556824684\n"
     ]
    },
    {
     "name": "stderr",
     "output_type": "stream",
     "text": [
      "D:\\Apps\\Anaconda\\envs\\ml\\lib\\site-packages\\sklearn\\metrics\\_classification.py:1308: UndefinedMetricWarning: Precision is ill-defined and being set to 0.0 in labels with no predicted samples. Use `zero_division` parameter to control this behavior.\n",
      "  _warn_prf(average, modifier, msg_start, len(result))\n"
     ]
    },
    {
     "name": "stdout",
     "output_type": "stream",
     "text": [
      "Run 9/10\n",
      "Epoch: 0/2, Batch: 0/501, Loss: 1.4027537107467651\n",
      "Epoch: 0/2, Batch: 50/501, Loss: 0.2765120565891266\n",
      "Epoch: 0/2, Batch: 100/501, Loss: 0.3133908212184906\n",
      "Epoch: 0/2, Batch: 150/501, Loss: 0.4022553563117981\n",
      "Epoch: 0/2, Batch: 200/501, Loss: 0.25325843691825867\n",
      "Epoch: 0/2, Batch: 250/501, Loss: 0.32814452052116394\n",
      "Epoch: 0/2, Batch: 300/501, Loss: 0.24985751509666443\n",
      "Epoch: 0/2, Batch: 350/501, Loss: 0.18277513980865479\n",
      "Epoch: 0/2, Batch: 400/501, Loss: 0.13613088428974152\n",
      "Epoch: 0/2, Batch: 450/501, Loss: 0.20344184339046478\n",
      "Epoch: 0/2, Batch: 500/501, Loss: 0.1271086186170578\n",
      "Epoch: 1/2, Batch: 0/501, Loss: 0.0940302312374115\n",
      "Epoch: 1/2, Batch: 50/501, Loss: 0.1050601676106453\n",
      "Epoch: 1/2, Batch: 100/501, Loss: 0.1495361179113388\n",
      "Epoch: 1/2, Batch: 150/501, Loss: 0.04615339636802673\n",
      "Epoch: 1/2, Batch: 200/501, Loss: 0.14855574071407318\n",
      "Epoch: 1/2, Batch: 250/501, Loss: 0.20184896886348724\n",
      "Epoch: 1/2, Batch: 300/501, Loss: 0.15082241594791412\n",
      "Epoch: 1/2, Batch: 350/501, Loss: 0.04183545708656311\n",
      "Epoch: 1/2, Batch: 400/501, Loss: 0.06380196660757065\n",
      "Epoch: 1/2, Batch: 450/501, Loss: 0.09604573994874954\n",
      "Epoch: 1/2, Batch: 500/501, Loss: 0.18045176565647125\n"
     ]
    },
    {
     "name": "stderr",
     "output_type": "stream",
     "text": [
      "D:\\Apps\\Anaconda\\envs\\ml\\lib\\site-packages\\sklearn\\metrics\\_classification.py:1308: UndefinedMetricWarning: Precision is ill-defined and being set to 0.0 in labels with no predicted samples. Use `zero_division` parameter to control this behavior.\n",
      "  _warn_prf(average, modifier, msg_start, len(result))\n"
     ]
    },
    {
     "name": "stdout",
     "output_type": "stream",
     "text": [
      "Run 10/10\n",
      "Epoch: 0/2, Batch: 0/501, Loss: 1.3867647647857666\n",
      "Epoch: 0/2, Batch: 50/501, Loss: 0.6434510350227356\n",
      "Epoch: 0/2, Batch: 100/501, Loss: 0.37690138816833496\n",
      "Epoch: 0/2, Batch: 150/501, Loss: 0.19747866690158844\n",
      "Epoch: 0/2, Batch: 200/501, Loss: 0.19600293040275574\n",
      "Epoch: 0/2, Batch: 250/501, Loss: 0.17990685999393463\n",
      "Epoch: 0/2, Batch: 300/501, Loss: 0.1686510294675827\n",
      "Epoch: 0/2, Batch: 350/501, Loss: 0.19198372960090637\n",
      "Epoch: 0/2, Batch: 400/501, Loss: 0.13128529489040375\n",
      "Epoch: 0/2, Batch: 450/501, Loss: 0.1493339091539383\n",
      "Epoch: 0/2, Batch: 500/501, Loss: 0.34613683819770813\n",
      "Epoch: 1/2, Batch: 0/501, Loss: 0.09689463675022125\n",
      "Epoch: 1/2, Batch: 50/501, Loss: 0.13778163492679596\n",
      "Epoch: 1/2, Batch: 100/501, Loss: 0.055622611194849014\n",
      "Epoch: 1/2, Batch: 150/501, Loss: 0.17002885043621063\n",
      "Epoch: 1/2, Batch: 200/501, Loss: 0.20751795172691345\n",
      "Epoch: 1/2, Batch: 250/501, Loss: 0.1467234194278717\n",
      "Epoch: 1/2, Batch: 300/501, Loss: 0.11128871887922287\n",
      "Epoch: 1/2, Batch: 350/501, Loss: 0.14978526532649994\n",
      "Epoch: 1/2, Batch: 400/501, Loss: 0.12857170403003693\n",
      "Epoch: 1/2, Batch: 450/501, Loss: 0.06658600270748138\n",
      "Epoch: 1/2, Batch: 500/501, Loss: 0.06673812866210938\n"
     ]
    },
    {
     "name": "stderr",
     "output_type": "stream",
     "text": [
      "D:\\Apps\\Anaconda\\envs\\ml\\lib\\site-packages\\sklearn\\metrics\\_classification.py:1308: UndefinedMetricWarning: Precision is ill-defined and being set to 0.0 in labels with no predicted samples. Use `zero_division` parameter to control this behavior.\n",
      "  _warn_prf(average, modifier, msg_start, len(result))\n"
     ]
    }
   ],
   "source": [
    "for i in range(NO_RUNS):\n",
    "    # clear cache cuda\n",
    "    torch.cuda.empty_cache()\n",
    "    with torch.no_grad():\n",
    "        torch.cuda.empty_cache()\n",
    "    gc.collect()\n",
    "\n",
    "    start_time = time.time()\n",
    "\n",
    "    print(f\"Run {i + 1}/{NO_RUNS}\")\n",
    "\n",
    "    train_dataset = df.sample(frac=TRAIN_SPLIT)\n",
    "    test_dataset = df.drop(train_dataset.index).reset_index(drop=True)\n",
    "    train_dataset = train_dataset.reset_index(drop=True)\n",
    "\n",
    "    training_set = InputDataset(train_dataset, tokenizer)\n",
    "    testing_set = InputDataset(test_dataset, tokenizer)\n",
    "\n",
    "    train_dataloader = DataLoader(\n",
    "        training_set,\n",
    "        sampler = RandomSampler(train_dataset),\n",
    "        batch_size = TRAIN_BATCH_SIZE,\n",
    "        drop_last = True,\n",
    "        collate_fn=create_mini_batch\n",
    "    )\n",
    "\n",
    "    validation_dataloader = DataLoader(\n",
    "        testing_set,\n",
    "        sampler = SequentialSampler(testing_set),\n",
    "        batch_size = VALID_BATCH_SIZE,\n",
    "        drop_last = True,\n",
    "        collate_fn=create_mini_batch\n",
    "    )\n",
    "\n",
    "    model = ABSA_BERT_Dropout_BiLSTM_Linear(BertModel.from_pretrained('bert-base-uncased'), dropout=0.3, bilstm_in_features=256, no_out_labels=4, device=device).to(device)\n",
    "\n",
    "    optimizer = torch.optim.Adam(params = model.parameters(), lr=LEARNING_RATE)\n",
    "    loss_fn = torch.nn.CrossEntropyLoss()\n",
    "\n",
    "    for epoch in range(EPOCHS):\n",
    "        train(epoch, model, loss_fn, optimizer, train_dataloader)\n",
    "\n",
    "    outputs, targets = validation(model, validation_dataloader)\n",
    "    \n",
    "    accuracy = accuracy_score(targets, outputs)\n",
    "    precision_score_micro = precision_score(targets, outputs, average='micro')\n",
    "    precision_score_macro = precision_score(targets, outputs, average='macro')\n",
    "    recall_score_micro = recall_score(targets, outputs, average='micro')\n",
    "    recall_score_macro = recall_score(targets, outputs, average='macro')\n",
    "    f1_score_micro = f1_score(targets, outputs, average='micro')\n",
    "    f1_score_macro = f1_score(targets, outputs, average='macro')\n",
    "\n",
    "    execution_time = time.time() - start_time\n",
    "\n",
    "    results.loc[i] = [accuracy,precision_score_micro,precision_score_macro,recall_score_micro,recall_score_macro,f1_score_micro,f1_score_macro, execution_time]\n",
    "\n",
    "    if accuracy > best_accuracy:\n",
    "        best_accuracy = accuracy\n",
    "        torch.save(model, MODEL_OUTPUT)\n",
    "\n",
    "    del train_dataset\n",
    "    del test_dataset\n",
    "    del training_set\n",
    "    del testing_set\n",
    "    del model\n",
    "    del loss_fn\n",
    "    del optimizer\n",
    "    del outputs\n",
    "    del targets"
   ]
  },
  {
   "cell_type": "code",
   "execution_count": 18,
   "metadata": {},
   "outputs": [
    {
     "data": {
      "text/html": [
       "<div>\n",
       "<style scoped>\n",
       "    .dataframe tbody tr th:only-of-type {\n",
       "        vertical-align: middle;\n",
       "    }\n",
       "\n",
       "    .dataframe tbody tr th {\n",
       "        vertical-align: top;\n",
       "    }\n",
       "\n",
       "    .dataframe thead th {\n",
       "        text-align: right;\n",
       "    }\n",
       "</style>\n",
       "<table border=\"1\" class=\"dataframe\">\n",
       "  <thead>\n",
       "    <tr style=\"text-align: right;\">\n",
       "      <th></th>\n",
       "      <th>accuracy</th>\n",
       "      <th>precision_score_micro</th>\n",
       "      <th>precision_score_macro</th>\n",
       "      <th>recall_score_micro</th>\n",
       "      <th>recall_score_macro</th>\n",
       "      <th>f1_score_micro</th>\n",
       "      <th>f1_score_macro</th>\n",
       "      <th>execution_time</th>\n",
       "    </tr>\n",
       "  </thead>\n",
       "  <tbody>\n",
       "    <tr>\n",
       "      <th>0</th>\n",
       "      <td>0.962472</td>\n",
       "      <td>0.962472</td>\n",
       "      <td>0.544023</td>\n",
       "      <td>0.962472</td>\n",
       "      <td>0.486541</td>\n",
       "      <td>0.962472</td>\n",
       "      <td>0.450200</td>\n",
       "      <td>112.819000</td>\n",
       "    </tr>\n",
       "    <tr>\n",
       "      <th>1</th>\n",
       "      <td>0.967998</td>\n",
       "      <td>0.967998</td>\n",
       "      <td>0.586315</td>\n",
       "      <td>0.967998</td>\n",
       "      <td>0.595147</td>\n",
       "      <td>0.967998</td>\n",
       "      <td>0.590647</td>\n",
       "      <td>97.074863</td>\n",
       "    </tr>\n",
       "    <tr>\n",
       "      <th>2</th>\n",
       "      <td>0.969155</td>\n",
       "      <td>0.969155</td>\n",
       "      <td>0.590735</td>\n",
       "      <td>0.969155</td>\n",
       "      <td>0.621731</td>\n",
       "      <td>0.969155</td>\n",
       "      <td>0.604941</td>\n",
       "      <td>97.658057</td>\n",
       "    </tr>\n",
       "    <tr>\n",
       "      <th>3</th>\n",
       "      <td>0.955559</td>\n",
       "      <td>0.955559</td>\n",
       "      <td>0.598544</td>\n",
       "      <td>0.955559</td>\n",
       "      <td>0.533716</td>\n",
       "      <td>0.955559</td>\n",
       "      <td>0.518666</td>\n",
       "      <td>96.817216</td>\n",
       "    </tr>\n",
       "    <tr>\n",
       "      <th>4</th>\n",
       "      <td>0.965611</td>\n",
       "      <td>0.965611</td>\n",
       "      <td>0.582737</td>\n",
       "      <td>0.965611</td>\n",
       "      <td>0.598223</td>\n",
       "      <td>0.965611</td>\n",
       "      <td>0.587395</td>\n",
       "      <td>97.123147</td>\n",
       "    </tr>\n",
       "    <tr>\n",
       "      <th>5</th>\n",
       "      <td>0.958143</td>\n",
       "      <td>0.958143</td>\n",
       "      <td>0.413822</td>\n",
       "      <td>0.958143</td>\n",
       "      <td>0.466397</td>\n",
       "      <td>0.958143</td>\n",
       "      <td>0.436695</td>\n",
       "      <td>96.497204</td>\n",
       "    </tr>\n",
       "    <tr>\n",
       "      <th>6</th>\n",
       "      <td>0.970011</td>\n",
       "      <td>0.970011</td>\n",
       "      <td>0.603725</td>\n",
       "      <td>0.970011</td>\n",
       "      <td>0.572069</td>\n",
       "      <td>0.970011</td>\n",
       "      <td>0.577821</td>\n",
       "      <td>97.277734</td>\n",
       "    </tr>\n",
       "    <tr>\n",
       "      <th>7</th>\n",
       "      <td>0.966017</td>\n",
       "      <td>0.966017</td>\n",
       "      <td>0.572028</td>\n",
       "      <td>0.966017</td>\n",
       "      <td>0.539037</td>\n",
       "      <td>0.966017</td>\n",
       "      <td>0.547760</td>\n",
       "      <td>97.449983</td>\n",
       "    </tr>\n",
       "    <tr>\n",
       "      <th>8</th>\n",
       "      <td>0.964996</td>\n",
       "      <td>0.964996</td>\n",
       "      <td>0.622778</td>\n",
       "      <td>0.964996</td>\n",
       "      <td>0.508364</td>\n",
       "      <td>0.964996</td>\n",
       "      <td>0.500170</td>\n",
       "      <td>96.985469</td>\n",
       "    </tr>\n",
       "    <tr>\n",
       "      <th>9</th>\n",
       "      <td>0.958703</td>\n",
       "      <td>0.958703</td>\n",
       "      <td>0.654543</td>\n",
       "      <td>0.958703</td>\n",
       "      <td>0.499106</td>\n",
       "      <td>0.958703</td>\n",
       "      <td>0.480180</td>\n",
       "      <td>97.651367</td>\n",
       "    </tr>\n",
       "  </tbody>\n",
       "</table>\n",
       "</div>"
      ],
      "text/plain": [
       "   accuracy  precision_score_micro  precision_score_macro  recall_score_micro  \\\n",
       "0  0.962472               0.962472               0.544023            0.962472   \n",
       "1  0.967998               0.967998               0.586315            0.967998   \n",
       "2  0.969155               0.969155               0.590735            0.969155   \n",
       "3  0.955559               0.955559               0.598544            0.955559   \n",
       "4  0.965611               0.965611               0.582737            0.965611   \n",
       "5  0.958143               0.958143               0.413822            0.958143   \n",
       "6  0.970011               0.970011               0.603725            0.970011   \n",
       "7  0.966017               0.966017               0.572028            0.966017   \n",
       "8  0.964996               0.964996               0.622778            0.964996   \n",
       "9  0.958703               0.958703               0.654543            0.958703   \n",
       "\n",
       "   recall_score_macro  f1_score_micro  f1_score_macro  execution_time  \n",
       "0            0.486541        0.962472        0.450200      112.819000  \n",
       "1            0.595147        0.967998        0.590647       97.074863  \n",
       "2            0.621731        0.969155        0.604941       97.658057  \n",
       "3            0.533716        0.955559        0.518666       96.817216  \n",
       "4            0.598223        0.965611        0.587395       97.123147  \n",
       "5            0.466397        0.958143        0.436695       96.497204  \n",
       "6            0.572069        0.970011        0.577821       97.277734  \n",
       "7            0.539037        0.966017        0.547760       97.449983  \n",
       "8            0.508364        0.964996        0.500170       96.985469  \n",
       "9            0.499106        0.958703        0.480180       97.651367  "
      ]
     },
     "execution_count": 18,
     "metadata": {},
     "output_type": "execute_result"
    }
   ],
   "source": [
    "results"
   ]
  },
  {
   "cell_type": "code",
   "execution_count": 19,
   "metadata": {},
   "outputs": [],
   "source": [
    "results.to_csv(STATS_OUTPUT)"
   ]
  }
 ],
 "metadata": {
  "interpreter": {
   "hash": "60f74211c8095d4d69bea747ac312f2fd52777f7ee1c791c3155581964756685"
  },
  "kernelspec": {
   "display_name": "Python 3.9.7 ('ml')",
   "language": "python",
   "name": "python3"
  },
  "language_info": {
   "codemirror_mode": {
    "name": "ipython",
    "version": 3
   },
   "file_extension": ".py",
   "mimetype": "text/x-python",
   "name": "python",
   "nbconvert_exporter": "python",
   "pygments_lexer": "ipython3",
   "version": "3.9.7"
  },
  "orig_nbformat": 4
 },
 "nbformat": 4,
 "nbformat_minor": 2
}
