{
 "cells": [
  {
   "cell_type": "markdown",
   "metadata": {},
   "source": [
    "# Import dependencies"
   ]
  },
  {
   "cell_type": "code",
   "execution_count": null,
   "metadata": {},
   "outputs": [],
   "source": [
    "import os\n",
    "import sys\n",
    "\n",
    "sys.path.insert(0, os.path.dirname(os.getcwd())) "
   ]
  },
  {
   "cell_type": "code",
   "execution_count": 1,
   "metadata": {},
   "outputs": [],
   "source": [
    "import time\n",
    "import gc\n",
    "\n",
    "import numpy as np\n",
    "import pandas as pd\n",
    "\n",
    "from transformers import BertTokenizer, BertModel\n",
    "\n",
    "from sklearn.metrics import f1_score, accuracy_score, precision_score, recall_score\n",
    "\n",
    "from semeval_reader import SemevalReader\n",
    "\n",
    "from InputDataset import InputDataset\n",
    "\n",
    "import torch\n",
    "from torch.utils.data import DataLoader, RandomSampler, SequentialSampler\n",
    "\n",
    "from torch import cuda\n",
    "\n",
    "from models.BERT_Dropout_BiLSTM_Linear import BERT_Dropout_BiLSTM_Linear"
   ]
  },
  {
   "cell_type": "code",
   "execution_count": 2,
   "metadata": {},
   "outputs": [],
   "source": [
    "device = 'cuda' if cuda.is_available() else 'cpu'"
   ]
  },
  {
   "cell_type": "code",
   "execution_count": 3,
   "metadata": {},
   "outputs": [
    {
     "name": "stdout",
     "output_type": "stream",
     "text": [
      "NVIDIA GeForce RTX 2060 SUPER\n",
      "Memory: 8 GB\n"
     ]
    }
   ],
   "source": [
    "print(torch.cuda.get_device_name(0))\n",
    "print(f\"Memory: {torch.cuda.get_device_properties(0).total_memory // 1024 ** 3} GB\")"
   ]
  },
  {
   "cell_type": "code",
   "execution_count": 4,
   "metadata": {},
   "outputs": [],
   "source": [
    "def clear_memory():\n",
    "    torch.cuda.empty_cache()\n",
    "\n",
    "    with torch.no_grad():\n",
    "        torch.cuda.empty_cache()\n",
    "\n",
    "    gc.collect()"
   ]
  },
  {
   "cell_type": "markdown",
   "metadata": {},
   "source": [
    "# Load Data"
   ]
  },
  {
   "cell_type": "code",
   "execution_count": 5,
   "metadata": {},
   "outputs": [],
   "source": [
    "def get_target_list_for_polarity(polarity):\n",
    "    if polarity == 'positive':\n",
    "        return [0, 0, 1]\n",
    "    if polarity == 'negative':\n",
    "        return [1, 0, 0]\n",
    "    return [0, 1, 0]"
   ]
  },
  {
   "cell_type": "code",
   "execution_count": 6,
   "metadata": {},
   "outputs": [],
   "source": [
    "semeval_reader = SemevalReader('../../../data/semeval16_restaurants_train.xml')\n",
    "\n",
    "reviews = semeval_reader.read_reviews()\n",
    "absolute_polarity_sentences = semeval_reader.get_absolute_polarity_sentences()\n",
    "\n",
    "df = pd.DataFrame(map(lambda x: (x.text, x.opinions[0].polarity), absolute_polarity_sentences))\n",
    "df.rename(columns={0: 'text'}, inplace=True)\n",
    "df['target_list'] = df.apply(lambda row: get_target_list_for_polarity(row[1]), axis=1)\n",
    "\n",
    "absolute_polarity_df = df.drop(columns=[1])"
   ]
  },
  {
   "cell_type": "markdown",
   "metadata": {},
   "source": [
    "# Train & Validate"
   ]
  },
  {
   "cell_type": "code",
   "execution_count": 7,
   "metadata": {},
   "outputs": [],
   "source": [
    "TRAIN_BATCH_SIZE = 4\n",
    "VALID_BATCH_SIZE = 4\n",
    "\n",
    "EPOCHS = 2\n",
    "\n",
    "LEARNING_RATE = 1e-5\n",
    "\n",
    "TRAIN_SPLIT = 0.8\n",
    "\n",
    "NO_RUNS = 10"
   ]
  },
  {
   "cell_type": "code",
   "execution_count": 8,
   "metadata": {},
   "outputs": [],
   "source": [
    "BERT_FINE_TUNED_PATH = '../../../results/SA/SemEval16 - Task 5 - Restaurants/models/bert_fine_tuned.pth'"
   ]
  },
  {
   "cell_type": "code",
   "execution_count": 9,
   "metadata": {},
   "outputs": [],
   "source": [
    "MODEL_OUTPUT = '../../../results/SA/SemEval16 - Task 5 - Restaurants/models/bert_fine_tuned_dropout_bilstm_linear.pth'\n",
    "STATS_OUTPUT = '../../../results/SA/SemEval16 - Task 5 - Restaurants/stats/bert_fine_tuned_dropout_bilstm_linear.csv'"
   ]
  },
  {
   "cell_type": "code",
   "execution_count": 10,
   "metadata": {},
   "outputs": [],
   "source": [
    "tokenizer = BertTokenizer.from_pretrained('bert-base-uncased')"
   ]
  },
  {
   "cell_type": "code",
   "execution_count": 11,
   "metadata": {},
   "outputs": [],
   "source": [
    "best_accuracy = 0.0"
   ]
  },
  {
   "cell_type": "code",
   "execution_count": 12,
   "metadata": {},
   "outputs": [],
   "source": [
    "def train(epoch, model, loss_fn, optimizer, dataloader):\n",
    "    model.train()\n",
    "\n",
    "    dataloader_len = len(dataloader)\n",
    "\n",
    "    for _,data in enumerate(dataloader, 0):\n",
    "        optimizer.zero_grad()\n",
    "\n",
    "        ids = data['ids'].to(device, dtype = torch.long)\n",
    "        mask = data['mask'].to(device, dtype = torch.long)\n",
    "        token_type_ids = data['token_type_ids'].to(device, dtype = torch.long)\n",
    "        targets = data['targets'].to(device, dtype = torch.float)\n",
    "\n",
    "        outputs = model(ids, mask, token_type_ids)\n",
    "\n",
    "        loss = loss_fn(outputs, targets)\n",
    "        \n",
    "        if _ % (dataloader_len // 10) == 0:\n",
    "            print(f\"Epoch: {epoch}/{EPOCHS}, Batch: {_}/{dataloader_len}, Loss: {loss.item()}\")\n",
    "        \n",
    "        loss.backward()\n",
    "        \n",
    "        optimizer.step()"
   ]
  },
  {
   "cell_type": "code",
   "execution_count": 13,
   "metadata": {},
   "outputs": [],
   "source": [
    "def validation(model, dataloader):\n",
    "    model.eval()\n",
    "    \n",
    "    fin_targets=[]\n",
    "    fin_outputs=[]\n",
    "\n",
    "    with torch.no_grad():\n",
    "        for _, data in enumerate(dataloader, 0):\n",
    "            ids = data['ids'].to(device, dtype = torch.long)\n",
    "            mask = data['mask'].to(device, dtype = torch.long)\n",
    "            token_type_ids = data['token_type_ids'].to(device, dtype = torch.long)\n",
    "            targets = data['targets'].to(device, dtype = torch.float)\n",
    "\n",
    "            outputs = model(ids, mask, token_type_ids)\n",
    "            \n",
    "            fin_targets.extend(targets.cpu().detach().numpy().tolist())\n",
    "            fin_outputs.extend(torch.sigmoid(outputs).cpu().detach().numpy().tolist())\n",
    "\n",
    "    return fin_outputs, fin_targets"
   ]
  },
  {
   "cell_type": "code",
   "execution_count": 14,
   "metadata": {},
   "outputs": [],
   "source": [
    "results = pd.DataFrame(columns=['accuracy','precision_score_micro','precision_score_macro','recall_score_micro','recall_score_macro','f1_score_micro','f1_score_macro', 'execution_time'])"
   ]
  },
  {
   "cell_type": "code",
   "execution_count": 15,
   "metadata": {},
   "outputs": [
    {
     "name": "stdout",
     "output_type": "stream",
     "text": [
      "Run 1/10\n",
      "Epoch: 0/2, Batch: 0/313, Loss: 0.6921728849411011\n",
      "Epoch: 0/2, Batch: 31/313, Loss: 0.596758246421814\n",
      "Epoch: 0/2, Batch: 62/313, Loss: 0.5623652935028076\n",
      "Epoch: 0/2, Batch: 93/313, Loss: 0.4574130177497864\n",
      "Epoch: 0/2, Batch: 124/313, Loss: 0.48909252882003784\n",
      "Epoch: 0/2, Batch: 155/313, Loss: 0.3319976329803467\n",
      "Epoch: 0/2, Batch: 186/313, Loss: 0.35142624378204346\n",
      "Epoch: 0/2, Batch: 217/313, Loss: 0.3214929699897766\n",
      "Epoch: 0/2, Batch: 248/313, Loss: 0.26520201563835144\n",
      "Epoch: 0/2, Batch: 279/313, Loss: 0.4001624584197998\n",
      "Epoch: 0/2, Batch: 310/313, Loss: 0.24044887721538544\n",
      "Epoch: 1/2, Batch: 0/313, Loss: 0.23136810958385468\n",
      "Epoch: 1/2, Batch: 31/313, Loss: 0.178672194480896\n",
      "Epoch: 1/2, Batch: 62/313, Loss: 0.21965515613555908\n",
      "Epoch: 1/2, Batch: 93/313, Loss: 0.20189473032951355\n",
      "Epoch: 1/2, Batch: 124/313, Loss: 0.1535121351480484\n",
      "Epoch: 1/2, Batch: 155/313, Loss: 0.15459716320037842\n",
      "Epoch: 1/2, Batch: 186/313, Loss: 0.14692473411560059\n",
      "Epoch: 1/2, Batch: 217/313, Loss: 0.2097293585538864\n",
      "Epoch: 1/2, Batch: 248/313, Loss: 0.12671981751918793\n",
      "Epoch: 1/2, Batch: 279/313, Loss: 0.11923148483037949\n",
      "Epoch: 1/2, Batch: 310/313, Loss: 0.5066196322441101\n"
     ]
    },
    {
     "name": "stderr",
     "output_type": "stream",
     "text": [
      "D:\\Apps\\Anaconda\\envs\\ml\\lib\\site-packages\\sklearn\\metrics\\_classification.py:1308: UndefinedMetricWarning: Precision is ill-defined and being set to 0.0 in labels with no predicted samples. Use `zero_division` parameter to control this behavior.\n",
      "  _warn_prf(average, modifier, msg_start, len(result))\n"
     ]
    },
    {
     "name": "stdout",
     "output_type": "stream",
     "text": [
      "Run 2/10\n",
      "Epoch: 0/2, Batch: 0/313, Loss: 0.7350912094116211\n",
      "Epoch: 0/2, Batch: 31/313, Loss: 0.5977069735527039\n",
      "Epoch: 0/2, Batch: 62/313, Loss: 0.5859463214874268\n",
      "Epoch: 0/2, Batch: 93/313, Loss: 0.49579280614852905\n",
      "Epoch: 0/2, Batch: 124/313, Loss: 0.43000268936157227\n",
      "Epoch: 0/2, Batch: 155/313, Loss: 0.63702392578125\n",
      "Epoch: 0/2, Batch: 186/313, Loss: 0.38562750816345215\n",
      "Epoch: 0/2, Batch: 217/313, Loss: 0.4453274607658386\n",
      "Epoch: 0/2, Batch: 248/313, Loss: 0.28522995114326477\n",
      "Epoch: 0/2, Batch: 279/313, Loss: 0.29288697242736816\n",
      "Epoch: 0/2, Batch: 310/313, Loss: 0.2503259778022766\n",
      "Epoch: 1/2, Batch: 0/313, Loss: 0.24270980060100555\n",
      "Epoch: 1/2, Batch: 31/313, Loss: 0.18171286582946777\n",
      "Epoch: 1/2, Batch: 62/313, Loss: 0.16898857057094574\n",
      "Epoch: 1/2, Batch: 93/313, Loss: 0.16085851192474365\n",
      "Epoch: 1/2, Batch: 124/313, Loss: 0.39402318000793457\n",
      "Epoch: 1/2, Batch: 155/313, Loss: 0.17243170738220215\n",
      "Epoch: 1/2, Batch: 186/313, Loss: 0.1596912294626236\n",
      "Epoch: 1/2, Batch: 217/313, Loss: 0.1757994294166565\n",
      "Epoch: 1/2, Batch: 248/313, Loss: 0.17512086033821106\n",
      "Epoch: 1/2, Batch: 279/313, Loss: 0.3591965436935425\n",
      "Epoch: 1/2, Batch: 310/313, Loss: 0.0941200852394104\n"
     ]
    },
    {
     "name": "stderr",
     "output_type": "stream",
     "text": [
      "D:\\Apps\\Anaconda\\envs\\ml\\lib\\site-packages\\sklearn\\metrics\\_classification.py:1308: UndefinedMetricWarning: Precision is ill-defined and being set to 0.0 in labels with no predicted samples. Use `zero_division` parameter to control this behavior.\n",
      "  _warn_prf(average, modifier, msg_start, len(result))\n"
     ]
    },
    {
     "name": "stdout",
     "output_type": "stream",
     "text": [
      "Run 3/10\n",
      "Epoch: 0/2, Batch: 0/313, Loss: 0.6462710499763489\n",
      "Epoch: 0/2, Batch: 31/313, Loss: 0.5706930160522461\n",
      "Epoch: 0/2, Batch: 62/313, Loss: 0.5183661580085754\n",
      "Epoch: 0/2, Batch: 93/313, Loss: 0.6283471584320068\n",
      "Epoch: 0/2, Batch: 124/313, Loss: 0.3882758617401123\n",
      "Epoch: 0/2, Batch: 155/313, Loss: 0.46942758560180664\n",
      "Epoch: 0/2, Batch: 186/313, Loss: 0.32941821217536926\n",
      "Epoch: 0/2, Batch: 217/313, Loss: 0.26383742690086365\n",
      "Epoch: 0/2, Batch: 248/313, Loss: 0.3904573619365692\n",
      "Epoch: 0/2, Batch: 279/313, Loss: 0.2506711781024933\n",
      "Epoch: 0/2, Batch: 310/313, Loss: 0.3553710877895355\n",
      "Epoch: 1/2, Batch: 0/313, Loss: 0.19324541091918945\n",
      "Epoch: 1/2, Batch: 31/313, Loss: 0.24055203795433044\n",
      "Epoch: 1/2, Batch: 62/313, Loss: 0.17322400212287903\n",
      "Epoch: 1/2, Batch: 93/313, Loss: 0.18004564940929413\n",
      "Epoch: 1/2, Batch: 124/313, Loss: 0.1517874300479889\n",
      "Epoch: 1/2, Batch: 155/313, Loss: 0.14208823442459106\n",
      "Epoch: 1/2, Batch: 186/313, Loss: 0.12841634452342987\n",
      "Epoch: 1/2, Batch: 217/313, Loss: 0.09642305970191956\n",
      "Epoch: 1/2, Batch: 248/313, Loss: 0.1113291010260582\n",
      "Epoch: 1/2, Batch: 279/313, Loss: 0.10936234891414642\n",
      "Epoch: 1/2, Batch: 310/313, Loss: 0.22174715995788574\n"
     ]
    },
    {
     "name": "stderr",
     "output_type": "stream",
     "text": [
      "D:\\Apps\\Anaconda\\envs\\ml\\lib\\site-packages\\sklearn\\metrics\\_classification.py:1308: UndefinedMetricWarning: Precision is ill-defined and being set to 0.0 in labels with no predicted samples. Use `zero_division` parameter to control this behavior.\n",
      "  _warn_prf(average, modifier, msg_start, len(result))\n"
     ]
    },
    {
     "name": "stdout",
     "output_type": "stream",
     "text": [
      "Run 4/10\n",
      "Epoch: 0/2, Batch: 0/313, Loss: 0.6782231330871582\n",
      "Epoch: 0/2, Batch: 31/313, Loss: 0.5579742193222046\n",
      "Epoch: 0/2, Batch: 62/313, Loss: 0.4663804769515991\n",
      "Epoch: 0/2, Batch: 93/313, Loss: 0.4501290023326874\n",
      "Epoch: 0/2, Batch: 124/313, Loss: 0.3500199019908905\n",
      "Epoch: 0/2, Batch: 155/313, Loss: 0.3064945936203003\n",
      "Epoch: 0/2, Batch: 186/313, Loss: 0.368602454662323\n",
      "Epoch: 0/2, Batch: 217/313, Loss: 0.33349570631980896\n",
      "Epoch: 0/2, Batch: 248/313, Loss: 0.26060950756073\n",
      "Epoch: 0/2, Batch: 279/313, Loss: 0.2047804296016693\n",
      "Epoch: 0/2, Batch: 310/313, Loss: 0.22749559581279755\n",
      "Epoch: 1/2, Batch: 0/313, Loss: 0.18769478797912598\n",
      "Epoch: 1/2, Batch: 31/313, Loss: 0.23670552670955658\n",
      "Epoch: 1/2, Batch: 62/313, Loss: 0.1945515275001526\n",
      "Epoch: 1/2, Batch: 93/313, Loss: 0.1521705687046051\n",
      "Epoch: 1/2, Batch: 124/313, Loss: 0.14627064764499664\n",
      "Epoch: 1/2, Batch: 155/313, Loss: 0.10988806188106537\n",
      "Epoch: 1/2, Batch: 186/313, Loss: 0.1750275194644928\n",
      "Epoch: 1/2, Batch: 217/313, Loss: 0.14978626370429993\n",
      "Epoch: 1/2, Batch: 248/313, Loss: 0.39791032671928406\n",
      "Epoch: 1/2, Batch: 279/313, Loss: 0.3755943775177002\n",
      "Epoch: 1/2, Batch: 310/313, Loss: 0.4436413645744324\n"
     ]
    },
    {
     "name": "stderr",
     "output_type": "stream",
     "text": [
      "D:\\Apps\\Anaconda\\envs\\ml\\lib\\site-packages\\sklearn\\metrics\\_classification.py:1308: UndefinedMetricWarning: Precision is ill-defined and being set to 0.0 in labels with no predicted samples. Use `zero_division` parameter to control this behavior.\n",
      "  _warn_prf(average, modifier, msg_start, len(result))\n"
     ]
    },
    {
     "name": "stdout",
     "output_type": "stream",
     "text": [
      "Run 5/10\n",
      "Epoch: 0/2, Batch: 0/313, Loss: 0.6790498495101929\n",
      "Epoch: 0/2, Batch: 31/313, Loss: 0.5795381665229797\n",
      "Epoch: 0/2, Batch: 62/313, Loss: 0.4666484296321869\n",
      "Epoch: 0/2, Batch: 93/313, Loss: 0.47671565413475037\n",
      "Epoch: 0/2, Batch: 124/313, Loss: 0.4851655960083008\n",
      "Epoch: 0/2, Batch: 155/313, Loss: 0.3101433217525482\n",
      "Epoch: 0/2, Batch: 186/313, Loss: 0.26158714294433594\n",
      "Epoch: 0/2, Batch: 217/313, Loss: 0.3908700942993164\n",
      "Epoch: 0/2, Batch: 248/313, Loss: 0.47301948070526123\n",
      "Epoch: 0/2, Batch: 279/313, Loss: 0.2338375747203827\n",
      "Epoch: 0/2, Batch: 310/313, Loss: 0.2864806652069092\n",
      "Epoch: 1/2, Batch: 0/313, Loss: 0.18646280467510223\n",
      "Epoch: 1/2, Batch: 31/313, Loss: 0.17560449242591858\n",
      "Epoch: 1/2, Batch: 62/313, Loss: 0.1857665479183197\n",
      "Epoch: 1/2, Batch: 93/313, Loss: 0.12898920476436615\n",
      "Epoch: 1/2, Batch: 124/313, Loss: 0.11532013863325119\n",
      "Epoch: 1/2, Batch: 155/313, Loss: 0.17942433059215546\n",
      "Epoch: 1/2, Batch: 186/313, Loss: 0.13550925254821777\n",
      "Epoch: 1/2, Batch: 217/313, Loss: 0.158645361661911\n",
      "Epoch: 1/2, Batch: 248/313, Loss: 0.1174611896276474\n",
      "Epoch: 1/2, Batch: 279/313, Loss: 0.14391449093818665\n",
      "Epoch: 1/2, Batch: 310/313, Loss: 0.10730543732643127\n"
     ]
    },
    {
     "name": "stderr",
     "output_type": "stream",
     "text": [
      "D:\\Apps\\Anaconda\\envs\\ml\\lib\\site-packages\\sklearn\\metrics\\_classification.py:1308: UndefinedMetricWarning: Precision is ill-defined and being set to 0.0 in labels with no predicted samples. Use `zero_division` parameter to control this behavior.\n",
      "  _warn_prf(average, modifier, msg_start, len(result))\n"
     ]
    },
    {
     "name": "stdout",
     "output_type": "stream",
     "text": [
      "Run 6/10\n",
      "Epoch: 0/2, Batch: 0/313, Loss: 0.7028552889823914\n",
      "Epoch: 0/2, Batch: 31/313, Loss: 0.6277610659599304\n",
      "Epoch: 0/2, Batch: 62/313, Loss: 0.5540820360183716\n",
      "Epoch: 0/2, Batch: 93/313, Loss: 0.4574051797389984\n",
      "Epoch: 0/2, Batch: 124/313, Loss: 0.3628501296043396\n",
      "Epoch: 0/2, Batch: 155/313, Loss: 0.4019884467124939\n",
      "Epoch: 0/2, Batch: 186/313, Loss: 0.336745947599411\n",
      "Epoch: 0/2, Batch: 217/313, Loss: 0.346183717250824\n",
      "Epoch: 0/2, Batch: 248/313, Loss: 0.28154903650283813\n",
      "Epoch: 0/2, Batch: 279/313, Loss: 0.36086761951446533\n",
      "Epoch: 0/2, Batch: 310/313, Loss: 0.49884021282196045\n",
      "Epoch: 1/2, Batch: 0/313, Loss: 0.18635818362236023\n",
      "Epoch: 1/2, Batch: 31/313, Loss: 0.16833791136741638\n",
      "Epoch: 1/2, Batch: 62/313, Loss: 0.23436447978019714\n",
      "Epoch: 1/2, Batch: 93/313, Loss: 0.14247535169124603\n",
      "Epoch: 1/2, Batch: 124/313, Loss: 0.17911718785762787\n",
      "Epoch: 1/2, Batch: 155/313, Loss: 0.15235136449337006\n",
      "Epoch: 1/2, Batch: 186/313, Loss: 0.16614192724227905\n",
      "Epoch: 1/2, Batch: 217/313, Loss: 0.15270954370498657\n",
      "Epoch: 1/2, Batch: 248/313, Loss: 0.0983688160777092\n",
      "Epoch: 1/2, Batch: 279/313, Loss: 0.2937852144241333\n",
      "Epoch: 1/2, Batch: 310/313, Loss: 0.088435098528862\n",
      "Run 7/10\n",
      "Epoch: 0/2, Batch: 0/313, Loss: 0.6746131777763367\n",
      "Epoch: 0/2, Batch: 31/313, Loss: 0.5510896444320679\n",
      "Epoch: 0/2, Batch: 62/313, Loss: 0.5871061682701111\n",
      "Epoch: 0/2, Batch: 93/313, Loss: 0.38052865862846375\n",
      "Epoch: 0/2, Batch: 124/313, Loss: 0.4268043041229248\n",
      "Epoch: 0/2, Batch: 155/313, Loss: 0.25676876306533813\n",
      "Epoch: 0/2, Batch: 186/313, Loss: 0.26878684759140015\n",
      "Epoch: 0/2, Batch: 217/313, Loss: 0.44084107875823975\n",
      "Epoch: 0/2, Batch: 248/313, Loss: 0.22354774177074432\n",
      "Epoch: 0/2, Batch: 279/313, Loss: 0.20484495162963867\n",
      "Epoch: 0/2, Batch: 310/313, Loss: 0.1887328326702118\n",
      "Epoch: 1/2, Batch: 0/313, Loss: 0.21884660422801971\n",
      "Epoch: 1/2, Batch: 31/313, Loss: 0.37705469131469727\n",
      "Epoch: 1/2, Batch: 62/313, Loss: 0.1795063018798828\n",
      "Epoch: 1/2, Batch: 93/313, Loss: 0.1065014898777008\n",
      "Epoch: 1/2, Batch: 124/313, Loss: 0.2100766897201538\n",
      "Epoch: 1/2, Batch: 155/313, Loss: 0.29763150215148926\n",
      "Epoch: 1/2, Batch: 186/313, Loss: 0.08110484480857849\n",
      "Epoch: 1/2, Batch: 217/313, Loss: 0.07345542311668396\n",
      "Epoch: 1/2, Batch: 248/313, Loss: 0.10038592666387558\n",
      "Epoch: 1/2, Batch: 279/313, Loss: 0.12668459117412567\n",
      "Epoch: 1/2, Batch: 310/313, Loss: 0.1215786561369896\n"
     ]
    },
    {
     "name": "stderr",
     "output_type": "stream",
     "text": [
      "D:\\Apps\\Anaconda\\envs\\ml\\lib\\site-packages\\sklearn\\metrics\\_classification.py:1308: UndefinedMetricWarning: Precision is ill-defined and being set to 0.0 in labels with no predicted samples. Use `zero_division` parameter to control this behavior.\n",
      "  _warn_prf(average, modifier, msg_start, len(result))\n"
     ]
    },
    {
     "name": "stdout",
     "output_type": "stream",
     "text": [
      "Run 8/10\n",
      "Epoch: 0/2, Batch: 0/313, Loss: 0.6801377534866333\n",
      "Epoch: 0/2, Batch: 31/313, Loss: 0.6412129402160645\n",
      "Epoch: 0/2, Batch: 62/313, Loss: 0.5647439956665039\n",
      "Epoch: 0/2, Batch: 93/313, Loss: 0.4420214593410492\n",
      "Epoch: 0/2, Batch: 124/313, Loss: 0.4045759439468384\n",
      "Epoch: 0/2, Batch: 155/313, Loss: 0.46273136138916016\n",
      "Epoch: 0/2, Batch: 186/313, Loss: 0.42431554198265076\n",
      "Epoch: 0/2, Batch: 217/313, Loss: 0.3607584834098816\n",
      "Epoch: 0/2, Batch: 248/313, Loss: 0.4645324647426605\n",
      "Epoch: 0/2, Batch: 279/313, Loss: 0.292580246925354\n",
      "Epoch: 0/2, Batch: 310/313, Loss: 0.3612462282180786\n",
      "Epoch: 1/2, Batch: 0/313, Loss: 0.22799745202064514\n",
      "Epoch: 1/2, Batch: 31/313, Loss: 0.3788643479347229\n",
      "Epoch: 1/2, Batch: 62/313, Loss: 0.3720269203186035\n",
      "Epoch: 1/2, Batch: 93/313, Loss: 0.24850329756736755\n",
      "Epoch: 1/2, Batch: 124/313, Loss: 0.16587433218955994\n",
      "Epoch: 1/2, Batch: 155/313, Loss: 0.12389957904815674\n",
      "Epoch: 1/2, Batch: 186/313, Loss: 0.1459082067012787\n",
      "Epoch: 1/2, Batch: 217/313, Loss: 0.308657169342041\n",
      "Epoch: 1/2, Batch: 248/313, Loss: 0.2317245453596115\n",
      "Epoch: 1/2, Batch: 279/313, Loss: 0.15392392873764038\n",
      "Epoch: 1/2, Batch: 310/313, Loss: 0.3820694386959076\n"
     ]
    },
    {
     "name": "stderr",
     "output_type": "stream",
     "text": [
      "D:\\Apps\\Anaconda\\envs\\ml\\lib\\site-packages\\sklearn\\metrics\\_classification.py:1308: UndefinedMetricWarning: Precision is ill-defined and being set to 0.0 in labels with no predicted samples. Use `zero_division` parameter to control this behavior.\n",
      "  _warn_prf(average, modifier, msg_start, len(result))\n"
     ]
    },
    {
     "name": "stdout",
     "output_type": "stream",
     "text": [
      "Run 9/10\n",
      "Epoch: 0/2, Batch: 0/313, Loss: 0.6917068362236023\n",
      "Epoch: 0/2, Batch: 31/313, Loss: 0.6001849174499512\n",
      "Epoch: 0/2, Batch: 62/313, Loss: 0.4963928461074829\n",
      "Epoch: 0/2, Batch: 93/313, Loss: 0.4540519118309021\n",
      "Epoch: 0/2, Batch: 124/313, Loss: 0.38054391741752625\n",
      "Epoch: 0/2, Batch: 155/313, Loss: 0.3440180718898773\n",
      "Epoch: 0/2, Batch: 186/313, Loss: 0.3250044584274292\n",
      "Epoch: 0/2, Batch: 217/313, Loss: 0.2661232054233551\n",
      "Epoch: 0/2, Batch: 248/313, Loss: 0.23420056700706482\n",
      "Epoch: 0/2, Batch: 279/313, Loss: 0.21900153160095215\n",
      "Epoch: 0/2, Batch: 310/313, Loss: 0.6726834177970886\n",
      "Epoch: 1/2, Batch: 0/313, Loss: 0.18872790038585663\n",
      "Epoch: 1/2, Batch: 31/313, Loss: 0.1763370931148529\n",
      "Epoch: 1/2, Batch: 62/313, Loss: 0.2165035456418991\n",
      "Epoch: 1/2, Batch: 93/313, Loss: 0.1952580213546753\n",
      "Epoch: 1/2, Batch: 124/313, Loss: 0.16558456420898438\n",
      "Epoch: 1/2, Batch: 155/313, Loss: 0.1970665156841278\n",
      "Epoch: 1/2, Batch: 186/313, Loss: 0.14578746259212494\n",
      "Epoch: 1/2, Batch: 217/313, Loss: 0.1357218325138092\n",
      "Epoch: 1/2, Batch: 248/313, Loss: 0.3114638030529022\n",
      "Epoch: 1/2, Batch: 279/313, Loss: 0.10000178217887878\n",
      "Epoch: 1/2, Batch: 310/313, Loss: 0.11531337350606918\n"
     ]
    },
    {
     "name": "stderr",
     "output_type": "stream",
     "text": [
      "D:\\Apps\\Anaconda\\envs\\ml\\lib\\site-packages\\sklearn\\metrics\\_classification.py:1308: UndefinedMetricWarning: Precision is ill-defined and being set to 0.0 in labels with no predicted samples. Use `zero_division` parameter to control this behavior.\n",
      "  _warn_prf(average, modifier, msg_start, len(result))\n"
     ]
    },
    {
     "name": "stdout",
     "output_type": "stream",
     "text": [
      "Run 10/10\n",
      "Epoch: 0/2, Batch: 0/313, Loss: 0.7071658372879028\n",
      "Epoch: 0/2, Batch: 31/313, Loss: 0.576979398727417\n",
      "Epoch: 0/2, Batch: 62/313, Loss: 0.5069988965988159\n",
      "Epoch: 0/2, Batch: 93/313, Loss: 0.40520983934402466\n",
      "Epoch: 0/2, Batch: 124/313, Loss: 0.38857099413871765\n",
      "Epoch: 0/2, Batch: 155/313, Loss: 0.6082031726837158\n",
      "Epoch: 0/2, Batch: 186/313, Loss: 0.33999618887901306\n",
      "Epoch: 0/2, Batch: 217/313, Loss: 0.31050917506217957\n",
      "Epoch: 0/2, Batch: 248/313, Loss: 0.24409881234169006\n",
      "Epoch: 0/2, Batch: 279/313, Loss: 0.2218974083662033\n",
      "Epoch: 0/2, Batch: 310/313, Loss: 0.23529872298240662\n",
      "Epoch: 1/2, Batch: 0/313, Loss: 0.20530512928962708\n",
      "Epoch: 1/2, Batch: 31/313, Loss: 0.1768535077571869\n",
      "Epoch: 1/2, Batch: 62/313, Loss: 0.16780202090740204\n",
      "Epoch: 1/2, Batch: 93/313, Loss: 0.18106552958488464\n",
      "Epoch: 1/2, Batch: 124/313, Loss: 0.11753490567207336\n",
      "Epoch: 1/2, Batch: 155/313, Loss: 0.13258586823940277\n",
      "Epoch: 1/2, Batch: 186/313, Loss: 0.15021422505378723\n",
      "Epoch: 1/2, Batch: 217/313, Loss: 0.11805298179388046\n",
      "Epoch: 1/2, Batch: 248/313, Loss: 0.36895737051963806\n",
      "Epoch: 1/2, Batch: 279/313, Loss: 0.41746851801872253\n",
      "Epoch: 1/2, Batch: 310/313, Loss: 0.12544706463813782\n"
     ]
    },
    {
     "name": "stderr",
     "output_type": "stream",
     "text": [
      "D:\\Apps\\Anaconda\\envs\\ml\\lib\\site-packages\\sklearn\\metrics\\_classification.py:1308: UndefinedMetricWarning: Precision is ill-defined and being set to 0.0 in labels with no predicted samples. Use `zero_division` parameter to control this behavior.\n",
      "  _warn_prf(average, modifier, msg_start, len(result))\n"
     ]
    }
   ],
   "source": [
    "for i in range(10):\n",
    "    # clear cache cuda\n",
    "    torch.cuda.empty_cache()\n",
    "    with torch.no_grad():\n",
    "        torch.cuda.empty_cache()\n",
    "    gc.collect()\n",
    "\n",
    "    start_time = time.time()\n",
    "\n",
    "    print(f\"Run {i + 1}/10\")\n",
    "\n",
    "    train_dataset = df.sample(frac=TRAIN_SPLIT)\n",
    "    test_dataset = df.drop(train_dataset.index).reset_index(drop=True)\n",
    "    train_dataset = train_dataset.reset_index(drop=True)\n",
    "\n",
    "    training_set = InputDataset(train_dataset, tokenizer)\n",
    "    testing_set = InputDataset(test_dataset, tokenizer)\n",
    "\n",
    "    train_dataloader = DataLoader(\n",
    "        training_set,\n",
    "        sampler = RandomSampler(train_dataset),\n",
    "        batch_size = TRAIN_BATCH_SIZE,\n",
    "        drop_last = True\n",
    "    )\n",
    "\n",
    "    validation_dataloader = DataLoader(\n",
    "        testing_set,\n",
    "        sampler = SequentialSampler(testing_set),\n",
    "        batch_size = VALID_BATCH_SIZE,\n",
    "        drop_last = True\n",
    "    )\n",
    "\n",
    "    model = BERT_Dropout_BiLSTM_Linear(torch.load(BERT_FINE_TUNED_PATH), dropout=0.3, bilstm_in_features=256, no_out_labels=3, device=device).to(device)\n",
    "\n",
    "    optimizer = torch.optim.Adam(params = model.parameters(), lr=LEARNING_RATE)\n",
    "    loss_fn = torch.nn.BCEWithLogitsLoss()\n",
    "\n",
    "    for epoch in range(EPOCHS):\n",
    "        train(epoch, model, loss_fn, optimizer, train_dataloader)\n",
    "\n",
    "    outputs, targets = validation(model, validation_dataloader)\n",
    "    outputs = np.argmax(outputs, axis=1)\n",
    "    targets = np.argmax(targets, axis=1)\n",
    "    \n",
    "    accuracy = accuracy_score(targets, outputs)\n",
    "    precision_score_micro = precision_score(targets, outputs, average='micro')\n",
    "    precision_score_macro = precision_score(targets, outputs, average='macro')\n",
    "    recall_score_micro = recall_score(targets, outputs, average='micro')\n",
    "    recall_score_macro = recall_score(targets, outputs, average='macro')\n",
    "    f1_score_micro = f1_score(targets, outputs, average='micro')\n",
    "    f1_score_macro = f1_score(targets, outputs, average='macro')\n",
    "\n",
    "    execution_time = time.time() - start_time\n",
    "\n",
    "    results.loc[i] = [accuracy,precision_score_micro,precision_score_macro,recall_score_micro,recall_score_macro,f1_score_micro,f1_score_macro, execution_time]\n",
    "\n",
    "    if accuracy > best_accuracy:\n",
    "        best_accuracy = accuracy\n",
    "        torch.save(model.bert, MODEL_OUTPUT)\n",
    "\n",
    "    del train_dataset\n",
    "    del test_dataset\n",
    "    del training_set\n",
    "    del testing_set\n",
    "    del model\n",
    "    del loss_fn\n",
    "    del optimizer\n",
    "    del outputs\n",
    "    del targets"
   ]
  },
  {
   "cell_type": "code",
   "execution_count": 16,
   "metadata": {},
   "outputs": [
    {
     "data": {
      "text/html": [
       "<div>\n",
       "<style scoped>\n",
       "    .dataframe tbody tr th:only-of-type {\n",
       "        vertical-align: middle;\n",
       "    }\n",
       "\n",
       "    .dataframe tbody tr th {\n",
       "        vertical-align: top;\n",
       "    }\n",
       "\n",
       "    .dataframe thead th {\n",
       "        text-align: right;\n",
       "    }\n",
       "</style>\n",
       "<table border=\"1\" class=\"dataframe\">\n",
       "  <thead>\n",
       "    <tr style=\"text-align: right;\">\n",
       "      <th></th>\n",
       "      <th>accuracy</th>\n",
       "      <th>precision_score_micro</th>\n",
       "      <th>precision_score_macro</th>\n",
       "      <th>recall_score_micro</th>\n",
       "      <th>recall_score_macro</th>\n",
       "      <th>f1_score_micro</th>\n",
       "      <th>f1_score_macro</th>\n",
       "      <th>execution_time</th>\n",
       "    </tr>\n",
       "  </thead>\n",
       "  <tbody>\n",
       "    <tr>\n",
       "      <th>0</th>\n",
       "      <td>0.942308</td>\n",
       "      <td>0.942308</td>\n",
       "      <td>0.623571</td>\n",
       "      <td>0.942308</td>\n",
       "      <td>0.651796</td>\n",
       "      <td>0.942308</td>\n",
       "      <td>0.637233</td>\n",
       "      <td>223.821147</td>\n",
       "    </tr>\n",
       "    <tr>\n",
       "      <th>1</th>\n",
       "      <td>0.923077</td>\n",
       "      <td>0.923077</td>\n",
       "      <td>0.593623</td>\n",
       "      <td>0.923077</td>\n",
       "      <td>0.648749</td>\n",
       "      <td>0.923077</td>\n",
       "      <td>0.618035</td>\n",
       "      <td>203.204230</td>\n",
       "    </tr>\n",
       "    <tr>\n",
       "      <th>2</th>\n",
       "      <td>0.932692</td>\n",
       "      <td>0.932692</td>\n",
       "      <td>0.600769</td>\n",
       "      <td>0.932692</td>\n",
       "      <td>0.644900</td>\n",
       "      <td>0.932692</td>\n",
       "      <td>0.620413</td>\n",
       "      <td>195.122486</td>\n",
       "    </tr>\n",
       "    <tr>\n",
       "      <th>3</th>\n",
       "      <td>0.932692</td>\n",
       "      <td>0.932692</td>\n",
       "      <td>0.606912</td>\n",
       "      <td>0.932692</td>\n",
       "      <td>0.647302</td>\n",
       "      <td>0.932692</td>\n",
       "      <td>0.625178</td>\n",
       "      <td>202.400194</td>\n",
       "    </tr>\n",
       "    <tr>\n",
       "      <th>4</th>\n",
       "      <td>0.916667</td>\n",
       "      <td>0.916667</td>\n",
       "      <td>0.595605</td>\n",
       "      <td>0.916667</td>\n",
       "      <td>0.637139</td>\n",
       "      <td>0.916667</td>\n",
       "      <td>0.613427</td>\n",
       "      <td>202.712312</td>\n",
       "    </tr>\n",
       "    <tr>\n",
       "      <th>5</th>\n",
       "      <td>0.939103</td>\n",
       "      <td>0.939103</td>\n",
       "      <td>0.951861</td>\n",
       "      <td>0.939103</td>\n",
       "      <td>0.673230</td>\n",
       "      <td>0.939103</td>\n",
       "      <td>0.689602</td>\n",
       "      <td>202.624539</td>\n",
       "    </tr>\n",
       "    <tr>\n",
       "      <th>6</th>\n",
       "      <td>0.910256</td>\n",
       "      <td>0.910256</td>\n",
       "      <td>0.595590</td>\n",
       "      <td>0.910256</td>\n",
       "      <td>0.634937</td>\n",
       "      <td>0.910256</td>\n",
       "      <td>0.613845</td>\n",
       "      <td>203.594272</td>\n",
       "    </tr>\n",
       "    <tr>\n",
       "      <th>7</th>\n",
       "      <td>0.929487</td>\n",
       "      <td>0.929487</td>\n",
       "      <td>0.607421</td>\n",
       "      <td>0.929487</td>\n",
       "      <td>0.636953</td>\n",
       "      <td>0.929487</td>\n",
       "      <td>0.621651</td>\n",
       "      <td>198.490349</td>\n",
       "    </tr>\n",
       "    <tr>\n",
       "      <th>8</th>\n",
       "      <td>0.916667</td>\n",
       "      <td>0.916667</td>\n",
       "      <td>0.600169</td>\n",
       "      <td>0.916667</td>\n",
       "      <td>0.624086</td>\n",
       "      <td>0.916667</td>\n",
       "      <td>0.611323</td>\n",
       "      <td>207.753877</td>\n",
       "    </tr>\n",
       "    <tr>\n",
       "      <th>9</th>\n",
       "      <td>0.929487</td>\n",
       "      <td>0.929487</td>\n",
       "      <td>0.608430</td>\n",
       "      <td>0.929487</td>\n",
       "      <td>0.638669</td>\n",
       "      <td>0.929487</td>\n",
       "      <td>0.622987</td>\n",
       "      <td>202.736751</td>\n",
       "    </tr>\n",
       "  </tbody>\n",
       "</table>\n",
       "</div>"
      ],
      "text/plain": [
       "   accuracy  precision_score_micro  precision_score_macro  recall_score_micro  \\\n",
       "0  0.942308               0.942308               0.623571            0.942308   \n",
       "1  0.923077               0.923077               0.593623            0.923077   \n",
       "2  0.932692               0.932692               0.600769            0.932692   \n",
       "3  0.932692               0.932692               0.606912            0.932692   \n",
       "4  0.916667               0.916667               0.595605            0.916667   \n",
       "5  0.939103               0.939103               0.951861            0.939103   \n",
       "6  0.910256               0.910256               0.595590            0.910256   \n",
       "7  0.929487               0.929487               0.607421            0.929487   \n",
       "8  0.916667               0.916667               0.600169            0.916667   \n",
       "9  0.929487               0.929487               0.608430            0.929487   \n",
       "\n",
       "   recall_score_macro  f1_score_micro  f1_score_macro  execution_time  \n",
       "0            0.651796        0.942308        0.637233      223.821147  \n",
       "1            0.648749        0.923077        0.618035      203.204230  \n",
       "2            0.644900        0.932692        0.620413      195.122486  \n",
       "3            0.647302        0.932692        0.625178      202.400194  \n",
       "4            0.637139        0.916667        0.613427      202.712312  \n",
       "5            0.673230        0.939103        0.689602      202.624539  \n",
       "6            0.634937        0.910256        0.613845      203.594272  \n",
       "7            0.636953        0.929487        0.621651      198.490349  \n",
       "8            0.624086        0.916667        0.611323      207.753877  \n",
       "9            0.638669        0.929487        0.622987      202.736751  "
      ]
     },
     "execution_count": 16,
     "metadata": {},
     "output_type": "execute_result"
    }
   ],
   "source": [
    "results"
   ]
  },
  {
   "cell_type": "code",
   "execution_count": 17,
   "metadata": {},
   "outputs": [],
   "source": [
    "results.to_csv(STATS_OUTPUT)"
   ]
  }
 ],
 "metadata": {
  "interpreter": {
   "hash": "60f74211c8095d4d69bea747ac312f2fd52777f7ee1c791c3155581964756685"
  },
  "kernelspec": {
   "display_name": "Python 3.9.7 ('ml')",
   "language": "python",
   "name": "python3"
  },
  "language_info": {
   "codemirror_mode": {
    "name": "ipython",
    "version": 3
   },
   "file_extension": ".py",
   "mimetype": "text/x-python",
   "name": "python",
   "nbconvert_exporter": "python",
   "pygments_lexer": "ipython3",
   "version": "3.9.7"
  },
  "orig_nbformat": 4
 },
 "nbformat": 4,
 "nbformat_minor": 2
}
