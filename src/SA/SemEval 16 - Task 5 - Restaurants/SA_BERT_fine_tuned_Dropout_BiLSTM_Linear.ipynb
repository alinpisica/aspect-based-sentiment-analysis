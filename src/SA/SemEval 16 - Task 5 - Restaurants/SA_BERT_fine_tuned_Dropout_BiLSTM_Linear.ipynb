{
 "cells": [
  {
   "cell_type": "markdown",
   "metadata": {},
   "source": [
    "# Import dependencies"
   ]
  },
  {
   "cell_type": "code",
   "execution_count": 1,
   "metadata": {},
   "outputs": [],
   "source": [
    "import os\n",
    "import sys\n",
    "\n",
    "sys.path.insert(0, os.path.dirname(os.getcwd())) "
   ]
  },
  {
   "cell_type": "code",
   "execution_count": 2,
   "metadata": {},
   "outputs": [],
   "source": [
    "import time\n",
    "import gc\n",
    "\n",
    "import numpy as np\n",
    "import pandas as pd\n",
    "\n",
    "from transformers import BertTokenizer, BertModel\n",
    "\n",
    "from sklearn.metrics import f1_score, accuracy_score, precision_score, recall_score\n",
    "\n",
    "from semeval_reader import SemevalReader\n",
    "\n",
    "from InputDataset import InputDataset\n",
    "\n",
    "import torch\n",
    "from torch.utils.data import DataLoader, RandomSampler, SequentialSampler\n",
    "\n",
    "from torch import cuda\n",
    "\n",
    "from sa_models.SA_BERT_Dropout_BiLSTM_Linear import SA_BERT_Dropout_BiLSTM_Linear"
   ]
  },
  {
   "cell_type": "code",
   "execution_count": 3,
   "metadata": {},
   "outputs": [],
   "source": [
    "device = 'cuda' if cuda.is_available() else 'cpu'"
   ]
  },
  {
   "cell_type": "code",
   "execution_count": 4,
   "metadata": {},
   "outputs": [
    {
     "name": "stdout",
     "output_type": "stream",
     "text": [
      "NVIDIA GeForce RTX 2060 SUPER\n",
      "Memory: 8 GB\n"
     ]
    }
   ],
   "source": [
    "print(torch.cuda.get_device_name(0))\n",
    "print(f\"Memory: {torch.cuda.get_device_properties(0).total_memory // 1024 ** 3} GB\")"
   ]
  },
  {
   "cell_type": "code",
   "execution_count": 5,
   "metadata": {},
   "outputs": [],
   "source": [
    "def clear_memory():\n",
    "    torch.cuda.empty_cache()\n",
    "\n",
    "    with torch.no_grad():\n",
    "        torch.cuda.empty_cache()\n",
    "\n",
    "    gc.collect()"
   ]
  },
  {
   "cell_type": "markdown",
   "metadata": {},
   "source": [
    "# Load Data"
   ]
  },
  {
   "cell_type": "code",
   "execution_count": 6,
   "metadata": {},
   "outputs": [],
   "source": [
    "def get_target_list_for_polarity(polarity):\n",
    "    if polarity == 'positive':\n",
    "        return [0, 0, 1]\n",
    "    if polarity == 'negative':\n",
    "        return [1, 0, 0]\n",
    "    return [0, 1, 0]"
   ]
  },
  {
   "cell_type": "code",
   "execution_count": 7,
   "metadata": {},
   "outputs": [],
   "source": [
    "semeval_reader = SemevalReader('../../../data/semeval16_restaurants_train.xml')\n",
    "\n",
    "reviews = semeval_reader.read_reviews()\n",
    "absolute_polarity_sentences = semeval_reader.get_absolute_polarity_sentences()\n",
    "\n",
    "df = pd.DataFrame(map(lambda x: (x.text, x.opinions[0].polarity), absolute_polarity_sentences))\n",
    "df.rename(columns={0: 'text'}, inplace=True)\n",
    "df['target_list'] = df.apply(lambda row: get_target_list_for_polarity(row[1]), axis=1)\n",
    "\n",
    "absolute_polarity_df = df.drop(columns=[1])"
   ]
  },
  {
   "cell_type": "markdown",
   "metadata": {},
   "source": [
    "# Train & Validate"
   ]
  },
  {
   "cell_type": "code",
   "execution_count": 8,
   "metadata": {},
   "outputs": [],
   "source": [
    "TRAIN_BATCH_SIZE = 4\n",
    "VALID_BATCH_SIZE = 4\n",
    "\n",
    "EPOCHS = 2\n",
    "\n",
    "LEARNING_RATE = 1e-5\n",
    "\n",
    "TRAIN_SPLIT = 0.8\n",
    "\n",
    "NO_RUNS = 10"
   ]
  },
  {
   "cell_type": "code",
   "execution_count": 9,
   "metadata": {},
   "outputs": [],
   "source": [
    "BERT_FINE_TUNED_PATH = '../../../results/SA/SemEval16 - Task 5 - Restaurants/models/bert_fine_tuned.pth'"
   ]
  },
  {
   "cell_type": "code",
   "execution_count": 10,
   "metadata": {},
   "outputs": [],
   "source": [
    "MODEL_OUTPUT = '../../../results/SA/SemEval16 - Task 5 - Restaurants/models/bert_fine_tuned_dropout_bilstm_linear.pth'\n",
    "STATS_OUTPUT = '../../../results/SA/SemEval16 - Task 5 - Restaurants/stats/bert_fine_tuned_dropout_bilstm_linear.csv'"
   ]
  },
  {
   "cell_type": "code",
   "execution_count": 11,
   "metadata": {},
   "outputs": [],
   "source": [
    "tokenizer = BertTokenizer.from_pretrained('bert-base-uncased')"
   ]
  },
  {
   "cell_type": "code",
   "execution_count": 12,
   "metadata": {},
   "outputs": [],
   "source": [
    "best_accuracy = 0.0"
   ]
  },
  {
   "cell_type": "code",
   "execution_count": 13,
   "metadata": {},
   "outputs": [],
   "source": [
    "def train(epoch, model, loss_fn, optimizer, dataloader):\n",
    "    model.train()\n",
    "\n",
    "    dataloader_len = len(dataloader)\n",
    "\n",
    "    for _,data in enumerate(dataloader, 0):\n",
    "        optimizer.zero_grad()\n",
    "\n",
    "        ids = data['ids'].to(device, dtype = torch.long)\n",
    "        mask = data['mask'].to(device, dtype = torch.long)\n",
    "        token_type_ids = data['token_type_ids'].to(device, dtype = torch.long)\n",
    "        targets = data['targets'].to(device, dtype = torch.float)\n",
    "\n",
    "        outputs = model(ids, mask, token_type_ids)\n",
    "\n",
    "        loss = loss_fn(outputs, targets)\n",
    "        \n",
    "        if _ % (dataloader_len // 10) == 0:\n",
    "            print(f\"Epoch: {epoch}/{EPOCHS}, Batch: {_}/{dataloader_len}, Loss: {loss.item()}\")\n",
    "        \n",
    "        loss.backward()\n",
    "        \n",
    "        optimizer.step()"
   ]
  },
  {
   "cell_type": "code",
   "execution_count": 14,
   "metadata": {},
   "outputs": [],
   "source": [
    "def validation(model, dataloader):\n",
    "    model.eval()\n",
    "    \n",
    "    fin_targets=[]\n",
    "    fin_outputs=[]\n",
    "\n",
    "    with torch.no_grad():\n",
    "        for _, data in enumerate(dataloader, 0):\n",
    "            ids = data['ids'].to(device, dtype = torch.long)\n",
    "            mask = data['mask'].to(device, dtype = torch.long)\n",
    "            token_type_ids = data['token_type_ids'].to(device, dtype = torch.long)\n",
    "            targets = data['targets'].to(device, dtype = torch.float)\n",
    "\n",
    "            outputs = model(ids, mask, token_type_ids)\n",
    "            \n",
    "            fin_targets.extend(targets.cpu().detach().numpy().tolist())\n",
    "            fin_outputs.extend(torch.sigmoid(outputs).cpu().detach().numpy().tolist())\n",
    "\n",
    "    return fin_outputs, fin_targets"
   ]
  },
  {
   "cell_type": "code",
   "execution_count": 15,
   "metadata": {},
   "outputs": [],
   "source": [
    "results = pd.DataFrame(columns=['accuracy','precision_score_micro','precision_score_macro','recall_score_micro','recall_score_macro','f1_score_micro','f1_score_macro', 'execution_time'])"
   ]
  },
  {
   "cell_type": "code",
   "execution_count": 16,
   "metadata": {},
   "outputs": [
    {
     "name": "stdout",
     "output_type": "stream",
     "text": [
      "Run 1/10\n",
      "Epoch: 0/2, Batch: 0/313, Loss: 0.6645181775093079\n",
      "Epoch: 0/2, Batch: 31/313, Loss: 0.5710276365280151\n",
      "Epoch: 0/2, Batch: 62/313, Loss: 0.5204684138298035\n",
      "Epoch: 0/2, Batch: 93/313, Loss: 0.4524083137512207\n",
      "Epoch: 0/2, Batch: 124/313, Loss: 0.40011662244796753\n",
      "Epoch: 0/2, Batch: 155/313, Loss: 0.3519105911254883\n",
      "Epoch: 0/2, Batch: 186/313, Loss: 0.28655576705932617\n",
      "Epoch: 0/2, Batch: 217/313, Loss: 0.2627926468849182\n",
      "Epoch: 0/2, Batch: 248/313, Loss: 0.4218378961086273\n",
      "Epoch: 0/2, Batch: 279/313, Loss: 0.20116674900054932\n",
      "Epoch: 0/2, Batch: 310/313, Loss: 0.19783291220664978\n",
      "Epoch: 1/2, Batch: 0/313, Loss: 0.19894421100616455\n",
      "Epoch: 1/2, Batch: 31/313, Loss: 0.1574559509754181\n",
      "Epoch: 1/2, Batch: 62/313, Loss: 0.1697314977645874\n",
      "Epoch: 1/2, Batch: 93/313, Loss: 0.15206924080848694\n",
      "Epoch: 1/2, Batch: 124/313, Loss: 0.1686207354068756\n",
      "Epoch: 1/2, Batch: 155/313, Loss: 0.1941649615764618\n",
      "Epoch: 1/2, Batch: 186/313, Loss: 0.12248961627483368\n",
      "Epoch: 1/2, Batch: 217/313, Loss: 0.11678579449653625\n",
      "Epoch: 1/2, Batch: 248/313, Loss: 0.42288875579833984\n",
      "Epoch: 1/2, Batch: 279/313, Loss: 0.10313644260168076\n",
      "Epoch: 1/2, Batch: 310/313, Loss: 0.12205564975738525\n"
     ]
    },
    {
     "name": "stderr",
     "output_type": "stream",
     "text": [
      "D:\\Apps\\Anaconda\\envs\\ml\\lib\\site-packages\\sklearn\\metrics\\_classification.py:1308: UndefinedMetricWarning: Precision is ill-defined and being set to 0.0 in labels with no predicted samples. Use `zero_division` parameter to control this behavior.\n",
      "  _warn_prf(average, modifier, msg_start, len(result))\n"
     ]
    },
    {
     "name": "stdout",
     "output_type": "stream",
     "text": [
      "Run 2/10\n",
      "Epoch: 0/2, Batch: 0/313, Loss: 0.6979970932006836\n",
      "Epoch: 0/2, Batch: 31/313, Loss: 0.6100785136222839\n",
      "Epoch: 0/2, Batch: 62/313, Loss: 0.5069830417633057\n",
      "Epoch: 0/2, Batch: 93/313, Loss: 0.42375585436820984\n",
      "Epoch: 0/2, Batch: 124/313, Loss: 0.40684303641319275\n",
      "Epoch: 0/2, Batch: 155/313, Loss: 0.3803372383117676\n",
      "Epoch: 0/2, Batch: 186/313, Loss: 0.2937946617603302\n",
      "Epoch: 0/2, Batch: 217/313, Loss: 0.47622525691986084\n",
      "Epoch: 0/2, Batch: 248/313, Loss: 0.2602068781852722\n",
      "Epoch: 0/2, Batch: 279/313, Loss: 0.2639661133289337\n",
      "Epoch: 0/2, Batch: 310/313, Loss: 0.19133317470550537\n",
      "Epoch: 1/2, Batch: 0/313, Loss: 0.18786299228668213\n",
      "Epoch: 1/2, Batch: 31/313, Loss: 0.19723889231681824\n",
      "Epoch: 1/2, Batch: 62/313, Loss: 0.2469259798526764\n",
      "Epoch: 1/2, Batch: 93/313, Loss: 0.16662488877773285\n",
      "Epoch: 1/2, Batch: 124/313, Loss: 0.5002351999282837\n",
      "Epoch: 1/2, Batch: 155/313, Loss: 0.19112686812877655\n",
      "Epoch: 1/2, Batch: 186/313, Loss: 0.18724791705608368\n",
      "Epoch: 1/2, Batch: 217/313, Loss: 0.157628133893013\n",
      "Epoch: 1/2, Batch: 248/313, Loss: 0.15543001890182495\n",
      "Epoch: 1/2, Batch: 279/313, Loss: 0.12136956304311752\n",
      "Epoch: 1/2, Batch: 310/313, Loss: 0.11013822257518768\n"
     ]
    },
    {
     "name": "stderr",
     "output_type": "stream",
     "text": [
      "D:\\Apps\\Anaconda\\envs\\ml\\lib\\site-packages\\sklearn\\metrics\\_classification.py:1308: UndefinedMetricWarning: Precision is ill-defined and being set to 0.0 in labels with no predicted samples. Use `zero_division` parameter to control this behavior.\n",
      "  _warn_prf(average, modifier, msg_start, len(result))\n"
     ]
    },
    {
     "name": "stdout",
     "output_type": "stream",
     "text": [
      "Run 3/10\n",
      "Epoch: 0/2, Batch: 0/313, Loss: 0.6684805154800415\n",
      "Epoch: 0/2, Batch: 31/313, Loss: 0.6185739040374756\n",
      "Epoch: 0/2, Batch: 62/313, Loss: 0.5731126070022583\n",
      "Epoch: 0/2, Batch: 93/313, Loss: 0.4253632426261902\n",
      "Epoch: 0/2, Batch: 124/313, Loss: 0.3914795517921448\n",
      "Epoch: 0/2, Batch: 155/313, Loss: 0.3622531592845917\n",
      "Epoch: 0/2, Batch: 186/313, Loss: 0.28150075674057007\n",
      "Epoch: 0/2, Batch: 217/313, Loss: 0.2828431725502014\n",
      "Epoch: 0/2, Batch: 248/313, Loss: 0.24874542653560638\n",
      "Epoch: 0/2, Batch: 279/313, Loss: 0.4414605498313904\n",
      "Epoch: 0/2, Batch: 310/313, Loss: 0.25127458572387695\n",
      "Epoch: 1/2, Batch: 0/313, Loss: 0.18581831455230713\n",
      "Epoch: 1/2, Batch: 31/313, Loss: 0.1976439356803894\n",
      "Epoch: 1/2, Batch: 62/313, Loss: 0.19377169013023376\n",
      "Epoch: 1/2, Batch: 93/313, Loss: 0.1932772845029831\n",
      "Epoch: 1/2, Batch: 124/313, Loss: 0.3772749900817871\n",
      "Epoch: 1/2, Batch: 155/313, Loss: 0.16585761308670044\n",
      "Epoch: 1/2, Batch: 186/313, Loss: 0.11506471037864685\n",
      "Epoch: 1/2, Batch: 217/313, Loss: 0.12334098666906357\n",
      "Epoch: 1/2, Batch: 248/313, Loss: 0.1203145906329155\n",
      "Epoch: 1/2, Batch: 279/313, Loss: 0.15028280019760132\n",
      "Epoch: 1/2, Batch: 310/313, Loss: 0.10026826709508896\n"
     ]
    },
    {
     "name": "stderr",
     "output_type": "stream",
     "text": [
      "D:\\Apps\\Anaconda\\envs\\ml\\lib\\site-packages\\sklearn\\metrics\\_classification.py:1308: UndefinedMetricWarning: Precision is ill-defined and being set to 0.0 in labels with no predicted samples. Use `zero_division` parameter to control this behavior.\n",
      "  _warn_prf(average, modifier, msg_start, len(result))\n"
     ]
    },
    {
     "name": "stdout",
     "output_type": "stream",
     "text": [
      "Run 4/10\n",
      "Epoch: 0/2, Batch: 0/313, Loss: 0.6936755180358887\n",
      "Epoch: 0/2, Batch: 31/313, Loss: 0.5977526903152466\n",
      "Epoch: 0/2, Batch: 62/313, Loss: 0.48433369398117065\n",
      "Epoch: 0/2, Batch: 93/313, Loss: 0.5082324147224426\n",
      "Epoch: 0/2, Batch: 124/313, Loss: 0.4217257499694824\n",
      "Epoch: 0/2, Batch: 155/313, Loss: 0.39068883657455444\n",
      "Epoch: 0/2, Batch: 186/313, Loss: 0.3938729763031006\n",
      "Epoch: 0/2, Batch: 217/313, Loss: 0.28523173928260803\n",
      "Epoch: 0/2, Batch: 248/313, Loss: 0.4226362705230713\n",
      "Epoch: 0/2, Batch: 279/313, Loss: 0.23803547024726868\n",
      "Epoch: 0/2, Batch: 310/313, Loss: 0.25288817286491394\n",
      "Epoch: 1/2, Batch: 0/313, Loss: 0.24206793308258057\n",
      "Epoch: 1/2, Batch: 31/313, Loss: 0.16687941551208496\n",
      "Epoch: 1/2, Batch: 62/313, Loss: 0.1580972969532013\n",
      "Epoch: 1/2, Batch: 93/313, Loss: 0.44686323404312134\n",
      "Epoch: 1/2, Batch: 124/313, Loss: 0.37203168869018555\n",
      "Epoch: 1/2, Batch: 155/313, Loss: 0.2940919101238251\n",
      "Epoch: 1/2, Batch: 186/313, Loss: 0.16560789942741394\n",
      "Epoch: 1/2, Batch: 217/313, Loss: 0.3452298641204834\n",
      "Epoch: 1/2, Batch: 248/313, Loss: 0.15238575637340546\n",
      "Epoch: 1/2, Batch: 279/313, Loss: 0.11846587061882019\n",
      "Epoch: 1/2, Batch: 310/313, Loss: 0.40154504776000977\n"
     ]
    },
    {
     "name": "stderr",
     "output_type": "stream",
     "text": [
      "D:\\Apps\\Anaconda\\envs\\ml\\lib\\site-packages\\sklearn\\metrics\\_classification.py:1308: UndefinedMetricWarning: Precision is ill-defined and being set to 0.0 in labels with no predicted samples. Use `zero_division` parameter to control this behavior.\n",
      "  _warn_prf(average, modifier, msg_start, len(result))\n"
     ]
    },
    {
     "name": "stdout",
     "output_type": "stream",
     "text": [
      "Run 5/10\n",
      "Epoch: 0/2, Batch: 0/313, Loss: 0.6731353998184204\n",
      "Epoch: 0/2, Batch: 31/313, Loss: 0.5714520812034607\n",
      "Epoch: 0/2, Batch: 62/313, Loss: 0.4769365191459656\n",
      "Epoch: 0/2, Batch: 93/313, Loss: 0.4523176848888397\n",
      "Epoch: 0/2, Batch: 124/313, Loss: 0.3972899317741394\n",
      "Epoch: 0/2, Batch: 155/313, Loss: 0.3786132037639618\n",
      "Epoch: 0/2, Batch: 186/313, Loss: 0.3358609676361084\n",
      "Epoch: 0/2, Batch: 217/313, Loss: 0.34199297428131104\n",
      "Epoch: 0/2, Batch: 248/313, Loss: 0.2361930012702942\n",
      "Epoch: 0/2, Batch: 279/313, Loss: 0.27702459692955017\n",
      "Epoch: 0/2, Batch: 310/313, Loss: 0.6281691789627075\n",
      "Epoch: 1/2, Batch: 0/313, Loss: 0.19367948174476624\n",
      "Epoch: 1/2, Batch: 31/313, Loss: 0.23170112073421478\n",
      "Epoch: 1/2, Batch: 62/313, Loss: 0.16106417775154114\n",
      "Epoch: 1/2, Batch: 93/313, Loss: 0.1721220463514328\n",
      "Epoch: 1/2, Batch: 124/313, Loss: 0.19953620433807373\n",
      "Epoch: 1/2, Batch: 155/313, Loss: 0.15398924052715302\n",
      "Epoch: 1/2, Batch: 186/313, Loss: 0.19015932083129883\n",
      "Epoch: 1/2, Batch: 217/313, Loss: 0.13514429330825806\n",
      "Epoch: 1/2, Batch: 248/313, Loss: 0.13109655678272247\n",
      "Epoch: 1/2, Batch: 279/313, Loss: 0.4409337043762207\n",
      "Epoch: 1/2, Batch: 310/313, Loss: 0.10037591308355331\n"
     ]
    },
    {
     "name": "stderr",
     "output_type": "stream",
     "text": [
      "D:\\Apps\\Anaconda\\envs\\ml\\lib\\site-packages\\sklearn\\metrics\\_classification.py:1308: UndefinedMetricWarning: Precision is ill-defined and being set to 0.0 in labels with no predicted samples. Use `zero_division` parameter to control this behavior.\n",
      "  _warn_prf(average, modifier, msg_start, len(result))\n"
     ]
    },
    {
     "name": "stdout",
     "output_type": "stream",
     "text": [
      "Run 6/10\n",
      "Epoch: 0/2, Batch: 0/313, Loss: 0.7026946544647217\n",
      "Epoch: 0/2, Batch: 31/313, Loss: 0.6586498618125916\n",
      "Epoch: 0/2, Batch: 62/313, Loss: 0.5760478973388672\n",
      "Epoch: 0/2, Batch: 93/313, Loss: 0.5061508417129517\n",
      "Epoch: 0/2, Batch: 124/313, Loss: 0.4193406105041504\n",
      "Epoch: 0/2, Batch: 155/313, Loss: 0.4016764163970947\n",
      "Epoch: 0/2, Batch: 186/313, Loss: 0.33071160316467285\n",
      "Epoch: 0/2, Batch: 217/313, Loss: 0.29798319935798645\n",
      "Epoch: 0/2, Batch: 248/313, Loss: 0.3313751816749573\n",
      "Epoch: 0/2, Batch: 279/313, Loss: 0.2734973132610321\n",
      "Epoch: 0/2, Batch: 310/313, Loss: 0.25332140922546387\n",
      "Epoch: 1/2, Batch: 0/313, Loss: 0.24325089156627655\n",
      "Epoch: 1/2, Batch: 31/313, Loss: 0.43390369415283203\n",
      "Epoch: 1/2, Batch: 62/313, Loss: 0.23281586170196533\n",
      "Epoch: 1/2, Batch: 93/313, Loss: 0.2387348711490631\n",
      "Epoch: 1/2, Batch: 124/313, Loss: 0.16405825316905975\n",
      "Epoch: 1/2, Batch: 155/313, Loss: 0.1846989244222641\n",
      "Epoch: 1/2, Batch: 186/313, Loss: 0.14315477013587952\n",
      "Epoch: 1/2, Batch: 217/313, Loss: 0.11285792291164398\n",
      "Epoch: 1/2, Batch: 248/313, Loss: 0.14576201140880585\n",
      "Epoch: 1/2, Batch: 279/313, Loss: 0.11912725865840912\n",
      "Epoch: 1/2, Batch: 310/313, Loss: 0.3945474326610565\n"
     ]
    },
    {
     "name": "stderr",
     "output_type": "stream",
     "text": [
      "D:\\Apps\\Anaconda\\envs\\ml\\lib\\site-packages\\sklearn\\metrics\\_classification.py:1308: UndefinedMetricWarning: Precision is ill-defined and being set to 0.0 in labels with no predicted samples. Use `zero_division` parameter to control this behavior.\n",
      "  _warn_prf(average, modifier, msg_start, len(result))\n"
     ]
    },
    {
     "name": "stdout",
     "output_type": "stream",
     "text": [
      "Run 7/10\n",
      "Epoch: 0/2, Batch: 0/313, Loss: 0.7058083415031433\n",
      "Epoch: 0/2, Batch: 31/313, Loss: 0.5672089457511902\n",
      "Epoch: 0/2, Batch: 62/313, Loss: 0.5793575048446655\n",
      "Epoch: 0/2, Batch: 93/313, Loss: 0.5573920011520386\n",
      "Epoch: 0/2, Batch: 124/313, Loss: 0.41927313804626465\n",
      "Epoch: 0/2, Batch: 155/313, Loss: 0.5067229866981506\n",
      "Epoch: 0/2, Batch: 186/313, Loss: 0.28657278418540955\n",
      "Epoch: 0/2, Batch: 217/313, Loss: 0.5420156121253967\n",
      "Epoch: 0/2, Batch: 248/313, Loss: 0.33615225553512573\n",
      "Epoch: 0/2, Batch: 279/313, Loss: 0.24263593554496765\n",
      "Epoch: 0/2, Batch: 310/313, Loss: 0.19451020658016205\n",
      "Epoch: 1/2, Batch: 0/313, Loss: 0.19136880338191986\n",
      "Epoch: 1/2, Batch: 31/313, Loss: 0.17354241013526917\n",
      "Epoch: 1/2, Batch: 62/313, Loss: 0.5888230800628662\n",
      "Epoch: 1/2, Batch: 93/313, Loss: 0.2128719687461853\n",
      "Epoch: 1/2, Batch: 124/313, Loss: 0.2248358428478241\n",
      "Epoch: 1/2, Batch: 155/313, Loss: 0.1566905528306961\n",
      "Epoch: 1/2, Batch: 186/313, Loss: 0.20066115260124207\n",
      "Epoch: 1/2, Batch: 217/313, Loss: 0.1381215900182724\n",
      "Epoch: 1/2, Batch: 248/313, Loss: 0.14821378886699677\n",
      "Epoch: 1/2, Batch: 279/313, Loss: 0.181359201669693\n",
      "Epoch: 1/2, Batch: 310/313, Loss: 0.11727900803089142\n"
     ]
    },
    {
     "name": "stderr",
     "output_type": "stream",
     "text": [
      "D:\\Apps\\Anaconda\\envs\\ml\\lib\\site-packages\\sklearn\\metrics\\_classification.py:1308: UndefinedMetricWarning: Precision is ill-defined and being set to 0.0 in labels with no predicted samples. Use `zero_division` parameter to control this behavior.\n",
      "  _warn_prf(average, modifier, msg_start, len(result))\n"
     ]
    },
    {
     "name": "stdout",
     "output_type": "stream",
     "text": [
      "Run 8/10\n",
      "Epoch: 0/2, Batch: 0/313, Loss: 0.6691455841064453\n",
      "Epoch: 0/2, Batch: 31/313, Loss: 0.6044383645057678\n",
      "Epoch: 0/2, Batch: 62/313, Loss: 0.5819714069366455\n",
      "Epoch: 0/2, Batch: 93/313, Loss: 0.49107179045677185\n",
      "Epoch: 0/2, Batch: 124/313, Loss: 0.4660606384277344\n",
      "Epoch: 0/2, Batch: 155/313, Loss: 0.3240824341773987\n",
      "Epoch: 0/2, Batch: 186/313, Loss: 0.2743387818336487\n",
      "Epoch: 0/2, Batch: 217/313, Loss: 0.31262749433517456\n",
      "Epoch: 0/2, Batch: 248/313, Loss: 0.6430925726890564\n",
      "Epoch: 0/2, Batch: 279/313, Loss: 0.26820752024650574\n",
      "Epoch: 0/2, Batch: 310/313, Loss: 0.48817571997642517\n",
      "Epoch: 1/2, Batch: 0/313, Loss: 0.18364518880844116\n",
      "Epoch: 1/2, Batch: 31/313, Loss: 0.5939178466796875\n",
      "Epoch: 1/2, Batch: 62/313, Loss: 0.1829865574836731\n",
      "Epoch: 1/2, Batch: 93/313, Loss: 0.18780705332756042\n",
      "Epoch: 1/2, Batch: 124/313, Loss: 0.1391492336988449\n",
      "Epoch: 1/2, Batch: 155/313, Loss: 0.22303108870983124\n",
      "Epoch: 1/2, Batch: 186/313, Loss: 0.11235978454351425\n",
      "Epoch: 1/2, Batch: 217/313, Loss: 0.1444384753704071\n",
      "Epoch: 1/2, Batch: 248/313, Loss: 0.1006835550069809\n",
      "Epoch: 1/2, Batch: 279/313, Loss: 0.11414706707000732\n",
      "Epoch: 1/2, Batch: 310/313, Loss: 0.24248012900352478\n"
     ]
    },
    {
     "name": "stderr",
     "output_type": "stream",
     "text": [
      "D:\\Apps\\Anaconda\\envs\\ml\\lib\\site-packages\\sklearn\\metrics\\_classification.py:1308: UndefinedMetricWarning: Precision is ill-defined and being set to 0.0 in labels with no predicted samples. Use `zero_division` parameter to control this behavior.\n",
      "  _warn_prf(average, modifier, msg_start, len(result))\n"
     ]
    },
    {
     "name": "stdout",
     "output_type": "stream",
     "text": [
      "Run 9/10\n",
      "Epoch: 0/2, Batch: 0/313, Loss: 0.7076452970504761\n",
      "Epoch: 0/2, Batch: 31/313, Loss: 0.5814493894577026\n",
      "Epoch: 0/2, Batch: 62/313, Loss: 0.5450956225395203\n",
      "Epoch: 0/2, Batch: 93/313, Loss: 0.49474066495895386\n",
      "Epoch: 0/2, Batch: 124/313, Loss: 0.392852246761322\n",
      "Epoch: 0/2, Batch: 155/313, Loss: 0.35905858874320984\n",
      "Epoch: 0/2, Batch: 186/313, Loss: 0.33445727825164795\n",
      "Epoch: 0/2, Batch: 217/313, Loss: 0.31031662225723267\n",
      "Epoch: 0/2, Batch: 248/313, Loss: 0.2723121643066406\n",
      "Epoch: 0/2, Batch: 279/313, Loss: 0.4417456090450287\n",
      "Epoch: 0/2, Batch: 310/313, Loss: 0.20565387606620789\n",
      "Epoch: 1/2, Batch: 0/313, Loss: 0.21847018599510193\n",
      "Epoch: 1/2, Batch: 31/313, Loss: 0.4763028621673584\n",
      "Epoch: 1/2, Batch: 62/313, Loss: 0.1858019232749939\n",
      "Epoch: 1/2, Batch: 93/313, Loss: 0.17631709575653076\n",
      "Epoch: 1/2, Batch: 124/313, Loss: 0.1787908524274826\n",
      "Epoch: 1/2, Batch: 155/313, Loss: 0.1506909430027008\n",
      "Epoch: 1/2, Batch: 186/313, Loss: 0.1124819666147232\n",
      "Epoch: 1/2, Batch: 217/313, Loss: 0.16511744260787964\n",
      "Epoch: 1/2, Batch: 248/313, Loss: 0.11897097527980804\n",
      "Epoch: 1/2, Batch: 279/313, Loss: 0.17082929611206055\n",
      "Epoch: 1/2, Batch: 310/313, Loss: 0.3502870202064514\n"
     ]
    },
    {
     "name": "stderr",
     "output_type": "stream",
     "text": [
      "D:\\Apps\\Anaconda\\envs\\ml\\lib\\site-packages\\sklearn\\metrics\\_classification.py:1308: UndefinedMetricWarning: Precision is ill-defined and being set to 0.0 in labels with no predicted samples. Use `zero_division` parameter to control this behavior.\n",
      "  _warn_prf(average, modifier, msg_start, len(result))\n"
     ]
    },
    {
     "name": "stdout",
     "output_type": "stream",
     "text": [
      "Run 10/10\n",
      "Epoch: 0/2, Batch: 0/313, Loss: 0.6880056262016296\n",
      "Epoch: 0/2, Batch: 31/313, Loss: 0.6034069061279297\n",
      "Epoch: 0/2, Batch: 62/313, Loss: 0.5228140354156494\n",
      "Epoch: 0/2, Batch: 93/313, Loss: 0.45255351066589355\n",
      "Epoch: 0/2, Batch: 124/313, Loss: 0.44525179266929626\n",
      "Epoch: 0/2, Batch: 155/313, Loss: 0.3868181109428406\n",
      "Epoch: 0/2, Batch: 186/313, Loss: 0.325389564037323\n",
      "Epoch: 0/2, Batch: 217/313, Loss: 0.33383506536483765\n",
      "Epoch: 0/2, Batch: 248/313, Loss: 0.230413556098938\n",
      "Epoch: 0/2, Batch: 279/313, Loss: 0.3503146767616272\n",
      "Epoch: 0/2, Batch: 310/313, Loss: 0.4904465675354004\n",
      "Epoch: 1/2, Batch: 0/313, Loss: 0.24769684672355652\n",
      "Epoch: 1/2, Batch: 31/313, Loss: 0.19939641654491425\n",
      "Epoch: 1/2, Batch: 62/313, Loss: 0.17969956994056702\n",
      "Epoch: 1/2, Batch: 93/313, Loss: 0.20483747124671936\n",
      "Epoch: 1/2, Batch: 124/313, Loss: 0.13021335005760193\n",
      "Epoch: 1/2, Batch: 155/313, Loss: 0.4762203097343445\n",
      "Epoch: 1/2, Batch: 186/313, Loss: 0.14796553552150726\n",
      "Epoch: 1/2, Batch: 217/313, Loss: 0.4452757239341736\n",
      "Epoch: 1/2, Batch: 248/313, Loss: 0.3556499183177948\n",
      "Epoch: 1/2, Batch: 279/313, Loss: 0.09268590807914734\n",
      "Epoch: 1/2, Batch: 310/313, Loss: 0.13726745545864105\n"
     ]
    },
    {
     "name": "stderr",
     "output_type": "stream",
     "text": [
      "D:\\Apps\\Anaconda\\envs\\ml\\lib\\site-packages\\sklearn\\metrics\\_classification.py:1308: UndefinedMetricWarning: Precision is ill-defined and being set to 0.0 in labels with no predicted samples. Use `zero_division` parameter to control this behavior.\n",
      "  _warn_prf(average, modifier, msg_start, len(result))\n"
     ]
    }
   ],
   "source": [
    "for i in range(10):\n",
    "    # clear cache cuda\n",
    "    torch.cuda.empty_cache()\n",
    "    with torch.no_grad():\n",
    "        torch.cuda.empty_cache()\n",
    "    gc.collect()\n",
    "\n",
    "    start_time = time.time()\n",
    "\n",
    "    print(f\"Run {i + 1}/10\")\n",
    "\n",
    "    train_dataset = df.sample(frac=TRAIN_SPLIT)\n",
    "    test_dataset = df.drop(train_dataset.index).reset_index(drop=True)\n",
    "    train_dataset = train_dataset.reset_index(drop=True)\n",
    "\n",
    "    training_set = InputDataset(train_dataset, tokenizer)\n",
    "    testing_set = InputDataset(test_dataset, tokenizer)\n",
    "\n",
    "    train_dataloader = DataLoader(\n",
    "        training_set,\n",
    "        sampler = RandomSampler(train_dataset),\n",
    "        batch_size = TRAIN_BATCH_SIZE,\n",
    "        drop_last = True\n",
    "    )\n",
    "\n",
    "    validation_dataloader = DataLoader(\n",
    "        testing_set,\n",
    "        sampler = SequentialSampler(testing_set),\n",
    "        batch_size = VALID_BATCH_SIZE,\n",
    "        drop_last = True\n",
    "    )\n",
    "\n",
    "    model = SA_BERT_Dropout_BiLSTM_Linear(torch.load(BERT_FINE_TUNED_PATH), dropout=0.3, bilstm_in_features=256, no_out_labels=3, device=device).to(device)\n",
    "\n",
    "    optimizer = torch.optim.Adam(params = model.parameters(), lr=LEARNING_RATE)\n",
    "    loss_fn = torch.nn.BCEWithLogitsLoss()\n",
    "\n",
    "    for epoch in range(EPOCHS):\n",
    "        train(epoch, model, loss_fn, optimizer, train_dataloader)\n",
    "\n",
    "    outputs, targets = validation(model, validation_dataloader)\n",
    "    outputs = np.argmax(outputs, axis=1)\n",
    "    targets = np.argmax(targets, axis=1)\n",
    "    \n",
    "    accuracy = accuracy_score(targets, outputs)\n",
    "    precision_score_micro = precision_score(targets, outputs, average='micro')\n",
    "    precision_score_macro = precision_score(targets, outputs, average='macro')\n",
    "    recall_score_micro = recall_score(targets, outputs, average='micro')\n",
    "    recall_score_macro = recall_score(targets, outputs, average='macro')\n",
    "    f1_score_micro = f1_score(targets, outputs, average='micro')\n",
    "    f1_score_macro = f1_score(targets, outputs, average='macro')\n",
    "\n",
    "    execution_time = time.time() - start_time\n",
    "\n",
    "    results.loc[i] = [accuracy,precision_score_micro,precision_score_macro,recall_score_micro,recall_score_macro,f1_score_micro,f1_score_macro, execution_time]\n",
    "\n",
    "    if accuracy > best_accuracy:\n",
    "        best_accuracy = accuracy\n",
    "        torch.save(model, MODEL_OUTPUT)\n",
    "\n",
    "    del train_dataset\n",
    "    del test_dataset\n",
    "    del training_set\n",
    "    del testing_set\n",
    "    del model\n",
    "    del loss_fn\n",
    "    del optimizer\n",
    "    del outputs\n",
    "    del targets"
   ]
  },
  {
   "cell_type": "code",
   "execution_count": 17,
   "metadata": {},
   "outputs": [
    {
     "data": {
      "text/html": [
       "<div>\n",
       "<style scoped>\n",
       "    .dataframe tbody tr th:only-of-type {\n",
       "        vertical-align: middle;\n",
       "    }\n",
       "\n",
       "    .dataframe tbody tr th {\n",
       "        vertical-align: top;\n",
       "    }\n",
       "\n",
       "    .dataframe thead th {\n",
       "        text-align: right;\n",
       "    }\n",
       "</style>\n",
       "<table border=\"1\" class=\"dataframe\">\n",
       "  <thead>\n",
       "    <tr style=\"text-align: right;\">\n",
       "      <th></th>\n",
       "      <th>accuracy</th>\n",
       "      <th>precision_score_micro</th>\n",
       "      <th>precision_score_macro</th>\n",
       "      <th>recall_score_micro</th>\n",
       "      <th>recall_score_macro</th>\n",
       "      <th>f1_score_micro</th>\n",
       "      <th>f1_score_macro</th>\n",
       "      <th>execution_time</th>\n",
       "    </tr>\n",
       "  </thead>\n",
       "  <tbody>\n",
       "    <tr>\n",
       "      <th>0</th>\n",
       "      <td>0.929487</td>\n",
       "      <td>0.929487</td>\n",
       "      <td>0.600377</td>\n",
       "      <td>0.929487</td>\n",
       "      <td>0.650305</td>\n",
       "      <td>0.929487</td>\n",
       "      <td>0.622712</td>\n",
       "      <td>207.692270</td>\n",
       "    </tr>\n",
       "    <tr>\n",
       "      <th>1</th>\n",
       "      <td>0.942308</td>\n",
       "      <td>0.942308</td>\n",
       "      <td>0.620755</td>\n",
       "      <td>0.942308</td>\n",
       "      <td>0.649246</td>\n",
       "      <td>0.942308</td>\n",
       "      <td>0.634637</td>\n",
       "      <td>193.893835</td>\n",
       "    </tr>\n",
       "    <tr>\n",
       "      <th>2</th>\n",
       "      <td>0.955128</td>\n",
       "      <td>0.955128</td>\n",
       "      <td>0.627701</td>\n",
       "      <td>0.955128</td>\n",
       "      <td>0.652426</td>\n",
       "      <td>0.955128</td>\n",
       "      <td>0.639722</td>\n",
       "      <td>192.380167</td>\n",
       "    </tr>\n",
       "    <tr>\n",
       "      <th>3</th>\n",
       "      <td>0.942308</td>\n",
       "      <td>0.942308</td>\n",
       "      <td>0.629952</td>\n",
       "      <td>0.942308</td>\n",
       "      <td>0.642424</td>\n",
       "      <td>0.942308</td>\n",
       "      <td>0.635782</td>\n",
       "      <td>192.418129</td>\n",
       "    </tr>\n",
       "    <tr>\n",
       "      <th>4</th>\n",
       "      <td>0.945513</td>\n",
       "      <td>0.945513</td>\n",
       "      <td>0.619564</td>\n",
       "      <td>0.945513</td>\n",
       "      <td>0.646128</td>\n",
       "      <td>0.945513</td>\n",
       "      <td>0.632275</td>\n",
       "      <td>192.523239</td>\n",
       "    </tr>\n",
       "    <tr>\n",
       "      <th>5</th>\n",
       "      <td>0.955128</td>\n",
       "      <td>0.955128</td>\n",
       "      <td>0.634226</td>\n",
       "      <td>0.955128</td>\n",
       "      <td>0.649947</td>\n",
       "      <td>0.955128</td>\n",
       "      <td>0.641987</td>\n",
       "      <td>192.398958</td>\n",
       "    </tr>\n",
       "    <tr>\n",
       "      <th>6</th>\n",
       "      <td>0.916667</td>\n",
       "      <td>0.916667</td>\n",
       "      <td>0.592511</td>\n",
       "      <td>0.916667</td>\n",
       "      <td>0.637209</td>\n",
       "      <td>0.916667</td>\n",
       "      <td>0.609835</td>\n",
       "      <td>192.352335</td>\n",
       "    </tr>\n",
       "    <tr>\n",
       "      <th>7</th>\n",
       "      <td>0.942308</td>\n",
       "      <td>0.942308</td>\n",
       "      <td>0.618701</td>\n",
       "      <td>0.942308</td>\n",
       "      <td>0.645123</td>\n",
       "      <td>0.942308</td>\n",
       "      <td>0.631343</td>\n",
       "      <td>192.382983</td>\n",
       "    </tr>\n",
       "    <tr>\n",
       "      <th>8</th>\n",
       "      <td>0.919872</td>\n",
       "      <td>0.919872</td>\n",
       "      <td>0.618186</td>\n",
       "      <td>0.919872</td>\n",
       "      <td>0.620000</td>\n",
       "      <td>0.919872</td>\n",
       "      <td>0.617710</td>\n",
       "      <td>192.377663</td>\n",
       "    </tr>\n",
       "    <tr>\n",
       "      <th>9</th>\n",
       "      <td>0.942308</td>\n",
       "      <td>0.942308</td>\n",
       "      <td>0.633070</td>\n",
       "      <td>0.942308</td>\n",
       "      <td>0.636054</td>\n",
       "      <td>0.942308</td>\n",
       "      <td>0.633849</td>\n",
       "      <td>192.510810</td>\n",
       "    </tr>\n",
       "  </tbody>\n",
       "</table>\n",
       "</div>"
      ],
      "text/plain": [
       "   accuracy  precision_score_micro  precision_score_macro  recall_score_micro  \\\n",
       "0  0.929487               0.929487               0.600377            0.929487   \n",
       "1  0.942308               0.942308               0.620755            0.942308   \n",
       "2  0.955128               0.955128               0.627701            0.955128   \n",
       "3  0.942308               0.942308               0.629952            0.942308   \n",
       "4  0.945513               0.945513               0.619564            0.945513   \n",
       "5  0.955128               0.955128               0.634226            0.955128   \n",
       "6  0.916667               0.916667               0.592511            0.916667   \n",
       "7  0.942308               0.942308               0.618701            0.942308   \n",
       "8  0.919872               0.919872               0.618186            0.919872   \n",
       "9  0.942308               0.942308               0.633070            0.942308   \n",
       "\n",
       "   recall_score_macro  f1_score_micro  f1_score_macro  execution_time  \n",
       "0            0.650305        0.929487        0.622712      207.692270  \n",
       "1            0.649246        0.942308        0.634637      193.893835  \n",
       "2            0.652426        0.955128        0.639722      192.380167  \n",
       "3            0.642424        0.942308        0.635782      192.418129  \n",
       "4            0.646128        0.945513        0.632275      192.523239  \n",
       "5            0.649947        0.955128        0.641987      192.398958  \n",
       "6            0.637209        0.916667        0.609835      192.352335  \n",
       "7            0.645123        0.942308        0.631343      192.382983  \n",
       "8            0.620000        0.919872        0.617710      192.377663  \n",
       "9            0.636054        0.942308        0.633849      192.510810  "
      ]
     },
     "execution_count": 17,
     "metadata": {},
     "output_type": "execute_result"
    }
   ],
   "source": [
    "results"
   ]
  },
  {
   "cell_type": "code",
   "execution_count": 18,
   "metadata": {},
   "outputs": [],
   "source": [
    "results.to_csv(STATS_OUTPUT)"
   ]
  }
 ],
 "metadata": {
  "interpreter": {
   "hash": "60f74211c8095d4d69bea747ac312f2fd52777f7ee1c791c3155581964756685"
  },
  "kernelspec": {
   "display_name": "Python 3.9.7 ('ml')",
   "language": "python",
   "name": "python3"
  },
  "language_info": {
   "codemirror_mode": {
    "name": "ipython",
    "version": 3
   },
   "file_extension": ".py",
   "mimetype": "text/x-python",
   "name": "python",
   "nbconvert_exporter": "python",
   "pygments_lexer": "ipython3",
   "version": "3.9.7"
  },
  "orig_nbformat": 4
 },
 "nbformat": 4,
 "nbformat_minor": 2
}
