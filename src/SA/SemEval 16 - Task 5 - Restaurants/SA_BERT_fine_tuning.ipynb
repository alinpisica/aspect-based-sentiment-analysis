{
 "cells": [
  {
   "cell_type": "markdown",
   "metadata": {},
   "source": [
    "# Import dependencies"
   ]
  },
  {
   "cell_type": "code",
   "execution_count": 1,
   "metadata": {},
   "outputs": [],
   "source": [
    "import os\n",
    "import sys\n",
    "\n",
    "sys.path.insert(0, os.path.dirname(os.getcwd())) "
   ]
  },
  {
   "cell_type": "code",
   "execution_count": 2,
   "metadata": {},
   "outputs": [],
   "source": [
    "import time\n",
    "import gc\n",
    "\n",
    "import numpy as np\n",
    "import pandas as pd\n",
    "\n",
    "from transformers import BertTokenizer, BertModel\n",
    "from transformers import logging\n",
    "\n",
    "from sklearn.metrics import f1_score, accuracy_score, precision_score, recall_score\n",
    "\n",
    "from semeval_reader import SemevalReader\n",
    "\n",
    "from InputDataset import InputDataset\n",
    "\n",
    "import torch\n",
    "from torch.utils.data import DataLoader, RandomSampler, SequentialSampler\n",
    "\n",
    "from torch import cuda\n",
    "\n",
    "from sa_models.SA_BERT_Dropout_Linear import SA_BERT_Dropout_Linear"
   ]
  },
  {
   "cell_type": "code",
   "execution_count": 3,
   "metadata": {},
   "outputs": [],
   "source": [
    "device = 'cuda' if cuda.is_available() else 'cpu'\n",
    "logging.set_verbosity_error() "
   ]
  },
  {
   "cell_type": "code",
   "execution_count": 4,
   "metadata": {},
   "outputs": [
    {
     "name": "stdout",
     "output_type": "stream",
     "text": [
      "NVIDIA GeForce RTX 2060 SUPER\n",
      "Memory: 8 GB\n"
     ]
    }
   ],
   "source": [
    "print(torch.cuda.get_device_name(0))\n",
    "print(f\"Memory: {torch.cuda.get_device_properties(0).total_memory // 1024 ** 3} GB\")"
   ]
  },
  {
   "cell_type": "code",
   "execution_count": 5,
   "metadata": {},
   "outputs": [],
   "source": [
    "def clear_memory():\n",
    "    torch.cuda.empty_cache()\n",
    "\n",
    "    with torch.no_grad():\n",
    "        torch.cuda.empty_cache()\n",
    "\n",
    "    gc.collect()"
   ]
  },
  {
   "cell_type": "markdown",
   "metadata": {},
   "source": [
    "# Load Data"
   ]
  },
  {
   "cell_type": "code",
   "execution_count": 6,
   "metadata": {},
   "outputs": [],
   "source": [
    "def get_target_list_for_polarity(polarity):\n",
    "    if polarity == 'positive':\n",
    "        return [0, 0, 1]\n",
    "    if polarity == 'negative':\n",
    "        return [1, 0, 0]\n",
    "    return [0, 1, 0]"
   ]
  },
  {
   "cell_type": "code",
   "execution_count": 7,
   "metadata": {},
   "outputs": [],
   "source": [
    "semeval_reader = SemevalReader('../../../data/semeval16_restaurants_train.xml')\n",
    "\n",
    "reviews = semeval_reader.read_reviews()\n",
    "absolute_polarity_sentences = semeval_reader.get_absolute_polarity_sentences()\n",
    "\n",
    "df = pd.DataFrame(map(lambda x: (x.text, x.opinions[0].polarity), absolute_polarity_sentences))\n",
    "df.rename(columns={0: 'text'}, inplace=True)\n",
    "df['target_list'] = df.apply(lambda row: get_target_list_for_polarity(row[1]), axis=1)\n",
    "\n",
    "absolute_polarity_df = df.drop(columns=[1])"
   ]
  },
  {
   "cell_type": "markdown",
   "metadata": {},
   "source": [
    "# Train & Validate"
   ]
  },
  {
   "cell_type": "code",
   "execution_count": 8,
   "metadata": {},
   "outputs": [],
   "source": [
    "TRAIN_BATCH_SIZE = 4\n",
    "VALID_BATCH_SIZE = 4\n",
    "\n",
    "EPOCHS = 2\n",
    "\n",
    "LEARNING_RATE = 1e-5\n",
    "\n",
    "TRAIN_SPLIT = 0.8\n",
    "\n",
    "NO_RUNS = 10"
   ]
  },
  {
   "cell_type": "code",
   "execution_count": 9,
   "metadata": {},
   "outputs": [],
   "source": [
    "BERT_FINE_TUNED_OUTPUT = '../../../results/SA/SemEval16 - Task 5 - Restaurants/models/bert_fine_tuned.pth'"
   ]
  },
  {
   "cell_type": "code",
   "execution_count": 10,
   "metadata": {},
   "outputs": [],
   "source": [
    "MODEL_OUTPUT = '../../../results/SA/SemEval16 - Task 5 - Restaurants/models/bert_pre_trained_dropout_linear.pth'\n",
    "STATS_OUTPUT = '../../../results/SA/SemEval16 - Task 5 - Restaurants/stats/bert_pre_trained_dropout_linear.csv'"
   ]
  },
  {
   "cell_type": "code",
   "execution_count": 11,
   "metadata": {},
   "outputs": [],
   "source": [
    "tokenizer = BertTokenizer.from_pretrained('bert-base-uncased')"
   ]
  },
  {
   "cell_type": "code",
   "execution_count": 12,
   "metadata": {},
   "outputs": [],
   "source": [
    "best_accuracy = 0.0"
   ]
  },
  {
   "cell_type": "code",
   "execution_count": 13,
   "metadata": {},
   "outputs": [],
   "source": [
    "def train(epoch, model, loss_fn, optimizer, dataloader):\n",
    "    model.train()\n",
    "\n",
    "    dataloader_len = len(dataloader)\n",
    "\n",
    "    for _,data in enumerate(dataloader, 0):\n",
    "        optimizer.zero_grad()\n",
    "\n",
    "        ids = data['ids'].to(device, dtype = torch.long)\n",
    "        mask = data['mask'].to(device, dtype = torch.long)\n",
    "        token_type_ids = data['token_type_ids'].to(device, dtype = torch.long)\n",
    "        targets = data['targets'].to(device, dtype = torch.float)\n",
    "\n",
    "        outputs = model(ids, mask, token_type_ids)\n",
    "\n",
    "        loss = loss_fn(outputs, targets)\n",
    "        \n",
    "        if _ % (dataloader_len // 10) == 0:\n",
    "            print(f\"Epoch: {epoch}/{EPOCHS}, Batch: {_}/{dataloader_len}, Loss: {loss.item()}\")\n",
    "        \n",
    "        loss.backward()\n",
    "        \n",
    "        optimizer.step()"
   ]
  },
  {
   "cell_type": "code",
   "execution_count": 14,
   "metadata": {},
   "outputs": [],
   "source": [
    "def validation(model, dataloader):\n",
    "    model.eval()\n",
    "    \n",
    "    fin_targets=[]\n",
    "    fin_outputs=[]\n",
    "\n",
    "    with torch.no_grad():\n",
    "        for _, data in enumerate(dataloader, 0):\n",
    "            ids = data['ids'].to(device, dtype = torch.long)\n",
    "            mask = data['mask'].to(device, dtype = torch.long)\n",
    "            token_type_ids = data['token_type_ids'].to(device, dtype = torch.long)\n",
    "            targets = data['targets'].to(device, dtype = torch.float)\n",
    "\n",
    "            outputs = model(ids, mask, token_type_ids)\n",
    "            \n",
    "            fin_targets.extend(targets.cpu().detach().numpy().tolist())\n",
    "            fin_outputs.extend(torch.sigmoid(outputs).cpu().detach().numpy().tolist())\n",
    "\n",
    "    return fin_outputs, fin_targets"
   ]
  },
  {
   "cell_type": "code",
   "execution_count": 15,
   "metadata": {},
   "outputs": [],
   "source": [
    "results = pd.DataFrame(columns=['accuracy','precision_score_micro','precision_score_macro','recall_score_micro','recall_score_macro','f1_score_micro','f1_score_macro', 'execution_time'])"
   ]
  },
  {
   "cell_type": "code",
   "execution_count": 16,
   "metadata": {},
   "outputs": [
    {
     "name": "stdout",
     "output_type": "stream",
     "text": [
      "Run 1/10\n",
      "Epoch: 0/2, Batch: 0/313, Loss: 0.6745090484619141\n",
      "Epoch: 0/2, Batch: 31/313, Loss: 0.4020112454891205\n",
      "Epoch: 0/2, Batch: 62/313, Loss: 0.664030909538269\n",
      "Epoch: 0/2, Batch: 93/313, Loss: 0.3989991545677185\n",
      "Epoch: 0/2, Batch: 124/313, Loss: 0.18994998931884766\n",
      "Epoch: 0/2, Batch: 155/313, Loss: 0.4249964654445648\n",
      "Epoch: 0/2, Batch: 186/313, Loss: 0.3951959013938904\n",
      "Epoch: 0/2, Batch: 217/313, Loss: 0.08335362374782562\n",
      "Epoch: 0/2, Batch: 248/313, Loss: 0.10956870019435883\n",
      "Epoch: 0/2, Batch: 279/313, Loss: 0.11274321377277374\n",
      "Epoch: 0/2, Batch: 310/313, Loss: 0.13868239521980286\n",
      "Epoch: 1/2, Batch: 0/313, Loss: 0.11591733992099762\n",
      "Epoch: 1/2, Batch: 31/313, Loss: 0.1295178383588791\n",
      "Epoch: 1/2, Batch: 62/313, Loss: 0.3271807134151459\n",
      "Epoch: 1/2, Batch: 93/313, Loss: 0.05405610799789429\n",
      "Epoch: 1/2, Batch: 124/313, Loss: 0.04850679636001587\n",
      "Epoch: 1/2, Batch: 155/313, Loss: 0.052392616868019104\n",
      "Epoch: 1/2, Batch: 186/313, Loss: 0.03831210732460022\n",
      "Epoch: 1/2, Batch: 217/313, Loss: 0.06710812449455261\n",
      "Epoch: 1/2, Batch: 248/313, Loss: 0.421970933675766\n",
      "Epoch: 1/2, Batch: 279/313, Loss: 0.045712556689977646\n",
      "Epoch: 1/2, Batch: 310/313, Loss: 0.04290830343961716\n"
     ]
    },
    {
     "name": "stderr",
     "output_type": "stream",
     "text": [
      "D:\\Apps\\Anaconda\\envs\\ml\\lib\\site-packages\\sklearn\\metrics\\_classification.py:1308: UndefinedMetricWarning: Precision is ill-defined and being set to 0.0 in labels with no predicted samples. Use `zero_division` parameter to control this behavior.\n",
      "  _warn_prf(average, modifier, msg_start, len(result))\n"
     ]
    },
    {
     "name": "stdout",
     "output_type": "stream",
     "text": [
      "Run 2/10\n",
      "Epoch: 0/2, Batch: 0/313, Loss: 0.6438738703727722\n",
      "Epoch: 0/2, Batch: 31/313, Loss: 0.5249814987182617\n",
      "Epoch: 0/2, Batch: 62/313, Loss: 0.4618469178676605\n",
      "Epoch: 0/2, Batch: 93/313, Loss: 0.6665202379226685\n",
      "Epoch: 0/2, Batch: 124/313, Loss: 0.4468272626399994\n",
      "Epoch: 0/2, Batch: 155/313, Loss: 0.35689350962638855\n",
      "Epoch: 0/2, Batch: 186/313, Loss: 0.2591734528541565\n",
      "Epoch: 0/2, Batch: 217/313, Loss: 0.3624417185783386\n",
      "Epoch: 0/2, Batch: 248/313, Loss: 0.19417956471443176\n",
      "Epoch: 0/2, Batch: 279/313, Loss: 0.12640480697155\n",
      "Epoch: 0/2, Batch: 310/313, Loss: 0.06427465379238129\n",
      "Epoch: 1/2, Batch: 0/313, Loss: 0.15176278352737427\n",
      "Epoch: 1/2, Batch: 31/313, Loss: 0.08965463936328888\n",
      "Epoch: 1/2, Batch: 62/313, Loss: 0.35068389773368835\n",
      "Epoch: 1/2, Batch: 93/313, Loss: 0.049426764249801636\n",
      "Epoch: 1/2, Batch: 124/313, Loss: 0.4027048945426941\n",
      "Epoch: 1/2, Batch: 155/313, Loss: 0.06668153405189514\n",
      "Epoch: 1/2, Batch: 186/313, Loss: 0.5164370536804199\n",
      "Epoch: 1/2, Batch: 217/313, Loss: 0.04347003623843193\n",
      "Epoch: 1/2, Batch: 248/313, Loss: 0.05729764327406883\n",
      "Epoch: 1/2, Batch: 279/313, Loss: 0.04267242178320885\n",
      "Epoch: 1/2, Batch: 310/313, Loss: 0.15708866715431213\n"
     ]
    },
    {
     "name": "stderr",
     "output_type": "stream",
     "text": [
      "D:\\Apps\\Anaconda\\envs\\ml\\lib\\site-packages\\sklearn\\metrics\\_classification.py:1308: UndefinedMetricWarning: Precision is ill-defined and being set to 0.0 in labels with no predicted samples. Use `zero_division` parameter to control this behavior.\n",
      "  _warn_prf(average, modifier, msg_start, len(result))\n"
     ]
    },
    {
     "name": "stdout",
     "output_type": "stream",
     "text": [
      "Run 3/10\n",
      "Epoch: 0/2, Batch: 0/313, Loss: 0.7471268177032471\n",
      "Epoch: 0/2, Batch: 31/313, Loss: 0.5450891256332397\n",
      "Epoch: 0/2, Batch: 62/313, Loss: 0.5376306772232056\n",
      "Epoch: 0/2, Batch: 93/313, Loss: 0.29744479060173035\n",
      "Epoch: 0/2, Batch: 124/313, Loss: 0.3270938992500305\n",
      "Epoch: 0/2, Batch: 155/313, Loss: 0.5500168204307556\n",
      "Epoch: 0/2, Batch: 186/313, Loss: 0.09070420265197754\n",
      "Epoch: 0/2, Batch: 217/313, Loss: 0.12451867759227753\n",
      "Epoch: 0/2, Batch: 248/313, Loss: 0.05633945390582085\n",
      "Epoch: 0/2, Batch: 279/313, Loss: 0.14092348515987396\n",
      "Epoch: 0/2, Batch: 310/313, Loss: 0.41968482732772827\n",
      "Epoch: 1/2, Batch: 0/313, Loss: 0.09486141055822372\n",
      "Epoch: 1/2, Batch: 31/313, Loss: 0.10085143148899078\n",
      "Epoch: 1/2, Batch: 62/313, Loss: 0.06692194938659668\n",
      "Epoch: 1/2, Batch: 93/313, Loss: 0.21786019206047058\n",
      "Epoch: 1/2, Batch: 124/313, Loss: 0.15292593836784363\n",
      "Epoch: 1/2, Batch: 155/313, Loss: 0.08337284624576569\n",
      "Epoch: 1/2, Batch: 186/313, Loss: 0.04874255508184433\n",
      "Epoch: 1/2, Batch: 217/313, Loss: 0.027534570544958115\n",
      "Epoch: 1/2, Batch: 248/313, Loss: 0.39263591170310974\n",
      "Epoch: 1/2, Batch: 279/313, Loss: 0.023318525403738022\n",
      "Epoch: 1/2, Batch: 310/313, Loss: 0.06461624801158905\n"
     ]
    },
    {
     "name": "stderr",
     "output_type": "stream",
     "text": [
      "D:\\Apps\\Anaconda\\envs\\ml\\lib\\site-packages\\sklearn\\metrics\\_classification.py:1308: UndefinedMetricWarning: Precision is ill-defined and being set to 0.0 in labels with no predicted samples. Use `zero_division` parameter to control this behavior.\n",
      "  _warn_prf(average, modifier, msg_start, len(result))\n"
     ]
    },
    {
     "name": "stdout",
     "output_type": "stream",
     "text": [
      "Run 4/10\n",
      "Epoch: 0/2, Batch: 0/313, Loss: 0.8190802335739136\n",
      "Epoch: 0/2, Batch: 31/313, Loss: 0.7124191522598267\n",
      "Epoch: 0/2, Batch: 62/313, Loss: 0.5020030736923218\n",
      "Epoch: 0/2, Batch: 93/313, Loss: 0.269161194562912\n",
      "Epoch: 0/2, Batch: 124/313, Loss: 0.43576133251190186\n",
      "Epoch: 0/2, Batch: 155/313, Loss: 0.4669049382209778\n",
      "Epoch: 0/2, Batch: 186/313, Loss: 0.28198617696762085\n",
      "Epoch: 0/2, Batch: 217/313, Loss: 0.2810545861721039\n",
      "Epoch: 0/2, Batch: 248/313, Loss: 0.18954883515834808\n",
      "Epoch: 0/2, Batch: 279/313, Loss: 0.5323144793510437\n",
      "Epoch: 0/2, Batch: 310/313, Loss: 0.08701197803020477\n",
      "Epoch: 1/2, Batch: 0/313, Loss: 0.10568684339523315\n",
      "Epoch: 1/2, Batch: 31/313, Loss: 0.5284632444381714\n",
      "Epoch: 1/2, Batch: 62/313, Loss: 0.17464125156402588\n",
      "Epoch: 1/2, Batch: 93/313, Loss: 0.05883394181728363\n",
      "Epoch: 1/2, Batch: 124/313, Loss: 0.1949755847454071\n",
      "Epoch: 1/2, Batch: 155/313, Loss: 0.7802850008010864\n",
      "Epoch: 1/2, Batch: 186/313, Loss: 0.2130035161972046\n",
      "Epoch: 1/2, Batch: 217/313, Loss: 0.09940999746322632\n",
      "Epoch: 1/2, Batch: 248/313, Loss: 0.03062584064900875\n",
      "Epoch: 1/2, Batch: 279/313, Loss: 0.06149306148290634\n",
      "Epoch: 1/2, Batch: 310/313, Loss: 0.10389133542776108\n"
     ]
    },
    {
     "name": "stderr",
     "output_type": "stream",
     "text": [
      "D:\\Apps\\Anaconda\\envs\\ml\\lib\\site-packages\\sklearn\\metrics\\_classification.py:1308: UndefinedMetricWarning: Precision is ill-defined and being set to 0.0 in labels with no predicted samples. Use `zero_division` parameter to control this behavior.\n",
      "  _warn_prf(average, modifier, msg_start, len(result))\n"
     ]
    },
    {
     "name": "stdout",
     "output_type": "stream",
     "text": [
      "Run 5/10\n",
      "Epoch: 0/2, Batch: 0/313, Loss: 0.6858696937561035\n",
      "Epoch: 0/2, Batch: 31/313, Loss: 0.5497751235961914\n",
      "Epoch: 0/2, Batch: 62/313, Loss: 0.6581083536148071\n",
      "Epoch: 0/2, Batch: 93/313, Loss: 0.5638648867607117\n",
      "Epoch: 0/2, Batch: 124/313, Loss: 0.448821485042572\n",
      "Epoch: 0/2, Batch: 155/313, Loss: 0.3706408143043518\n",
      "Epoch: 0/2, Batch: 186/313, Loss: 0.10224741697311401\n",
      "Epoch: 0/2, Batch: 217/313, Loss: 0.6372736692428589\n",
      "Epoch: 0/2, Batch: 248/313, Loss: 0.16306564211845398\n",
      "Epoch: 0/2, Batch: 279/313, Loss: 0.2469668984413147\n",
      "Epoch: 0/2, Batch: 310/313, Loss: 0.17312708497047424\n",
      "Epoch: 1/2, Batch: 0/313, Loss: 0.6692041158676147\n",
      "Epoch: 1/2, Batch: 31/313, Loss: 0.10148762911558151\n",
      "Epoch: 1/2, Batch: 62/313, Loss: 0.05768544599413872\n",
      "Epoch: 1/2, Batch: 93/313, Loss: 0.20732973515987396\n",
      "Epoch: 1/2, Batch: 124/313, Loss: 0.05297071859240532\n",
      "Epoch: 1/2, Batch: 155/313, Loss: 0.07882978022098541\n",
      "Epoch: 1/2, Batch: 186/313, Loss: 0.08816209435462952\n",
      "Epoch: 1/2, Batch: 217/313, Loss: 0.0506877601146698\n",
      "Epoch: 1/2, Batch: 248/313, Loss: 0.03755699843168259\n",
      "Epoch: 1/2, Batch: 279/313, Loss: 0.49039673805236816\n",
      "Epoch: 1/2, Batch: 310/313, Loss: 0.032648488879203796\n"
     ]
    },
    {
     "name": "stderr",
     "output_type": "stream",
     "text": [
      "D:\\Apps\\Anaconda\\envs\\ml\\lib\\site-packages\\sklearn\\metrics\\_classification.py:1308: UndefinedMetricWarning: Precision is ill-defined and being set to 0.0 in labels with no predicted samples. Use `zero_division` parameter to control this behavior.\n",
      "  _warn_prf(average, modifier, msg_start, len(result))\n"
     ]
    },
    {
     "name": "stdout",
     "output_type": "stream",
     "text": [
      "Run 6/10\n",
      "Epoch: 0/2, Batch: 0/313, Loss: 0.5766708254814148\n",
      "Epoch: 0/2, Batch: 31/313, Loss: 0.47524404525756836\n",
      "Epoch: 0/2, Batch: 62/313, Loss: 0.5396816730499268\n",
      "Epoch: 0/2, Batch: 93/313, Loss: 0.5241249203681946\n",
      "Epoch: 0/2, Batch: 124/313, Loss: 0.7013470530509949\n",
      "Epoch: 0/2, Batch: 155/313, Loss: 0.37680137157440186\n",
      "Epoch: 0/2, Batch: 186/313, Loss: 0.5494118928909302\n",
      "Epoch: 0/2, Batch: 217/313, Loss: 0.1370830088853836\n",
      "Epoch: 0/2, Batch: 248/313, Loss: 0.15976998209953308\n",
      "Epoch: 0/2, Batch: 279/313, Loss: 0.12882131338119507\n",
      "Epoch: 0/2, Batch: 310/313, Loss: 0.0594441294670105\n",
      "Epoch: 1/2, Batch: 0/313, Loss: 0.4408125877380371\n",
      "Epoch: 1/2, Batch: 31/313, Loss: 0.06873428821563721\n",
      "Epoch: 1/2, Batch: 62/313, Loss: 0.08569341152906418\n",
      "Epoch: 1/2, Batch: 93/313, Loss: 0.12250524014234543\n",
      "Epoch: 1/2, Batch: 124/313, Loss: 0.2152327597141266\n",
      "Epoch: 1/2, Batch: 155/313, Loss: 0.04955112189054489\n",
      "Epoch: 1/2, Batch: 186/313, Loss: 0.07383379340171814\n",
      "Epoch: 1/2, Batch: 217/313, Loss: 0.05615871772170067\n",
      "Epoch: 1/2, Batch: 248/313, Loss: 0.038925010710954666\n",
      "Epoch: 1/2, Batch: 279/313, Loss: 0.0670112818479538\n",
      "Epoch: 1/2, Batch: 310/313, Loss: 0.03180312365293503\n"
     ]
    },
    {
     "name": "stderr",
     "output_type": "stream",
     "text": [
      "D:\\Apps\\Anaconda\\envs\\ml\\lib\\site-packages\\sklearn\\metrics\\_classification.py:1308: UndefinedMetricWarning: Precision is ill-defined and being set to 0.0 in labels with no predicted samples. Use `zero_division` parameter to control this behavior.\n",
      "  _warn_prf(average, modifier, msg_start, len(result))\n"
     ]
    },
    {
     "name": "stdout",
     "output_type": "stream",
     "text": [
      "Run 7/10\n",
      "Epoch: 0/2, Batch: 0/313, Loss: 0.6358209848403931\n",
      "Epoch: 0/2, Batch: 31/313, Loss: 0.5559940338134766\n",
      "Epoch: 0/2, Batch: 62/313, Loss: 0.4074211120605469\n",
      "Epoch: 0/2, Batch: 93/313, Loss: 0.2848268151283264\n",
      "Epoch: 0/2, Batch: 124/313, Loss: 0.3960549235343933\n",
      "Epoch: 0/2, Batch: 155/313, Loss: 0.1820940226316452\n",
      "Epoch: 0/2, Batch: 186/313, Loss: 0.13318733870983124\n",
      "Epoch: 0/2, Batch: 217/313, Loss: 0.28719890117645264\n",
      "Epoch: 0/2, Batch: 248/313, Loss: 0.5590736269950867\n",
      "Epoch: 0/2, Batch: 279/313, Loss: 0.09501951932907104\n",
      "Epoch: 0/2, Batch: 310/313, Loss: 0.0848202332854271\n",
      "Epoch: 1/2, Batch: 0/313, Loss: 0.07462999224662781\n",
      "Epoch: 1/2, Batch: 31/313, Loss: 0.5225784778594971\n",
      "Epoch: 1/2, Batch: 62/313, Loss: 0.120511993765831\n",
      "Epoch: 1/2, Batch: 93/313, Loss: 0.046335816383361816\n",
      "Epoch: 1/2, Batch: 124/313, Loss: 0.05541714280843735\n",
      "Epoch: 1/2, Batch: 155/313, Loss: 0.1076832115650177\n",
      "Epoch: 1/2, Batch: 186/313, Loss: 0.08503886312246323\n",
      "Epoch: 1/2, Batch: 217/313, Loss: 0.05067847669124603\n",
      "Epoch: 1/2, Batch: 248/313, Loss: 0.050093796104192734\n",
      "Epoch: 1/2, Batch: 279/313, Loss: 0.12016328424215317\n",
      "Epoch: 1/2, Batch: 310/313, Loss: 0.03424762189388275\n"
     ]
    },
    {
     "name": "stderr",
     "output_type": "stream",
     "text": [
      "D:\\Apps\\Anaconda\\envs\\ml\\lib\\site-packages\\sklearn\\metrics\\_classification.py:1308: UndefinedMetricWarning: Precision is ill-defined and being set to 0.0 in labels with no predicted samples. Use `zero_division` parameter to control this behavior.\n",
      "  _warn_prf(average, modifier, msg_start, len(result))\n"
     ]
    },
    {
     "name": "stdout",
     "output_type": "stream",
     "text": [
      "Run 8/10\n",
      "Epoch: 0/2, Batch: 0/313, Loss: 0.6471278071403503\n",
      "Epoch: 0/2, Batch: 31/313, Loss: 0.4308311939239502\n",
      "Epoch: 0/2, Batch: 62/313, Loss: 0.4478403925895691\n",
      "Epoch: 0/2, Batch: 93/313, Loss: 0.26143085956573486\n",
      "Epoch: 0/2, Batch: 124/313, Loss: 0.3187120854854584\n",
      "Epoch: 0/2, Batch: 155/313, Loss: 0.39179354906082153\n",
      "Epoch: 0/2, Batch: 186/313, Loss: 0.5162989497184753\n",
      "Epoch: 0/2, Batch: 217/313, Loss: 0.16239643096923828\n",
      "Epoch: 0/2, Batch: 248/313, Loss: 0.12672996520996094\n",
      "Epoch: 0/2, Batch: 279/313, Loss: 0.1677028387784958\n",
      "Epoch: 0/2, Batch: 310/313, Loss: 0.1153184026479721\n",
      "Epoch: 1/2, Batch: 0/313, Loss: 0.13390100002288818\n",
      "Epoch: 1/2, Batch: 31/313, Loss: 0.07043486088514328\n",
      "Epoch: 1/2, Batch: 62/313, Loss: 0.1363145411014557\n",
      "Epoch: 1/2, Batch: 93/313, Loss: 0.2196444571018219\n",
      "Epoch: 1/2, Batch: 124/313, Loss: 0.20731036365032196\n",
      "Epoch: 1/2, Batch: 155/313, Loss: 0.07463474571704865\n",
      "Epoch: 1/2, Batch: 186/313, Loss: 0.05170178413391113\n",
      "Epoch: 1/2, Batch: 217/313, Loss: 0.4081498980522156\n",
      "Epoch: 1/2, Batch: 248/313, Loss: 0.3539850115776062\n",
      "Epoch: 1/2, Batch: 279/313, Loss: 0.058510325849056244\n",
      "Epoch: 1/2, Batch: 310/313, Loss: 0.02814476191997528\n"
     ]
    },
    {
     "name": "stderr",
     "output_type": "stream",
     "text": [
      "D:\\Apps\\Anaconda\\envs\\ml\\lib\\site-packages\\sklearn\\metrics\\_classification.py:1308: UndefinedMetricWarning: Precision is ill-defined and being set to 0.0 in labels with no predicted samples. Use `zero_division` parameter to control this behavior.\n",
      "  _warn_prf(average, modifier, msg_start, len(result))\n"
     ]
    },
    {
     "name": "stdout",
     "output_type": "stream",
     "text": [
      "Run 9/10\n",
      "Epoch: 0/2, Batch: 0/313, Loss: 0.8291071653366089\n",
      "Epoch: 0/2, Batch: 31/313, Loss: 0.6433000564575195\n",
      "Epoch: 0/2, Batch: 62/313, Loss: 0.38120850920677185\n",
      "Epoch: 0/2, Batch: 93/313, Loss: 0.3563120365142822\n",
      "Epoch: 0/2, Batch: 124/313, Loss: 0.3736670911312103\n",
      "Epoch: 0/2, Batch: 155/313, Loss: 0.3583146035671234\n",
      "Epoch: 0/2, Batch: 186/313, Loss: 0.4057040214538574\n",
      "Epoch: 0/2, Batch: 217/313, Loss: 0.29249581694602966\n",
      "Epoch: 0/2, Batch: 248/313, Loss: 0.25716280937194824\n",
      "Epoch: 0/2, Batch: 279/313, Loss: 0.38166946172714233\n",
      "Epoch: 0/2, Batch: 310/313, Loss: 0.12228326499462128\n",
      "Epoch: 1/2, Batch: 0/313, Loss: 0.18159125745296478\n",
      "Epoch: 1/2, Batch: 31/313, Loss: 0.15389476716518402\n",
      "Epoch: 1/2, Batch: 62/313, Loss: 0.15118065476417542\n",
      "Epoch: 1/2, Batch: 93/313, Loss: 0.39233654737472534\n",
      "Epoch: 1/2, Batch: 124/313, Loss: 0.11781491339206696\n",
      "Epoch: 1/2, Batch: 155/313, Loss: 0.10082535445690155\n",
      "Epoch: 1/2, Batch: 186/313, Loss: 0.409903347492218\n",
      "Epoch: 1/2, Batch: 217/313, Loss: 0.11344379186630249\n",
      "Epoch: 1/2, Batch: 248/313, Loss: 0.15984700620174408\n",
      "Epoch: 1/2, Batch: 279/313, Loss: 0.3861905038356781\n",
      "Epoch: 1/2, Batch: 310/313, Loss: 0.05604248866438866\n"
     ]
    },
    {
     "name": "stderr",
     "output_type": "stream",
     "text": [
      "D:\\Apps\\Anaconda\\envs\\ml\\lib\\site-packages\\sklearn\\metrics\\_classification.py:1308: UndefinedMetricWarning: Precision is ill-defined and being set to 0.0 in labels with no predicted samples. Use `zero_division` parameter to control this behavior.\n",
      "  _warn_prf(average, modifier, msg_start, len(result))\n"
     ]
    },
    {
     "name": "stdout",
     "output_type": "stream",
     "text": [
      "Run 10/10\n",
      "Epoch: 0/2, Batch: 0/313, Loss: 0.8231021761894226\n",
      "Epoch: 0/2, Batch: 31/313, Loss: 0.6095651388168335\n",
      "Epoch: 0/2, Batch: 62/313, Loss: 0.49971359968185425\n",
      "Epoch: 0/2, Batch: 93/313, Loss: 0.4496971368789673\n",
      "Epoch: 0/2, Batch: 124/313, Loss: 0.41186952590942383\n",
      "Epoch: 0/2, Batch: 155/313, Loss: 0.31987789273262024\n",
      "Epoch: 0/2, Batch: 186/313, Loss: 0.49088382720947266\n",
      "Epoch: 0/2, Batch: 217/313, Loss: 0.39992642402648926\n",
      "Epoch: 0/2, Batch: 248/313, Loss: 0.3761046826839447\n",
      "Epoch: 0/2, Batch: 279/313, Loss: 0.15212470293045044\n",
      "Epoch: 0/2, Batch: 310/313, Loss: 0.15819814801216125\n",
      "Epoch: 1/2, Batch: 0/313, Loss: 0.16191069781780243\n",
      "Epoch: 1/2, Batch: 31/313, Loss: 0.1084735095500946\n",
      "Epoch: 1/2, Batch: 62/313, Loss: 0.2785627245903015\n",
      "Epoch: 1/2, Batch: 93/313, Loss: 0.26461392641067505\n",
      "Epoch: 1/2, Batch: 124/313, Loss: 0.12940561771392822\n",
      "Epoch: 1/2, Batch: 155/313, Loss: 0.3989400267601013\n",
      "Epoch: 1/2, Batch: 186/313, Loss: 0.49926209449768066\n",
      "Epoch: 1/2, Batch: 217/313, Loss: 0.1186811774969101\n",
      "Epoch: 1/2, Batch: 248/313, Loss: 0.7025386691093445\n",
      "Epoch: 1/2, Batch: 279/313, Loss: 0.07356279343366623\n",
      "Epoch: 1/2, Batch: 310/313, Loss: 0.3764989376068115\n"
     ]
    },
    {
     "name": "stderr",
     "output_type": "stream",
     "text": [
      "D:\\Apps\\Anaconda\\envs\\ml\\lib\\site-packages\\sklearn\\metrics\\_classification.py:1308: UndefinedMetricWarning: Precision is ill-defined and being set to 0.0 in labels with no predicted samples. Use `zero_division` parameter to control this behavior.\n",
      "  _warn_prf(average, modifier, msg_start, len(result))\n"
     ]
    }
   ],
   "source": [
    "for i in range(10):\n",
    "    # clear cache cuda\n",
    "    torch.cuda.empty_cache()\n",
    "    with torch.no_grad():\n",
    "        torch.cuda.empty_cache()\n",
    "    gc.collect()\n",
    "\n",
    "    start_time = time.time()\n",
    "\n",
    "    print(f\"Run {i + 1}/10\")\n",
    "\n",
    "    train_dataset = df.sample(frac=TRAIN_SPLIT)\n",
    "    test_dataset = df.drop(train_dataset.index).reset_index(drop=True)\n",
    "    train_dataset = train_dataset.reset_index(drop=True)\n",
    "\n",
    "    training_set = InputDataset(train_dataset, tokenizer)\n",
    "    testing_set = InputDataset(test_dataset, tokenizer)\n",
    "\n",
    "    train_dataloader = DataLoader(\n",
    "        training_set,\n",
    "        sampler = RandomSampler(train_dataset),\n",
    "        batch_size = TRAIN_BATCH_SIZE,\n",
    "        drop_last = True\n",
    "    )\n",
    "\n",
    "    validation_dataloader = DataLoader(\n",
    "        testing_set,\n",
    "        sampler = SequentialSampler(testing_set),\n",
    "        batch_size = VALID_BATCH_SIZE,\n",
    "        drop_last = True\n",
    "    )\n",
    "\n",
    "    model = SA_BERT_Dropout_Linear(BertModel.from_pretrained('bert-base-uncased'), dropout=0.3, no_out_labels=3, device=device).to(device)\n",
    "\n",
    "    optimizer = torch.optim.Adam(params = model.parameters(), lr=LEARNING_RATE)\n",
    "    loss_fn = torch.nn.BCEWithLogitsLoss()\n",
    "\n",
    "    for epoch in range(EPOCHS):\n",
    "        train(epoch, model, loss_fn, optimizer, train_dataloader)\n",
    "\n",
    "    outputs, targets = validation(model, validation_dataloader)\n",
    "    outputs = np.argmax(outputs, axis=1)\n",
    "    targets = np.argmax(targets, axis=1)\n",
    "    \n",
    "    accuracy = accuracy_score(targets, outputs)\n",
    "    precision_score_micro = precision_score(targets, outputs, average='micro')\n",
    "    precision_score_macro = precision_score(targets, outputs, average='macro')\n",
    "    recall_score_micro = recall_score(targets, outputs, average='micro')\n",
    "    recall_score_macro = recall_score(targets, outputs, average='macro')\n",
    "    f1_score_micro = f1_score(targets, outputs, average='micro')\n",
    "    f1_score_macro = f1_score(targets, outputs, average='macro')\n",
    "\n",
    "    execution_time = time.time() - start_time\n",
    "\n",
    "    results.loc[i] = [accuracy,precision_score_micro,precision_score_macro,recall_score_micro,recall_score_macro,f1_score_micro,f1_score_macro, execution_time]\n",
    "\n",
    "    if accuracy > best_accuracy:\n",
    "        best_accuracy = accuracy\n",
    "        torch.save(model.bert, BERT_FINE_TUNED_OUTPUT)\n",
    "        torch.save(model, MODEL_OUTPUT)\n",
    "\n",
    "    del train_dataset\n",
    "    del test_dataset\n",
    "    del training_set\n",
    "    del testing_set\n",
    "    del model\n",
    "    del loss_fn\n",
    "    del optimizer\n",
    "    del outputs\n",
    "    del targets"
   ]
  },
  {
   "cell_type": "code",
   "execution_count": 17,
   "metadata": {},
   "outputs": [
    {
     "data": {
      "text/html": [
       "<div>\n",
       "<style scoped>\n",
       "    .dataframe tbody tr th:only-of-type {\n",
       "        vertical-align: middle;\n",
       "    }\n",
       "\n",
       "    .dataframe tbody tr th {\n",
       "        vertical-align: top;\n",
       "    }\n",
       "\n",
       "    .dataframe thead th {\n",
       "        text-align: right;\n",
       "    }\n",
       "</style>\n",
       "<table border=\"1\" class=\"dataframe\">\n",
       "  <thead>\n",
       "    <tr style=\"text-align: right;\">\n",
       "      <th></th>\n",
       "      <th>accuracy</th>\n",
       "      <th>precision_score_micro</th>\n",
       "      <th>precision_score_macro</th>\n",
       "      <th>recall_score_micro</th>\n",
       "      <th>recall_score_macro</th>\n",
       "      <th>f1_score_micro</th>\n",
       "      <th>f1_score_macro</th>\n",
       "      <th>execution_time</th>\n",
       "    </tr>\n",
       "  </thead>\n",
       "  <tbody>\n",
       "    <tr>\n",
       "      <th>0</th>\n",
       "      <td>0.894231</td>\n",
       "      <td>0.894231</td>\n",
       "      <td>0.597084</td>\n",
       "      <td>0.894231</td>\n",
       "      <td>0.591830</td>\n",
       "      <td>0.894231</td>\n",
       "      <td>0.592882</td>\n",
       "      <td>206.694469</td>\n",
       "    </tr>\n",
       "    <tr>\n",
       "      <th>1</th>\n",
       "      <td>0.849359</td>\n",
       "      <td>0.849359</td>\n",
       "      <td>0.556800</td>\n",
       "      <td>0.849359</td>\n",
       "      <td>0.603103</td>\n",
       "      <td>0.849359</td>\n",
       "      <td>0.568444</td>\n",
       "      <td>197.642759</td>\n",
       "    </tr>\n",
       "    <tr>\n",
       "      <th>2</th>\n",
       "      <td>0.907051</td>\n",
       "      <td>0.907051</td>\n",
       "      <td>0.595715</td>\n",
       "      <td>0.907051</td>\n",
       "      <td>0.626766</td>\n",
       "      <td>0.907051</td>\n",
       "      <td>0.610431</td>\n",
       "      <td>199.676465</td>\n",
       "    </tr>\n",
       "    <tr>\n",
       "      <th>3</th>\n",
       "      <td>0.881410</td>\n",
       "      <td>0.881410</td>\n",
       "      <td>0.586310</td>\n",
       "      <td>0.881410</td>\n",
       "      <td>0.593438</td>\n",
       "      <td>0.881410</td>\n",
       "      <td>0.589028</td>\n",
       "      <td>198.570202</td>\n",
       "    </tr>\n",
       "    <tr>\n",
       "      <th>4</th>\n",
       "      <td>0.868590</td>\n",
       "      <td>0.868590</td>\n",
       "      <td>0.572546</td>\n",
       "      <td>0.868590</td>\n",
       "      <td>0.568046</td>\n",
       "      <td>0.868590</td>\n",
       "      <td>0.568607</td>\n",
       "      <td>198.737928</td>\n",
       "    </tr>\n",
       "    <tr>\n",
       "      <th>5</th>\n",
       "      <td>0.849359</td>\n",
       "      <td>0.849359</td>\n",
       "      <td>0.548030</td>\n",
       "      <td>0.849359</td>\n",
       "      <td>0.599074</td>\n",
       "      <td>0.849359</td>\n",
       "      <td>0.568938</td>\n",
       "      <td>198.109338</td>\n",
       "    </tr>\n",
       "    <tr>\n",
       "      <th>6</th>\n",
       "      <td>0.894231</td>\n",
       "      <td>0.894231</td>\n",
       "      <td>0.581734</td>\n",
       "      <td>0.894231</td>\n",
       "      <td>0.614052</td>\n",
       "      <td>0.894231</td>\n",
       "      <td>0.596886</td>\n",
       "      <td>197.536018</td>\n",
       "    </tr>\n",
       "    <tr>\n",
       "      <th>7</th>\n",
       "      <td>0.913462</td>\n",
       "      <td>0.913462</td>\n",
       "      <td>0.605322</td>\n",
       "      <td>0.913462</td>\n",
       "      <td>0.614630</td>\n",
       "      <td>0.913462</td>\n",
       "      <td>0.609851</td>\n",
       "      <td>198.161038</td>\n",
       "    </tr>\n",
       "    <tr>\n",
       "      <th>8</th>\n",
       "      <td>0.900641</td>\n",
       "      <td>0.900641</td>\n",
       "      <td>0.588424</td>\n",
       "      <td>0.900641</td>\n",
       "      <td>0.622112</td>\n",
       "      <td>0.900641</td>\n",
       "      <td>0.603145</td>\n",
       "      <td>197.508012</td>\n",
       "    </tr>\n",
       "    <tr>\n",
       "      <th>9</th>\n",
       "      <td>0.871795</td>\n",
       "      <td>0.871795</td>\n",
       "      <td>0.569354</td>\n",
       "      <td>0.871795</td>\n",
       "      <td>0.598549</td>\n",
       "      <td>0.871795</td>\n",
       "      <td>0.583549</td>\n",
       "      <td>197.437127</td>\n",
       "    </tr>\n",
       "  </tbody>\n",
       "</table>\n",
       "</div>"
      ],
      "text/plain": [
       "   accuracy  precision_score_micro  precision_score_macro  recall_score_micro  \\\n",
       "0  0.894231               0.894231               0.597084            0.894231   \n",
       "1  0.849359               0.849359               0.556800            0.849359   \n",
       "2  0.907051               0.907051               0.595715            0.907051   \n",
       "3  0.881410               0.881410               0.586310            0.881410   \n",
       "4  0.868590               0.868590               0.572546            0.868590   \n",
       "5  0.849359               0.849359               0.548030            0.849359   \n",
       "6  0.894231               0.894231               0.581734            0.894231   \n",
       "7  0.913462               0.913462               0.605322            0.913462   \n",
       "8  0.900641               0.900641               0.588424            0.900641   \n",
       "9  0.871795               0.871795               0.569354            0.871795   \n",
       "\n",
       "   recall_score_macro  f1_score_micro  f1_score_macro  execution_time  \n",
       "0            0.591830        0.894231        0.592882      206.694469  \n",
       "1            0.603103        0.849359        0.568444      197.642759  \n",
       "2            0.626766        0.907051        0.610431      199.676465  \n",
       "3            0.593438        0.881410        0.589028      198.570202  \n",
       "4            0.568046        0.868590        0.568607      198.737928  \n",
       "5            0.599074        0.849359        0.568938      198.109338  \n",
       "6            0.614052        0.894231        0.596886      197.536018  \n",
       "7            0.614630        0.913462        0.609851      198.161038  \n",
       "8            0.622112        0.900641        0.603145      197.508012  \n",
       "9            0.598549        0.871795        0.583549      197.437127  "
      ]
     },
     "execution_count": 17,
     "metadata": {},
     "output_type": "execute_result"
    }
   ],
   "source": [
    "results"
   ]
  },
  {
   "cell_type": "code",
   "execution_count": 18,
   "metadata": {},
   "outputs": [],
   "source": [
    "results.to_csv(STATS_OUTPUT)"
   ]
  }
 ],
 "metadata": {
  "interpreter": {
   "hash": "60f74211c8095d4d69bea747ac312f2fd52777f7ee1c791c3155581964756685"
  },
  "kernelspec": {
   "display_name": "Python 3.9.7 ('ml')",
   "language": "python",
   "name": "python3"
  },
  "language_info": {
   "codemirror_mode": {
    "name": "ipython",
    "version": 3
   },
   "file_extension": ".py",
   "mimetype": "text/x-python",
   "name": "python",
   "nbconvert_exporter": "python",
   "pygments_lexer": "ipython3",
   "version": "3.9.7"
  },
  "orig_nbformat": 4
 },
 "nbformat": 4,
 "nbformat_minor": 2
}
