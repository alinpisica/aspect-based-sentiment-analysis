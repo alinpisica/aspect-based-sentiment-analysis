{
 "cells": [
  {
   "cell_type": "markdown",
   "metadata": {},
   "source": [
    "# Import dependencies"
   ]
  },
  {
   "cell_type": "code",
   "execution_count": null,
   "metadata": {},
   "outputs": [],
   "source": [
    "import os\n",
    "import sys\n",
    "\n",
    "sys.path.insert(0, os.path.dirname(os.getcwd())) "
   ]
  },
  {
   "cell_type": "code",
   "execution_count": 1,
   "metadata": {},
   "outputs": [],
   "source": [
    "import time\n",
    "import gc\n",
    "\n",
    "import numpy as np\n",
    "import pandas as pd\n",
    "\n",
    "from transformers import BertTokenizer, BertModel\n",
    "from transformers import logging\n",
    "\n",
    "from sklearn.metrics import f1_score, accuracy_score, precision_score, recall_score\n",
    "\n",
    "from semeval_reader import SemevalReader\n",
    "\n",
    "from InputDataset import InputDataset\n",
    "\n",
    "import torch\n",
    "from torch.utils.data import DataLoader, RandomSampler, SequentialSampler\n",
    "\n",
    "from torch import cuda\n",
    "\n",
    "from models.BERT_Dropout_Linear import BERT_Dropout_Linear"
   ]
  },
  {
   "cell_type": "code",
   "execution_count": 2,
   "metadata": {},
   "outputs": [],
   "source": [
    "device = 'cuda' if cuda.is_available() else 'cpu'\n",
    "logging.set_verbosity_error() "
   ]
  },
  {
   "cell_type": "code",
   "execution_count": 3,
   "metadata": {},
   "outputs": [
    {
     "name": "stdout",
     "output_type": "stream",
     "text": [
      "NVIDIA GeForce RTX 2060 SUPER\n",
      "Memory: 8 GB\n"
     ]
    }
   ],
   "source": [
    "print(torch.cuda.get_device_name(0))\n",
    "print(f\"Memory: {torch.cuda.get_device_properties(0).total_memory // 1024 ** 3} GB\")"
   ]
  },
  {
   "cell_type": "code",
   "execution_count": 4,
   "metadata": {},
   "outputs": [],
   "source": [
    "def clear_memory():\n",
    "    torch.cuda.empty_cache()\n",
    "\n",
    "    with torch.no_grad():\n",
    "        torch.cuda.empty_cache()\n",
    "\n",
    "    gc.collect()"
   ]
  },
  {
   "cell_type": "markdown",
   "metadata": {},
   "source": [
    "# Load Data"
   ]
  },
  {
   "cell_type": "code",
   "execution_count": 5,
   "metadata": {},
   "outputs": [],
   "source": [
    "def get_target_list_for_polarity(polarity):\n",
    "    if polarity == 'positive':\n",
    "        return [0, 0, 1]\n",
    "    if polarity == 'negative':\n",
    "        return [1, 0, 0]\n",
    "    return [0, 1, 0]"
   ]
  },
  {
   "cell_type": "code",
   "execution_count": 6,
   "metadata": {},
   "outputs": [],
   "source": [
    "semeval_reader = SemevalReader('../../../data/semeval16_restaurants_train.xml')\n",
    "\n",
    "reviews = semeval_reader.read_reviews()\n",
    "absolute_polarity_sentences = semeval_reader.get_absolute_polarity_sentences()\n",
    "\n",
    "df = pd.DataFrame(map(lambda x: (x.text, x.opinions[0].polarity), absolute_polarity_sentences))\n",
    "df.rename(columns={0: 'text'}, inplace=True)\n",
    "df['target_list'] = df.apply(lambda row: get_target_list_for_polarity(row[1]), axis=1)\n",
    "\n",
    "absolute_polarity_df = df.drop(columns=[1])"
   ]
  },
  {
   "cell_type": "markdown",
   "metadata": {},
   "source": [
    "# Train & Validate"
   ]
  },
  {
   "cell_type": "code",
   "execution_count": 7,
   "metadata": {},
   "outputs": [],
   "source": [
    "TRAIN_BATCH_SIZE = 4\n",
    "VALID_BATCH_SIZE = 4\n",
    "\n",
    "EPOCHS = 2\n",
    "\n",
    "LEARNING_RATE = 1e-5\n",
    "\n",
    "TRAIN_SPLIT = 0.8\n",
    "\n",
    "NO_RUNS = 10"
   ]
  },
  {
   "cell_type": "code",
   "execution_count": 8,
   "metadata": {},
   "outputs": [],
   "source": [
    "MODEL_OUTPUT = '../../../results/SA/SemEval16 - Task 5 - Restaurants/models/bert_fine_tuned.pth'\n",
    "STATS_OUTPUT = '../../../results/SA/SemEval16 - Task 5 - Restaurants/stats/bert_pre_trained_dropout_linear.csv'"
   ]
  },
  {
   "cell_type": "code",
   "execution_count": 9,
   "metadata": {},
   "outputs": [],
   "source": [
    "tokenizer = BertTokenizer.from_pretrained('bert-base-uncased')"
   ]
  },
  {
   "cell_type": "code",
   "execution_count": 10,
   "metadata": {},
   "outputs": [],
   "source": [
    "best_accuracy = 0.0"
   ]
  },
  {
   "cell_type": "code",
   "execution_count": 11,
   "metadata": {},
   "outputs": [],
   "source": [
    "def train(epoch, model, loss_fn, optimizer, dataloader):\n",
    "    model.train()\n",
    "\n",
    "    dataloader_len = len(dataloader)\n",
    "\n",
    "    for _,data in enumerate(dataloader, 0):\n",
    "        optimizer.zero_grad()\n",
    "\n",
    "        ids = data['ids'].to(device, dtype = torch.long)\n",
    "        mask = data['mask'].to(device, dtype = torch.long)\n",
    "        token_type_ids = data['token_type_ids'].to(device, dtype = torch.long)\n",
    "        targets = data['targets'].to(device, dtype = torch.float)\n",
    "\n",
    "        outputs = model(ids, mask, token_type_ids)\n",
    "\n",
    "        loss = loss_fn(outputs, targets)\n",
    "        \n",
    "        if _ % (dataloader_len // 10) == 0:\n",
    "            print(f\"Epoch: {epoch}/{EPOCHS}, Batch: {_}/{dataloader_len}, Loss: {loss.item()}\")\n",
    "        \n",
    "        loss.backward()\n",
    "        \n",
    "        optimizer.step()"
   ]
  },
  {
   "cell_type": "code",
   "execution_count": 12,
   "metadata": {},
   "outputs": [],
   "source": [
    "def validation(model, dataloader):\n",
    "    model.eval()\n",
    "    \n",
    "    fin_targets=[]\n",
    "    fin_outputs=[]\n",
    "\n",
    "    with torch.no_grad():\n",
    "        for _, data in enumerate(dataloader, 0):\n",
    "            ids = data['ids'].to(device, dtype = torch.long)\n",
    "            mask = data['mask'].to(device, dtype = torch.long)\n",
    "            token_type_ids = data['token_type_ids'].to(device, dtype = torch.long)\n",
    "            targets = data['targets'].to(device, dtype = torch.float)\n",
    "\n",
    "            outputs = model(ids, mask, token_type_ids)\n",
    "            \n",
    "            fin_targets.extend(targets.cpu().detach().numpy().tolist())\n",
    "            fin_outputs.extend(torch.sigmoid(outputs).cpu().detach().numpy().tolist())\n",
    "\n",
    "    return fin_outputs, fin_targets"
   ]
  },
  {
   "cell_type": "code",
   "execution_count": 13,
   "metadata": {},
   "outputs": [],
   "source": [
    "results = pd.DataFrame(columns=['accuracy','precision_score_micro','precision_score_macro','recall_score_micro','recall_score_macro','f1_score_micro','f1_score_macro', 'execution_time'])"
   ]
  },
  {
   "cell_type": "code",
   "execution_count": 14,
   "metadata": {},
   "outputs": [
    {
     "name": "stdout",
     "output_type": "stream",
     "text": [
      "Run 1/10\n",
      "Epoch: 0/2, Batch: 0/313, Loss: 0.8135584592819214\n",
      "Epoch: 0/2, Batch: 31/313, Loss: 0.6470083594322205\n",
      "Epoch: 0/2, Batch: 62/313, Loss: 0.499563068151474\n",
      "Epoch: 0/2, Batch: 93/313, Loss: 0.4776678681373596\n",
      "Epoch: 0/2, Batch: 124/313, Loss: 0.34995603561401367\n",
      "Epoch: 0/2, Batch: 155/313, Loss: 0.1958431452512741\n",
      "Epoch: 0/2, Batch: 186/313, Loss: 0.2779799699783325\n",
      "Epoch: 0/2, Batch: 217/313, Loss: 0.20088832080364227\n",
      "Epoch: 0/2, Batch: 248/313, Loss: 0.22771942615509033\n",
      "Epoch: 0/2, Batch: 279/313, Loss: 0.1353072226047516\n",
      "Epoch: 0/2, Batch: 310/313, Loss: 0.06596636027097702\n",
      "Epoch: 1/2, Batch: 0/313, Loss: 0.06889650225639343\n",
      "Epoch: 1/2, Batch: 31/313, Loss: 0.13402268290519714\n",
      "Epoch: 1/2, Batch: 62/313, Loss: 0.05303209275007248\n",
      "Epoch: 1/2, Batch: 93/313, Loss: 0.11233144253492355\n",
      "Epoch: 1/2, Batch: 124/313, Loss: 0.09338028728961945\n",
      "Epoch: 1/2, Batch: 155/313, Loss: 0.3873445391654968\n",
      "Epoch: 1/2, Batch: 186/313, Loss: 0.06349997222423553\n",
      "Epoch: 1/2, Batch: 217/313, Loss: 0.032590143382549286\n",
      "Epoch: 1/2, Batch: 248/313, Loss: 0.051336657255887985\n",
      "Epoch: 1/2, Batch: 279/313, Loss: 0.05388706550002098\n",
      "Epoch: 1/2, Batch: 310/313, Loss: 0.0677054151892662\n"
     ]
    },
    {
     "name": "stderr",
     "output_type": "stream",
     "text": [
      "D:\\Apps\\Anaconda\\envs\\ml\\lib\\site-packages\\sklearn\\metrics\\_classification.py:1308: UndefinedMetricWarning: Precision is ill-defined and being set to 0.0 in labels with no predicted samples. Use `zero_division` parameter to control this behavior.\n",
      "  _warn_prf(average, modifier, msg_start, len(result))\n"
     ]
    },
    {
     "name": "stdout",
     "output_type": "stream",
     "text": [
      "Run 2/10\n",
      "Epoch: 0/2, Batch: 0/313, Loss: 0.6951073408126831\n",
      "Epoch: 0/2, Batch: 31/313, Loss: 0.41582173109054565\n",
      "Epoch: 0/2, Batch: 62/313, Loss: 0.514755129814148\n",
      "Epoch: 0/2, Batch: 93/313, Loss: 0.42834794521331787\n",
      "Epoch: 0/2, Batch: 124/313, Loss: 0.19163423776626587\n",
      "Epoch: 0/2, Batch: 155/313, Loss: 0.1639644205570221\n",
      "Epoch: 0/2, Batch: 186/313, Loss: 0.32411250472068787\n",
      "Epoch: 0/2, Batch: 217/313, Loss: 0.17019063234329224\n",
      "Epoch: 0/2, Batch: 248/313, Loss: 0.5374182462692261\n",
      "Epoch: 0/2, Batch: 279/313, Loss: 0.1017962321639061\n",
      "Epoch: 0/2, Batch: 310/313, Loss: 0.2698870599269867\n",
      "Epoch: 1/2, Batch: 0/313, Loss: 0.6076891422271729\n",
      "Epoch: 1/2, Batch: 31/313, Loss: 0.3124878704547882\n",
      "Epoch: 1/2, Batch: 62/313, Loss: 0.13232654333114624\n",
      "Epoch: 1/2, Batch: 93/313, Loss: 0.051659248769283295\n",
      "Epoch: 1/2, Batch: 124/313, Loss: 0.0628635585308075\n",
      "Epoch: 1/2, Batch: 155/313, Loss: 0.035960763692855835\n",
      "Epoch: 1/2, Batch: 186/313, Loss: 0.08989375829696655\n",
      "Epoch: 1/2, Batch: 217/313, Loss: 0.04764685034751892\n",
      "Epoch: 1/2, Batch: 248/313, Loss: 0.053180307149887085\n",
      "Epoch: 1/2, Batch: 279/313, Loss: 0.059164583683013916\n",
      "Epoch: 1/2, Batch: 310/313, Loss: 0.07045696675777435\n"
     ]
    },
    {
     "name": "stderr",
     "output_type": "stream",
     "text": [
      "D:\\Apps\\Anaconda\\envs\\ml\\lib\\site-packages\\sklearn\\metrics\\_classification.py:1308: UndefinedMetricWarning: Precision is ill-defined and being set to 0.0 in labels with no predicted samples. Use `zero_division` parameter to control this behavior.\n",
      "  _warn_prf(average, modifier, msg_start, len(result))\n"
     ]
    },
    {
     "name": "stdout",
     "output_type": "stream",
     "text": [
      "Run 3/10\n",
      "Epoch: 0/2, Batch: 0/313, Loss: 0.7720322608947754\n",
      "Epoch: 0/2, Batch: 31/313, Loss: 0.556869626045227\n",
      "Epoch: 0/2, Batch: 62/313, Loss: 0.5700375437736511\n",
      "Epoch: 0/2, Batch: 93/313, Loss: 0.5994336009025574\n",
      "Epoch: 0/2, Batch: 124/313, Loss: 0.5111494064331055\n",
      "Epoch: 0/2, Batch: 155/313, Loss: 0.3409075438976288\n",
      "Epoch: 0/2, Batch: 186/313, Loss: 0.2673484981060028\n",
      "Epoch: 0/2, Batch: 217/313, Loss: 0.19411611557006836\n",
      "Epoch: 0/2, Batch: 248/313, Loss: 0.26490139961242676\n",
      "Epoch: 0/2, Batch: 279/313, Loss: 0.6527553796768188\n",
      "Epoch: 0/2, Batch: 310/313, Loss: 0.12804780900478363\n",
      "Epoch: 1/2, Batch: 0/313, Loss: 0.3928905427455902\n",
      "Epoch: 1/2, Batch: 31/313, Loss: 0.14158225059509277\n",
      "Epoch: 1/2, Batch: 62/313, Loss: 0.12707266211509705\n",
      "Epoch: 1/2, Batch: 93/313, Loss: 0.06748398393392563\n",
      "Epoch: 1/2, Batch: 124/313, Loss: 0.30842864513397217\n",
      "Epoch: 1/2, Batch: 155/313, Loss: 0.20613479614257812\n",
      "Epoch: 1/2, Batch: 186/313, Loss: 0.3039252758026123\n",
      "Epoch: 1/2, Batch: 217/313, Loss: 0.05753002315759659\n",
      "Epoch: 1/2, Batch: 248/313, Loss: 0.03701440617442131\n",
      "Epoch: 1/2, Batch: 279/313, Loss: 0.055582620203495026\n",
      "Epoch: 1/2, Batch: 310/313, Loss: 0.026508359238505363\n"
     ]
    },
    {
     "name": "stderr",
     "output_type": "stream",
     "text": [
      "D:\\Apps\\Anaconda\\envs\\ml\\lib\\site-packages\\sklearn\\metrics\\_classification.py:1308: UndefinedMetricWarning: Precision is ill-defined and being set to 0.0 in labels with no predicted samples. Use `zero_division` parameter to control this behavior.\n",
      "  _warn_prf(average, modifier, msg_start, len(result))\n"
     ]
    },
    {
     "name": "stdout",
     "output_type": "stream",
     "text": [
      "Run 4/10\n",
      "Epoch: 0/2, Batch: 0/313, Loss: 0.6393111348152161\n",
      "Epoch: 0/2, Batch: 31/313, Loss: 0.5059399008750916\n",
      "Epoch: 0/2, Batch: 62/313, Loss: 0.5409404635429382\n",
      "Epoch: 0/2, Batch: 93/313, Loss: 0.4267091155052185\n",
      "Epoch: 0/2, Batch: 124/313, Loss: 0.3505723178386688\n",
      "Epoch: 0/2, Batch: 155/313, Loss: 0.8488353490829468\n",
      "Epoch: 0/2, Batch: 186/313, Loss: 0.31003719568252563\n",
      "Epoch: 0/2, Batch: 217/313, Loss: 0.13435609638690948\n",
      "Epoch: 0/2, Batch: 248/313, Loss: 0.19667381048202515\n",
      "Epoch: 0/2, Batch: 279/313, Loss: 0.1810721606016159\n",
      "Epoch: 0/2, Batch: 310/313, Loss: 0.47617995738983154\n",
      "Epoch: 1/2, Batch: 0/313, Loss: 0.155410498380661\n",
      "Epoch: 1/2, Batch: 31/313, Loss: 0.3115243911743164\n",
      "Epoch: 1/2, Batch: 62/313, Loss: 0.12059950083494186\n",
      "Epoch: 1/2, Batch: 93/313, Loss: 0.035972341895103455\n",
      "Epoch: 1/2, Batch: 124/313, Loss: 0.07057766616344452\n",
      "Epoch: 1/2, Batch: 155/313, Loss: 1.054293155670166\n",
      "Epoch: 1/2, Batch: 186/313, Loss: 0.3555651903152466\n",
      "Epoch: 1/2, Batch: 217/313, Loss: 0.05210205912590027\n",
      "Epoch: 1/2, Batch: 248/313, Loss: 0.10034309327602386\n",
      "Epoch: 1/2, Batch: 279/313, Loss: 0.04501957446336746\n",
      "Epoch: 1/2, Batch: 310/313, Loss: 0.04334765300154686\n"
     ]
    },
    {
     "name": "stderr",
     "output_type": "stream",
     "text": [
      "D:\\Apps\\Anaconda\\envs\\ml\\lib\\site-packages\\sklearn\\metrics\\_classification.py:1308: UndefinedMetricWarning: Precision is ill-defined and being set to 0.0 in labels with no predicted samples. Use `zero_division` parameter to control this behavior.\n",
      "  _warn_prf(average, modifier, msg_start, len(result))\n"
     ]
    },
    {
     "name": "stdout",
     "output_type": "stream",
     "text": [
      "Run 5/10\n",
      "Epoch: 0/2, Batch: 0/313, Loss: 0.7282848358154297\n",
      "Epoch: 0/2, Batch: 31/313, Loss: 0.4992045760154724\n",
      "Epoch: 0/2, Batch: 62/313, Loss: 0.768202543258667\n",
      "Epoch: 0/2, Batch: 93/313, Loss: 0.37085962295532227\n",
      "Epoch: 0/2, Batch: 124/313, Loss: 0.3804178833961487\n",
      "Epoch: 0/2, Batch: 155/313, Loss: 0.45496630668640137\n",
      "Epoch: 0/2, Batch: 186/313, Loss: 0.31966665387153625\n",
      "Epoch: 0/2, Batch: 217/313, Loss: 0.13001202046871185\n",
      "Epoch: 0/2, Batch: 248/313, Loss: 0.3262258768081665\n",
      "Epoch: 0/2, Batch: 279/313, Loss: 0.20892584323883057\n",
      "Epoch: 0/2, Batch: 310/313, Loss: 0.09545151889324188\n",
      "Epoch: 1/2, Batch: 0/313, Loss: 0.10654284805059433\n",
      "Epoch: 1/2, Batch: 31/313, Loss: 0.11697613447904587\n",
      "Epoch: 1/2, Batch: 62/313, Loss: 0.044925980269908905\n",
      "Epoch: 1/2, Batch: 93/313, Loss: 0.22500726580619812\n",
      "Epoch: 1/2, Batch: 124/313, Loss: 0.05307605862617493\n",
      "Epoch: 1/2, Batch: 155/313, Loss: 0.06678053736686707\n",
      "Epoch: 1/2, Batch: 186/313, Loss: 0.061111778020858765\n",
      "Epoch: 1/2, Batch: 217/313, Loss: 0.09957629442214966\n",
      "Epoch: 1/2, Batch: 248/313, Loss: 0.5448561310768127\n",
      "Epoch: 1/2, Batch: 279/313, Loss: 0.05160554498434067\n",
      "Epoch: 1/2, Batch: 310/313, Loss: 0.07474379986524582\n"
     ]
    },
    {
     "name": "stderr",
     "output_type": "stream",
     "text": [
      "D:\\Apps\\Anaconda\\envs\\ml\\lib\\site-packages\\sklearn\\metrics\\_classification.py:1308: UndefinedMetricWarning: Precision is ill-defined and being set to 0.0 in labels with no predicted samples. Use `zero_division` parameter to control this behavior.\n",
      "  _warn_prf(average, modifier, msg_start, len(result))\n"
     ]
    },
    {
     "name": "stdout",
     "output_type": "stream",
     "text": [
      "Run 6/10\n",
      "Epoch: 0/2, Batch: 0/313, Loss: 0.6581122875213623\n",
      "Epoch: 0/2, Batch: 31/313, Loss: 0.49423402547836304\n",
      "Epoch: 0/2, Batch: 62/313, Loss: 0.6310539245605469\n",
      "Epoch: 0/2, Batch: 93/313, Loss: 0.34446173906326294\n",
      "Epoch: 0/2, Batch: 124/313, Loss: 0.32063934206962585\n",
      "Epoch: 0/2, Batch: 155/313, Loss: 0.14304882287979126\n",
      "Epoch: 0/2, Batch: 186/313, Loss: 0.17665791511535645\n",
      "Epoch: 0/2, Batch: 217/313, Loss: 0.1837436556816101\n",
      "Epoch: 0/2, Batch: 248/313, Loss: 0.4151671826839447\n",
      "Epoch: 0/2, Batch: 279/313, Loss: 0.051669031381607056\n",
      "Epoch: 0/2, Batch: 310/313, Loss: 0.07439880073070526\n",
      "Epoch: 1/2, Batch: 0/313, Loss: 0.1109483391046524\n",
      "Epoch: 1/2, Batch: 31/313, Loss: 0.20460782945156097\n",
      "Epoch: 1/2, Batch: 62/313, Loss: 0.11655651032924652\n",
      "Epoch: 1/2, Batch: 93/313, Loss: 0.0628238245844841\n",
      "Epoch: 1/2, Batch: 124/313, Loss: 0.07661507278680801\n",
      "Epoch: 1/2, Batch: 155/313, Loss: 0.035909608006477356\n",
      "Epoch: 1/2, Batch: 186/313, Loss: 0.6083745956420898\n",
      "Epoch: 1/2, Batch: 217/313, Loss: 0.04937015101313591\n",
      "Epoch: 1/2, Batch: 248/313, Loss: 0.19370612502098083\n",
      "Epoch: 1/2, Batch: 279/313, Loss: 0.058280788362026215\n",
      "Epoch: 1/2, Batch: 310/313, Loss: 0.08218108117580414\n"
     ]
    },
    {
     "name": "stderr",
     "output_type": "stream",
     "text": [
      "D:\\Apps\\Anaconda\\envs\\ml\\lib\\site-packages\\sklearn\\metrics\\_classification.py:1308: UndefinedMetricWarning: Precision is ill-defined and being set to 0.0 in labels with no predicted samples. Use `zero_division` parameter to control this behavior.\n",
      "  _warn_prf(average, modifier, msg_start, len(result))\n"
     ]
    },
    {
     "name": "stdout",
     "output_type": "stream",
     "text": [
      "Run 7/10\n",
      "Epoch: 0/2, Batch: 0/313, Loss: 0.7746721506118774\n",
      "Epoch: 0/2, Batch: 31/313, Loss: 0.5889847278594971\n",
      "Epoch: 0/2, Batch: 62/313, Loss: 0.42400598526000977\n",
      "Epoch: 0/2, Batch: 93/313, Loss: 0.2658620774745941\n",
      "Epoch: 0/2, Batch: 124/313, Loss: 0.2650744915008545\n",
      "Epoch: 0/2, Batch: 155/313, Loss: 0.46192190051078796\n",
      "Epoch: 0/2, Batch: 186/313, Loss: 0.8510639071464539\n",
      "Epoch: 0/2, Batch: 217/313, Loss: 0.6271886229515076\n",
      "Epoch: 0/2, Batch: 248/313, Loss: 0.15678346157073975\n",
      "Epoch: 0/2, Batch: 279/313, Loss: 0.3224421739578247\n",
      "Epoch: 0/2, Batch: 310/313, Loss: 0.4628303050994873\n",
      "Epoch: 1/2, Batch: 0/313, Loss: 0.2079296112060547\n",
      "Epoch: 1/2, Batch: 31/313, Loss: 0.25567352771759033\n",
      "Epoch: 1/2, Batch: 62/313, Loss: 0.44476351141929626\n",
      "Epoch: 1/2, Batch: 93/313, Loss: 0.07715418189764023\n",
      "Epoch: 1/2, Batch: 124/313, Loss: 0.08695300668478012\n",
      "Epoch: 1/2, Batch: 155/313, Loss: 0.061430901288986206\n",
      "Epoch: 1/2, Batch: 186/313, Loss: 0.09561901539564133\n",
      "Epoch: 1/2, Batch: 217/313, Loss: 0.05592814087867737\n",
      "Epoch: 1/2, Batch: 248/313, Loss: 0.1957649439573288\n",
      "Epoch: 1/2, Batch: 279/313, Loss: 0.1957651972770691\n",
      "Epoch: 1/2, Batch: 310/313, Loss: 0.3082430064678192\n"
     ]
    },
    {
     "name": "stderr",
     "output_type": "stream",
     "text": [
      "D:\\Apps\\Anaconda\\envs\\ml\\lib\\site-packages\\sklearn\\metrics\\_classification.py:1308: UndefinedMetricWarning: Precision is ill-defined and being set to 0.0 in labels with no predicted samples. Use `zero_division` parameter to control this behavior.\n",
      "  _warn_prf(average, modifier, msg_start, len(result))\n"
     ]
    },
    {
     "name": "stdout",
     "output_type": "stream",
     "text": [
      "Run 8/10\n",
      "Epoch: 0/2, Batch: 0/313, Loss: 0.6540887355804443\n",
      "Epoch: 0/2, Batch: 31/313, Loss: 0.6353632807731628\n",
      "Epoch: 0/2, Batch: 62/313, Loss: 0.324989378452301\n",
      "Epoch: 0/2, Batch: 93/313, Loss: 0.522436261177063\n",
      "Epoch: 0/2, Batch: 124/313, Loss: 0.442356675863266\n",
      "Epoch: 0/2, Batch: 155/313, Loss: 0.24884924292564392\n",
      "Epoch: 0/2, Batch: 186/313, Loss: 0.157729372382164\n",
      "Epoch: 0/2, Batch: 217/313, Loss: 0.15961574018001556\n",
      "Epoch: 0/2, Batch: 248/313, Loss: 0.33668774366378784\n",
      "Epoch: 0/2, Batch: 279/313, Loss: 0.4965752959251404\n",
      "Epoch: 0/2, Batch: 310/313, Loss: 0.4747634530067444\n",
      "Epoch: 1/2, Batch: 0/313, Loss: 0.06401368230581284\n",
      "Epoch: 1/2, Batch: 31/313, Loss: 0.37374186515808105\n",
      "Epoch: 1/2, Batch: 62/313, Loss: 0.4173576235771179\n",
      "Epoch: 1/2, Batch: 93/313, Loss: 0.34101957082748413\n",
      "Epoch: 1/2, Batch: 124/313, Loss: 0.5942520499229431\n",
      "Epoch: 1/2, Batch: 155/313, Loss: 0.0969112366437912\n",
      "Epoch: 1/2, Batch: 186/313, Loss: 0.08985277265310287\n",
      "Epoch: 1/2, Batch: 217/313, Loss: 0.09269888699054718\n",
      "Epoch: 1/2, Batch: 248/313, Loss: 0.034246791154146194\n",
      "Epoch: 1/2, Batch: 279/313, Loss: 0.03561107814311981\n",
      "Epoch: 1/2, Batch: 310/313, Loss: 0.07816965878009796\n"
     ]
    },
    {
     "name": "stderr",
     "output_type": "stream",
     "text": [
      "D:\\Apps\\Anaconda\\envs\\ml\\lib\\site-packages\\sklearn\\metrics\\_classification.py:1308: UndefinedMetricWarning: Precision is ill-defined and being set to 0.0 in labels with no predicted samples. Use `zero_division` parameter to control this behavior.\n",
      "  _warn_prf(average, modifier, msg_start, len(result))\n"
     ]
    },
    {
     "name": "stdout",
     "output_type": "stream",
     "text": [
      "Run 9/10\n",
      "Epoch: 0/2, Batch: 0/313, Loss: 0.6632400751113892\n",
      "Epoch: 0/2, Batch: 31/313, Loss: 0.6547996401786804\n",
      "Epoch: 0/2, Batch: 62/313, Loss: 0.684213399887085\n",
      "Epoch: 0/2, Batch: 93/313, Loss: 0.3147515058517456\n",
      "Epoch: 0/2, Batch: 124/313, Loss: 0.7293826937675476\n",
      "Epoch: 0/2, Batch: 155/313, Loss: 0.5695768594741821\n",
      "Epoch: 0/2, Batch: 186/313, Loss: 0.1318027675151825\n",
      "Epoch: 0/2, Batch: 217/313, Loss: 0.24810388684272766\n",
      "Epoch: 0/2, Batch: 248/313, Loss: 0.16786710917949677\n",
      "Epoch: 0/2, Batch: 279/313, Loss: 0.3092167377471924\n",
      "Epoch: 0/2, Batch: 310/313, Loss: 0.09501457214355469\n",
      "Epoch: 1/2, Batch: 0/313, Loss: 0.1528787612915039\n",
      "Epoch: 1/2, Batch: 31/313, Loss: 0.4779481887817383\n",
      "Epoch: 1/2, Batch: 62/313, Loss: 0.047969382256269455\n",
      "Epoch: 1/2, Batch: 93/313, Loss: 0.13515228033065796\n",
      "Epoch: 1/2, Batch: 124/313, Loss: 0.08887308835983276\n",
      "Epoch: 1/2, Batch: 155/313, Loss: 0.07587829232215881\n",
      "Epoch: 1/2, Batch: 186/313, Loss: 0.37368375062942505\n",
      "Epoch: 1/2, Batch: 217/313, Loss: 0.06205888092517853\n",
      "Epoch: 1/2, Batch: 248/313, Loss: 0.0824970230460167\n",
      "Epoch: 1/2, Batch: 279/313, Loss: 0.07497008889913559\n",
      "Epoch: 1/2, Batch: 310/313, Loss: 0.06797432154417038\n"
     ]
    },
    {
     "name": "stderr",
     "output_type": "stream",
     "text": [
      "D:\\Apps\\Anaconda\\envs\\ml\\lib\\site-packages\\sklearn\\metrics\\_classification.py:1308: UndefinedMetricWarning: Precision is ill-defined and being set to 0.0 in labels with no predicted samples. Use `zero_division` parameter to control this behavior.\n",
      "  _warn_prf(average, modifier, msg_start, len(result))\n"
     ]
    },
    {
     "name": "stdout",
     "output_type": "stream",
     "text": [
      "Run 10/10\n",
      "Epoch: 0/2, Batch: 0/313, Loss: 0.5847243666648865\n",
      "Epoch: 0/2, Batch: 31/313, Loss: 0.6022611856460571\n",
      "Epoch: 0/2, Batch: 62/313, Loss: 0.6459730863571167\n",
      "Epoch: 0/2, Batch: 93/313, Loss: 0.4091607928276062\n",
      "Epoch: 0/2, Batch: 124/313, Loss: 0.2826034426689148\n",
      "Epoch: 0/2, Batch: 155/313, Loss: 0.4220062494277954\n",
      "Epoch: 0/2, Batch: 186/313, Loss: 0.1523214876651764\n",
      "Epoch: 0/2, Batch: 217/313, Loss: 0.6347696781158447\n",
      "Epoch: 0/2, Batch: 248/313, Loss: 0.30869102478027344\n",
      "Epoch: 0/2, Batch: 279/313, Loss: 0.3599624037742615\n",
      "Epoch: 0/2, Batch: 310/313, Loss: 0.1985052525997162\n",
      "Epoch: 1/2, Batch: 0/313, Loss: 0.04283856600522995\n",
      "Epoch: 1/2, Batch: 31/313, Loss: 0.09483489394187927\n",
      "Epoch: 1/2, Batch: 62/313, Loss: 0.48233968019485474\n",
      "Epoch: 1/2, Batch: 93/313, Loss: 0.6010804176330566\n",
      "Epoch: 1/2, Batch: 124/313, Loss: 0.046953123062849045\n",
      "Epoch: 1/2, Batch: 155/313, Loss: 0.12951180338859558\n",
      "Epoch: 1/2, Batch: 186/313, Loss: 0.06989099085330963\n",
      "Epoch: 1/2, Batch: 217/313, Loss: 0.5994336009025574\n",
      "Epoch: 1/2, Batch: 248/313, Loss: 0.06468598544597626\n",
      "Epoch: 1/2, Batch: 279/313, Loss: 0.2119799256324768\n",
      "Epoch: 1/2, Batch: 310/313, Loss: 0.031234879046678543\n"
     ]
    }
   ],
   "source": [
    "for i in range(10):\n",
    "    # clear cache cuda\n",
    "    torch.cuda.empty_cache()\n",
    "    with torch.no_grad():\n",
    "        torch.cuda.empty_cache()\n",
    "    gc.collect()\n",
    "\n",
    "    start_time = time.time()\n",
    "\n",
    "    print(f\"Run {i + 1}/10\")\n",
    "\n",
    "    train_dataset = df.sample(frac=TRAIN_SPLIT)\n",
    "    test_dataset = df.drop(train_dataset.index).reset_index(drop=True)\n",
    "    train_dataset = train_dataset.reset_index(drop=True)\n",
    "\n",
    "    training_set = InputDataset(train_dataset, tokenizer)\n",
    "    testing_set = InputDataset(test_dataset, tokenizer)\n",
    "\n",
    "    train_dataloader = DataLoader(\n",
    "        training_set,\n",
    "        sampler = RandomSampler(train_dataset),\n",
    "        batch_size = TRAIN_BATCH_SIZE,\n",
    "        drop_last = True\n",
    "    )\n",
    "\n",
    "    validation_dataloader = DataLoader(\n",
    "        testing_set,\n",
    "        sampler = SequentialSampler(testing_set),\n",
    "        batch_size = VALID_BATCH_SIZE,\n",
    "        drop_last = True\n",
    "    )\n",
    "\n",
    "    model = BERT_Dropout_Linear(BertModel.from_pretrained('bert-base-uncased'), dropout=0.3, no_out_labels=3, device=device).to(device)\n",
    "\n",
    "    optimizer = torch.optim.Adam(params = model.parameters(), lr=LEARNING_RATE)\n",
    "    loss_fn = torch.nn.BCEWithLogitsLoss()\n",
    "\n",
    "    for epoch in range(EPOCHS):\n",
    "        train(epoch, model, loss_fn, optimizer, train_dataloader)\n",
    "\n",
    "    outputs, targets = validation(model, validation_dataloader)\n",
    "    outputs = np.argmax(outputs, axis=1)\n",
    "    targets = np.argmax(targets, axis=1)\n",
    "    \n",
    "    accuracy = accuracy_score(targets, outputs)\n",
    "    precision_score_micro = precision_score(targets, outputs, average='micro')\n",
    "    precision_score_macro = precision_score(targets, outputs, average='macro')\n",
    "    recall_score_micro = recall_score(targets, outputs, average='micro')\n",
    "    recall_score_macro = recall_score(targets, outputs, average='macro')\n",
    "    f1_score_micro = f1_score(targets, outputs, average='micro')\n",
    "    f1_score_macro = f1_score(targets, outputs, average='macro')\n",
    "\n",
    "    execution_time = time.time() - start_time\n",
    "\n",
    "    results.loc[i] = [accuracy,precision_score_micro,precision_score_macro,recall_score_micro,recall_score_macro,f1_score_micro,f1_score_macro, execution_time]\n",
    "\n",
    "    if accuracy > best_accuracy:\n",
    "        best_accuracy = accuracy\n",
    "        torch.save(model.bert, MODEL_OUTPUT)\n",
    "\n",
    "    del train_dataset\n",
    "    del test_dataset\n",
    "    del training_set\n",
    "    del testing_set\n",
    "    del model\n",
    "    del loss_fn\n",
    "    del optimizer\n",
    "    del outputs\n",
    "    del targets"
   ]
  },
  {
   "cell_type": "code",
   "execution_count": 15,
   "metadata": {},
   "outputs": [
    {
     "data": {
      "text/html": [
       "<div>\n",
       "<style scoped>\n",
       "    .dataframe tbody tr th:only-of-type {\n",
       "        vertical-align: middle;\n",
       "    }\n",
       "\n",
       "    .dataframe tbody tr th {\n",
       "        vertical-align: top;\n",
       "    }\n",
       "\n",
       "    .dataframe thead th {\n",
       "        text-align: right;\n",
       "    }\n",
       "</style>\n",
       "<table border=\"1\" class=\"dataframe\">\n",
       "  <thead>\n",
       "    <tr style=\"text-align: right;\">\n",
       "      <th></th>\n",
       "      <th>accuracy</th>\n",
       "      <th>precision_score_micro</th>\n",
       "      <th>precision_score_macro</th>\n",
       "      <th>recall_score_micro</th>\n",
       "      <th>recall_score_macro</th>\n",
       "      <th>f1_score_micro</th>\n",
       "      <th>f1_score_macro</th>\n",
       "      <th>execution_time</th>\n",
       "    </tr>\n",
       "  </thead>\n",
       "  <tbody>\n",
       "    <tr>\n",
       "      <th>0</th>\n",
       "      <td>0.868590</td>\n",
       "      <td>0.868590</td>\n",
       "      <td>0.570199</td>\n",
       "      <td>0.868590</td>\n",
       "      <td>0.611526</td>\n",
       "      <td>0.868590</td>\n",
       "      <td>0.588501</td>\n",
       "      <td>201.240559</td>\n",
       "    </tr>\n",
       "    <tr>\n",
       "      <th>1</th>\n",
       "      <td>0.884615</td>\n",
       "      <td>0.884615</td>\n",
       "      <td>0.584936</td>\n",
       "      <td>0.884615</td>\n",
       "      <td>0.612896</td>\n",
       "      <td>0.884615</td>\n",
       "      <td>0.598589</td>\n",
       "      <td>185.900803</td>\n",
       "    </tr>\n",
       "    <tr>\n",
       "      <th>2</th>\n",
       "      <td>0.871795</td>\n",
       "      <td>0.871795</td>\n",
       "      <td>0.563396</td>\n",
       "      <td>0.871795</td>\n",
       "      <td>0.607407</td>\n",
       "      <td>0.871795</td>\n",
       "      <td>0.582492</td>\n",
       "      <td>187.315874</td>\n",
       "    </tr>\n",
       "    <tr>\n",
       "      <th>3</th>\n",
       "      <td>0.884615</td>\n",
       "      <td>0.884615</td>\n",
       "      <td>0.579272</td>\n",
       "      <td>0.884615</td>\n",
       "      <td>0.600855</td>\n",
       "      <td>0.884615</td>\n",
       "      <td>0.589841</td>\n",
       "      <td>195.283949</td>\n",
       "    </tr>\n",
       "    <tr>\n",
       "      <th>4</th>\n",
       "      <td>0.881410</td>\n",
       "      <td>0.881410</td>\n",
       "      <td>0.578965</td>\n",
       "      <td>0.881410</td>\n",
       "      <td>0.608416</td>\n",
       "      <td>0.881410</td>\n",
       "      <td>0.593325</td>\n",
       "      <td>208.659036</td>\n",
       "    </tr>\n",
       "    <tr>\n",
       "      <th>5</th>\n",
       "      <td>0.919872</td>\n",
       "      <td>0.919872</td>\n",
       "      <td>0.608537</td>\n",
       "      <td>0.919872</td>\n",
       "      <td>0.611285</td>\n",
       "      <td>0.919872</td>\n",
       "      <td>0.609729</td>\n",
       "      <td>199.921068</td>\n",
       "    </tr>\n",
       "    <tr>\n",
       "      <th>6</th>\n",
       "      <td>0.894231</td>\n",
       "      <td>0.894231</td>\n",
       "      <td>0.587773</td>\n",
       "      <td>0.894231</td>\n",
       "      <td>0.602400</td>\n",
       "      <td>0.894231</td>\n",
       "      <td>0.594993</td>\n",
       "      <td>203.051747</td>\n",
       "    </tr>\n",
       "    <tr>\n",
       "      <th>7</th>\n",
       "      <td>0.881410</td>\n",
       "      <td>0.881410</td>\n",
       "      <td>0.565171</td>\n",
       "      <td>0.881410</td>\n",
       "      <td>0.623236</td>\n",
       "      <td>0.881410</td>\n",
       "      <td>0.587536</td>\n",
       "      <td>204.666527</td>\n",
       "    </tr>\n",
       "    <tr>\n",
       "      <th>8</th>\n",
       "      <td>0.929487</td>\n",
       "      <td>0.929487</td>\n",
       "      <td>0.616226</td>\n",
       "      <td>0.929487</td>\n",
       "      <td>0.623907</td>\n",
       "      <td>0.929487</td>\n",
       "      <td>0.619970</td>\n",
       "      <td>204.112702</td>\n",
       "    </tr>\n",
       "    <tr>\n",
       "      <th>9</th>\n",
       "      <td>0.910256</td>\n",
       "      <td>0.910256</td>\n",
       "      <td>0.928056</td>\n",
       "      <td>0.910256</td>\n",
       "      <td>0.680971</td>\n",
       "      <td>0.910256</td>\n",
       "      <td>0.709608</td>\n",
       "      <td>205.939710</td>\n",
       "    </tr>\n",
       "  </tbody>\n",
       "</table>\n",
       "</div>"
      ],
      "text/plain": [
       "   accuracy  precision_score_micro  precision_score_macro  recall_score_micro  \\\n",
       "0  0.868590               0.868590               0.570199            0.868590   \n",
       "1  0.884615               0.884615               0.584936            0.884615   \n",
       "2  0.871795               0.871795               0.563396            0.871795   \n",
       "3  0.884615               0.884615               0.579272            0.884615   \n",
       "4  0.881410               0.881410               0.578965            0.881410   \n",
       "5  0.919872               0.919872               0.608537            0.919872   \n",
       "6  0.894231               0.894231               0.587773            0.894231   \n",
       "7  0.881410               0.881410               0.565171            0.881410   \n",
       "8  0.929487               0.929487               0.616226            0.929487   \n",
       "9  0.910256               0.910256               0.928056            0.910256   \n",
       "\n",
       "   recall_score_macro  f1_score_micro  f1_score_macro  execution_time  \n",
       "0            0.611526        0.868590        0.588501      201.240559  \n",
       "1            0.612896        0.884615        0.598589      185.900803  \n",
       "2            0.607407        0.871795        0.582492      187.315874  \n",
       "3            0.600855        0.884615        0.589841      195.283949  \n",
       "4            0.608416        0.881410        0.593325      208.659036  \n",
       "5            0.611285        0.919872        0.609729      199.921068  \n",
       "6            0.602400        0.894231        0.594993      203.051747  \n",
       "7            0.623236        0.881410        0.587536      204.666527  \n",
       "8            0.623907        0.929487        0.619970      204.112702  \n",
       "9            0.680971        0.910256        0.709608      205.939710  "
      ]
     },
     "execution_count": 15,
     "metadata": {},
     "output_type": "execute_result"
    }
   ],
   "source": [
    "results"
   ]
  },
  {
   "cell_type": "code",
   "execution_count": 16,
   "metadata": {},
   "outputs": [],
   "source": [
    "results.to_csv(STATS_OUTPUT)"
   ]
  }
 ],
 "metadata": {
  "interpreter": {
   "hash": "60f74211c8095d4d69bea747ac312f2fd52777f7ee1c791c3155581964756685"
  },
  "kernelspec": {
   "display_name": "Python 3.9.7 ('ml')",
   "language": "python",
   "name": "python3"
  },
  "language_info": {
   "codemirror_mode": {
    "name": "ipython",
    "version": 3
   },
   "file_extension": ".py",
   "mimetype": "text/x-python",
   "name": "python",
   "nbconvert_exporter": "python",
   "pygments_lexer": "ipython3",
   "version": "3.9.7"
  },
  "orig_nbformat": 4
 },
 "nbformat": 4,
 "nbformat_minor": 2
}
