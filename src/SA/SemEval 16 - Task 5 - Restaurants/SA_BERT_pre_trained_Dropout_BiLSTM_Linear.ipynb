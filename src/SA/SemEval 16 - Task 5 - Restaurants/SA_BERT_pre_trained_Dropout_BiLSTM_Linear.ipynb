{
 "cells": [
  {
   "cell_type": "markdown",
   "metadata": {},
   "source": [
    "# Import dependencies"
   ]
  },
  {
   "cell_type": "code",
   "execution_count": 1,
   "metadata": {},
   "outputs": [],
   "source": [
    "import os\n",
    "import sys\n",
    "\n",
    "sys.path.insert(0, os.path.dirname(os.getcwd())) "
   ]
  },
  {
   "cell_type": "code",
   "execution_count": 2,
   "metadata": {},
   "outputs": [],
   "source": [
    "import time\n",
    "import gc\n",
    "\n",
    "import numpy as np\n",
    "import pandas as pd\n",
    "\n",
    "from transformers import BertTokenizer, BertModel\n",
    "from transformers import logging\n",
    "\n",
    "from sklearn.metrics import f1_score, accuracy_score, precision_score, recall_score\n",
    "\n",
    "from semeval_reader import SemevalReader\n",
    "\n",
    "from InputDataset import InputDataset\n",
    "\n",
    "import torch\n",
    "from torch.utils.data import DataLoader, RandomSampler, SequentialSampler\n",
    "\n",
    "from torch import cuda\n",
    "\n",
    "from sa_models.SA_BERT_Dropout_BiLSTM_Linear import SA_BERT_Dropout_BiLSTM_Linear"
   ]
  },
  {
   "cell_type": "code",
   "execution_count": 3,
   "metadata": {},
   "outputs": [
    {
     "name": "stdout",
     "output_type": "stream",
     "text": [
      "NVIDIA GeForce RTX 2060 SUPER\n",
      "Memory: 8 GB\n"
     ]
    }
   ],
   "source": [
    "device = 'cuda' if cuda.is_available() else 'cpu'\n",
    "\n",
    "print(torch.cuda.get_device_name(0))\n",
    "print(f\"Memory: {torch.cuda.get_device_properties(0).total_memory // 1024 ** 3} GB\")"
   ]
  },
  {
   "cell_type": "code",
   "execution_count": 4,
   "metadata": {},
   "outputs": [],
   "source": [
    "logging.set_verbosity_error()"
   ]
  },
  {
   "cell_type": "code",
   "execution_count": 5,
   "metadata": {},
   "outputs": [],
   "source": [
    "def clear_memory():\n",
    "    torch.cuda.empty_cache()\n",
    "\n",
    "    with torch.no_grad():\n",
    "        torch.cuda.empty_cache()\n",
    "\n",
    "    gc.collect()"
   ]
  },
  {
   "cell_type": "markdown",
   "metadata": {},
   "source": [
    "# Load Data"
   ]
  },
  {
   "cell_type": "code",
   "execution_count": 6,
   "metadata": {},
   "outputs": [],
   "source": [
    "def get_target_list_for_polarity(polarity):\n",
    "    if polarity == 'positive':\n",
    "        return [0, 0, 1]\n",
    "    if polarity == 'negative':\n",
    "        return [1, 0, 0]\n",
    "    return [0, 1, 0]"
   ]
  },
  {
   "cell_type": "code",
   "execution_count": 7,
   "metadata": {},
   "outputs": [],
   "source": [
    "semeval_reader = SemevalReader('../../../data/semeval16_restaurants_train.xml')\n",
    "\n",
    "reviews = semeval_reader.read_reviews()\n",
    "absolute_polarity_sentences = semeval_reader.get_absolute_polarity_sentences()\n",
    "\n",
    "df = pd.DataFrame(map(lambda x: (x.text, x.opinions[0].polarity), absolute_polarity_sentences))\n",
    "df.rename(columns={0: 'text'}, inplace=True)\n",
    "df['target_list'] = df.apply(lambda row: get_target_list_for_polarity(row[1]), axis=1)\n",
    "\n",
    "absolute_polarity_df = df.drop(columns=[1])"
   ]
  },
  {
   "cell_type": "markdown",
   "metadata": {},
   "source": [
    "# Train & Validate"
   ]
  },
  {
   "cell_type": "code",
   "execution_count": 8,
   "metadata": {},
   "outputs": [],
   "source": [
    "TRAIN_BATCH_SIZE = 4\n",
    "VALID_BATCH_SIZE = 4\n",
    "\n",
    "EPOCHS = 2\n",
    "\n",
    "LEARNING_RATE = 1e-5\n",
    "\n",
    "TRAIN_SPLIT = 0.8\n",
    "\n",
    "NO_RUNS = 10"
   ]
  },
  {
   "cell_type": "code",
   "execution_count": 9,
   "metadata": {},
   "outputs": [],
   "source": [
    "MODEL_OUTPUT = '../../../results/SA/SemEval16 - Task 5 - Restaurants/models/bert_pre_trained_dropout_bilstm_linear.pth'\n",
    "STATS_OUTPUT = '../../../results/SA/SemEval16 - Task 5 - Restaurants/stats/bert_pre_trained_dropout_bilstm_linear.csv'"
   ]
  },
  {
   "cell_type": "code",
   "execution_count": 10,
   "metadata": {},
   "outputs": [],
   "source": [
    "tokenizer = BertTokenizer.from_pretrained('bert-base-uncased')"
   ]
  },
  {
   "cell_type": "code",
   "execution_count": 11,
   "metadata": {},
   "outputs": [],
   "source": [
    "best_accuracy = 0.0"
   ]
  },
  {
   "cell_type": "code",
   "execution_count": 12,
   "metadata": {},
   "outputs": [],
   "source": [
    "def train(epoch, model, loss_fn, optimizer, dataloader):\n",
    "    model.train()\n",
    "\n",
    "    dataloader_len = len(dataloader)\n",
    "\n",
    "    for _,data in enumerate(dataloader, 0):\n",
    "        optimizer.zero_grad()\n",
    "\n",
    "        ids = data['ids'].to(device, dtype = torch.long)\n",
    "        mask = data['mask'].to(device, dtype = torch.long)\n",
    "        token_type_ids = data['token_type_ids'].to(device, dtype = torch.long)\n",
    "        targets = data['targets'].to(device, dtype = torch.float)\n",
    "\n",
    "        outputs = model(ids, mask, token_type_ids)\n",
    "\n",
    "        loss = loss_fn(outputs, targets)\n",
    "        \n",
    "        if _ % (dataloader_len // 10) == 0:\n",
    "            print(f\"Epoch: {epoch}/{EPOCHS}, Batch: {_}/{dataloader_len}, Loss: {loss.item()}\")\n",
    "        \n",
    "        loss.backward()\n",
    "        \n",
    "        optimizer.step()"
   ]
  },
  {
   "cell_type": "code",
   "execution_count": 13,
   "metadata": {},
   "outputs": [],
   "source": [
    "def validation(model, dataloader):\n",
    "    model.eval()\n",
    "    \n",
    "    fin_targets=[]\n",
    "    fin_outputs=[]\n",
    "\n",
    "    with torch.no_grad():\n",
    "        for _, data in enumerate(dataloader, 0):\n",
    "            ids = data['ids'].to(device, dtype = torch.long)\n",
    "            mask = data['mask'].to(device, dtype = torch.long)\n",
    "            token_type_ids = data['token_type_ids'].to(device, dtype = torch.long)\n",
    "            targets = data['targets'].to(device, dtype = torch.float)\n",
    "\n",
    "            outputs = model(ids, mask, token_type_ids)\n",
    "            \n",
    "            fin_targets.extend(targets.cpu().detach().numpy().tolist())\n",
    "            fin_outputs.extend(torch.sigmoid(outputs).cpu().detach().numpy().tolist())\n",
    "\n",
    "    return fin_outputs, fin_targets"
   ]
  },
  {
   "cell_type": "code",
   "execution_count": 14,
   "metadata": {},
   "outputs": [],
   "source": [
    "results = pd.DataFrame(columns=['accuracy','precision_score_micro','precision_score_macro','recall_score_micro','recall_score_macro','f1_score_micro','f1_score_macro', 'execution_time'])"
   ]
  },
  {
   "cell_type": "code",
   "execution_count": 15,
   "metadata": {},
   "outputs": [
    {
     "name": "stdout",
     "output_type": "stream",
     "text": [
      "Run 1/10\n",
      "Epoch: 0/2, Batch: 0/313, Loss: 0.6766093969345093\n",
      "Epoch: 0/2, Batch: 31/313, Loss: 0.6181526184082031\n",
      "Epoch: 0/2, Batch: 62/313, Loss: 0.5439282059669495\n",
      "Epoch: 0/2, Batch: 93/313, Loss: 0.499418705701828\n",
      "Epoch: 0/2, Batch: 124/313, Loss: 0.5090994238853455\n",
      "Epoch: 0/2, Batch: 155/313, Loss: 0.47047585248947144\n",
      "Epoch: 0/2, Batch: 186/313, Loss: 0.42927083373069763\n",
      "Epoch: 0/2, Batch: 217/313, Loss: 0.4422508180141449\n",
      "Epoch: 0/2, Batch: 248/313, Loss: 0.3244519531726837\n",
      "Epoch: 0/2, Batch: 279/313, Loss: 0.5217041969299316\n",
      "Epoch: 0/2, Batch: 310/313, Loss: 0.45684099197387695\n",
      "Epoch: 1/2, Batch: 0/313, Loss: 0.24235698580741882\n",
      "Epoch: 1/2, Batch: 31/313, Loss: 0.2537967562675476\n",
      "Epoch: 1/2, Batch: 62/313, Loss: 0.32347461581230164\n",
      "Epoch: 1/2, Batch: 93/313, Loss: 0.2571392059326172\n",
      "Epoch: 1/2, Batch: 124/313, Loss: 0.2059573531150818\n",
      "Epoch: 1/2, Batch: 155/313, Loss: 0.15641504526138306\n",
      "Epoch: 1/2, Batch: 186/313, Loss: 0.18367987871170044\n",
      "Epoch: 1/2, Batch: 217/313, Loss: 0.34870386123657227\n",
      "Epoch: 1/2, Batch: 248/313, Loss: 0.23333394527435303\n",
      "Epoch: 1/2, Batch: 279/313, Loss: 0.12059836089611053\n",
      "Epoch: 1/2, Batch: 310/313, Loss: 0.13634605705738068\n"
     ]
    },
    {
     "name": "stderr",
     "output_type": "stream",
     "text": [
      "D:\\Apps\\Anaconda\\envs\\ml\\lib\\site-packages\\sklearn\\metrics\\_classification.py:1308: UndefinedMetricWarning: Precision is ill-defined and being set to 0.0 in labels with no predicted samples. Use `zero_division` parameter to control this behavior.\n",
      "  _warn_prf(average, modifier, msg_start, len(result))\n"
     ]
    },
    {
     "name": "stdout",
     "output_type": "stream",
     "text": [
      "Run 2/10\n",
      "Epoch: 0/2, Batch: 0/313, Loss: 0.6962666511535645\n",
      "Epoch: 0/2, Batch: 31/313, Loss: 0.6421117782592773\n",
      "Epoch: 0/2, Batch: 62/313, Loss: 0.628750205039978\n",
      "Epoch: 0/2, Batch: 93/313, Loss: 0.4942096471786499\n",
      "Epoch: 0/2, Batch: 124/313, Loss: 0.49375972151756287\n",
      "Epoch: 0/2, Batch: 155/313, Loss: 0.5342152118682861\n",
      "Epoch: 0/2, Batch: 186/313, Loss: 0.5561062693595886\n",
      "Epoch: 0/2, Batch: 217/313, Loss: 0.5179049968719482\n",
      "Epoch: 0/2, Batch: 248/313, Loss: 0.4065208435058594\n",
      "Epoch: 0/2, Batch: 279/313, Loss: 0.34878310561180115\n",
      "Epoch: 0/2, Batch: 310/313, Loss: 0.42465972900390625\n",
      "Epoch: 1/2, Batch: 0/313, Loss: 0.2688371539115906\n",
      "Epoch: 1/2, Batch: 31/313, Loss: 0.3331214189529419\n",
      "Epoch: 1/2, Batch: 62/313, Loss: 0.28373414278030396\n",
      "Epoch: 1/2, Batch: 93/313, Loss: 0.26557356119155884\n",
      "Epoch: 1/2, Batch: 124/313, Loss: 0.260492205619812\n",
      "Epoch: 1/2, Batch: 155/313, Loss: 0.22669899463653564\n",
      "Epoch: 1/2, Batch: 186/313, Loss: 0.16619567573070526\n",
      "Epoch: 1/2, Batch: 217/313, Loss: 0.16279008984565735\n",
      "Epoch: 1/2, Batch: 248/313, Loss: 0.4017585217952728\n",
      "Epoch: 1/2, Batch: 279/313, Loss: 0.2594824433326721\n",
      "Epoch: 1/2, Batch: 310/313, Loss: 0.4594517946243286\n"
     ]
    },
    {
     "name": "stderr",
     "output_type": "stream",
     "text": [
      "D:\\Apps\\Anaconda\\envs\\ml\\lib\\site-packages\\sklearn\\metrics\\_classification.py:1308: UndefinedMetricWarning: Precision is ill-defined and being set to 0.0 in labels with no predicted samples. Use `zero_division` parameter to control this behavior.\n",
      "  _warn_prf(average, modifier, msg_start, len(result))\n"
     ]
    },
    {
     "name": "stdout",
     "output_type": "stream",
     "text": [
      "Run 3/10\n",
      "Epoch: 0/2, Batch: 0/313, Loss: 0.6812364459037781\n",
      "Epoch: 0/2, Batch: 31/313, Loss: 0.6337673664093018\n",
      "Epoch: 0/2, Batch: 62/313, Loss: 0.6103806495666504\n",
      "Epoch: 0/2, Batch: 93/313, Loss: 0.6215177774429321\n",
      "Epoch: 0/2, Batch: 124/313, Loss: 0.47876280546188354\n",
      "Epoch: 0/2, Batch: 155/313, Loss: 0.5232995748519897\n",
      "Epoch: 0/2, Batch: 186/313, Loss: 0.43057364225387573\n",
      "Epoch: 0/2, Batch: 217/313, Loss: 0.5643829703330994\n",
      "Epoch: 0/2, Batch: 248/313, Loss: 0.30016010999679565\n",
      "Epoch: 0/2, Batch: 279/313, Loss: 0.27463290095329285\n",
      "Epoch: 0/2, Batch: 310/313, Loss: 0.25822287797927856\n",
      "Epoch: 1/2, Batch: 0/313, Loss: 0.3732229173183441\n",
      "Epoch: 1/2, Batch: 31/313, Loss: 0.42346879839897156\n",
      "Epoch: 1/2, Batch: 62/313, Loss: 0.23695111274719238\n",
      "Epoch: 1/2, Batch: 93/313, Loss: 0.21610236167907715\n",
      "Epoch: 1/2, Batch: 124/313, Loss: 0.17269623279571533\n",
      "Epoch: 1/2, Batch: 155/313, Loss: 0.17684553563594818\n",
      "Epoch: 1/2, Batch: 186/313, Loss: 0.17620298266410828\n",
      "Epoch: 1/2, Batch: 217/313, Loss: 0.15339790284633636\n",
      "Epoch: 1/2, Batch: 248/313, Loss: 0.6135988831520081\n",
      "Epoch: 1/2, Batch: 279/313, Loss: 0.46876582503318787\n",
      "Epoch: 1/2, Batch: 310/313, Loss: 0.5007869601249695\n"
     ]
    },
    {
     "name": "stderr",
     "output_type": "stream",
     "text": [
      "D:\\Apps\\Anaconda\\envs\\ml\\lib\\site-packages\\sklearn\\metrics\\_classification.py:1308: UndefinedMetricWarning: Precision is ill-defined and being set to 0.0 in labels with no predicted samples. Use `zero_division` parameter to control this behavior.\n",
      "  _warn_prf(average, modifier, msg_start, len(result))\n"
     ]
    },
    {
     "name": "stdout",
     "output_type": "stream",
     "text": [
      "Run 4/10\n",
      "Epoch: 0/2, Batch: 0/313, Loss: 0.7156270742416382\n",
      "Epoch: 0/2, Batch: 31/313, Loss: 0.6650186777114868\n",
      "Epoch: 0/2, Batch: 62/313, Loss: 0.5868040919303894\n",
      "Epoch: 0/2, Batch: 93/313, Loss: 0.5807587504386902\n",
      "Epoch: 0/2, Batch: 124/313, Loss: 0.515897274017334\n",
      "Epoch: 0/2, Batch: 155/313, Loss: 0.44086942076683044\n",
      "Epoch: 0/2, Batch: 186/313, Loss: 0.43787238001823425\n",
      "Epoch: 0/2, Batch: 217/313, Loss: 0.39911460876464844\n",
      "Epoch: 0/2, Batch: 248/313, Loss: 0.32519349455833435\n",
      "Epoch: 0/2, Batch: 279/313, Loss: 0.5600401163101196\n",
      "Epoch: 0/2, Batch: 310/313, Loss: 0.5053470730781555\n",
      "Epoch: 1/2, Batch: 0/313, Loss: 0.22152654826641083\n",
      "Epoch: 1/2, Batch: 31/313, Loss: 0.25467392802238464\n",
      "Epoch: 1/2, Batch: 62/313, Loss: 0.6906587481498718\n",
      "Epoch: 1/2, Batch: 93/313, Loss: 0.24924850463867188\n",
      "Epoch: 1/2, Batch: 124/313, Loss: 0.27323615550994873\n",
      "Epoch: 1/2, Batch: 155/313, Loss: 0.18043872714042664\n",
      "Epoch: 1/2, Batch: 186/313, Loss: 0.17126354575157166\n",
      "Epoch: 1/2, Batch: 217/313, Loss: 0.19068746268749237\n",
      "Epoch: 1/2, Batch: 248/313, Loss: 0.24361871182918549\n",
      "Epoch: 1/2, Batch: 279/313, Loss: 0.18381953239440918\n",
      "Epoch: 1/2, Batch: 310/313, Loss: 0.13423031568527222\n"
     ]
    },
    {
     "name": "stderr",
     "output_type": "stream",
     "text": [
      "D:\\Apps\\Anaconda\\envs\\ml\\lib\\site-packages\\sklearn\\metrics\\_classification.py:1308: UndefinedMetricWarning: Precision is ill-defined and being set to 0.0 in labels with no predicted samples. Use `zero_division` parameter to control this behavior.\n",
      "  _warn_prf(average, modifier, msg_start, len(result))\n"
     ]
    },
    {
     "name": "stdout",
     "output_type": "stream",
     "text": [
      "Run 5/10\n",
      "Epoch: 0/2, Batch: 0/313, Loss: 0.653570294380188\n",
      "Epoch: 0/2, Batch: 31/313, Loss: 0.6161186099052429\n",
      "Epoch: 0/2, Batch: 62/313, Loss: 0.532559871673584\n",
      "Epoch: 0/2, Batch: 93/313, Loss: 0.5160204172134399\n",
      "Epoch: 0/2, Batch: 124/313, Loss: 0.5564523935317993\n",
      "Epoch: 0/2, Batch: 155/313, Loss: 0.5041927099227905\n",
      "Epoch: 0/2, Batch: 186/313, Loss: 0.5927647352218628\n",
      "Epoch: 0/2, Batch: 217/313, Loss: 0.5626447200775146\n",
      "Epoch: 0/2, Batch: 248/313, Loss: 0.3589524030685425\n",
      "Epoch: 0/2, Batch: 279/313, Loss: 0.3868999481201172\n",
      "Epoch: 0/2, Batch: 310/313, Loss: 0.23035773634910583\n",
      "Epoch: 1/2, Batch: 0/313, Loss: 0.2868662476539612\n",
      "Epoch: 1/2, Batch: 31/313, Loss: 0.35745179653167725\n",
      "Epoch: 1/2, Batch: 62/313, Loss: 0.22395651042461395\n",
      "Epoch: 1/2, Batch: 93/313, Loss: 0.2675676643848419\n",
      "Epoch: 1/2, Batch: 124/313, Loss: 0.6221375465393066\n",
      "Epoch: 1/2, Batch: 155/313, Loss: 0.31647706031799316\n",
      "Epoch: 1/2, Batch: 186/313, Loss: 0.1955312192440033\n",
      "Epoch: 1/2, Batch: 217/313, Loss: 0.4209555983543396\n",
      "Epoch: 1/2, Batch: 248/313, Loss: 0.1452977955341339\n",
      "Epoch: 1/2, Batch: 279/313, Loss: 0.34851694107055664\n",
      "Epoch: 1/2, Batch: 310/313, Loss: 0.4574269652366638\n"
     ]
    },
    {
     "name": "stderr",
     "output_type": "stream",
     "text": [
      "D:\\Apps\\Anaconda\\envs\\ml\\lib\\site-packages\\sklearn\\metrics\\_classification.py:1308: UndefinedMetricWarning: Precision is ill-defined and being set to 0.0 in labels with no predicted samples. Use `zero_division` parameter to control this behavior.\n",
      "  _warn_prf(average, modifier, msg_start, len(result))\n"
     ]
    },
    {
     "name": "stdout",
     "output_type": "stream",
     "text": [
      "Run 6/10\n",
      "Epoch: 0/2, Batch: 0/313, Loss: 0.7017946243286133\n",
      "Epoch: 0/2, Batch: 31/313, Loss: 0.656349241733551\n",
      "Epoch: 0/2, Batch: 62/313, Loss: 0.527748167514801\n",
      "Epoch: 0/2, Batch: 93/313, Loss: 0.5986398458480835\n",
      "Epoch: 0/2, Batch: 124/313, Loss: 0.5565398931503296\n",
      "Epoch: 0/2, Batch: 155/313, Loss: 0.6248291730880737\n",
      "Epoch: 0/2, Batch: 186/313, Loss: 0.5387870073318481\n",
      "Epoch: 0/2, Batch: 217/313, Loss: 0.3599127233028412\n",
      "Epoch: 0/2, Batch: 248/313, Loss: 0.3505767285823822\n",
      "Epoch: 0/2, Batch: 279/313, Loss: 0.32464927434921265\n",
      "Epoch: 0/2, Batch: 310/313, Loss: 0.24712395668029785\n",
      "Epoch: 1/2, Batch: 0/313, Loss: 0.29867592453956604\n",
      "Epoch: 1/2, Batch: 31/313, Loss: 0.27877065539360046\n",
      "Epoch: 1/2, Batch: 62/313, Loss: 0.3415115773677826\n",
      "Epoch: 1/2, Batch: 93/313, Loss: 0.19558972120285034\n",
      "Epoch: 1/2, Batch: 124/313, Loss: 0.21705257892608643\n",
      "Epoch: 1/2, Batch: 155/313, Loss: 0.24040621519088745\n",
      "Epoch: 1/2, Batch: 186/313, Loss: 0.142063170671463\n",
      "Epoch: 1/2, Batch: 217/313, Loss: 0.2440609633922577\n",
      "Epoch: 1/2, Batch: 248/313, Loss: 0.21165303885936737\n",
      "Epoch: 1/2, Batch: 279/313, Loss: 0.16075563430786133\n",
      "Epoch: 1/2, Batch: 310/313, Loss: 0.18718963861465454\n"
     ]
    },
    {
     "name": "stderr",
     "output_type": "stream",
     "text": [
      "D:\\Apps\\Anaconda\\envs\\ml\\lib\\site-packages\\sklearn\\metrics\\_classification.py:1308: UndefinedMetricWarning: Precision is ill-defined and being set to 0.0 in labels with no predicted samples. Use `zero_division` parameter to control this behavior.\n",
      "  _warn_prf(average, modifier, msg_start, len(result))\n"
     ]
    },
    {
     "name": "stdout",
     "output_type": "stream",
     "text": [
      "Run 7/10\n",
      "Epoch: 0/2, Batch: 0/313, Loss: 0.6812471151351929\n",
      "Epoch: 0/2, Batch: 31/313, Loss: 0.6749917268753052\n",
      "Epoch: 0/2, Batch: 62/313, Loss: 0.549569845199585\n",
      "Epoch: 0/2, Batch: 93/313, Loss: 0.6576365232467651\n",
      "Epoch: 0/2, Batch: 124/313, Loss: 0.5424530506134033\n",
      "Epoch: 0/2, Batch: 155/313, Loss: 0.5363576412200928\n",
      "Epoch: 0/2, Batch: 186/313, Loss: 0.5163248777389526\n",
      "Epoch: 0/2, Batch: 217/313, Loss: 0.3151252269744873\n",
      "Epoch: 0/2, Batch: 248/313, Loss: 0.48370927572250366\n",
      "Epoch: 0/2, Batch: 279/313, Loss: 0.2977690100669861\n",
      "Epoch: 0/2, Batch: 310/313, Loss: 0.2591521739959717\n",
      "Epoch: 1/2, Batch: 0/313, Loss: 0.26839202642440796\n",
      "Epoch: 1/2, Batch: 31/313, Loss: 0.4715110957622528\n",
      "Epoch: 1/2, Batch: 62/313, Loss: 0.4010845124721527\n",
      "Epoch: 1/2, Batch: 93/313, Loss: 0.24443644285202026\n",
      "Epoch: 1/2, Batch: 124/313, Loss: 0.3691551685333252\n",
      "Epoch: 1/2, Batch: 155/313, Loss: 0.13918936252593994\n",
      "Epoch: 1/2, Batch: 186/313, Loss: 0.30012696981430054\n",
      "Epoch: 1/2, Batch: 217/313, Loss: 0.4595069885253906\n",
      "Epoch: 1/2, Batch: 248/313, Loss: 0.18427124619483948\n",
      "Epoch: 1/2, Batch: 279/313, Loss: 0.14191220700740814\n",
      "Epoch: 1/2, Batch: 310/313, Loss: 0.661414384841919\n"
     ]
    },
    {
     "name": "stderr",
     "output_type": "stream",
     "text": [
      "D:\\Apps\\Anaconda\\envs\\ml\\lib\\site-packages\\sklearn\\metrics\\_classification.py:1308: UndefinedMetricWarning: Precision is ill-defined and being set to 0.0 in labels with no predicted samples. Use `zero_division` parameter to control this behavior.\n",
      "  _warn_prf(average, modifier, msg_start, len(result))\n"
     ]
    },
    {
     "name": "stdout",
     "output_type": "stream",
     "text": [
      "Run 8/10\n",
      "Epoch: 0/2, Batch: 0/313, Loss: 0.7021500468254089\n",
      "Epoch: 0/2, Batch: 31/313, Loss: 0.672074019908905\n",
      "Epoch: 0/2, Batch: 62/313, Loss: 0.6073480248451233\n",
      "Epoch: 0/2, Batch: 93/313, Loss: 0.5794609785079956\n",
      "Epoch: 0/2, Batch: 124/313, Loss: 0.5011346340179443\n",
      "Epoch: 0/2, Batch: 155/313, Loss: 0.4791437089443207\n",
      "Epoch: 0/2, Batch: 186/313, Loss: 0.45038145780563354\n",
      "Epoch: 0/2, Batch: 217/313, Loss: 0.40547412633895874\n",
      "Epoch: 0/2, Batch: 248/313, Loss: 0.5249913334846497\n",
      "Epoch: 0/2, Batch: 279/313, Loss: 0.3390071988105774\n",
      "Epoch: 0/2, Batch: 310/313, Loss: 0.3038574457168579\n",
      "Epoch: 1/2, Batch: 0/313, Loss: 0.23706650733947754\n",
      "Epoch: 1/2, Batch: 31/313, Loss: 0.4676259756088257\n",
      "Epoch: 1/2, Batch: 62/313, Loss: 0.23676007986068726\n",
      "Epoch: 1/2, Batch: 93/313, Loss: 0.412786066532135\n",
      "Epoch: 1/2, Batch: 124/313, Loss: 0.19928595423698425\n",
      "Epoch: 1/2, Batch: 155/313, Loss: 0.2396588921546936\n",
      "Epoch: 1/2, Batch: 186/313, Loss: 0.2101992815732956\n",
      "Epoch: 1/2, Batch: 217/313, Loss: 0.12916311621665955\n",
      "Epoch: 1/2, Batch: 248/313, Loss: 0.17037120461463928\n",
      "Epoch: 1/2, Batch: 279/313, Loss: 0.11246472597122192\n",
      "Epoch: 1/2, Batch: 310/313, Loss: 0.13960547745227814\n"
     ]
    },
    {
     "name": "stderr",
     "output_type": "stream",
     "text": [
      "D:\\Apps\\Anaconda\\envs\\ml\\lib\\site-packages\\sklearn\\metrics\\_classification.py:1308: UndefinedMetricWarning: Precision is ill-defined and being set to 0.0 in labels with no predicted samples. Use `zero_division` parameter to control this behavior.\n",
      "  _warn_prf(average, modifier, msg_start, len(result))\n"
     ]
    },
    {
     "name": "stdout",
     "output_type": "stream",
     "text": [
      "Run 9/10\n",
      "Epoch: 0/2, Batch: 0/313, Loss: 0.6908597946166992\n",
      "Epoch: 0/2, Batch: 31/313, Loss: 0.610791802406311\n",
      "Epoch: 0/2, Batch: 62/313, Loss: 0.5751376152038574\n",
      "Epoch: 0/2, Batch: 93/313, Loss: 0.5629738569259644\n",
      "Epoch: 0/2, Batch: 124/313, Loss: 0.508280873298645\n",
      "Epoch: 0/2, Batch: 155/313, Loss: 0.4070553779602051\n",
      "Epoch: 0/2, Batch: 186/313, Loss: 0.47413790225982666\n",
      "Epoch: 0/2, Batch: 217/313, Loss: 0.4562471807003021\n",
      "Epoch: 0/2, Batch: 248/313, Loss: 0.4552583396434784\n",
      "Epoch: 0/2, Batch: 279/313, Loss: 0.3767053484916687\n",
      "Epoch: 0/2, Batch: 310/313, Loss: 0.2926405668258667\n",
      "Epoch: 1/2, Batch: 0/313, Loss: 0.4591086506843567\n",
      "Epoch: 1/2, Batch: 31/313, Loss: 0.26777899265289307\n",
      "Epoch: 1/2, Batch: 62/313, Loss: 0.4032762050628662\n",
      "Epoch: 1/2, Batch: 93/313, Loss: 0.21478164196014404\n",
      "Epoch: 1/2, Batch: 124/313, Loss: 0.19704803824424744\n",
      "Epoch: 1/2, Batch: 155/313, Loss: 0.2219073623418808\n",
      "Epoch: 1/2, Batch: 186/313, Loss: 0.2956368923187256\n",
      "Epoch: 1/2, Batch: 217/313, Loss: 0.20240747928619385\n",
      "Epoch: 1/2, Batch: 248/313, Loss: 0.15740352869033813\n",
      "Epoch: 1/2, Batch: 279/313, Loss: 0.4583328664302826\n",
      "Epoch: 1/2, Batch: 310/313, Loss: 0.2912435531616211\n"
     ]
    },
    {
     "name": "stderr",
     "output_type": "stream",
     "text": [
      "D:\\Apps\\Anaconda\\envs\\ml\\lib\\site-packages\\sklearn\\metrics\\_classification.py:1308: UndefinedMetricWarning: Precision is ill-defined and being set to 0.0 in labels with no predicted samples. Use `zero_division` parameter to control this behavior.\n",
      "  _warn_prf(average, modifier, msg_start, len(result))\n"
     ]
    },
    {
     "name": "stdout",
     "output_type": "stream",
     "text": [
      "Run 10/10\n",
      "Epoch: 0/2, Batch: 0/313, Loss: 0.7167520523071289\n",
      "Epoch: 0/2, Batch: 31/313, Loss: 0.6516823172569275\n",
      "Epoch: 0/2, Batch: 62/313, Loss: 0.6124970316886902\n",
      "Epoch: 0/2, Batch: 93/313, Loss: 0.5398393869400024\n",
      "Epoch: 0/2, Batch: 124/313, Loss: 0.646155834197998\n",
      "Epoch: 0/2, Batch: 155/313, Loss: 0.6376091837882996\n",
      "Epoch: 0/2, Batch: 186/313, Loss: 0.4164033830165863\n",
      "Epoch: 0/2, Batch: 217/313, Loss: 0.42600923776626587\n",
      "Epoch: 0/2, Batch: 248/313, Loss: 0.3083032965660095\n",
      "Epoch: 0/2, Batch: 279/313, Loss: 0.40330690145492554\n",
      "Epoch: 0/2, Batch: 310/313, Loss: 0.3491010069847107\n",
      "Epoch: 1/2, Batch: 0/313, Loss: 0.318656861782074\n",
      "Epoch: 1/2, Batch: 31/313, Loss: 0.2974243462085724\n",
      "Epoch: 1/2, Batch: 62/313, Loss: 0.456065833568573\n",
      "Epoch: 1/2, Batch: 93/313, Loss: 0.21270081400871277\n",
      "Epoch: 1/2, Batch: 124/313, Loss: 0.19949868321418762\n",
      "Epoch: 1/2, Batch: 155/313, Loss: 0.37654945254325867\n",
      "Epoch: 1/2, Batch: 186/313, Loss: 0.155507430434227\n",
      "Epoch: 1/2, Batch: 217/313, Loss: 0.22982773184776306\n",
      "Epoch: 1/2, Batch: 248/313, Loss: 0.18158185482025146\n",
      "Epoch: 1/2, Batch: 279/313, Loss: 0.12663516402244568\n",
      "Epoch: 1/2, Batch: 310/313, Loss: 0.090458944439888\n"
     ]
    },
    {
     "name": "stderr",
     "output_type": "stream",
     "text": [
      "D:\\Apps\\Anaconda\\envs\\ml\\lib\\site-packages\\sklearn\\metrics\\_classification.py:1308: UndefinedMetricWarning: Precision is ill-defined and being set to 0.0 in labels with no predicted samples. Use `zero_division` parameter to control this behavior.\n",
      "  _warn_prf(average, modifier, msg_start, len(result))\n"
     ]
    }
   ],
   "source": [
    "for i in range(10):\n",
    "    # clear cache cuda\n",
    "    torch.cuda.empty_cache()\n",
    "    with torch.no_grad():\n",
    "        torch.cuda.empty_cache()\n",
    "    gc.collect()\n",
    "\n",
    "    start_time = time.time()\n",
    "\n",
    "    print(f\"Run {i + 1}/10\")\n",
    "\n",
    "    train_dataset = df.sample(frac=TRAIN_SPLIT)\n",
    "    test_dataset = df.drop(train_dataset.index).reset_index(drop=True)\n",
    "    train_dataset = train_dataset.reset_index(drop=True)\n",
    "\n",
    "    training_set = InputDataset(train_dataset, tokenizer)\n",
    "    testing_set = InputDataset(test_dataset, tokenizer)\n",
    "\n",
    "    train_dataloader = DataLoader(\n",
    "        training_set,\n",
    "        sampler = RandomSampler(train_dataset),\n",
    "        batch_size = TRAIN_BATCH_SIZE,\n",
    "        drop_last = True\n",
    "    )\n",
    "\n",
    "    validation_dataloader = DataLoader(\n",
    "        testing_set,\n",
    "        sampler = SequentialSampler(testing_set),\n",
    "        batch_size = VALID_BATCH_SIZE,\n",
    "        drop_last = True\n",
    "    )\n",
    "\n",
    "    model = SA_BERT_Dropout_BiLSTM_Linear(BertModel.from_pretrained('bert-base-uncased'), dropout=0.3, bilstm_in_features=256, no_out_labels=3, device=device).to(device)\n",
    "\n",
    "    optimizer = torch.optim.Adam(params = model.parameters(), lr=LEARNING_RATE)\n",
    "    loss_fn = torch.nn.BCEWithLogitsLoss()\n",
    "\n",
    "    for epoch in range(EPOCHS):\n",
    "        train(epoch, model, loss_fn, optimizer, train_dataloader)\n",
    "\n",
    "    outputs, targets = validation(model, validation_dataloader)\n",
    "    outputs = np.argmax(outputs, axis=1)\n",
    "    targets = np.argmax(targets, axis=1)\n",
    "    \n",
    "    accuracy = accuracy_score(targets, outputs)\n",
    "    precision_score_micro = precision_score(targets, outputs, average='micro')\n",
    "    precision_score_macro = precision_score(targets, outputs, average='macro')\n",
    "    recall_score_micro = recall_score(targets, outputs, average='micro')\n",
    "    recall_score_macro = recall_score(targets, outputs, average='macro')\n",
    "    f1_score_micro = f1_score(targets, outputs, average='micro')\n",
    "    f1_score_macro = f1_score(targets, outputs, average='macro')\n",
    "\n",
    "    execution_time = time.time() - start_time\n",
    "\n",
    "    results.loc[i] = [accuracy,precision_score_micro,precision_score_macro,recall_score_micro,recall_score_macro,f1_score_micro,f1_score_macro, execution_time]\n",
    "\n",
    "    if accuracy > best_accuracy:\n",
    "        best_accuracy = accuracy\n",
    "        torch.save(model, MODEL_OUTPUT)\n",
    "\n",
    "    del train_dataset\n",
    "    del test_dataset\n",
    "    del training_set\n",
    "    del testing_set\n",
    "    del model\n",
    "    del loss_fn\n",
    "    del optimizer\n",
    "    del outputs\n",
    "    del targets"
   ]
  },
  {
   "cell_type": "code",
   "execution_count": 16,
   "metadata": {},
   "outputs": [
    {
     "data": {
      "text/html": [
       "<div>\n",
       "<style scoped>\n",
       "    .dataframe tbody tr th:only-of-type {\n",
       "        vertical-align: middle;\n",
       "    }\n",
       "\n",
       "    .dataframe tbody tr th {\n",
       "        vertical-align: top;\n",
       "    }\n",
       "\n",
       "    .dataframe thead th {\n",
       "        text-align: right;\n",
       "    }\n",
       "</style>\n",
       "<table border=\"1\" class=\"dataframe\">\n",
       "  <thead>\n",
       "    <tr style=\"text-align: right;\">\n",
       "      <th></th>\n",
       "      <th>accuracy</th>\n",
       "      <th>precision_score_micro</th>\n",
       "      <th>precision_score_macro</th>\n",
       "      <th>recall_score_micro</th>\n",
       "      <th>recall_score_macro</th>\n",
       "      <th>f1_score_micro</th>\n",
       "      <th>f1_score_macro</th>\n",
       "      <th>execution_time</th>\n",
       "    </tr>\n",
       "  </thead>\n",
       "  <tbody>\n",
       "    <tr>\n",
       "      <th>0</th>\n",
       "      <td>0.916667</td>\n",
       "      <td>0.916667</td>\n",
       "      <td>0.603548</td>\n",
       "      <td>0.916667</td>\n",
       "      <td>0.626258</td>\n",
       "      <td>0.916667</td>\n",
       "      <td>0.614611</td>\n",
       "      <td>206.506755</td>\n",
       "    </tr>\n",
       "    <tr>\n",
       "      <th>1</th>\n",
       "      <td>0.897436</td>\n",
       "      <td>0.897436</td>\n",
       "      <td>0.588176</td>\n",
       "      <td>0.897436</td>\n",
       "      <td>0.608921</td>\n",
       "      <td>0.897436</td>\n",
       "      <td>0.598367</td>\n",
       "      <td>201.170440</td>\n",
       "    </tr>\n",
       "    <tr>\n",
       "      <th>2</th>\n",
       "      <td>0.887821</td>\n",
       "      <td>0.887821</td>\n",
       "      <td>0.571667</td>\n",
       "      <td>0.887821</td>\n",
       "      <td>0.622462</td>\n",
       "      <td>0.887821</td>\n",
       "      <td>0.592196</td>\n",
       "      <td>196.178830</td>\n",
       "    </tr>\n",
       "    <tr>\n",
       "      <th>3</th>\n",
       "      <td>0.903846</td>\n",
       "      <td>0.903846</td>\n",
       "      <td>0.593750</td>\n",
       "      <td>0.903846</td>\n",
       "      <td>0.614777</td>\n",
       "      <td>0.903846</td>\n",
       "      <td>0.604079</td>\n",
       "      <td>196.710275</td>\n",
       "    </tr>\n",
       "    <tr>\n",
       "      <th>4</th>\n",
       "      <td>0.919872</td>\n",
       "      <td>0.919872</td>\n",
       "      <td>0.608766</td>\n",
       "      <td>0.919872</td>\n",
       "      <td>0.614886</td>\n",
       "      <td>0.919872</td>\n",
       "      <td>0.611542</td>\n",
       "      <td>196.209569</td>\n",
       "    </tr>\n",
       "    <tr>\n",
       "      <th>5</th>\n",
       "      <td>0.907051</td>\n",
       "      <td>0.907051</td>\n",
       "      <td>0.587191</td>\n",
       "      <td>0.907051</td>\n",
       "      <td>0.624424</td>\n",
       "      <td>0.907051</td>\n",
       "      <td>0.604516</td>\n",
       "      <td>196.677255</td>\n",
       "    </tr>\n",
       "    <tr>\n",
       "      <th>6</th>\n",
       "      <td>0.897436</td>\n",
       "      <td>0.897436</td>\n",
       "      <td>0.594422</td>\n",
       "      <td>0.897436</td>\n",
       "      <td>0.597601</td>\n",
       "      <td>0.897436</td>\n",
       "      <td>0.595719</td>\n",
       "      <td>199.181090</td>\n",
       "    </tr>\n",
       "    <tr>\n",
       "      <th>7</th>\n",
       "      <td>0.891026</td>\n",
       "      <td>0.891026</td>\n",
       "      <td>0.580766</td>\n",
       "      <td>0.891026</td>\n",
       "      <td>0.615034</td>\n",
       "      <td>0.891026</td>\n",
       "      <td>0.596964</td>\n",
       "      <td>202.394194</td>\n",
       "    </tr>\n",
       "    <tr>\n",
       "      <th>8</th>\n",
       "      <td>0.919872</td>\n",
       "      <td>0.919872</td>\n",
       "      <td>0.602778</td>\n",
       "      <td>0.919872</td>\n",
       "      <td>0.607485</td>\n",
       "      <td>0.919872</td>\n",
       "      <td>0.604803</td>\n",
       "      <td>197.855954</td>\n",
       "    </tr>\n",
       "    <tr>\n",
       "      <th>9</th>\n",
       "      <td>0.871795</td>\n",
       "      <td>0.871795</td>\n",
       "      <td>0.570139</td>\n",
       "      <td>0.871795</td>\n",
       "      <td>0.606928</td>\n",
       "      <td>0.871795</td>\n",
       "      <td>0.586858</td>\n",
       "      <td>196.725382</td>\n",
       "    </tr>\n",
       "  </tbody>\n",
       "</table>\n",
       "</div>"
      ],
      "text/plain": [
       "   accuracy  precision_score_micro  precision_score_macro  recall_score_micro  \\\n",
       "0  0.916667               0.916667               0.603548            0.916667   \n",
       "1  0.897436               0.897436               0.588176            0.897436   \n",
       "2  0.887821               0.887821               0.571667            0.887821   \n",
       "3  0.903846               0.903846               0.593750            0.903846   \n",
       "4  0.919872               0.919872               0.608766            0.919872   \n",
       "5  0.907051               0.907051               0.587191            0.907051   \n",
       "6  0.897436               0.897436               0.594422            0.897436   \n",
       "7  0.891026               0.891026               0.580766            0.891026   \n",
       "8  0.919872               0.919872               0.602778            0.919872   \n",
       "9  0.871795               0.871795               0.570139            0.871795   \n",
       "\n",
       "   recall_score_macro  f1_score_micro  f1_score_macro  execution_time  \n",
       "0            0.626258        0.916667        0.614611      206.506755  \n",
       "1            0.608921        0.897436        0.598367      201.170440  \n",
       "2            0.622462        0.887821        0.592196      196.178830  \n",
       "3            0.614777        0.903846        0.604079      196.710275  \n",
       "4            0.614886        0.919872        0.611542      196.209569  \n",
       "5            0.624424        0.907051        0.604516      196.677255  \n",
       "6            0.597601        0.897436        0.595719      199.181090  \n",
       "7            0.615034        0.891026        0.596964      202.394194  \n",
       "8            0.607485        0.919872        0.604803      197.855954  \n",
       "9            0.606928        0.871795        0.586858      196.725382  "
      ]
     },
     "execution_count": 16,
     "metadata": {},
     "output_type": "execute_result"
    }
   ],
   "source": [
    "results"
   ]
  },
  {
   "cell_type": "code",
   "execution_count": 17,
   "metadata": {},
   "outputs": [],
   "source": [
    "results.to_csv(STATS_OUTPUT)"
   ]
  }
 ],
 "metadata": {
  "interpreter": {
   "hash": "60f74211c8095d4d69bea747ac312f2fd52777f7ee1c791c3155581964756685"
  },
  "kernelspec": {
   "display_name": "Python 3.9.7 ('ml')",
   "language": "python",
   "name": "python3"
  },
  "language_info": {
   "codemirror_mode": {
    "name": "ipython",
    "version": 3
   },
   "file_extension": ".py",
   "mimetype": "text/x-python",
   "name": "python",
   "nbconvert_exporter": "python",
   "pygments_lexer": "ipython3",
   "version": "3.9.7"
  },
  "orig_nbformat": 4
 },
 "nbformat": 4,
 "nbformat_minor": 2
}
