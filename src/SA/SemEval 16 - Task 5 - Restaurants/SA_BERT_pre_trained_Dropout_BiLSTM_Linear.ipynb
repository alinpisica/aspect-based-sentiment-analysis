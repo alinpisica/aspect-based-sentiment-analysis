{
 "cells": [
  {
   "cell_type": "markdown",
   "metadata": {},
   "source": [
    "# Import dependencies"
   ]
  },
  {
   "cell_type": "code",
   "execution_count": null,
   "metadata": {},
   "outputs": [],
   "source": [
    "import os\n",
    "import sys\n",
    "\n",
    "sys.path.insert(0, os.path.dirname(os.getcwd())) "
   ]
  },
  {
   "cell_type": "code",
   "execution_count": 1,
   "metadata": {},
   "outputs": [],
   "source": [
    "import time\n",
    "import gc\n",
    "\n",
    "import numpy as np\n",
    "import pandas as pd\n",
    "\n",
    "from transformers import BertTokenizer, BertModel\n",
    "from transformers import logging\n",
    "\n",
    "from sklearn.metrics import f1_score, accuracy_score, precision_score, recall_score\n",
    "\n",
    "from semeval_reader import SemevalReader\n",
    "\n",
    "from InputDataset import InputDataset\n",
    "\n",
    "import torch\n",
    "from torch.utils.data import DataLoader, RandomSampler, SequentialSampler\n",
    "\n",
    "from torch import cuda\n",
    "\n",
    "from models.BERT_Dropout_BiLSTM_Linear import BERT_Dropout_BiLSTM_Linear"
   ]
  },
  {
   "cell_type": "code",
   "execution_count": 2,
   "metadata": {},
   "outputs": [
    {
     "name": "stdout",
     "output_type": "stream",
     "text": [
      "NVIDIA GeForce RTX 2060 SUPER\n",
      "Memory: 8 GB\n"
     ]
    }
   ],
   "source": [
    "device = 'cuda' if cuda.is_available() else 'cpu'\n",
    "\n",
    "print(torch.cuda.get_device_name(0))\n",
    "print(f\"Memory: {torch.cuda.get_device_properties(0).total_memory // 1024 ** 3} GB\")"
   ]
  },
  {
   "cell_type": "code",
   "execution_count": 3,
   "metadata": {},
   "outputs": [],
   "source": [
    "logging.set_verbosity_error()"
   ]
  },
  {
   "cell_type": "code",
   "execution_count": 4,
   "metadata": {},
   "outputs": [],
   "source": [
    "def clear_memory():\n",
    "    torch.cuda.empty_cache()\n",
    "\n",
    "    with torch.no_grad():\n",
    "        torch.cuda.empty_cache()\n",
    "\n",
    "    gc.collect()"
   ]
  },
  {
   "cell_type": "markdown",
   "metadata": {},
   "source": [
    "# Load Data"
   ]
  },
  {
   "cell_type": "code",
   "execution_count": 5,
   "metadata": {},
   "outputs": [],
   "source": [
    "def get_target_list_for_polarity(polarity):\n",
    "    if polarity == 'positive':\n",
    "        return [0, 0, 1]\n",
    "    if polarity == 'negative':\n",
    "        return [1, 0, 0]\n",
    "    return [0, 1, 0]"
   ]
  },
  {
   "cell_type": "code",
   "execution_count": 6,
   "metadata": {},
   "outputs": [],
   "source": [
    "semeval_reader = SemevalReader('../../../data/semeval16_restaurants_train.xml')\n",
    "\n",
    "reviews = semeval_reader.read_reviews()\n",
    "absolute_polarity_sentences = semeval_reader.get_absolute_polarity_sentences()\n",
    "\n",
    "df = pd.DataFrame(map(lambda x: (x.text, x.opinions[0].polarity), absolute_polarity_sentences))\n",
    "df.rename(columns={0: 'text'}, inplace=True)\n",
    "df['target_list'] = df.apply(lambda row: get_target_list_for_polarity(row[1]), axis=1)\n",
    "\n",
    "absolute_polarity_df = df.drop(columns=[1])"
   ]
  },
  {
   "cell_type": "markdown",
   "metadata": {},
   "source": [
    "# Train & Validate"
   ]
  },
  {
   "cell_type": "code",
   "execution_count": 7,
   "metadata": {},
   "outputs": [],
   "source": [
    "TRAIN_BATCH_SIZE = 4\n",
    "VALID_BATCH_SIZE = 4\n",
    "\n",
    "EPOCHS = 2\n",
    "\n",
    "LEARNING_RATE = 1e-5\n",
    "\n",
    "TRAIN_SPLIT = 0.8\n",
    "\n",
    "NO_RUNS = 10"
   ]
  },
  {
   "cell_type": "code",
   "execution_count": 8,
   "metadata": {},
   "outputs": [],
   "source": [
    "MODEL_OUTPUT = '../../../results/SA/SemEval16 - Task 5 - Restaurants/models/bert_pre_trained_dropout_bilstm_linear.pth'\n",
    "STATS_OUTPUT = '../../../results/SA/SemEval16 - Task 5 - Restaurants/stats/bert_pre_trained_dropout_bilstm_linear.csv'"
   ]
  },
  {
   "cell_type": "code",
   "execution_count": 9,
   "metadata": {},
   "outputs": [],
   "source": [
    "tokenizer = BertTokenizer.from_pretrained('bert-base-uncased')"
   ]
  },
  {
   "cell_type": "code",
   "execution_count": 10,
   "metadata": {},
   "outputs": [],
   "source": [
    "best_accuracy = 0.0"
   ]
  },
  {
   "cell_type": "code",
   "execution_count": 11,
   "metadata": {},
   "outputs": [],
   "source": [
    "def train(epoch, model, loss_fn, optimizer, dataloader):\n",
    "    model.train()\n",
    "\n",
    "    dataloader_len = len(dataloader)\n",
    "\n",
    "    for _,data in enumerate(dataloader, 0):\n",
    "        optimizer.zero_grad()\n",
    "\n",
    "        ids = data['ids'].to(device, dtype = torch.long)\n",
    "        mask = data['mask'].to(device, dtype = torch.long)\n",
    "        token_type_ids = data['token_type_ids'].to(device, dtype = torch.long)\n",
    "        targets = data['targets'].to(device, dtype = torch.float)\n",
    "\n",
    "        outputs = model(ids, mask, token_type_ids)\n",
    "\n",
    "        loss = loss_fn(outputs, targets)\n",
    "        \n",
    "        if _ % (dataloader_len // 10) == 0:\n",
    "            print(f\"Epoch: {epoch}/{EPOCHS}, Batch: {_}/{dataloader_len}, Loss: {loss.item()}\")\n",
    "        \n",
    "        loss.backward()\n",
    "        \n",
    "        optimizer.step()"
   ]
  },
  {
   "cell_type": "code",
   "execution_count": 12,
   "metadata": {},
   "outputs": [],
   "source": [
    "def validation(model, dataloader):\n",
    "    model.eval()\n",
    "    \n",
    "    fin_targets=[]\n",
    "    fin_outputs=[]\n",
    "\n",
    "    with torch.no_grad():\n",
    "        for _, data in enumerate(dataloader, 0):\n",
    "            ids = data['ids'].to(device, dtype = torch.long)\n",
    "            mask = data['mask'].to(device, dtype = torch.long)\n",
    "            token_type_ids = data['token_type_ids'].to(device, dtype = torch.long)\n",
    "            targets = data['targets'].to(device, dtype = torch.float)\n",
    "\n",
    "            outputs = model(ids, mask, token_type_ids)\n",
    "            \n",
    "            fin_targets.extend(targets.cpu().detach().numpy().tolist())\n",
    "            fin_outputs.extend(torch.sigmoid(outputs).cpu().detach().numpy().tolist())\n",
    "\n",
    "    return fin_outputs, fin_targets"
   ]
  },
  {
   "cell_type": "code",
   "execution_count": 13,
   "metadata": {},
   "outputs": [],
   "source": [
    "results = pd.DataFrame(columns=['accuracy','precision_score_micro','precision_score_macro','recall_score_micro','recall_score_macro','f1_score_micro','f1_score_macro', 'execution_time'])"
   ]
  },
  {
   "cell_type": "code",
   "execution_count": 14,
   "metadata": {},
   "outputs": [
    {
     "name": "stdout",
     "output_type": "stream",
     "text": [
      "Run 1/10\n",
      "Epoch: 0/2, Batch: 0/313, Loss: 0.7129162549972534\n",
      "Epoch: 0/2, Batch: 31/313, Loss: 0.693769097328186\n",
      "Epoch: 0/2, Batch: 62/313, Loss: 0.5946083664894104\n",
      "Epoch: 0/2, Batch: 93/313, Loss: 0.5320090651512146\n",
      "Epoch: 0/2, Batch: 124/313, Loss: 0.674825131893158\n",
      "Epoch: 0/2, Batch: 155/313, Loss: 0.4543503522872925\n",
      "Epoch: 0/2, Batch: 186/313, Loss: 0.4576895236968994\n",
      "Epoch: 0/2, Batch: 217/313, Loss: 0.40240877866744995\n",
      "Epoch: 0/2, Batch: 248/313, Loss: 0.5379345417022705\n",
      "Epoch: 0/2, Batch: 279/313, Loss: 0.3476451337337494\n",
      "Epoch: 0/2, Batch: 310/313, Loss: 0.6338309049606323\n",
      "Epoch: 1/2, Batch: 0/313, Loss: 0.48881250619888306\n",
      "Epoch: 1/2, Batch: 31/313, Loss: 0.3261891305446625\n",
      "Epoch: 1/2, Batch: 62/313, Loss: 0.24056196212768555\n",
      "Epoch: 1/2, Batch: 93/313, Loss: 0.2148626744747162\n",
      "Epoch: 1/2, Batch: 124/313, Loss: 0.24718055129051208\n",
      "Epoch: 1/2, Batch: 155/313, Loss: 0.3483841121196747\n",
      "Epoch: 1/2, Batch: 186/313, Loss: 0.2935512065887451\n",
      "Epoch: 1/2, Batch: 217/313, Loss: 0.19005648791790009\n",
      "Epoch: 1/2, Batch: 248/313, Loss: 0.14910219609737396\n",
      "Epoch: 1/2, Batch: 279/313, Loss: 0.192744180560112\n",
      "Epoch: 1/2, Batch: 310/313, Loss: 0.3642362058162689\n"
     ]
    },
    {
     "name": "stderr",
     "output_type": "stream",
     "text": [
      "D:\\Apps\\Anaconda\\envs\\ml\\lib\\site-packages\\sklearn\\metrics\\_classification.py:1308: UndefinedMetricWarning: Precision is ill-defined and being set to 0.0 in labels with no predicted samples. Use `zero_division` parameter to control this behavior.\n",
      "  _warn_prf(average, modifier, msg_start, len(result))\n"
     ]
    },
    {
     "name": "stdout",
     "output_type": "stream",
     "text": [
      "Run 2/10\n",
      "Epoch: 0/2, Batch: 0/313, Loss: 0.7138122320175171\n",
      "Epoch: 0/2, Batch: 31/313, Loss: 0.6484948396682739\n",
      "Epoch: 0/2, Batch: 62/313, Loss: 0.5635331869125366\n",
      "Epoch: 0/2, Batch: 93/313, Loss: 0.6278156638145447\n",
      "Epoch: 0/2, Batch: 124/313, Loss: 0.5604260563850403\n",
      "Epoch: 0/2, Batch: 155/313, Loss: 0.5412669777870178\n",
      "Epoch: 0/2, Batch: 186/313, Loss: 0.36972078680992126\n",
      "Epoch: 0/2, Batch: 217/313, Loss: 0.3205537497997284\n",
      "Epoch: 0/2, Batch: 248/313, Loss: 0.3346075415611267\n",
      "Epoch: 0/2, Batch: 279/313, Loss: 0.30628424882888794\n",
      "Epoch: 0/2, Batch: 310/313, Loss: 0.2880992293357849\n",
      "Epoch: 1/2, Batch: 0/313, Loss: 0.3358098864555359\n",
      "Epoch: 1/2, Batch: 31/313, Loss: 0.2683384120464325\n",
      "Epoch: 1/2, Batch: 62/313, Loss: 0.24225696921348572\n",
      "Epoch: 1/2, Batch: 93/313, Loss: 0.26103758811950684\n",
      "Epoch: 1/2, Batch: 124/313, Loss: 0.23385944962501526\n",
      "Epoch: 1/2, Batch: 155/313, Loss: 0.24995827674865723\n",
      "Epoch: 1/2, Batch: 186/313, Loss: 0.20186758041381836\n",
      "Epoch: 1/2, Batch: 217/313, Loss: 0.13191094994544983\n",
      "Epoch: 1/2, Batch: 248/313, Loss: 0.20823359489440918\n",
      "Epoch: 1/2, Batch: 279/313, Loss: 0.1428602784872055\n",
      "Epoch: 1/2, Batch: 310/313, Loss: 0.1099841520190239\n"
     ]
    },
    {
     "name": "stderr",
     "output_type": "stream",
     "text": [
      "D:\\Apps\\Anaconda\\envs\\ml\\lib\\site-packages\\sklearn\\metrics\\_classification.py:1308: UndefinedMetricWarning: Precision is ill-defined and being set to 0.0 in labels with no predicted samples. Use `zero_division` parameter to control this behavior.\n",
      "  _warn_prf(average, modifier, msg_start, len(result))\n"
     ]
    },
    {
     "name": "stdout",
     "output_type": "stream",
     "text": [
      "Run 3/10\n",
      "Epoch: 0/2, Batch: 0/313, Loss: 0.6960453987121582\n",
      "Epoch: 0/2, Batch: 31/313, Loss: 0.6751636266708374\n",
      "Epoch: 0/2, Batch: 62/313, Loss: 0.5906842947006226\n",
      "Epoch: 0/2, Batch: 93/313, Loss: 0.4928397536277771\n",
      "Epoch: 0/2, Batch: 124/313, Loss: 0.6866273880004883\n",
      "Epoch: 0/2, Batch: 155/313, Loss: 0.3944697976112366\n",
      "Epoch: 0/2, Batch: 186/313, Loss: 0.37693914771080017\n",
      "Epoch: 0/2, Batch: 217/313, Loss: 0.38850268721580505\n",
      "Epoch: 0/2, Batch: 248/313, Loss: 0.26584458351135254\n",
      "Epoch: 0/2, Batch: 279/313, Loss: 0.3993379473686218\n",
      "Epoch: 0/2, Batch: 310/313, Loss: 0.32272472977638245\n",
      "Epoch: 1/2, Batch: 0/313, Loss: 0.31503230333328247\n",
      "Epoch: 1/2, Batch: 31/313, Loss: 0.315265417098999\n",
      "Epoch: 1/2, Batch: 62/313, Loss: 0.22991949319839478\n",
      "Epoch: 1/2, Batch: 93/313, Loss: 0.21430718898773193\n",
      "Epoch: 1/2, Batch: 124/313, Loss: 0.20036667585372925\n",
      "Epoch: 1/2, Batch: 155/313, Loss: 0.2534189522266388\n",
      "Epoch: 1/2, Batch: 186/313, Loss: 0.1655375212430954\n",
      "Epoch: 1/2, Batch: 217/313, Loss: 0.4545847773551941\n",
      "Epoch: 1/2, Batch: 248/313, Loss: 0.41083335876464844\n",
      "Epoch: 1/2, Batch: 279/313, Loss: 0.621982991695404\n",
      "Epoch: 1/2, Batch: 310/313, Loss: 0.3762601613998413\n"
     ]
    },
    {
     "name": "stderr",
     "output_type": "stream",
     "text": [
      "D:\\Apps\\Anaconda\\envs\\ml\\lib\\site-packages\\sklearn\\metrics\\_classification.py:1308: UndefinedMetricWarning: Precision is ill-defined and being set to 0.0 in labels with no predicted samples. Use `zero_division` parameter to control this behavior.\n",
      "  _warn_prf(average, modifier, msg_start, len(result))\n"
     ]
    },
    {
     "name": "stdout",
     "output_type": "stream",
     "text": [
      "Run 4/10\n",
      "Epoch: 0/2, Batch: 0/313, Loss: 0.6755771636962891\n",
      "Epoch: 0/2, Batch: 31/313, Loss: 0.6343963146209717\n",
      "Epoch: 0/2, Batch: 62/313, Loss: 0.577113151550293\n",
      "Epoch: 0/2, Batch: 93/313, Loss: 0.6372940540313721\n",
      "Epoch: 0/2, Batch: 124/313, Loss: 0.5642938613891602\n",
      "Epoch: 0/2, Batch: 155/313, Loss: 0.4801900386810303\n",
      "Epoch: 0/2, Batch: 186/313, Loss: 0.5676864385604858\n",
      "Epoch: 0/2, Batch: 217/313, Loss: 0.4733167588710785\n",
      "Epoch: 0/2, Batch: 248/313, Loss: 0.27895283699035645\n",
      "Epoch: 0/2, Batch: 279/313, Loss: 0.494524210691452\n",
      "Epoch: 0/2, Batch: 310/313, Loss: 0.3226040005683899\n",
      "Epoch: 1/2, Batch: 0/313, Loss: 0.22738605737686157\n",
      "Epoch: 1/2, Batch: 31/313, Loss: 0.25634872913360596\n",
      "Epoch: 1/2, Batch: 62/313, Loss: 0.4190466105937958\n",
      "Epoch: 1/2, Batch: 93/313, Loss: 0.19525150954723358\n",
      "Epoch: 1/2, Batch: 124/313, Loss: 0.24923411011695862\n",
      "Epoch: 1/2, Batch: 155/313, Loss: 0.44462642073631287\n",
      "Epoch: 1/2, Batch: 186/313, Loss: 0.43195685744285583\n",
      "Epoch: 1/2, Batch: 217/313, Loss: 0.20938816666603088\n",
      "Epoch: 1/2, Batch: 248/313, Loss: 0.19592547416687012\n",
      "Epoch: 1/2, Batch: 279/313, Loss: 0.15324324369430542\n",
      "Epoch: 1/2, Batch: 310/313, Loss: 0.1029207706451416\n"
     ]
    },
    {
     "name": "stderr",
     "output_type": "stream",
     "text": [
      "D:\\Apps\\Anaconda\\envs\\ml\\lib\\site-packages\\sklearn\\metrics\\_classification.py:1308: UndefinedMetricWarning: Precision is ill-defined and being set to 0.0 in labels with no predicted samples. Use `zero_division` parameter to control this behavior.\n",
      "  _warn_prf(average, modifier, msg_start, len(result))\n"
     ]
    },
    {
     "name": "stdout",
     "output_type": "stream",
     "text": [
      "Run 5/10\n",
      "Epoch: 0/2, Batch: 0/313, Loss: 0.6525997519493103\n",
      "Epoch: 0/2, Batch: 31/313, Loss: 0.6519542932510376\n",
      "Epoch: 0/2, Batch: 62/313, Loss: 0.5859458446502686\n",
      "Epoch: 0/2, Batch: 93/313, Loss: 0.5949995517730713\n",
      "Epoch: 0/2, Batch: 124/313, Loss: 0.5681213140487671\n",
      "Epoch: 0/2, Batch: 155/313, Loss: 0.41907811164855957\n",
      "Epoch: 0/2, Batch: 186/313, Loss: 0.44766682386398315\n",
      "Epoch: 0/2, Batch: 217/313, Loss: 0.39553117752075195\n",
      "Epoch: 0/2, Batch: 248/313, Loss: 0.538273811340332\n",
      "Epoch: 0/2, Batch: 279/313, Loss: 0.31897199153900146\n",
      "Epoch: 0/2, Batch: 310/313, Loss: 0.30148598551750183\n",
      "Epoch: 1/2, Batch: 0/313, Loss: 0.5782341957092285\n",
      "Epoch: 1/2, Batch: 31/313, Loss: 0.3880091905593872\n",
      "Epoch: 1/2, Batch: 62/313, Loss: 0.28064948320388794\n",
      "Epoch: 1/2, Batch: 93/313, Loss: 0.5207138061523438\n",
      "Epoch: 1/2, Batch: 124/313, Loss: 0.4521411657333374\n",
      "Epoch: 1/2, Batch: 155/313, Loss: 0.37750548124313354\n",
      "Epoch: 1/2, Batch: 186/313, Loss: 0.3675170838832855\n",
      "Epoch: 1/2, Batch: 217/313, Loss: 0.27435970306396484\n",
      "Epoch: 1/2, Batch: 248/313, Loss: 0.19515180587768555\n",
      "Epoch: 1/2, Batch: 279/313, Loss: 0.19156396389007568\n",
      "Epoch: 1/2, Batch: 310/313, Loss: 0.18563130497932434\n"
     ]
    },
    {
     "name": "stderr",
     "output_type": "stream",
     "text": [
      "D:\\Apps\\Anaconda\\envs\\ml\\lib\\site-packages\\sklearn\\metrics\\_classification.py:1308: UndefinedMetricWarning: Precision is ill-defined and being set to 0.0 in labels with no predicted samples. Use `zero_division` parameter to control this behavior.\n",
      "  _warn_prf(average, modifier, msg_start, len(result))\n"
     ]
    },
    {
     "name": "stdout",
     "output_type": "stream",
     "text": [
      "Run 6/10\n",
      "Epoch: 0/2, Batch: 0/313, Loss: 0.7159764170646667\n",
      "Epoch: 0/2, Batch: 31/313, Loss: 0.6673547625541687\n",
      "Epoch: 0/2, Batch: 62/313, Loss: 0.6955079436302185\n",
      "Epoch: 0/2, Batch: 93/313, Loss: 0.5248040556907654\n",
      "Epoch: 0/2, Batch: 124/313, Loss: 0.584976077079773\n",
      "Epoch: 0/2, Batch: 155/313, Loss: 0.6511767506599426\n",
      "Epoch: 0/2, Batch: 186/313, Loss: 0.4666827321052551\n",
      "Epoch: 0/2, Batch: 217/313, Loss: 0.3291279971599579\n",
      "Epoch: 0/2, Batch: 248/313, Loss: 0.4183618724346161\n",
      "Epoch: 0/2, Batch: 279/313, Loss: 0.3437451720237732\n",
      "Epoch: 0/2, Batch: 310/313, Loss: 0.5150079727172852\n",
      "Epoch: 1/2, Batch: 0/313, Loss: 0.47125619649887085\n",
      "Epoch: 1/2, Batch: 31/313, Loss: 0.3861781060695648\n",
      "Epoch: 1/2, Batch: 62/313, Loss: 0.2506904602050781\n",
      "Epoch: 1/2, Batch: 93/313, Loss: 0.5127173662185669\n",
      "Epoch: 1/2, Batch: 124/313, Loss: 0.4842805862426758\n",
      "Epoch: 1/2, Batch: 155/313, Loss: 0.13389170169830322\n",
      "Epoch: 1/2, Batch: 186/313, Loss: 0.13444697856903076\n",
      "Epoch: 1/2, Batch: 217/313, Loss: 0.161946102976799\n",
      "Epoch: 1/2, Batch: 248/313, Loss: 0.4538540840148926\n",
      "Epoch: 1/2, Batch: 279/313, Loss: 0.44488525390625\n",
      "Epoch: 1/2, Batch: 310/313, Loss: 0.1067347526550293\n"
     ]
    },
    {
     "name": "stderr",
     "output_type": "stream",
     "text": [
      "D:\\Apps\\Anaconda\\envs\\ml\\lib\\site-packages\\sklearn\\metrics\\_classification.py:1308: UndefinedMetricWarning: Precision is ill-defined and being set to 0.0 in labels with no predicted samples. Use `zero_division` parameter to control this behavior.\n",
      "  _warn_prf(average, modifier, msg_start, len(result))\n"
     ]
    },
    {
     "name": "stdout",
     "output_type": "stream",
     "text": [
      "Run 7/10\n",
      "Epoch: 0/2, Batch: 0/313, Loss: 0.7147526741027832\n",
      "Epoch: 0/2, Batch: 31/313, Loss: 0.6461036205291748\n",
      "Epoch: 0/2, Batch: 62/313, Loss: 0.6394841074943542\n",
      "Epoch: 0/2, Batch: 93/313, Loss: 0.6614076495170593\n",
      "Epoch: 0/2, Batch: 124/313, Loss: 0.5134739279747009\n",
      "Epoch: 0/2, Batch: 155/313, Loss: 0.5346227884292603\n",
      "Epoch: 0/2, Batch: 186/313, Loss: 0.5707864165306091\n",
      "Epoch: 0/2, Batch: 217/313, Loss: 0.5175445675849915\n",
      "Epoch: 0/2, Batch: 248/313, Loss: 0.35327863693237305\n",
      "Epoch: 0/2, Batch: 279/313, Loss: 0.4348630905151367\n",
      "Epoch: 0/2, Batch: 310/313, Loss: 0.4423913359642029\n",
      "Epoch: 1/2, Batch: 0/313, Loss: 0.31645911931991577\n",
      "Epoch: 1/2, Batch: 31/313, Loss: 0.3215380311012268\n",
      "Epoch: 1/2, Batch: 62/313, Loss: 0.2662479281425476\n",
      "Epoch: 1/2, Batch: 93/313, Loss: 0.20854678750038147\n",
      "Epoch: 1/2, Batch: 124/313, Loss: 0.2615775465965271\n",
      "Epoch: 1/2, Batch: 155/313, Loss: 0.22254745662212372\n",
      "Epoch: 1/2, Batch: 186/313, Loss: 0.16937552392482758\n",
      "Epoch: 1/2, Batch: 217/313, Loss: 0.18769264221191406\n",
      "Epoch: 1/2, Batch: 248/313, Loss: 0.5338971018791199\n",
      "Epoch: 1/2, Batch: 279/313, Loss: 0.19940635561943054\n",
      "Epoch: 1/2, Batch: 310/313, Loss: 0.4844861924648285\n"
     ]
    },
    {
     "name": "stderr",
     "output_type": "stream",
     "text": [
      "D:\\Apps\\Anaconda\\envs\\ml\\lib\\site-packages\\sklearn\\metrics\\_classification.py:1308: UndefinedMetricWarning: Precision is ill-defined and being set to 0.0 in labels with no predicted samples. Use `zero_division` parameter to control this behavior.\n",
      "  _warn_prf(average, modifier, msg_start, len(result))\n"
     ]
    },
    {
     "name": "stdout",
     "output_type": "stream",
     "text": [
      "Run 8/10\n",
      "Epoch: 0/2, Batch: 0/313, Loss: 0.7099778056144714\n",
      "Epoch: 0/2, Batch: 31/313, Loss: 0.646723210811615\n",
      "Epoch: 0/2, Batch: 62/313, Loss: 0.638031005859375\n",
      "Epoch: 0/2, Batch: 93/313, Loss: 0.5566114783287048\n",
      "Epoch: 0/2, Batch: 124/313, Loss: 0.5446800589561462\n",
      "Epoch: 0/2, Batch: 155/313, Loss: 0.5412980914115906\n",
      "Epoch: 0/2, Batch: 186/313, Loss: 0.30390119552612305\n",
      "Epoch: 0/2, Batch: 217/313, Loss: 0.5780269503593445\n",
      "Epoch: 0/2, Batch: 248/313, Loss: 0.26095259189605713\n",
      "Epoch: 0/2, Batch: 279/313, Loss: 0.2892245352268219\n",
      "Epoch: 0/2, Batch: 310/313, Loss: 0.2750684916973114\n",
      "Epoch: 1/2, Batch: 0/313, Loss: 0.26537761092185974\n",
      "Epoch: 1/2, Batch: 31/313, Loss: 0.3108351230621338\n",
      "Epoch: 1/2, Batch: 62/313, Loss: 0.6632527709007263\n",
      "Epoch: 1/2, Batch: 93/313, Loss: 0.15260165929794312\n",
      "Epoch: 1/2, Batch: 124/313, Loss: 0.19803236424922943\n",
      "Epoch: 1/2, Batch: 155/313, Loss: 0.1348770260810852\n",
      "Epoch: 1/2, Batch: 186/313, Loss: 0.12529721856117249\n",
      "Epoch: 1/2, Batch: 217/313, Loss: 0.22087465226650238\n",
      "Epoch: 1/2, Batch: 248/313, Loss: 0.15708857774734497\n",
      "Epoch: 1/2, Batch: 279/313, Loss: 0.35811108350753784\n",
      "Epoch: 1/2, Batch: 310/313, Loss: 0.09149271249771118\n"
     ]
    },
    {
     "name": "stderr",
     "output_type": "stream",
     "text": [
      "D:\\Apps\\Anaconda\\envs\\ml\\lib\\site-packages\\sklearn\\metrics\\_classification.py:1308: UndefinedMetricWarning: Precision is ill-defined and being set to 0.0 in labels with no predicted samples. Use `zero_division` parameter to control this behavior.\n",
      "  _warn_prf(average, modifier, msg_start, len(result))\n"
     ]
    },
    {
     "name": "stdout",
     "output_type": "stream",
     "text": [
      "Run 9/10\n",
      "Epoch: 0/2, Batch: 0/313, Loss: 0.7151336073875427\n",
      "Epoch: 0/2, Batch: 31/313, Loss: 0.6303499937057495\n",
      "Epoch: 0/2, Batch: 62/313, Loss: 0.5234854221343994\n",
      "Epoch: 0/2, Batch: 93/313, Loss: 0.5366374254226685\n",
      "Epoch: 0/2, Batch: 124/313, Loss: 0.5724115371704102\n",
      "Epoch: 0/2, Batch: 155/313, Loss: 0.4801720976829529\n",
      "Epoch: 0/2, Batch: 186/313, Loss: 0.5792274475097656\n",
      "Epoch: 0/2, Batch: 217/313, Loss: 0.5083258152008057\n",
      "Epoch: 0/2, Batch: 248/313, Loss: 0.42614269256591797\n",
      "Epoch: 0/2, Batch: 279/313, Loss: 0.28371211886405945\n",
      "Epoch: 0/2, Batch: 310/313, Loss: 0.24209213256835938\n",
      "Epoch: 1/2, Batch: 0/313, Loss: 0.45691347122192383\n",
      "Epoch: 1/2, Batch: 31/313, Loss: 0.34864962100982666\n",
      "Epoch: 1/2, Batch: 62/313, Loss: 0.2581982910633087\n",
      "Epoch: 1/2, Batch: 93/313, Loss: 0.4940466284751892\n",
      "Epoch: 1/2, Batch: 124/313, Loss: 0.1796644628047943\n",
      "Epoch: 1/2, Batch: 155/313, Loss: 0.22427880764007568\n",
      "Epoch: 1/2, Batch: 186/313, Loss: 0.25714537501335144\n",
      "Epoch: 1/2, Batch: 217/313, Loss: 0.17155009508132935\n",
      "Epoch: 1/2, Batch: 248/313, Loss: 0.47124582529067993\n",
      "Epoch: 1/2, Batch: 279/313, Loss: 0.1352263242006302\n",
      "Epoch: 1/2, Batch: 310/313, Loss: 0.4015910029411316\n"
     ]
    },
    {
     "name": "stderr",
     "output_type": "stream",
     "text": [
      "D:\\Apps\\Anaconda\\envs\\ml\\lib\\site-packages\\sklearn\\metrics\\_classification.py:1308: UndefinedMetricWarning: Precision is ill-defined and being set to 0.0 in labels with no predicted samples. Use `zero_division` parameter to control this behavior.\n",
      "  _warn_prf(average, modifier, msg_start, len(result))\n"
     ]
    },
    {
     "name": "stdout",
     "output_type": "stream",
     "text": [
      "Run 10/10\n",
      "Epoch: 0/2, Batch: 0/313, Loss: 0.7015601992607117\n",
      "Epoch: 0/2, Batch: 31/313, Loss: 0.6669694185256958\n",
      "Epoch: 0/2, Batch: 62/313, Loss: 0.6133999228477478\n",
      "Epoch: 0/2, Batch: 93/313, Loss: 0.5895928144454956\n",
      "Epoch: 0/2, Batch: 124/313, Loss: 0.6310868263244629\n",
      "Epoch: 0/2, Batch: 155/313, Loss: 0.4853489100933075\n",
      "Epoch: 0/2, Batch: 186/313, Loss: 0.4425649344921112\n",
      "Epoch: 0/2, Batch: 217/313, Loss: 0.39546728134155273\n",
      "Epoch: 0/2, Batch: 248/313, Loss: 0.4167359471321106\n",
      "Epoch: 0/2, Batch: 279/313, Loss: 0.34983426332473755\n",
      "Epoch: 0/2, Batch: 310/313, Loss: 0.3302704095840454\n",
      "Epoch: 1/2, Batch: 0/313, Loss: 0.3523334264755249\n",
      "Epoch: 1/2, Batch: 31/313, Loss: 0.3437492251396179\n",
      "Epoch: 1/2, Batch: 62/313, Loss: 0.19927631318569183\n",
      "Epoch: 1/2, Batch: 93/313, Loss: 0.2273930162191391\n",
      "Epoch: 1/2, Batch: 124/313, Loss: 0.33480304479599\n",
      "Epoch: 1/2, Batch: 155/313, Loss: 0.27368399500846863\n",
      "Epoch: 1/2, Batch: 186/313, Loss: 0.20710329711437225\n",
      "Epoch: 1/2, Batch: 217/313, Loss: 0.22453650832176208\n",
      "Epoch: 1/2, Batch: 248/313, Loss: 0.14872151613235474\n",
      "Epoch: 1/2, Batch: 279/313, Loss: 0.13727332651615143\n",
      "Epoch: 1/2, Batch: 310/313, Loss: 0.1658189594745636\n"
     ]
    },
    {
     "name": "stderr",
     "output_type": "stream",
     "text": [
      "D:\\Apps\\Anaconda\\envs\\ml\\lib\\site-packages\\sklearn\\metrics\\_classification.py:1308: UndefinedMetricWarning: Precision is ill-defined and being set to 0.0 in labels with no predicted samples. Use `zero_division` parameter to control this behavior.\n",
      "  _warn_prf(average, modifier, msg_start, len(result))\n"
     ]
    }
   ],
   "source": [
    "for i in range(10):\n",
    "    # clear cache cuda\n",
    "    torch.cuda.empty_cache()\n",
    "    with torch.no_grad():\n",
    "        torch.cuda.empty_cache()\n",
    "    gc.collect()\n",
    "\n",
    "    start_time = time.time()\n",
    "\n",
    "    print(f\"Run {i + 1}/10\")\n",
    "\n",
    "    train_dataset = df.sample(frac=TRAIN_SPLIT)\n",
    "    test_dataset = df.drop(train_dataset.index).reset_index(drop=True)\n",
    "    train_dataset = train_dataset.reset_index(drop=True)\n",
    "\n",
    "    training_set = InputDataset(train_dataset, tokenizer)\n",
    "    testing_set = InputDataset(test_dataset, tokenizer)\n",
    "\n",
    "    train_dataloader = DataLoader(\n",
    "        training_set,\n",
    "        sampler = RandomSampler(train_dataset),\n",
    "        batch_size = TRAIN_BATCH_SIZE,\n",
    "        drop_last = True\n",
    "    )\n",
    "\n",
    "    validation_dataloader = DataLoader(\n",
    "        testing_set,\n",
    "        sampler = SequentialSampler(testing_set),\n",
    "        batch_size = VALID_BATCH_SIZE,\n",
    "        drop_last = True\n",
    "    )\n",
    "\n",
    "    model = BERT_Dropout_BiLSTM_Linear(BertModel.from_pretrained('bert-base-uncased'), dropout=0.3, bilstm_in_features=256, no_out_labels=3, device=device).to(device)\n",
    "\n",
    "    optimizer = torch.optim.Adam(params = model.parameters(), lr=LEARNING_RATE)\n",
    "    loss_fn = torch.nn.BCEWithLogitsLoss()\n",
    "\n",
    "    for epoch in range(EPOCHS):\n",
    "        train(epoch, model, loss_fn, optimizer, train_dataloader)\n",
    "\n",
    "    outputs, targets = validation(model, validation_dataloader)\n",
    "    outputs = np.argmax(outputs, axis=1)\n",
    "    targets = np.argmax(targets, axis=1)\n",
    "    \n",
    "    accuracy = accuracy_score(targets, outputs)\n",
    "    precision_score_micro = precision_score(targets, outputs, average='micro')\n",
    "    precision_score_macro = precision_score(targets, outputs, average='macro')\n",
    "    recall_score_micro = recall_score(targets, outputs, average='micro')\n",
    "    recall_score_macro = recall_score(targets, outputs, average='macro')\n",
    "    f1_score_micro = f1_score(targets, outputs, average='micro')\n",
    "    f1_score_macro = f1_score(targets, outputs, average='macro')\n",
    "\n",
    "    execution_time = time.time() - start_time\n",
    "\n",
    "    results.loc[i] = [accuracy,precision_score_micro,precision_score_macro,recall_score_micro,recall_score_macro,f1_score_micro,f1_score_macro, execution_time]\n",
    "\n",
    "    if accuracy > best_accuracy:\n",
    "        best_accuracy = accuracy\n",
    "        torch.save(model.bert, MODEL_OUTPUT)\n",
    "\n",
    "    del train_dataset\n",
    "    del test_dataset\n",
    "    del training_set\n",
    "    del testing_set\n",
    "    del model\n",
    "    del loss_fn\n",
    "    del optimizer\n",
    "    del outputs\n",
    "    del targets"
   ]
  },
  {
   "cell_type": "code",
   "execution_count": 15,
   "metadata": {},
   "outputs": [
    {
     "data": {
      "text/html": [
       "<div>\n",
       "<style scoped>\n",
       "    .dataframe tbody tr th:only-of-type {\n",
       "        vertical-align: middle;\n",
       "    }\n",
       "\n",
       "    .dataframe tbody tr th {\n",
       "        vertical-align: top;\n",
       "    }\n",
       "\n",
       "    .dataframe thead th {\n",
       "        text-align: right;\n",
       "    }\n",
       "</style>\n",
       "<table border=\"1\" class=\"dataframe\">\n",
       "  <thead>\n",
       "    <tr style=\"text-align: right;\">\n",
       "      <th></th>\n",
       "      <th>accuracy</th>\n",
       "      <th>precision_score_micro</th>\n",
       "      <th>precision_score_macro</th>\n",
       "      <th>recall_score_micro</th>\n",
       "      <th>recall_score_macro</th>\n",
       "      <th>f1_score_micro</th>\n",
       "      <th>f1_score_macro</th>\n",
       "      <th>execution_time</th>\n",
       "    </tr>\n",
       "  </thead>\n",
       "  <tbody>\n",
       "    <tr>\n",
       "      <th>0</th>\n",
       "      <td>0.871795</td>\n",
       "      <td>0.871795</td>\n",
       "      <td>0.563333</td>\n",
       "      <td>0.871795</td>\n",
       "      <td>0.605282</td>\n",
       "      <td>0.871795</td>\n",
       "      <td>0.581874</td>\n",
       "      <td>208.818245</td>\n",
       "    </tr>\n",
       "    <tr>\n",
       "      <th>1</th>\n",
       "      <td>0.875000</td>\n",
       "      <td>0.875000</td>\n",
       "      <td>0.590317</td>\n",
       "      <td>0.875000</td>\n",
       "      <td>0.572048</td>\n",
       "      <td>0.875000</td>\n",
       "      <td>0.577543</td>\n",
       "      <td>202.117968</td>\n",
       "    </tr>\n",
       "    <tr>\n",
       "      <th>2</th>\n",
       "      <td>0.897436</td>\n",
       "      <td>0.897436</td>\n",
       "      <td>0.595549</td>\n",
       "      <td>0.897436</td>\n",
       "      <td>0.601357</td>\n",
       "      <td>0.897436</td>\n",
       "      <td>0.597918</td>\n",
       "      <td>199.705913</td>\n",
       "    </tr>\n",
       "    <tr>\n",
       "      <th>3</th>\n",
       "      <td>0.891026</td>\n",
       "      <td>0.891026</td>\n",
       "      <td>0.584011</td>\n",
       "      <td>0.891026</td>\n",
       "      <td>0.615590</td>\n",
       "      <td>0.891026</td>\n",
       "      <td>0.597078</td>\n",
       "      <td>196.075708</td>\n",
       "    </tr>\n",
       "    <tr>\n",
       "      <th>4</th>\n",
       "      <td>0.916667</td>\n",
       "      <td>0.916667</td>\n",
       "      <td>0.600749</td>\n",
       "      <td>0.916667</td>\n",
       "      <td>0.615781</td>\n",
       "      <td>0.916667</td>\n",
       "      <td>0.608134</td>\n",
       "      <td>193.086529</td>\n",
       "    </tr>\n",
       "    <tr>\n",
       "      <th>5</th>\n",
       "      <td>0.884615</td>\n",
       "      <td>0.884615</td>\n",
       "      <td>0.568846</td>\n",
       "      <td>0.884615</td>\n",
       "      <td>0.612281</td>\n",
       "      <td>0.884615</td>\n",
       "      <td>0.585789</td>\n",
       "      <td>190.209978</td>\n",
       "    </tr>\n",
       "    <tr>\n",
       "      <th>6</th>\n",
       "      <td>0.900641</td>\n",
       "      <td>0.900641</td>\n",
       "      <td>0.590639</td>\n",
       "      <td>0.900641</td>\n",
       "      <td>0.603471</td>\n",
       "      <td>0.900641</td>\n",
       "      <td>0.596923</td>\n",
       "      <td>206.704926</td>\n",
       "    </tr>\n",
       "    <tr>\n",
       "      <th>7</th>\n",
       "      <td>0.865385</td>\n",
       "      <td>0.865385</td>\n",
       "      <td>0.584871</td>\n",
       "      <td>0.865385</td>\n",
       "      <td>0.573333</td>\n",
       "      <td>0.865385</td>\n",
       "      <td>0.574938</td>\n",
       "      <td>199.224072</td>\n",
       "    </tr>\n",
       "    <tr>\n",
       "      <th>8</th>\n",
       "      <td>0.878205</td>\n",
       "      <td>0.878205</td>\n",
       "      <td>0.573234</td>\n",
       "      <td>0.878205</td>\n",
       "      <td>0.605059</td>\n",
       "      <td>0.878205</td>\n",
       "      <td>0.588403</td>\n",
       "      <td>198.574324</td>\n",
       "    </tr>\n",
       "    <tr>\n",
       "      <th>9</th>\n",
       "      <td>0.891026</td>\n",
       "      <td>0.891026</td>\n",
       "      <td>0.579315</td>\n",
       "      <td>0.891026</td>\n",
       "      <td>0.597363</td>\n",
       "      <td>0.891026</td>\n",
       "      <td>0.588175</td>\n",
       "      <td>201.510039</td>\n",
       "    </tr>\n",
       "  </tbody>\n",
       "</table>\n",
       "</div>"
      ],
      "text/plain": [
       "   accuracy  precision_score_micro  precision_score_macro  recall_score_micro  \\\n",
       "0  0.871795               0.871795               0.563333            0.871795   \n",
       "1  0.875000               0.875000               0.590317            0.875000   \n",
       "2  0.897436               0.897436               0.595549            0.897436   \n",
       "3  0.891026               0.891026               0.584011            0.891026   \n",
       "4  0.916667               0.916667               0.600749            0.916667   \n",
       "5  0.884615               0.884615               0.568846            0.884615   \n",
       "6  0.900641               0.900641               0.590639            0.900641   \n",
       "7  0.865385               0.865385               0.584871            0.865385   \n",
       "8  0.878205               0.878205               0.573234            0.878205   \n",
       "9  0.891026               0.891026               0.579315            0.891026   \n",
       "\n",
       "   recall_score_macro  f1_score_micro  f1_score_macro  execution_time  \n",
       "0            0.605282        0.871795        0.581874      208.818245  \n",
       "1            0.572048        0.875000        0.577543      202.117968  \n",
       "2            0.601357        0.897436        0.597918      199.705913  \n",
       "3            0.615590        0.891026        0.597078      196.075708  \n",
       "4            0.615781        0.916667        0.608134      193.086529  \n",
       "5            0.612281        0.884615        0.585789      190.209978  \n",
       "6            0.603471        0.900641        0.596923      206.704926  \n",
       "7            0.573333        0.865385        0.574938      199.224072  \n",
       "8            0.605059        0.878205        0.588403      198.574324  \n",
       "9            0.597363        0.891026        0.588175      201.510039  "
      ]
     },
     "execution_count": 15,
     "metadata": {},
     "output_type": "execute_result"
    }
   ],
   "source": [
    "results"
   ]
  },
  {
   "cell_type": "code",
   "execution_count": 16,
   "metadata": {},
   "outputs": [],
   "source": [
    "results.to_csv(STATS_OUTPUT)"
   ]
  }
 ],
 "metadata": {
  "interpreter": {
   "hash": "60f74211c8095d4d69bea747ac312f2fd52777f7ee1c791c3155581964756685"
  },
  "kernelspec": {
   "display_name": "Python 3.9.7 ('ml')",
   "language": "python",
   "name": "python3"
  },
  "language_info": {
   "codemirror_mode": {
    "name": "ipython",
    "version": 3
   },
   "file_extension": ".py",
   "mimetype": "text/x-python",
   "name": "python",
   "nbconvert_exporter": "python",
   "pygments_lexer": "ipython3",
   "version": "3.9.7"
  },
  "orig_nbformat": 4
 },
 "nbformat": 4,
 "nbformat_minor": 2
}
